{
 "cells": [
  {
   "cell_type": "markdown",
   "id": "70b0be47-34fd-43d1-8be2-ebb4b47eb7be",
   "metadata": {},
   "source": [
    "Sumber text clustering using NLTK library: https://github.com/lucas-de-sa/national-anthems-clustering/blob/master/Cluster_Anthems.ipynb\n",
    "\n",
    "Sumber text clustering using Spacy library: https://github.com/kirralabs/text-clustering/blob/master/script/core/Clustering.ipynb"
   ]
  },
  {
   "cell_type": "markdown",
   "id": "9eaaf42c-07e2-4bb3-995e-718721b14792",
   "metadata": {},
   "source": [
    "# A. Import Library"
   ]
  },
  {
   "cell_type": "code",
   "execution_count": 1,
   "id": "c8c36752-bf67-4740-9895-659c27981013",
   "metadata": {},
   "outputs": [],
   "source": [
    "import os, mpld3, nltk\n",
    "import numpy as np\n",
    "import pandas as pd\n",
    "import re"
   ]
  },
  {
   "cell_type": "code",
   "execution_count": 2,
   "id": "4db7c77f-be18-485e-bd9d-95ec13bf25dd",
   "metadata": {},
   "outputs": [],
   "source": [
    "from spacy.lang.id import Indonesian\n",
    "import fnmatch\n",
    "def getAllFileinFolder(folderpath):\n",
    "    filelist = []\n",
    "    for dirpath, dirs, files in os.walk(folderpath):\n",
    "        for filename in fnmatch.filter(files, '*.txt'):\n",
    "            filelist.append(dirpath + \"/\" + filename)\n",
    "    return filelist\n",
    "\n",
    "def writedataa(list, thname):\n",
    "    file = open(\"sentence_rep_{}.txt\".format(thname), \"w\");\n",
    "    for x in sorted(set(list)):\n",
    "        # for x in list:\n",
    "        # hasil = x.replace('\"','').replace(\"#\",\"\").replace(\"&nbsp;\",\"\" )\n",
    "        file.write(x + \"\\n\")\n",
    "    file.close()\n",
    "\n",
    "nlp = Indonesian()\n",
    "def tokenize_and_stem(text):\n",
    "    text = u'{}'.format(text)\n",
    "    doc = nlp(text)\n",
    "    stems = [t.lemma_ for t in doc]\n",
    "    stems = [t.lower() for t in stems]\n",
    "    return stems\n",
    "\n",
    "\n",
    "def tokenize_only(text):\n",
    "    text = u'{}'.format(text)\n",
    "    doc = nlp(text)\n",
    "    stems = [t.text for t in doc]\n",
    "    stems = [t.lower() for t in stems]\n",
    "    return stems"
   ]
  },
  {
   "cell_type": "markdown",
   "id": "4464e468-4fb2-4585-afb8-ba835b8b9541",
   "metadata": {},
   "source": [
    "# B. Import Dataset"
   ]
  },
  {
   "cell_type": "code",
   "execution_count": 3,
   "id": "51c00119-0d6a-4832-9d5e-1c88cfa78356",
   "metadata": {},
   "outputs": [
    {
     "data": {
      "text/html": [
       "<div>\n",
       "<style scoped>\n",
       "    .dataframe tbody tr th:only-of-type {\n",
       "        vertical-align: middle;\n",
       "    }\n",
       "\n",
       "    .dataframe tbody tr th {\n",
       "        vertical-align: top;\n",
       "    }\n",
       "\n",
       "    .dataframe thead th {\n",
       "        text-align: right;\n",
       "    }\n",
       "</style>\n",
       "<table border=\"1\" class=\"dataframe\">\n",
       "  <thead>\n",
       "    <tr style=\"text-align: right;\">\n",
       "      <th></th>\n",
       "      <th>sumber</th>\n",
       "      <th>tahun bulan</th>\n",
       "      <th>issue id</th>\n",
       "      <th>tracker</th>\n",
       "      <th>created on</th>\n",
       "      <th>closed on</th>\n",
       "      <th>start date</th>\n",
       "      <th>due date</th>\n",
       "      <th>project</th>\n",
       "      <th>subject</th>\n",
       "      <th>state</th>\n",
       "      <th>poin</th>\n",
       "      <th>id resolver</th>\n",
       "      <th>nama resolver</th>\n",
       "      <th>grup resolver</th>\n",
       "      <th>id creator</th>\n",
       "      <th>nama creator</th>\n",
       "      <th>ts menit</th>\n",
       "      <th>wkt resolved</th>\n",
       "      <th>st lembur</th>\n",
       "    </tr>\n",
       "  </thead>\n",
       "  <tbody>\n",
       "    <tr>\n",
       "      <th>0</th>\n",
       "      <td>Lapor PPDB</td>\n",
       "      <td>2024-06</td>\n",
       "      <td>21639</td>\n",
       "      <td>Support</td>\n",
       "      <td>2024-06-29 09:09:00</td>\n",
       "      <td>2024-07-01 05:11:11</td>\n",
       "      <td>2024-06-29</td>\n",
       "      <td>2024-06-29</td>\n",
       "      <td>Kota Denpasar</td>\n",
       "      <td>[Closing Engine] Kota Denpasar 2024 - Jalur Zo...</td>\n",
       "      <td>Closed</td>\n",
       "      <td>NaN</td>\n",
       "      <td>69.0</td>\n",
       "      <td>Febrian Hilmi Firdaus</td>\n",
       "      <td>DSO</td>\n",
       "      <td>69</td>\n",
       "      <td>Febrian Hilmi Firdaus</td>\n",
       "      <td>NaN</td>\n",
       "      <td>2024-06-29 14:30:41</td>\n",
       "      <td>Lembur</td>\n",
       "    </tr>\n",
       "    <tr>\n",
       "      <th>1</th>\n",
       "      <td>Lapor PPDB</td>\n",
       "      <td>2024-06</td>\n",
       "      <td>21662</td>\n",
       "      <td>Support</td>\n",
       "      <td>2024-06-29 12:51:50</td>\n",
       "      <td>2024-07-01 05:10:57</td>\n",
       "      <td>2024-06-29</td>\n",
       "      <td>2024-06-29</td>\n",
       "      <td>Prov. Bali</td>\n",
       "      <td>[Kendala] Siswa Masih Bisa Langsung Pengajuan ...</td>\n",
       "      <td>Closed</td>\n",
       "      <td>NaN</td>\n",
       "      <td>69.0</td>\n",
       "      <td>Febrian Hilmi Firdaus</td>\n",
       "      <td>DSO</td>\n",
       "      <td>69</td>\n",
       "      <td>Febrian Hilmi Firdaus</td>\n",
       "      <td>NaN</td>\n",
       "      <td>2024-07-01 05:10:57</td>\n",
       "      <td>Normal</td>\n",
       "    </tr>\n",
       "    <tr>\n",
       "      <th>2</th>\n",
       "      <td>Lapor PPDB</td>\n",
       "      <td>2024-06</td>\n",
       "      <td>21088</td>\n",
       "      <td>Support</td>\n",
       "      <td>2024-06-22 05:30:34</td>\n",
       "      <td>2024-06-22 10:18:51</td>\n",
       "      <td>2024-06-22</td>\n",
       "      <td>2024-06-29</td>\n",
       "      <td>Prov. Nusa Tenggara Timur</td>\n",
       "      <td>[Closing Engine] Prov NTT 2024 - SMA All Jalur...</td>\n",
       "      <td>Closed</td>\n",
       "      <td>NaN</td>\n",
       "      <td>69.0</td>\n",
       "      <td>Febrian Hilmi Firdaus</td>\n",
       "      <td>DSO</td>\n",
       "      <td>69</td>\n",
       "      <td>Febrian Hilmi Firdaus</td>\n",
       "      <td>NaN</td>\n",
       "      <td>2024-06-22 08:54:49</td>\n",
       "      <td>Normal</td>\n",
       "    </tr>\n",
       "    <tr>\n",
       "      <th>3</th>\n",
       "      <td>Lapor PPDB</td>\n",
       "      <td>2024-06</td>\n",
       "      <td>21689</td>\n",
       "      <td>Support</td>\n",
       "      <td>2024-07-01 02:28:58</td>\n",
       "      <td>2024-07-01 02:46:11</td>\n",
       "      <td>2024-06-30</td>\n",
       "      <td>2024-07-01</td>\n",
       "      <td>Kanwil Prov. DKI Jakarta</td>\n",
       "      <td>[DEV] Pengecekan dan Penyesuaian hasil seleksi...</td>\n",
       "      <td>Closed</td>\n",
       "      <td>5.0</td>\n",
       "      <td>4.0</td>\n",
       "      <td>Azhar Mashuri</td>\n",
       "      <td>DIP</td>\n",
       "      <td>4</td>\n",
       "      <td>Azhar Mashuri</td>\n",
       "      <td>NaN</td>\n",
       "      <td>2024-07-01 02:46:06</td>\n",
       "      <td>Lembur</td>\n",
       "    </tr>\n",
       "    <tr>\n",
       "      <th>4</th>\n",
       "      <td>Lapor PPDB</td>\n",
       "      <td>2024-06</td>\n",
       "      <td>21479</td>\n",
       "      <td>Support</td>\n",
       "      <td>2024-06-26 14:13:47</td>\n",
       "      <td>2024-07-01 01:27:33</td>\n",
       "      <td>2024-06-26</td>\n",
       "      <td>2024-06-26</td>\n",
       "      <td>Kota Sukabumi</td>\n",
       "      <td>Pengecekan File Ajuan Pendaftaran di Operator ...</td>\n",
       "      <td>Closed</td>\n",
       "      <td>NaN</td>\n",
       "      <td>74.0</td>\n",
       "      <td>Hayan .</td>\n",
       "      <td>DSO</td>\n",
       "      <td>74</td>\n",
       "      <td>Hayan .</td>\n",
       "      <td>NaN</td>\n",
       "      <td>2024-06-26 14:24:31</td>\n",
       "      <td>Normal</td>\n",
       "    </tr>\n",
       "    <tr>\n",
       "      <th>5</th>\n",
       "      <td>Lapor PPDB</td>\n",
       "      <td>2024-06</td>\n",
       "      <td>21680</td>\n",
       "      <td>Support</td>\n",
       "      <td>2024-06-30 19:56:25</td>\n",
       "      <td>2024-06-30 22:43:27</td>\n",
       "      <td>2024-06-30</td>\n",
       "      <td>2024-06-30</td>\n",
       "      <td>Kota Serang</td>\n",
       "      <td>[DEV] Backend - Tolak Pilihan Provinsi Dan Kot...</td>\n",
       "      <td>Closed</td>\n",
       "      <td>1.0</td>\n",
       "      <td>62.0</td>\n",
       "      <td>Villa Nanda</td>\n",
       "      <td>DIP</td>\n",
       "      <td>4</td>\n",
       "      <td>Azhar Mashuri</td>\n",
       "      <td>NaN</td>\n",
       "      <td>2024-06-30 21:41:11</td>\n",
       "      <td>Lembur</td>\n",
       "    </tr>\n",
       "  </tbody>\n",
       "</table>\n",
       "</div>"
      ],
      "text/plain": [
       "       sumber tahun bulan  issue id  tracker           created on  \\\n",
       "0  Lapor PPDB     2024-06     21639  Support  2024-06-29 09:09:00   \n",
       "1  Lapor PPDB     2024-06     21662  Support  2024-06-29 12:51:50   \n",
       "2  Lapor PPDB     2024-06     21088  Support  2024-06-22 05:30:34   \n",
       "3  Lapor PPDB     2024-06     21689  Support  2024-07-01 02:28:58   \n",
       "4  Lapor PPDB     2024-06     21479  Support  2024-06-26 14:13:47   \n",
       "5  Lapor PPDB     2024-06     21680  Support  2024-06-30 19:56:25   \n",
       "\n",
       "             closed on  start date    due date                    project  \\\n",
       "0  2024-07-01 05:11:11  2024-06-29  2024-06-29              Kota Denpasar   \n",
       "1  2024-07-01 05:10:57  2024-06-29  2024-06-29                 Prov. Bali   \n",
       "2  2024-06-22 10:18:51  2024-06-22  2024-06-29  Prov. Nusa Tenggara Timur   \n",
       "3  2024-07-01 02:46:11  2024-06-30  2024-07-01   Kanwil Prov. DKI Jakarta   \n",
       "4  2024-07-01 01:27:33  2024-06-26  2024-06-26              Kota Sukabumi   \n",
       "5  2024-06-30 22:43:27  2024-06-30  2024-06-30                Kota Serang   \n",
       "\n",
       "                                             subject   state  poin  \\\n",
       "0  [Closing Engine] Kota Denpasar 2024 - Jalur Zo...  Closed   NaN   \n",
       "1  [Kendala] Siswa Masih Bisa Langsung Pengajuan ...  Closed   NaN   \n",
       "2  [Closing Engine] Prov NTT 2024 - SMA All Jalur...  Closed   NaN   \n",
       "3  [DEV] Pengecekan dan Penyesuaian hasil seleksi...  Closed   5.0   \n",
       "4  Pengecekan File Ajuan Pendaftaran di Operator ...  Closed   NaN   \n",
       "5  [DEV] Backend - Tolak Pilihan Provinsi Dan Kot...  Closed   1.0   \n",
       "\n",
       "   id resolver          nama resolver grup resolver  id creator  \\\n",
       "0         69.0  Febrian Hilmi Firdaus           DSO          69   \n",
       "1         69.0  Febrian Hilmi Firdaus           DSO          69   \n",
       "2         69.0  Febrian Hilmi Firdaus           DSO          69   \n",
       "3          4.0          Azhar Mashuri           DIP           4   \n",
       "4         74.0                Hayan .           DSO          74   \n",
       "5         62.0            Villa Nanda           DIP           4   \n",
       "\n",
       "            nama creator  ts menit         wkt resolved st lembur  \n",
       "0  Febrian Hilmi Firdaus       NaN  2024-06-29 14:30:41    Lembur  \n",
       "1  Febrian Hilmi Firdaus       NaN  2024-07-01 05:10:57    Normal  \n",
       "2  Febrian Hilmi Firdaus       NaN  2024-06-22 08:54:49    Normal  \n",
       "3          Azhar Mashuri       NaN  2024-07-01 02:46:06    Lembur  \n",
       "4                Hayan .       NaN  2024-06-26 14:24:31    Normal  \n",
       "5          Azhar Mashuri       NaN  2024-06-30 21:41:11    Lembur  "
      ]
     },
     "execution_count": 3,
     "metadata": {},
     "output_type": "execute_result"
    }
   ],
   "source": [
    "data_raw = pd.read_csv('~/Downloads/data-ticket-karyawan.csv', encoding='utf-8')\n",
    "data_raw.columns = map(str.lower, data_raw.columns) #membuat huruf awal nama kolom menjadi tidak kapital\n",
    "\n",
    "sumber = ['Lapor PPDB']\n",
    "data_raw = data_raw.loc[data_raw['sumber'].isin(sumber)]\n",
    "data_raw.head(6)"
   ]
  },
  {
   "cell_type": "code",
   "execution_count": 4,
   "id": "e337b4de-fd75-40b2-a51e-62de6a28c20b",
   "metadata": {},
   "outputs": [
    {
     "name": "stdout",
     "output_type": "stream",
     "text": [
      "<class 'pandas.core.frame.DataFrame'>\n",
      "Index: 2036 entries, 0 to 2035\n",
      "Data columns (total 20 columns):\n",
      " #   Column         Non-Null Count  Dtype  \n",
      "---  ------         --------------  -----  \n",
      " 0   sumber         2036 non-null   object \n",
      " 1   tahun bulan    2036 non-null   object \n",
      " 2   issue id       2036 non-null   int64  \n",
      " 3   tracker        2036 non-null   object \n",
      " 4   created on     2036 non-null   object \n",
      " 5   closed on      2036 non-null   object \n",
      " 6   start date     1630 non-null   object \n",
      " 7   due date       2036 non-null   object \n",
      " 8   project        2036 non-null   object \n",
      " 9   subject        2036 non-null   object \n",
      " 10  state          2036 non-null   object \n",
      " 11  poin           1712 non-null   float64\n",
      " 12  id resolver    2036 non-null   float64\n",
      " 13  nama resolver  2036 non-null   object \n",
      " 14  grup resolver  1952 non-null   object \n",
      " 15  id creator     2036 non-null   int64  \n",
      " 16  nama creator   2036 non-null   object \n",
      " 17  ts menit       371 non-null    float64\n",
      " 18  wkt resolved   2036 non-null   object \n",
      " 19  st lembur      2036 non-null   object \n",
      "dtypes: float64(3), int64(2), object(15)\n",
      "memory usage: 334.0+ KB\n"
     ]
    }
   ],
   "source": [
    "data_raw.info()"
   ]
  },
  {
   "cell_type": "markdown",
   "id": "ba658527-f9e5-4cca-a5b5-103aff9b3418",
   "metadata": {
    "jp-MarkdownHeadingCollapsed": true
   },
   "source": [
    "### Corpus Loading"
   ]
  },
  {
   "cell_type": "code",
   "execution_count": 5,
   "id": "63b9d69e-a1de-4a17-a62d-5a187c89bd95",
   "metadata": {},
   "outputs": [
    {
     "data": {
      "text/plain": [
       "'Override - Batasan Ajuan Pendaftaran Jalur Zonasi, PTO dan Prestasi'"
      ]
     },
     "execution_count": 5,
     "metadata": {},
     "output_type": "execute_result"
    }
   ],
   "source": [
    "corpus = data_raw['subject'].tolist()\n",
    "corpus[18][0:447]"
   ]
  },
  {
   "cell_type": "markdown",
   "id": "bb51f766-a67a-496f-aa29-be983a6ec047",
   "metadata": {},
   "source": [
    "## 1. Stop Words and Stemming"
   ]
  },
  {
   "cell_type": "code",
   "execution_count": 6,
   "id": "3e0fc722-a0ff-417f-94a6-2ee41ddd2769",
   "metadata": {},
   "outputs": [],
   "source": [
    "# removes a list of words (ie. stopwords) from a tokenized list.\n",
    "def removeWords(listOfTokens, listOfWords):\n",
    "    return [token for token in listOfTokens if token not in listOfWords]\n",
    "\n",
    "# applies stemming to a list of tokenized words\n",
    "def applyStemming(listOfTokens, stemmer):\n",
    "    return [stemmer.stem(token) for token in listOfTokens]\n",
    "\n",
    "# removes any words composed of less than 2 or more than 21 letters\n",
    "def twoLetters(listOfTokens):\n",
    "    twoLetterWord = []\n",
    "    for token in listOfTokens:\n",
    "        if len(token) <= 2 or len(token) >= 21:\n",
    "            twoLetterWord.append(token)\n",
    "    return twoLetterWord"
   ]
  },
  {
   "cell_type": "markdown",
   "id": "ff50dbb1-5cae-4ea5-90dc-339f30169021",
   "metadata": {
    "jp-MarkdownHeadingCollapsed": true
   },
   "source": [
    "## 2. The main corpus processing function"
   ]
  },
  {
   "cell_type": "markdown",
   "id": "c109239d-555d-4c4f-89fc-192f4fda187c",
   "metadata": {},
   "source": [
    "STOPWORDS UNTUK BAHASA INDONESIA: https://github.com/stopwords-iso/stopwords-id/blob/132f51cb383abf95a98beb33c4e1afb6933ff884/raw/indonesian-stopwords-complete.txt\n"
   ]
  },
  {
   "cell_type": "markdown",
   "id": "94e2eda3-b160-43c6-b554-2f8cd8914412",
   "metadata": {},
   "source": [
    "Tutorial install nltk: https://www.google.com/search?sca_esv=67eac9aa2b9499b8&sxsrf=ADLYWIKFMpDR9XEWQVPMLfUljnd_t7hZSw:1721699518919&q=nltk+for+mac&tbm=vid&source=lnms&fbs=AEQNm0DVrIRjdA3gRKfJJ-deMT8ZtYOjoIt1NWOMRkEKym4u5PkAZgxJOmIgPx6WieMhF6q1Hq7W6nME2Vp0eHuijF3ZElaTgD0zbj1gkQrti2r6HpgEQJ__FI2P2zVbzOTQnx-xQGuWfPA7_LjHL8X54xCjPigLtLX638JLYGhCvRlpvvGBo-fNpc7q_rU8dgffCadMYeMgxPqmupqDpgcFpVxKo2EBMA&sa=X&ved=2ahUKEwjcuvDBhryHAxXGVmwGHXduBboQ0pQJegQIDBAB&biw=1393&bih=701&dpr=2#fpstate=ive&vld=cid:1e6e69e9,vid:wuQeKgXUZks,st:0"
   ]
  },
  {
   "cell_type": "code",
   "execution_count": 24,
   "id": "3c90055f-2283-4df6-8205-3f7e6ec0f365",
   "metadata": {},
   "outputs": [],
   "source": [
    "def processCorpus(corpus, language):   \n",
    "    #stopwords = nltk.corpus.stopwords.words(language)\n",
    "    param_stemmer = SnowballStemmer(language)\n",
    "    #countries_list = [line.rstrip('\\n') for line in open('lists/countries.txt')] # Load .txt file line by line\n",
    "    #nationalities_list = [line.rstrip('\\n') for line in open('lists/nationalities.txt')] # Load .txt file line by line\n",
    "    #other_words = [line.rstrip('\\n') for line in open('lists/stopwords_scrapmaker.txt')] # Load .txt file line by line\n",
    "    \n",
    "    for document in corpus:\n",
    "        index = corpus.index(document)\n",
    "        #corpus[index] = corpus[index].replace(u'\\ufffd', '8')   # Replaces the ASCII '�' symbol with '8'\n",
    "        corpus[index] = corpus[index].replace(',', '')          # Removes commas\n",
    "        corpus[index] = corpus[index].rstrip('\\n')              # Removes line breaks\n",
    "        corpus[index] = corpus[index].casefold()                # Makes all letters lowercase\n",
    "        \n",
    "        #corpus[index] = re.sub('\\W_',' ', corpus[index])        # removes specials characters and leaves only words\n",
    "        #corpus[index] = re.sub(\"\\S*\\d\\S*\",\" \", corpus[index])   # removes numbers and words concatenated with numbers IE h4ck3r. Removes road names such as BR-381.\n",
    "        #corpus[index] = re.sub(\"\\S*@\\S*\\s?\",\" \", corpus[index]) # removes emails and mentions (words with @)\n",
    "        #corpus[index] = re.sub(r'http\\S+', '', corpus[index])   # removes URLs with http\n",
    "        #corpus[index] = re.sub(r'www\\S+', '', corpus[index])    # removes URLs with www\n",
    "\n",
    "        listOfTokens = word_tokenize(corpus[index])\n",
    "        twoLetterWord = twoLetters(listOfTokens)\n",
    "\n",
    "        #listOfTokens = removeWords(listOfTokens, stopwords)\n",
    "        listOfTokens = removeWords(listOfTokens, twoLetterWord)\n",
    "        #listOfTokens = removeWords(listOfTokens, countries_list)\n",
    "        #listOfTokens = removeWords(listOfTokens, nationalities_list)\n",
    "        #listOfTokens = removeWords(listOfTokens, other_words)\n",
    "        \n",
    "        listOfTokens = applyStemming(listOfTokens, param_stemmer)\n",
    "        #listOfTokens = removeWords(listOfTokens, other_words)\n",
    "\n",
    "        corpus[index]   = \" \".join(listOfTokens)\n",
    "        corpus[index] = unidecode(corpus[index])\n",
    "\n",
    "    return corpus"
   ]
  },
  {
   "cell_type": "markdown",
   "id": "0080e09a-4cfe-4671-bd91-a10c70753253",
   "metadata": {
    "jp-MarkdownHeadingCollapsed": true
   },
   "source": [
    "## Install NLTK for Mac"
   ]
  },
  {
   "cell_type": "code",
   "execution_count": 10,
   "id": "0e1ef38d-4dfb-4ee9-abee-34df1b0a9037",
   "metadata": {},
   "outputs": [],
   "source": [
    "import nltk\n",
    "import zipfile\n",
    "import requests"
   ]
  },
  {
   "cell_type": "code",
   "execution_count": 11,
   "id": "16b31817-454f-41f4-bf96-e59ee9189726",
   "metadata": {},
   "outputs": [
    {
     "data": {
      "text/plain": [
       "13905355"
      ]
     },
     "execution_count": 11,
     "metadata": {},
     "output_type": "execute_result"
    }
   ],
   "source": [
    "# Step 1: Download the punkt.zip file\n",
    "url = 'https://github.com/nltk/nltk_data/blob/gh-pages/packages/tokenizers/punkt.zip?raw=true'\n",
    "r = requests.get(url, allow_redirects=True)\n",
    "open('punkt.zip', 'wb').write(r.content)\n"
   ]
  },
  {
   "cell_type": "code",
   "execution_count": 12,
   "id": "7fc438f5-6982-4888-b6c1-1a284084c215",
   "metadata": {},
   "outputs": [],
   "source": [
    "# Step 2: Extract the contents of the zip file\n",
    "with zipfile.ZipFile('punkt.zip', 'r') as zip_ref:\n",
    "    zip_ref.extractall('/Users/mac/nltk_data/tokenizers')"
   ]
  },
  {
   "cell_type": "code",
   "execution_count": 13,
   "id": "ce0e1197-a98a-42a0-a321-0c57d0d888b7",
   "metadata": {},
   "outputs": [
    {
     "data": {
      "text/plain": [
       "FileSystemPathPointer('/Users/mac/nltk_data/tokenizers/punkt/PY3')"
      ]
     },
     "execution_count": 13,
     "metadata": {},
     "output_type": "execute_result"
    }
   ],
   "source": [
    "# Step 3: Verify if the data is available\n",
    "from nltk.data import find\n",
    "find('tokenizers/punkt')"
   ]
  },
  {
   "cell_type": "code",
   "execution_count": 14,
   "id": "68c9d0ce-6abe-495e-bfd6-f49c726f4eca",
   "metadata": {},
   "outputs": [
    {
     "name": "stderr",
     "output_type": "stream",
     "text": [
      "[nltk_data] Error loading punkt: <urlopen error [SSL:\n",
      "[nltk_data]     CERTIFICATE_VERIFY_FAILED] certificate verify failed:\n",
      "[nltk_data]     unable to get local issuer certificate (_ssl.c:1000)>\n"
     ]
    },
    {
     "data": {
      "text/plain": [
       "False"
      ]
     },
     "execution_count": 14,
     "metadata": {},
     "output_type": "execute_result"
    }
   ],
   "source": [
    "import nltk\n",
    "nltk.download('punkt')"
   ]
  },
  {
   "cell_type": "code",
   "execution_count": 15,
   "id": "5863f318-8120-4f67-88ea-d621fd766f76",
   "metadata": {},
   "outputs": [],
   "source": [
    "import nltk\n",
    "from nltk.tokenize import word_tokenize"
   ]
  },
  {
   "cell_type": "code",
   "execution_count": 16,
   "id": "628d290b-905c-417e-b8db-c68f851e13e8",
   "metadata": {},
   "outputs": [],
   "source": [
    "# Ensure the NLTK data path includes the directory where 'punkt' is located\n",
    "nltk.data.path.append('/Users/mac/nltk_data')"
   ]
  },
  {
   "cell_type": "code",
   "execution_count": 17,
   "id": "99311fd1-5f7e-4067-9936-fbf669790e82",
   "metadata": {},
   "outputs": [],
   "source": [
    "# Sample text\n",
    "text = \"Hello, how are you?\""
   ]
  },
  {
   "cell_type": "code",
   "execution_count": 18,
   "id": "3f38cabe-b904-47ba-b666-2a0a2c76ca2e",
   "metadata": {},
   "outputs": [
    {
     "name": "stdout",
     "output_type": "stream",
     "text": [
      "['Hello', ',', 'how', 'are', 'you', '?']\n"
     ]
    }
   ],
   "source": [
    "# Tokenize the text\n",
    "tokens = word_tokenize(text)\n",
    "print(tokens)"
   ]
  },
  {
   "cell_type": "markdown",
   "id": "ccb882ff-973d-44d0-81f9-f5b00c06c73e",
   "metadata": {
    "jp-MarkdownHeadingCollapsed": true
   },
   "source": [
    "## 2. Lanjutan Corpus"
   ]
  },
  {
   "cell_type": "code",
   "execution_count": 26,
   "id": "8aa1b332-8044-4526-b5ea-f3c3f31512c9",
   "metadata": {},
   "outputs": [
    {
     "ename": "ValueError",
     "evalue": "The language 'indonesia' is not supported.",
     "output_type": "error",
     "traceback": [
      "\u001b[0;31m---------------------------------------------------------------------------\u001b[0m",
      "\u001b[0;31mValueError\u001b[0m                                Traceback (most recent call last)",
      "Cell \u001b[0;32mIn[26], line 2\u001b[0m\n\u001b[1;32m      1\u001b[0m language \u001b[38;5;241m=\u001b[39m \u001b[38;5;124m'\u001b[39m\u001b[38;5;124mindonesia\u001b[39m\u001b[38;5;124m'\u001b[39m\n\u001b[0;32m----> 2\u001b[0m corpus \u001b[38;5;241m=\u001b[39m \u001b[43mprocessCorpus\u001b[49m\u001b[43m(\u001b[49m\u001b[43mcorpus\u001b[49m\u001b[43m,\u001b[49m\u001b[43m \u001b[49m\u001b[43mlanguage\u001b[49m\u001b[43m)\u001b[49m\n\u001b[1;32m      3\u001b[0m corpus[\u001b[38;5;241m18\u001b[39m][\u001b[38;5;241m0\u001b[39m:\u001b[38;5;241m460\u001b[39m]\n",
      "Cell \u001b[0;32mIn[24], line 3\u001b[0m, in \u001b[0;36mprocessCorpus\u001b[0;34m(corpus, language)\u001b[0m\n\u001b[1;32m      1\u001b[0m \u001b[38;5;28;01mdef\u001b[39;00m \u001b[38;5;21mprocessCorpus\u001b[39m(corpus, language):   \n\u001b[1;32m      2\u001b[0m     \u001b[38;5;66;03m#stopwords = nltk.corpus.stopwords.words(language)\u001b[39;00m\n\u001b[0;32m----> 3\u001b[0m     param_stemmer \u001b[38;5;241m=\u001b[39m \u001b[43mSnowballStemmer\u001b[49m\u001b[43m(\u001b[49m\u001b[43mlanguage\u001b[49m\u001b[43m)\u001b[49m\n\u001b[1;32m      4\u001b[0m     \u001b[38;5;66;03m#countries_list = [line.rstrip('\\n') for line in open('lists/countries.txt')] # Load .txt file line by line\u001b[39;00m\n\u001b[1;32m      5\u001b[0m     \u001b[38;5;66;03m#nationalities_list = [line.rstrip('\\n') for line in open('lists/nationalities.txt')] # Load .txt file line by line\u001b[39;00m\n\u001b[1;32m      6\u001b[0m     \u001b[38;5;66;03m#other_words = [line.rstrip('\\n') for line in open('lists/stopwords_scrapmaker.txt')] # Load .txt file line by line\u001b[39;00m\n\u001b[1;32m      8\u001b[0m     \u001b[38;5;28;01mfor\u001b[39;00m document \u001b[38;5;129;01min\u001b[39;00m corpus:\n",
      "File \u001b[0;32m~/Downloads/jupyter_env/lib/python3.12/site-packages/nltk/stem/snowball.py:106\u001b[0m, in \u001b[0;36mSnowballStemmer.__init__\u001b[0;34m(self, language, ignore_stopwords)\u001b[0m\n\u001b[1;32m    104\u001b[0m \u001b[38;5;28;01mdef\u001b[39;00m \u001b[38;5;21m__init__\u001b[39m(\u001b[38;5;28mself\u001b[39m, language, ignore_stopwords\u001b[38;5;241m=\u001b[39m\u001b[38;5;28;01mFalse\u001b[39;00m):\n\u001b[1;32m    105\u001b[0m     \u001b[38;5;28;01mif\u001b[39;00m language \u001b[38;5;129;01mnot\u001b[39;00m \u001b[38;5;129;01min\u001b[39;00m \u001b[38;5;28mself\u001b[39m\u001b[38;5;241m.\u001b[39mlanguages:\n\u001b[0;32m--> 106\u001b[0m         \u001b[38;5;28;01mraise\u001b[39;00m \u001b[38;5;167;01mValueError\u001b[39;00m(\u001b[38;5;124mf\u001b[39m\u001b[38;5;124m\"\u001b[39m\u001b[38;5;124mThe language \u001b[39m\u001b[38;5;124m'\u001b[39m\u001b[38;5;132;01m{\u001b[39;00mlanguage\u001b[38;5;132;01m}\u001b[39;00m\u001b[38;5;124m'\u001b[39m\u001b[38;5;124m is not supported.\u001b[39m\u001b[38;5;124m\"\u001b[39m)\n\u001b[1;32m    107\u001b[0m     stemmerclass \u001b[38;5;241m=\u001b[39m \u001b[38;5;28mglobals\u001b[39m()[language\u001b[38;5;241m.\u001b[39mcapitalize() \u001b[38;5;241m+\u001b[39m \u001b[38;5;124m\"\u001b[39m\u001b[38;5;124mStemmer\u001b[39m\u001b[38;5;124m\"\u001b[39m]\n\u001b[1;32m    108\u001b[0m     \u001b[38;5;28mself\u001b[39m\u001b[38;5;241m.\u001b[39mstemmer \u001b[38;5;241m=\u001b[39m stemmerclass(ignore_stopwords)\n",
      "\u001b[0;31mValueError\u001b[0m: The language 'indonesia' is not supported."
     ]
    }
   ],
   "source": [
    "language = 'indonesia'\n",
    "corpus = processCorpus(corpus, language)\n",
    "corpus[18][0:460]"
   ]
  },
  {
   "cell_type": "markdown",
   "id": "e29912f5-4f57-4f2c-83d5-a9438871088c",
   "metadata": {},
   "source": [
    "the language 'indonesia' or 'indonesian' is not supported by NLTK's punkt tokenizer. NLTK's punkt tokenizer primarily supports a limited number of languages.\n",
    "\n",
    "For Indonesian language support, you can use other libraries like Sastrawi or spacy for tokenization."
   ]
  },
  {
   "cell_type": "markdown",
   "id": "be75f825-e151-42a3-ac04-205d9cf92893",
   "metadata": {},
   "source": [
    "# Use Spacy Library"
   ]
  },
  {
   "cell_type": "markdown",
   "id": "de8e733f-3020-42eb-b376-2f3205e14f46",
   "metadata": {},
   "source": [
    "### Pilih kolom yang akan digunakan"
   ]
  },
  {
   "cell_type": "code",
   "execution_count": 7,
   "id": "84ef6089-2632-4fa2-9259-d00fb8bf74fe",
   "metadata": {},
   "outputs": [
    {
     "data": {
      "text/plain": [
       "0       [Closing Engine] Kota Denpasar 2024 - Jalur Zo...\n",
       "1       [Kendala] Siswa Masih Bisa Langsung Pengajuan ...\n",
       "2       [Closing Engine] Prov NTT 2024 - SMA All Jalur...\n",
       "3       [DEV] Pengecekan dan Penyesuaian hasil seleksi...\n",
       "4       Pengecekan File Ajuan Pendaftaran di Operator ...\n",
       "                              ...                        \n",
       "2031    Reset daftar Ajuan Pendaftaran Gabungan zona Demo\n",
       "2032                    Override Engine Seleksi Kota Batu\n",
       "2033       Dokumen SPH PPDB Online Kota Palangkaraya 2023\n",
       "2034    Override Info Dari Formatter Kapasitas Jika Ya...\n",
       "2035                 Konfirmasi daerah 3 Kota/Kab di TR I\n",
       "Name: subject, Length: 2036, dtype: object"
      ]
     },
     "execution_count": 7,
     "metadata": {},
     "output_type": "execute_result"
    }
   ],
   "source": [
    "data_subj = data_raw['subject']\n",
    "data = data_raw['subject']\n",
    "data"
   ]
  },
  {
   "cell_type": "code",
   "execution_count": 8,
   "id": "3f54285e-d120-41b7-9953-c57be592ec83",
   "metadata": {},
   "outputs": [
    {
     "data": {
      "text/plain": [
       "array(['[Closing Engine] Kota Denpasar 2024 - Jalur Zonasi Kategori Umum - Tahap 1',\n",
       "       '[Kendala] Siswa Masih Bisa Langsung Pengajuan Pendaftaran di 2 Jenjang Sekaligus',\n",
       "       '[Closing Engine] Prov NTT 2024 - SMA All Jalur - Tahap 1', ...,\n",
       "       'Dokumen SPH PPDB Online Kota Palangkaraya 2023',\n",
       "       'Override Info Dari Formatter Kapasitas Jika Yang Diakses Adalah Kota Batu',\n",
       "       'Konfirmasi daerah 3 Kota/Kab di TR I'], dtype=object)"
      ]
     },
     "execution_count": 8,
     "metadata": {},
     "output_type": "execute_result"
    }
   ],
   "source": [
    "data.values #Menjadikan array"
   ]
  },
  {
   "cell_type": "markdown",
   "id": "fcfeb2a0-959f-4d5e-ab59-0bbb61f359b6",
   "metadata": {},
   "source": [
    "### Cleaning data"
   ]
  },
  {
   "cell_type": "code",
   "execution_count": 9,
   "id": "c46c05b3-85fe-4aae-829c-2511855608ef",
   "metadata": {},
   "outputs": [
    {
     "data": {
      "text/plain": [
       "0       [closing engine] kota denpasar 2024 - jalur zo...\n",
       "1       [kendala] siswa masih bisa langsung pengajuan ...\n",
       "2       [closing engine] prov ntt 2024 - sma all jalur...\n",
       "3       [dev] pengecekan dan penyesuaian hasil seleksi...\n",
       "4       pengecekan file ajuan pendaftaran di operator ...\n",
       "                              ...                        \n",
       "2031    reset daftar ajuan pendaftaran gabungan zona demo\n",
       "2032                    override engine seleksi kota batu\n",
       "2033       dokumen sph ppdb online kota palangkaraya 2023\n",
       "2034    override info dari formatter kapasitas jika ya...\n",
       "2035                 konfirmasi daerah 3 kota/kab di tr i\n",
       "Name: subject, Length: 2036, dtype: object"
      ]
     },
     "execution_count": 9,
     "metadata": {},
     "output_type": "execute_result"
    }
   ],
   "source": [
    "#Mengubah huruf kapital menjadi lower case\n",
    "data = data.str.lower()\n",
    "data"
   ]
  },
  {
   "cell_type": "code",
   "execution_count": 10,
   "id": "adb10fff-406b-4f89-9b54-80e22bb03bc9",
   "metadata": {},
   "outputs": [
    {
     "data": {
      "text/plain": [
       "0       closing engine     jalur zonasi kategori umum ...\n",
       "1       kendala siswa masih bisa langsung pengajuan pe...\n",
       "2               closing engine     sma all jalur  tahap 1\n",
       "3       dev pengecekan dan penyesuaian hasil seleksi j...\n",
       "4       pengecekan file ajuan pendaftaran di operator ...\n",
       "                              ...                        \n",
       "2031    reset daftar ajuan pendaftaran gabungan zona demo\n",
       "2032                            override engine seleksi  \n",
       "2033                               dokumen sph  online   \n",
       "2034    override info dari formatter kapasitas jika ya...\n",
       "2035                         konfirmasi daerah 3  di tr i\n",
       "Name: subject, Length: 2036, dtype: object"
      ]
     },
     "execution_count": 10,
     "metadata": {},
     "output_type": "execute_result"
    }
   ],
   "source": [
    "def clean_text(text):\n",
    "    text = re.sub(r\"(@\\[A-Za-z0-9]+)|([^0-9A-Za-z \\t])|(\\w+:\\/\\/\\S+)|^rt|http.+?\", \"\", text)\n",
    "    text = re.sub(r\"2024|2023|ppdb\", \"\", text)\n",
    "    text = re.sub(r\"kota|kab|prov|kotakab|diy\", \"\", text)\n",
    "    text = re.sub(r\"balikpapan|bontang|samarinda|bangka|bantul|barito selatan|batang|berau|bungo|demak|gresik|grobogan|jepara|karimun|klaten|kudus|kulon progo| kutai timur|malang|pati|purbalingga|sleman|jakarta|banjarbaru|batu|bengkulu|bontang|denpasar|jambi|mataram|mojokerto|padang sidempuan|palangkaraya|pasuruan|pontianak|serang|sukabumi|yogyakarta|bali|banten|yogyakarta|jambi|jawa tengah|kalimantan tengah|kalimantan selatan|lampung|ntt|nusa tenggara timur\", \"\", text)\n",
    "    return text\n",
    "    \n",
    "\n",
    "# Apply the function to each element in the 'text' column\n",
    "data = data.apply(clean_text)\n",
    "\n",
    "data"
   ]
  },
  {
   "cell_type": "code",
   "execution_count": 11,
   "id": "9e6f3aa0-d1a8-4c5c-8d39-b01d50c8d872",
   "metadata": {},
   "outputs": [
    {
     "data": {
      "text/plain": [
       "0       closing engine jalur zonasi kategori umum tahap 1\n",
       "1       kendala siswa masih bisa langsung pengajuan pe...\n",
       "2                    closing engine sma all jalur tahap 1\n",
       "3       dev pengecekan dan penyesuaian hasil seleksi j...\n",
       "4       pengecekan file ajuan pendaftaran di operator ...\n",
       "                              ...                        \n",
       "2031    reset daftar ajuan pendaftaran gabungan zona demo\n",
       "2032                             override engine seleksi \n",
       "2033                                  dokumen sph online \n",
       "2034    override info dari formatter kapasitas jika ya...\n",
       "2035                          konfirmasi daerah 3 di tr i\n",
       "Name: subject, Length: 2036, dtype: object"
      ]
     },
     "execution_count": 11,
     "metadata": {},
     "output_type": "execute_result"
    }
   ],
   "source": [
    "data = data.str.replace(r'\\s+', ' ', regex=True)\n",
    "data"
   ]
  },
  {
   "cell_type": "code",
   "execution_count": 12,
   "id": "69c483c2-8a4e-4b6a-9a61-e186d59c638c",
   "metadata": {},
   "outputs": [
    {
     "data": {
      "text/plain": [
       "array(['closing engine jalur zonasi kategori umum tahap 1',\n",
       "       'kendala siswa masih bisa langsung pengajuan pendaftaran di 2 jenjang sekaligus',\n",
       "       'closing engine sma all jalur tahap 1', ..., 'dokumen sph online ',\n",
       "       'override info dari formatter kapasitas jika yang diakses adalah ',\n",
       "       'konfirmasi daerah 3 di tr i'], dtype=object)"
      ]
     },
     "execution_count": 12,
     "metadata": {},
     "output_type": "execute_result"
    }
   ],
   "source": [
    "data.values"
   ]
  },
  {
   "cell_type": "code",
   "execution_count": 13,
   "id": "f1397ecf-6c33-487a-b5e3-0ddddbfb86d7",
   "metadata": {},
   "outputs": [
    {
     "name": "stdout",
     "output_type": "stream",
     "text": [
      "<class 'pandas.core.series.Series'>\n",
      "Index: 2036 entries, 0 to 2035\n",
      "Series name: subject\n",
      "Non-Null Count  Dtype \n",
      "--------------  ----- \n",
      "2036 non-null   object\n",
      "dtypes: object(1)\n",
      "memory usage: 31.8+ KB\n"
     ]
    }
   ],
   "source": [
    "data.info()"
   ]
  },
  {
   "cell_type": "markdown",
   "id": "796b3c1e-6310-402b-9ee0-ff99047e3a22",
   "metadata": {},
   "source": [
    "## Stopwords Indonesia"
   ]
  },
  {
   "cell_type": "markdown",
   "id": "fc4d1f7f-dabb-4ae2-b9e7-8ffccc58d471",
   "metadata": {},
   "source": [
    "STOPWORDS UNTUK BAHASA INDONESIA: https://github.com/stopwords-iso/stopwords-id/blob/132f51cb383abf95a98beb33c4e1afb6933ff884/raw/indonesian-stopwords-complete.txt"
   ]
  },
  {
   "cell_type": "code",
   "execution_count": 14,
   "id": "8ea9852f-6d8b-4010-a639-a2b01cd33011",
   "metadata": {},
   "outputs": [],
   "source": [
    "stopword_ind = open('indonesian-stopwords-complete.txt')\n",
    "stopword_ind = list(stopword_ind)\n",
    "stopword_ind = [word.strip() for word in stopword_ind]\n",
    "#cleaned_words = [word.replace('\\n', '') for word in words]\n",
    "#stopword_ind"
   ]
  },
  {
   "cell_type": "markdown",
   "id": "603bfbff-a653-4dda-b192-43bd239778aa",
   "metadata": {},
   "source": [
    "## Tokenization"
   ]
  },
  {
   "cell_type": "code",
   "execution_count": 15,
   "id": "5fe0c8d3-bfe3-4bde-814d-47e111fd0c67",
   "metadata": {},
   "outputs": [
    {
     "name": "stdout",
     "output_type": "stream",
     "text": [
      "Article process: 2036 from 2036\n",
      "\n",
      "total vacab stem:  14269\n",
      "total vacab tokenize:  14269\n"
     ]
    }
   ],
   "source": [
    "#not super pythonic, no, not at all.\n",
    "#use extend so it's a big flat list of vocab\n",
    "from __future__ import print_function\n",
    "totalvocab_stemmed = []\n",
    "totalvocab_tokenized = []\n",
    "dataarticle = list(data.values)\n",
    "count = 0\n",
    "for i in dataarticle:\n",
    "    print(\"\\rArticle process: {} from {}\".format(count+1, len(dataarticle)), end=\"\")\n",
    "    count += 1\n",
    "    allwords_stemmed = tokenize_and_stem(i) #for each item in 'synopses', tokenize/stem\n",
    "    totalvocab_stemmed.extend(allwords_stemmed) #extend the 'totalvocab_stemmed' list\n",
    "    \n",
    "    allwords_tokenized = tokenize_only(i)\n",
    "    totalvocab_tokenized.extend(allwords_tokenized)\n",
    "print (\"\")\n",
    "print (\"\")\n",
    "\n",
    "print (\"total vacab stem: \", len(totalvocab_stemmed))\n",
    "print (\"total vacab tokenize: \",len(totalvocab_tokenized))"
   ]
  },
  {
   "cell_type": "code",
   "execution_count": 16,
   "id": "07b133d3-1889-4ce6-b407-1b08edd703ce",
   "metadata": {},
   "outputs": [
    {
     "name": "stdout",
     "output_type": "stream",
     "text": [
      "there are 14269 items in vocab_frame\n"
     ]
    }
   ],
   "source": [
    "vocab_frame = pd.DataFrame({'words': totalvocab_tokenized}, index = totalvocab_stemmed)\n",
    "print ('there are ' + str(vocab_frame.shape[0]) + ' items in vocab_frame')\n",
    "# vocab_frame[:10] #print 10 word"
   ]
  },
  {
   "cell_type": "markdown",
   "id": "88257a67-ca52-425f-9d31-949f5afe32b7",
   "metadata": {},
   "source": [
    "Ada 2 versi dalam Vectorization:\n",
    "\n",
    "\n",
    "1. vectorizer_model = CountVectorizer(ngram_range=(2, 2),\n",
    "                                   stop_words=stopword_ind)\n",
    "\n",
    "   - code ini akan digunakan pada bagian BERT penetuan topic di akhir\n",
    "\n",
    "   \n",
    "3. tfidf_vectorizer = TfidfVectorizer()\n",
    "   \n",
    "   - ini berasal dari\n",
    "   - tfidf_vectorizer = TfidfVectorizer(max_df=0.8, max_features=200000,\n",
    "                                 #min_df=2, stop_words=stopword_ind,\n",
    "                                 #use_idf=True, tokenizer=tokenize_and_stem, ngram_range=(1,3))\n",
    "   - Namun code ini error pada min dan max nya\n",
    "   - Akan digunakan pada bagian ini"
   ]
  },
  {
   "cell_type": "code",
   "execution_count": 17,
   "id": "c784cd26-e001-401d-90aa-b8de1412f904",
   "metadata": {},
   "outputs": [
    {
     "name": "stdout",
     "output_type": "stream",
     "text": [
      "TF-idf matrix:  (2036, 1212)\n"
     ]
    }
   ],
   "source": [
    "from spacy.lang.id import stop_words\n",
    "from string import punctuation, digits\n",
    "from sklearn.feature_extraction.text import TfidfVectorizer\n",
    "\n",
    "# ERROR PADA MIN DF DAN MAX DF NYA\n",
    "#tfidf_vectorizer = TfidfVectorizer(max_df=0.8, max_features=200000,\n",
    "                                 #min_df=2, stop_words=stopword_ind,\n",
    "                                 #use_idf=True, tokenizer=tokenize_and_stem, ngram_range=(1,3))\n",
    "\n",
    "tfidf_vectorizer = TfidfVectorizer()\n",
    "\n",
    "tfidf_matrix = tfidf_vectorizer.fit_transform(list(data.values)) #fit the vectorizer to synopses\n",
    "\n",
    "print(\"TF-idf matrix: \",tfidf_matrix.shape)\n",
    "\n",
    "terms = tfidf_vectorizer.get_feature_names_out()"
   ]
  },
  {
   "cell_type": "code",
   "execution_count": 18,
   "id": "b0cdc326-f678-48a2-baab-3c10fee5e513",
   "metadata": {},
   "outputs": [
    {
     "data": {
      "text/plain": [
       "array([[ 0.00000000e+00,  1.00000000e+00,  5.21789195e-01, ...,\n",
       "         1.00000000e+00,  1.00000000e+00,  1.00000000e+00],\n",
       "       [ 1.00000000e+00, -2.22044605e-16,  1.00000000e+00, ...,\n",
       "         1.00000000e+00,  1.00000000e+00,  9.37112753e-01],\n",
       "       [ 5.21789195e-01,  1.00000000e+00, -2.22044605e-16, ...,\n",
       "         1.00000000e+00,  1.00000000e+00,  1.00000000e+00],\n",
       "       ...,\n",
       "       [ 1.00000000e+00,  1.00000000e+00,  1.00000000e+00, ...,\n",
       "        -2.22044605e-16,  1.00000000e+00,  1.00000000e+00],\n",
       "       [ 1.00000000e+00,  1.00000000e+00,  1.00000000e+00, ...,\n",
       "         1.00000000e+00, -2.22044605e-16,  1.00000000e+00],\n",
       "       [ 1.00000000e+00,  9.37112753e-01,  1.00000000e+00, ...,\n",
       "         1.00000000e+00,  1.00000000e+00,  0.00000000e+00]])"
      ]
     },
     "execution_count": 18,
     "metadata": {},
     "output_type": "execute_result"
    }
   ],
   "source": [
    "from sklearn.metrics.pairwise import cosine_similarity\n",
    "dist = 1 - cosine_similarity(tfidf_matrix)\n",
    "print\n",
    "dist"
   ]
  },
  {
   "cell_type": "markdown",
   "id": "70898e40-4b20-496b-9277-8517ba7d21d0",
   "metadata": {},
   "source": [
    "## Elbow methods"
   ]
  },
  {
   "cell_type": "markdown",
   "id": "a4b17eaa-deb3-47cc-a886-e09acb2ef3ac",
   "metadata": {},
   "source": [
    "Sumber: https://medium.com/@rohithramesh1991/unsupervised-text-clustering-using-natural-language-processing-nlp-1a8bc18b048d"
   ]
  },
  {
   "cell_type": "code",
   "execution_count": 19,
   "id": "28e1187f-a5ac-4abc-ae96-6b1f403fbf83",
   "metadata": {},
   "outputs": [],
   "source": [
    "from tqdm import tqdm\n",
    "from sklearn.cluster import KMeans"
   ]
  },
  {
   "cell_type": "code",
   "execution_count": 20,
   "id": "134846b4-0210-4dca-ae36-08ef35f2be6f",
   "metadata": {},
   "outputs": [],
   "source": [
    "#checking for optimal number of clusters\n",
    "SSD = []\n",
    "K = range(1,150)\n",
    "for k in K:\n",
    "    kmm = KMeans (n_clusters=k)\n",
    "    kmm = kmm.fit (tfidf_matrix)\n",
    "    SSD.append(kmm.inertia_)"
   ]
  },
  {
   "cell_type": "code",
   "execution_count": 21,
   "id": "6ddf9f14-6c7e-46a1-af19-2cae75d18f80",
   "metadata": {},
   "outputs": [
    {
     "data": {
      "image/png": "[encoded data removed]",
      "text/plain": [
       "<Figure size 640x480 with 1 Axes>"
      ]
     },
     "metadata": {},
     "output_type": "display_data"
    }
   ],
   "source": [
    "import matplotlib.pyplot as plt\n",
    "\n",
    "plt.plot(K, SSD, 'bx-')\n",
    "plt.xlabel('k')\n",
    "plt.ylabel('SSD')\n",
    "plt.title('Elbow Method For Optimal k')\n",
    "plt.show()"
   ]
  },
  {
   "cell_type": "markdown",
   "id": "1057bdfc-2e09-47b1-ad9c-f2ddc65f39a0",
   "metadata": {},
   "source": [
    "Berdasarkan grafik dapat dilihat bahwa maksimum k nya adalah antara 0 sampai 20"
   ]
  },
  {
   "cell_type": "markdown",
   "id": "76790733-3899-4a59-a5a8-200b2dabf33f",
   "metadata": {},
   "source": [
    "## KMeans"
   ]
  },
  {
   "cell_type": "code",
   "execution_count": 22,
   "id": "8417d6d4-4175-422a-a354-686ae0021bf1",
   "metadata": {},
   "outputs": [],
   "source": [
    "from sklearn.cluster import KMeans\n",
    "\n",
    "num_clusters = 20\n",
    "\n",
    "km = KMeans(n_clusters=num_clusters, random_state=...)\n",
    "#random_state=...) agar tidak berubah-ubah\n",
    "\n",
    "km.fit(tfidf_matrix)\n",
    "\n",
    "clusters = km.labels_.tolist()"
   ]
  },
  {
   "cell_type": "code",
   "execution_count": 23,
   "id": "6c9fe952-cad6-4781-b6db-a72b0d3316a5",
   "metadata": {},
   "outputs": [
    {
     "data": {
      "text/html": [
       "<div>\n",
       "<style scoped>\n",
       "    .dataframe tbody tr th:only-of-type {\n",
       "        vertical-align: middle;\n",
       "    }\n",
       "\n",
       "    .dataframe tbody tr th {\n",
       "        vertical-align: top;\n",
       "    }\n",
       "\n",
       "    .dataframe thead th {\n",
       "        text-align: right;\n",
       "    }\n",
       "</style>\n",
       "<table border=\"1\" class=\"dataframe\">\n",
       "  <thead>\n",
       "    <tr style=\"text-align: right;\">\n",
       "      <th></th>\n",
       "      <th>subject</th>\n",
       "      <th>subject_p</th>\n",
       "      <th>cluster</th>\n",
       "    </tr>\n",
       "  </thead>\n",
       "  <tbody>\n",
       "    <tr>\n",
       "      <th>6</th>\n",
       "      <td>[Closing Engine] Kota Denpasar 2024 - Jalur Zo...</td>\n",
       "      <td>closing engine jalur zonasi kategori umum tahap 1</td>\n",
       "      <td>6</td>\n",
       "    </tr>\n",
       "    <tr>\n",
       "      <th>8</th>\n",
       "      <td>[Kendala] Siswa Masih Bisa Langsung Pengajuan ...</td>\n",
       "      <td>kendala siswa masih bisa langsung pengajuan pe...</td>\n",
       "      <td>8</td>\n",
       "    </tr>\n",
       "    <tr>\n",
       "      <th>6</th>\n",
       "      <td>[Closing Engine] Prov NTT 2024 - SMA All Jalur...</td>\n",
       "      <td>closing engine sma all jalur tahap 1</td>\n",
       "      <td>6</td>\n",
       "    </tr>\n",
       "    <tr>\n",
       "      <th>18</th>\n",
       "      <td>[DEV] Pengecekan dan Penyesuaian hasil seleksi...</td>\n",
       "      <td>dev pengecekan dan penyesuaian hasil seleksi j...</td>\n",
       "      <td>18</td>\n",
       "    </tr>\n",
       "    <tr>\n",
       "      <th>5</th>\n",
       "      <td>Pengecekan File Ajuan Pendaftaran di Operator ...</td>\n",
       "      <td>pengecekan file ajuan pendaftaran di operator ...</td>\n",
       "      <td>5</td>\n",
       "    </tr>\n",
       "    <tr>\n",
       "      <th>...</th>\n",
       "      <td>...</td>\n",
       "      <td>...</td>\n",
       "      <td>...</td>\n",
       "    </tr>\n",
       "    <tr>\n",
       "      <th>5</th>\n",
       "      <td>Reset daftar Ajuan Pendaftaran Gabungan zona Demo</td>\n",
       "      <td>reset daftar ajuan pendaftaran gabungan zona demo</td>\n",
       "      <td>5</td>\n",
       "    </tr>\n",
       "    <tr>\n",
       "      <th>18</th>\n",
       "      <td>Override Engine Seleksi Kota Batu</td>\n",
       "      <td>override engine seleksi</td>\n",
       "      <td>18</td>\n",
       "    </tr>\n",
       "    <tr>\n",
       "      <th>3</th>\n",
       "      <td>Dokumen SPH PPDB Online Kota Palangkaraya 2023</td>\n",
       "      <td>dokumen sph online</td>\n",
       "      <td>3</td>\n",
       "    </tr>\n",
       "    <tr>\n",
       "      <th>17</th>\n",
       "      <td>Override Info Dari Formatter Kapasitas Jika Ya...</td>\n",
       "      <td>override info dari formatter kapasitas jika ya...</td>\n",
       "      <td>17</td>\n",
       "    </tr>\n",
       "    <tr>\n",
       "      <th>17</th>\n",
       "      <td>Konfirmasi daerah 3 Kota/Kab di TR I</td>\n",
       "      <td>konfirmasi daerah 3 di tr i</td>\n",
       "      <td>17</td>\n",
       "    </tr>\n",
       "  </tbody>\n",
       "</table>\n",
       "<p>2036 rows × 3 columns</p>\n",
       "</div>"
      ],
      "text/plain": [
       "                                              subject  \\\n",
       "6   [Closing Engine] Kota Denpasar 2024 - Jalur Zo...   \n",
       "8   [Kendala] Siswa Masih Bisa Langsung Pengajuan ...   \n",
       "6   [Closing Engine] Prov NTT 2024 - SMA All Jalur...   \n",
       "18  [DEV] Pengecekan dan Penyesuaian hasil seleksi...   \n",
       "5   Pengecekan File Ajuan Pendaftaran di Operator ...   \n",
       "..                                                ...   \n",
       "5   Reset daftar Ajuan Pendaftaran Gabungan zona Demo   \n",
       "18                  Override Engine Seleksi Kota Batu   \n",
       "3      Dokumen SPH PPDB Online Kota Palangkaraya 2023   \n",
       "17  Override Info Dari Formatter Kapasitas Jika Ya...   \n",
       "17               Konfirmasi daerah 3 Kota/Kab di TR I   \n",
       "\n",
       "                                            subject_p  cluster  \n",
       "6   closing engine jalur zonasi kategori umum tahap 1        6  \n",
       "8   kendala siswa masih bisa langsung pengajuan pe...        8  \n",
       "6                closing engine sma all jalur tahap 1        6  \n",
       "18  dev pengecekan dan penyesuaian hasil seleksi j...       18  \n",
       "5   pengecekan file ajuan pendaftaran di operator ...        5  \n",
       "..                                                ...      ...  \n",
       "5   reset daftar ajuan pendaftaran gabungan zona demo        5  \n",
       "18                           override engine seleksi        18  \n",
       "3                                 dokumen sph online         3  \n",
       "17  override info dari formatter kapasitas jika ya...       17  \n",
       "17                        konfirmasi daerah 3 di tr i       17  \n",
       "\n",
       "[2036 rows x 3 columns]"
      ]
     },
     "execution_count": 23,
     "metadata": {},
     "output_type": "execute_result"
    }
   ],
   "source": [
    "output = { 'subject': list(data_subj.values),'subject_p': list(data.values), 'cluster': clusters }\n",
    "\n",
    "data_hsl = pd.DataFrame(output, index = [clusters] , columns = ['subject','subject_p','cluster'])\n",
    "data_hsl"
   ]
  },
  {
   "cell_type": "code",
   "execution_count": 24,
   "id": "95c94f15-d9b8-49ca-a121-eb1e199c66cf",
   "metadata": {},
   "outputs": [
    {
     "data": {
      "text/plain": [
       "cluster\n",
       "17    321\n",
       "8     303\n",
       "5     149\n",
       "10    141\n",
       "4     128\n",
       "12    119\n",
       "14    110\n",
       "18     99\n",
       "1      91\n",
       "7      79\n",
       "2      78\n",
       "13     69\n",
       "19     69\n",
       "3      65\n",
       "9      58\n",
       "15     57\n",
       "6      37\n",
       "16     27\n",
       "11     20\n",
       "0      16\n",
       "Name: count, dtype: int64"
      ]
     },
     "execution_count": 24,
     "metadata": {},
     "output_type": "execute_result"
    }
   ],
   "source": [
    "data_hsl['cluster'].value_counts() #number of article per cluster (clusters from 0 to 4)"
   ]
  },
  {
   "cell_type": "markdown",
   "id": "08d5ad0f-271b-4877-8f09-01c0ea944a2d",
   "metadata": {},
   "source": [
    "ALTERNATIF LAIN UNTUK MENAMPILKAN TOPIC DAN SUBJECT TIAP CLUSTER\n",
    "\n",
    "from __future__ import print_function\n",
    "\n",
    "print(\"Top terms per cluster:\")\n",
    "print()\n",
    "#sort cluster centers by proximity to centroid\n",
    "order_centroids = km.cluster_centers_.argsort()[:, ::-1] \n",
    "\n",
    "for i in range(num_clusters):\n",
    "    print(\"Cluster %d topics:\" % i, end='')\n",
    "    \n",
    "    for ind in order_centroids[i, :4]: #replace 6 with n words per cluster\n",
    "        print(' %s' % vocab_frame.loc[terms[ind].split(' ')].values.tolist()[0][0].encode('utf-8', 'ignore'), end=',')\n",
    "    print() #add whitespace\n",
    "    print() #add whitespace\n",
    "    \n",
    "    print(\"Cluster %d subject:\" % i, end='')\n",
    "    for title in data_hsl.loc[i]['subject_p'].values.tolist():\n",
    "        print(' %s,' % title, end='')\n",
    "    print() #add whitespace\n",
    "    print() #add whitespace\n",
    "    \n",
    "print()\n",
    "print()"
   ]
  },
  {
   "cell_type": "code",
   "execution_count": 25,
   "id": "50a5aba0-41f5-4102-8531-4cfdb4c03500",
   "metadata": {
    "scrolled": true
   },
   "outputs": [
    {
     "name": "stdout",
     "output_type": "stream",
     "text": [
      "Anggota per cluster:\n",
      "\n",
      "Cluster 0 subject: menghapus waktu pendaftaran pada detil siswa, dev menghapus waktu pendaftaran pada detil siswa, devtampilan maps pada halaman konfirmasi pengajuan pendaftaran masih menampilkan peta osm, sembunyikan informasi akreditasi sekolah asal pada halaman ajuan akun, dev penutupan halaman detil siswa 48310323220746 pada situs arsip 2017, dev menampilkan halaman konfirmasicek ulang pada situs publik sesuai asal sekolah lulusan, dev backend aggregator konten halaman data zonasi sekolah di situs publik, dev frontend halaman data zonasi sekolah di situs publik, dev tampilkan info pada halaman verifikasi dan tolak ajuan akun, dev muncul notifikasi halaman ini belum dapat diaksesjalur bibit unggul, dev sembunyikan informasi akreditasi sekolah asal pada halaman ajuan akun, dev ubah tampilkan info status verifikasi di detil siswa, dev frontend menampilkan halaman memasukkan token ketika login, refresh portal halaman tidak ditemukan, pencarian detil arsip error, refresh portal halaman tidak ditemukan,\n",
      "\n",
      "Cluster 1 subject: proses deploy data,  migrasi data lulusan asal sekolah sd , proses migrasi data master siswa, proses migrasi data siswa lulusan sd dan mi , proses migrasi data siswa lulusan suumi 2, migrasi data siswa lulusan insi 4,  migrasi data siswa lulusan insi 5, proses migrasi master data siswa 8, proses migrasi data master siswa, proses migrasi data master siswa, proses migrasi master data siswa 7, proses migrasi data cat, proses migrasi biodata lulusan untuk kalteng , proses migrasi master data siswa 6, proses migrasi data siswa lulusan insi 5, proses migrasi data siswa lulusan insi 4, migrasi data siswa lulusan insi 3, migrasi data dnt lulusan ,  migrasi data siswa lulusan mi, migrasi data siswa lulusan insi 2, migrasi data siswa lulusan insi , migrasi data dnt lulusan sdmi , perbaikan data ke2 dnt lulusan sdmi , migrasi data dnt lulusan sdmi , perbaikan data dnt lulusan sdmi , migrasi data lulusan asal sekolah misd banjarmasin , migrasi data asal sekolah lulusan sd mi , migrasi data siswa lulusan sd , migrasi data siswa lulusan sd , cek migrasi data siswa lulusan sd , migrasi data lulusan sd data , proses migrasi master data siswa, proses migrasi data siswa domisil dalam lulusan sekolah luar , proses migrasi master data siswa 4, proses migrasi ulang data siswa, proses migrasi data siswa lulusan insi 3, proses migrasi data siswa rev 2, proses migrasi master data siswa 3, proses migrasi 19 juni update nilai lulusan sdmi tahun , proses migrasi master data siswa 2, proses perbaikan data ke2 dnt lulusan sdmi , proses migrasi data siswa tambahan, proses migrasi data siswa blokir, migrasi data dnt lulusan sdmi , proses migrasi master data siswa, proses migrasi data afirmasi sd , proses migrasi data siswa lulusan insi 2,  proses migrasi ulang data siswa , migrasi update data lulusan smp mts 13 juni , migrasi data lulusan smp mts invalid 9 juni , migrasi data tambahan lulusan mts , migrasi 12 juni tambahan data siswa dan nilai lulusan sdmi tahun , migrasi data dnt lulusan , proses migrasi data siswa lulusan suumi , proses migrasi siswa perbaikan nisn, proses perbaikan data dnt lulusan sdmi , migrasi perbaikan data lulusan 4 smpmts ,  proses migrasi data siswa , migrasi tambahan data siswa dan nilai lulusan sdmi tahun , migrasi perbaikan data lulusan smp mts , proses migrasi lookup , proses perbaikan nisn siswa lulusan smp , migrasi data nilai lulusan sdmi tahun , migrasi data lulusan smp mts , deploy production data lulusan jateng , migrasi data siswa lulusan sdmi tahun , migrasi data lulusan smp mts , proses migrasi data dnt lulusan sdmi , proses perbaikan nisn siswa lulusan smp, proses migrasi data nilai aspd , migrasi data siswa lulusan sd , proses migrasi data siswa, proses migrasi data siswa lulusan insi , proses migrasi data lulusan asal sekolah misd banjarmasin ,  proses migrasi data lulusan asal sekolah sd , cabdin proses migrasi data siswa,  proses migrasi data siswa , deploy data proses ,  proses migrasi data siswa,  proses migrasi data siswa lulusan mi,  proses migrasi siswa dalam ,  proses migrasi data kms afirmasi , proses deploy data lulusan, proses migrasi data siswa lulusan sd , proses migrasi data lulusan dki , migrasi data asal sekolah lulusan sd mi , deploy production data lulusan , proses migrasi data siswa lulusan sd , deploy data lulusan , database migrasi data siswa proses migrasi, proses migrasi,\n",
      "\n",
      "Cluster 2 subject: deploy riil , infra deploy riil , infra deploy riil , deploy data riil , deploy data riil , deploy riil , deploy riil , infra deploy riil , deploy riil data migrasi , deploy riil , infra deploy riil , infra deploy riil , infra deploy riil , infra deploy riil suumi , database deploy riil , deploy riil , deploy riil , deploy riil , deploy riil suumi , deploy riil , deploy riil , deploy riil , deploy riil , deploy riil , deploy riil , deploy riil , deploy riil , deploy riil , infra deploy riil , infra deploy riil , database deploy riil , deploy riil , deploy riil , deploy riil , proses deploy riil data , proses deploy riil data , deploy riil , deploy riil , database deploy riil , database deploy riil , infra deploy riil , infra deploy riil , infra deploy riil , deploy riil , deploy riil , deploy riil , infra deploy riil di , deploy riil di , deploy riil , database deploy riil , infra deploy riil , deploy riil , deploy riil , infra deploy riil cabdin , infra deploy riil , infra deploy riil , infra deploy riil , deploy riil cabdin , deploy riil , deploy riil , deploy riil cabdin , deploy riil , deploy riil , deploy riil banjarmasin , deploy riil , infra deploy riil , deploy riil , deploy riil , deploy riil cabdin , deploy riil , deploy data riil , deploy riil , deploy riil dki , deploy riil , deploy riil , deploy data riil madrasah dki , deploy riil madrasah dki , deploy riil ,\n",
      "\n",
      "Cluster 3 subject: pengiriman sph awal online tambahan tahun , pengiriman sph nego online tahun , pengiriman sph nego online smp tahun , pengiriman sph nego online sd tahun , pengiriman sph nego online tahun , pengiriman sph nego online upaten jenjang sd tahun , pengiriman sph nego online tahun jenjang tk, pengiriman sph nego online tahun jenjang sd, pengiriman sph nego online tahun jenjang smp, pengiriman sph nego online upaten tahun , pengiriman sph nego online tahun , pengiriman sph nego online tahun , pengiriman sph awal online upaten jenjang smp tahun , pengiriman sph awal online upaten jenjang sd tahun , pengiriman sph nego online upaten tahun , pengiriman soft dokumen sph nego online tahun , pengiriman sph awal online insi smk swasta tahun , pengiriman soft dokumen sph nego online tahun , pengiriman sph awal online tahun , pengiriman soft dokumen sph awal online , pengiriman sph awal online insi tahun , pengiriman sph nego online tahun , pengiriman sph nego online tahun , dokumen sph online cabang dinas 9 tahun , pengiriman sph nego online tahun , pengiriman soft dokumen sph awal online , pengiriman sph nego online palangka raya tahun , pengiriman soft dokumen sph nego online tahun , pengiriman sph nego online tahun , pengiriman soft dokumen sph nego online tahun , emailing sph awal online insi tahun , pengiriman sph awal online sd tahun , pengiriman sph awal online smp tahun , pengiriman sph awal online tahun , pengiriman sph awal online cabdin insi kalimantan timur tahun , pengiriman sph awal online insi tahun , pengiriman sph awal online upaten tahun , pengiriman scan dokumen sph awal online , pengiriman scan dokumen sph awal online , pengiriman soft dokumen sph awal online , pengiriman soft dokumen sph awal online , pengiriman soft dokumen sph awal online , pengiriman sph awal online upaten tahun , pengiriman sph awal online tahun , pengiriman sph awal online palangka raya tahun , pengiriman scan dokumen sph awal online , pengiriman sph awal online tahun , pengiriman sph awal online upaten tahun , pengiriman scan dokumen sph awal online , pengiriman sph awal online tahun , pengiriman sph awal online tahun , sign dokumen sph awal online tahun , pengiriman sph awal online banjarmasin tahun , pengiriman scan dokumen sph awal online tahun , pengiriman scan dokumen sph awal online tahun , pengiriman sph awal online insi tahun , pengiriman scan dokumen sph awal online tahun , pengiriman sph awal online tahun , pengiriman revisi sph awal online tahun , pengiriman sph awal online tahun jenjang tk, pengiriman sph awal online tahun jenjang sd, pengiriman sph awal online tahun jenjang smp, pengiriman sph awal online tahun , pengiriman sph awal online tahun , dokumen sph online ,\n",
      "\n",
      "Cluster 4 subject: up situs publik , infra up situs publik , up situs publik , up situs publik , infra up situs publik , infra up situs publik , up situs publik , up situs publik , st up situs publik riil , st up situs publik , st up situs publik riil , st up situs publik riil , st up situs publik riil , st up situs publik , st up situs publik , up situs publik suumi , up situs publik , up situs publik , up situs publik upaten , up situs publik , up situs publik, up situs publik, up situs publik , up situs publik insi , infrastruktur up situs publik , aplikasi up situs publik , infrastruktur up situs publik , up situs publik , up situs publik , up situs publik banjarmasin , up situs publik , up situs publik madrasah dki , up situs publik dinas dki , situs publik ubah foto pada header situs publik, situs publik kendala akses situs demo,  up situs publik riil ,  up situs publik riil ,  up situs publik riil , up situs publik riil jateng ,  up situs publik riil ,  cek up situs publik riil , up situs publik , up situs publik , up situs publik , up situs publik , up situs publik , st up situs publik , st kapapan up situs publik riil , st up situs publik riil , infra up situs publik , up situs publik , up situs publik kapapan , up situs publik , up situs publik , infra up situs publik , infra up situs publik , infra up situs publik insi , up situs publik , up situs publik insi , infra up situs publik , up situs publik , up situs publik , infra up situs publik , infra up situs publik suumi , up situs publik , up situs publik upaten , up situs publik suumi , up situs publik di , infra up situs publik , infra up situs publik upaten , st up situs publik riil , up situs publik sma smk , infra up situs publik cabdin kutim , infra up situs publik , up situs publik , up situs publik cabdin kutim , up situs publik cabdin , up situs publik , up situs publik , st up situs publik , infra up situs publik , infra up situs publik , infra up situs publik upaten , infra up situs publik , infra up situs publik di , up situs publik , up situs publik , up situs publik , up situs publik , up situs publik , up situs publik di , up situs publik , st up situs publik , up situs publik ,  tampilan situs publik , infra up situs publik jateng ,  tampilan situs publik , up situs publik upaten ,  tampilan situs publik , st up situs publik , st up situs publik upaten , up situs publik jateng , up situs publik , dev tampilan situs publik , up situs publik , infra up situs publik , infra up situs publik banjarmasin , up situs publik banjarmasin , up situs publik , infra up situs publik , dev up situs publik , infra up situs publik riil , up situs publik , st up situs publik , dev up situs publik , infra up situs publik dki , infrastruktur up situs publik , dev up situs publik , infra up situs publik riil , dev up situs publik riil , dev up situs publik dki , up situs publik madrasah dki , st up situs publik riil , up situs publik madrasah dk , up situs publik , pic up situs publik riil , dev up situs publik , aplikasi up situs publik ,\n",
      "\n",
      "Cluster 5 subject: pengecekan file ajuan pendaftaran di operator tidak terbuka, dev menampilkan alamat ajuan pada detail siswa pendaftaran, dev menampilkan alamat ajuan pada laporan pendaftaran , dev tanggal kartu keluarga berubah menjadi 6 september setelah dilakukan koreksi ajuan akun siswa, dev nilai siswa berbeda antara daftar ajuan riwayat dan seleksi, devkoreksi verifikasi akun untuk siswa status ptow saat disimpan muncul notif 50a20 parameter tanggal perpindahan tugas ortuwali tidak valid, pengecekan peserta pada daftar ajuan pendaftaran tidak ada, dev pengecekan peserta pada daftar ajuan pendaftaran tidak ada,  siswa tidak bisa disetujui ajuan akunnya,  req penyesuaian fitur verifikasi akun siswa , dev siswa tidak bisa disetujui ajuan akunnya , pemutakhiran data siswa sesuai atribut mengacu pada ajuan akun yang terakhir, filter menurut jam ajuan pendaftaran pada laporan ajuan pendaftaran, dev filter menurut jam ajuan pendaftaran pada laporan ajuan pendaftaran, dev nilai rata rata rapor saat pendaftaran berbeda dengan saat verifikasi ajuan akun,  siswa pendataan tidak bisa ajuan akun,  req tambah kolom status hubungan keluarga pada daftar ajuan akun,  nilai gabungan pada ajuan akun dan cetak ajuan akun tidak sesuai, gagal apal ajuan akun di smp zonasi, dev nilai rata rata rapo berbeda antara di verifikasi ajuan akun dengan di dasbor siswa, override update siswa yang dikunci titik koordinatnya saat ajuan pendaftaran gabungan, dev update siswa yang dikunci titik koordinatnya saat ajuan pendaftaran gabungan, dev penelusuran koordinat siswa berbeda antara ajuan dan daftar, override siswa dengan atribut siswanilainlain161 tidak bisa ubah titik koordinat saat ajuan pendaftaran gabungan,  req override ubah tikor siswa saat verval ajuan pendaftaran, pengecekan info pengajuan pendaftaran berbeda dgn ajuan pendaftarannya, dev siswa perpindahan masih nyantol data perpindahannya saat ajuan akun ulang dengan menggunakan domisili sesuai kk, reset daftar ajuan pendaftaran gabungan zona demo, reset daftar ajuan pendaftaran gabungan zona demo, hapus data ajuan pendaftaran di demo,  tidak bisa ajuan akun di jenjang smk,  kolom info hubungan keluarga pada cetak ajuan akun siswa kosong,  tidak bisa ajuan akun,  penyiapan akun demo ajuan akun siswa, kendala reset data ajuan supaya menjadi ajuan lagi di smpn 9 , publik sudah diabtasi waktu ajuan akun dan pendaftarannya tapi tetap kelolosan, pengecekan siswa tidak bisa mengajukan akun ke 2, ajuan berkas peserta tidak ditemukan, menghapus ajuan akun siswa prapendaftaran, mematikan validasi nik saat mengajukan akun, menambahkan nik pada validasi sidanira saat pengajuan akun, mematikan override penguncian pilihan insi saat ajuan akun min, menampilkan kem validasi data sidanira saat pengajuan akun, tahun lulus siswa namun saat ajuan akun munculnya ,  atribut tidak muncul saat ajuan akun,  hilangkan isian nik saat ajuan akun pada jenjang smk demo, pengecekan siswa tidak bisa mengajukan akun, ajuan akun siswa yang kedua masih nyantol data kejuaraan dari yang ajuan pertama, rata rata aktivitas apal ajuan akun persekolah, zonasi siswa saat ajuan pendaftaran terbaca dari zona 4, ajuan akun siswa ulang setelah di tolak tetap menampilkan unggahan dokumen kejuaraan, operator sekolah gagal verifikasi ajuan akun karena stuk di tombol verifikasi, saat ajuan ulang nilai rapor terkunci, siswa asal sekolah luar dan jenis lulusan lain lain setelah di tolak pengajuan akun tidak bisa ajuan akun kem, siswa non database setelah di tolak pengajuan akun tidak bisa ajuan akun kem , siswa belum ajuan akun tetapi muncul notif nisn sudah digunakan ajuan akun, status kepesertaan pip terbaca tidak pip saat siswa ajuan akun, take down notifikasi konfirmasi verifikasi ajuan akun siswa yang kurang dari 1 tahun, tambah atribut status dokumen kk saat verifikasi ajuan akun siswa, tambah atribut status dokumen kk pada filter kartu keluarga di modul daftar ajuan akun siswa, status siswa anak guru dijenjang smasmk tidak muncul saat ajuan akun siswa, tanggal cetak kk tidak bisa diklik saat ajuan akun , menampilkan atribut tanggal tanggal perpindahan tugas ortu untuk siswa ptow pada saat ajuan akun, menampilkan data verval dukcapil di modul detil siswa ajuan akun siswa, gagal ajuan akun dan muncul notifikasi perhatian 6505b parameter tanggal kedatangan ortu tidak valid, loading tampilan halaman ajuan akun lama bisa sampai 10 detik , ajuan akun siswa stuck di tahap ke 2, reset ajuan akun hasil seleksi zona demo tahun , jadikan mandatori isian saat verifikasi ajuan akun di operator, menampilkan maps pada cetak bukti ajuan akun, munculkan tombol verifikasi tolak batal verifikasi dan batal tolak di menu daftar ajuan akun, isian nilai saat verifikasi akun belum muncul di halaman operator saat melakukan verifikasi ajuan akun siswa, reset status verifikasi akun siswa dummy , dev reset data ajuan supaya menjadi ajuan lagi di smpn 9 , siswa non database luilusan saat ajuan akun gagal simpan ,  siswa pendataan tidak bisa ajuan akun,  fitur pick up ajuan akun siswa,  tambah mekanisme batal pickup ajuan akun siswa, dev backend ajuan akun siswa yang kedua masih nyantol data kejuaraan dari yang ajuan pertama, hapus ajuan pendaftaran siawa , laporan rata rata aktivitas apal ajuan akun persekolah,  req akses untuk melihat data ajuan siswa, dev hapus ajuan pendaftaran siawa , dev hanya validasi ketika akan tolak verifikasi pada daftar ajuan akun, dev siswa pendataan tidak bisa ajuan akun, dev backend ajuan akun siswa ulang setelah di tolak tetap menampilkan unggahan dokumen kejuaraan,  tambah kolom status hubungan keluarga pada daftar ajuan akun, dev saat ajuan ulang nilai rapor terkunci, dev frontend fitur pick up ajuan akun siswa , dev backend fitur pick up ajuan akun siswa , dev req tambah kolom status hubungan keluarga pada daftar ajuan akun, dev req tambah kolom status hubungan keluarga pada daftar ajuan akun,  nilai gabungan pada ajuan akun dan cetak ajuan akun tidak sesuai, dev nilai gabungan pada ajuan akun dan cetak ajuan akun tidak sesuai,  status hub keluarga tidak muncul saat ajuan akun,  penyesuaian kolom info alamat pada form ajuan akun siswa, dev pengecekan siswa mendaftar pto tidak muncul pada ajuan pendaftaran, perbaiki dashboard ajuan akun di bi, dev siswa non database setelah di tolak pengajuan akun tidak bisa ajuan akun kem ,  req override menampilkan atribut saat ajuan akun,  req tambah filter di halaman daftar ajuan akun siswa , dev siswa belum ajuan akun tetapi muncul notif nisn sudah digunakan ajuan akun,  req override menampilkan atribut saat ajuan akun,  req tambah filter di halaman daftar ajuan akun siswa ,  atribut saat pengajuan akun jalur afirmasi masih bisa diedit,  atribut saat pengajuan akun jalur zonasi masih bisa diedit, dev take down notifikasi konfirmasi verifikasi ajuan akun siswa yang kurang dari 1 tahun, dev backend tambah atribut status dokumen kk pada filter kartu keluarga di modul daftar ajuan akun siswa, dev backend penyesuaian kolom info alamat pada form ajuan akun siswa, dev frontend tambah atribut status dokumen kk pada filter kartu keluarga di modul daftar ajuan akun siswa, dev frontend penyesuaian kolom info alamat pada form ajuan akun siswa, devbackend tambah atribut status dokumen kk saat verifikasi ajuan akun siswa, dev menampilkan data verval dukcapil di modul detil siswa ajuan akun siswa, dev menampilkan data verval dukcapil di modul detil siswa ajuan akun siswa, url ajuan masih belum sesuai, dev url ajuan masih belum sesuai, dev pengecekan siswa tidak bisa mengajukan akun ke 2, dev backend validasi nilai atribut tanggal perpindahan tugas ortu untuk siswa ptow pada ajuan akun, dev frontend menampilkan atribut tanggal tanggal perpindahan tugas ortu untuk siswa ptow pada saat ajuan akun,  pilihan default ajuan akun, dev tambah filter daftar ajuan akun, dev req override menampilkan atribut saat ajuan akun, dev frontend req tambah filter di halaman daftar ajuan akun siswa , dev backend req tambah filter di halaman daftar ajuan akun siswa , dev loading tampilan halaman ajuan akun lama bisa sampai 10 detik ,  atribut tidak muncul saat ajuan akun,  muncul isian nik saat ajuan akun pada jenjang smk,  tidak bisa ajuan akun, dev jadikan mandatori isian saat verifikasi ajuan akun di operator, devtidak bisa ajuan akun di jenjang smk, dev ajuan akun siswa stuck di tahap ke 2, dev reset aktivasi akun siswa 0121789997, menghapus ajuan akun siswa prapendaftaran, reset ajuan akun hasil seleksi zona demo tahun ,  aktifkan kem fitur menu aktivasi akun siswa, dev aktifkan kem fitur menu aktivasi akun siswa , proses hapus data ajuan pendaftaran di demo, dev nonaktifkan validasi nik saat pengajuan akun, dev menampilkan maps pada cetak bukti ajuan akun, dev isian nilai saat verifikasi akun belum muncul di halaman operator saat melakukan verifikasi ajuan akun siswa, dev ajuan akun tidak menampilkan isian sidanira, dev penyesuaian info pada saat ajuan akun, devmunculkan tombol verifikasi tolak batal verifikasi dan batal tolak di menu daftar ajuan akun, backend validasi sidanira saat pengajuan akun, frontend menambahkan nik pada validasi sidanira saat pengajuan akun, dev gagal ajuan akun, dev hapus override disable pilihan insi pada ajuan akun jenjang min, reset daftar ajuan pendaftaran gabungan zona demo, reset daftar ajuan pendaftaran gabungan zona demo,\n",
      "\n",
      "Cluster 6 subject: closing engine jalur zonasi kategori umum tahap 1, closing engine sma all jalur tahap 1, closing engine jalur zonasi khusus afirmasi zonasi reguler prestasi dan pto tahap 1, closing engine insi jalur zonasi afirmasi dan pto sma, closing engine di jalur zonasi radius afirmasi zonasi reguler prestasi dan pto tahap 1, closing engine jalur afirmasi tahap 1, closing engine upaten jalur zonasi dan pto tahap 1, closing engine jalur afirmasi dan prestasi tahap 1, closing engine dki gelombang 3, closing engine jalur afirmasi dan perpindahan tahap 1, dev reset engine jalur afirmasi, closing engine sd smp semua jalur, closing engine jalur zonasi tahap 1, closing engine banajrmasin jalur zonasi tahap 1, closing engine upaten jalur afirmasi tahap 1, closing engine dki gelombang 2, closing engine jalur prestasi tahap 1, closing engine upaten all jalur tahap 1, closing engine jalur zonasi dan jalur perpindahan tahap 1, closing engine jalur zonasi tahap 1, closing engine jalur afirmasi dan jalur prestasi tahap 1, closing engine jalur all non zonasi tahap 1, closing engine jalur perpindahan jalur prestasi lomba jalur prestasi rapor tahap 1, closing engine jalur zonasi tahap 1, closing engine jalur afirmasi tahap 1, closing engine jalur afirmasi jalur prestasi jalur perpindahan tahap 1, closing engine jalur zonasi tahap 1, closing engine banajrmasin jalur afirmasi prestasi akademik dan prestasi non akademik tahap 1, closing engine jalur zonasi r1 afirmasi r2 perpindahan tugas r3 tahap 1, closing engine jalur prestasi r4,  close engine ,  close engine , closing engine sma smk semua jalur, closing engine cabdin sma smk jalur zonasireguler, closing engine cabdin sma smk jalur regulerzonasi tahap 2, closing engine smp jalur prestasi nus prestasi non akademik pto tahap 1, closing engine sd jalur z2 pto smp jalur z1 afirmasi gakin afirmasi ptk tahap 1,\n",
      "\n",
      "Cluster 7 subject: deploy real insi ,  deploy real , deploy real , deploy real insi dki , st deploy real , st deploy real , st deploy real , st deploy real , st deploy real , infra deploy real , infra deploy real , infra deploy real , st deploy real ,  di deploy real ,  proses deploy data real , deploy real deploy data suumi , deploy real proses deploy data ,  proses deploy data real ,  proses deploy data real , deploy real proses deploy data ,  proses deploy data real , deploy real data , deploy real , deploy real data ,  data deploy real ,  deploy real , deploy real , deploy real insi , infrastruktur deploy real , database deploy real , infrastruktur deploy real , deploy real banjarmasin , deploy real , deploy real , deploy real madrasah dki ,  deploy real ,  deploy real ,  deploy real , deploy real jateng ,  deploy real ,  deploy real , st deploy real ,  deploy real ,  deploy real , deploy real , st deploy real insi , deploy real , infra deploy real padang sidimpuan ,  di proses deploy data real , deploy real padang sidimpuan ,  deploy real smp , deploy real jateng , deploy real , deploy real , st deploy real , st cabdin deploy real cabdin kutim , deploy real cabdin kutim ,  proses deploy data real smp ,  deploy real cabdin , deploy real proses deploy data , st deploy real banjarmasin , deploy real proses deploy data banjarmasin , st deploy real ,  proses deploy data real ,  cabdin proses deploy data real cabdin , st deploy real , st deploy real , st cabdin deploy real cabdin , infra deploy real , infra deploy real insi dki , database proses deploy real , st infrastruktur deploy real , infra deploy real , proses deploy real , aplikasi deploy real , deploy real madrasah dki ,  deploy real , infra deploy real , aplikasi deploy real ,\n",
      "\n",
      "Cluster 8 subject: kendala siswa masih bisa langsung pengajuan pendaftaran di 2 jenjang sekaligus, dev penyesuaian redaksi waktu akses pendaftaran, dev penyesuaian dokumen laporan rekap seleksi,  penyesuaian akses pada koreksi data induk, dev siswa masih bisa langsung pengajuan pendaftaran di 2 jenjang sekaligus, dev hide kolom pencarian dan tombol live detection, dev penyesuaian tikor pada pencarian agar sama dengan alamat siswa, dev hide informasi tanggal kedatangan siswa dan ortu di dasbor siswa, dev penyesuaian link online pada situs demo , kendala informasi alamat tidak sama antara detail siswa dengan bukti cetak pengajuan, test case data siswa pendaftaran di zonasi dan perpindahan, dev kirim tanda ke frontend agar tidak menampilkan icon, normalisasi normalisasi data ajuan pendaftaran, dev informasi alamat tidak sama antara detail siswa dengan bukti cetak pengajuan, dev menampilkan data siswa di pendaftaran kedua dari data di pendaftaran pertama, dev permintaan data siswa sudah batal verifikasi pendaftaran gabungan sma zonasi dan smk reguler yang dapat tambahan 100 di pendaftaran kedua, dev redaksi jadwal pendaftaran di situs publik,  req penyesuaian aturan pendaftaran siswa dan non aktifkan overide 16485 , dev perubahan label sambutan, dev set kp ke pendaftaran pertama dan abaikan jika tidak valid, dev perbaikan nilai akhir siswa yang terdampak tiket 21368, dev koreksi pendaftaran gagal cetak bukti koreksi pendaftarannya, menghapus riwayat pendaftaran seblumnya, fix fitur batal verifikasi ajuan pendaftaran muncul notif d6fe8 terjadi kesalahan aplikasi, dip req penyesuaian aturan pendaftaran siswa dan non aktifkan overide 16485 , dev frontend kelompok pilihan jalur 0 pada bukti cetak dan pencarian siswa, dev backend kelompok pilihan jalur 0 pada bukti cetak dan pencarian siswa, pilihan afirmasi tidak muncul di tanda bukti pengajuan pendaftaran, dev restore siswa dengan tanggal lahir null, dev menghapus riwayat pendaftaran seblumnya,  penyesuaian fitur verifikasi akun siswa ambil data api tapemdukcapil, dev backend tambah atribut alamat dan tikor pada modul koreksi data induk, dev koreksi pendaftaran gabungan nilai yang dikoreksi tidak bisa terupdate, reset pendaftaran siswa, dev frontend tambah atribut alamat dan tikor pada modul koreksi data induk, dev siswa lulusan luar tetapi domisili dalam tidak bisa mengajukan pendaftaran , dev tanggal kedatangan siswa di set tidak ada kedatangan tetapi tidak terset default 22 juni 2022, mematikan override batasan pendaftaran kedua satu jenjang dengan pendaftaran pertama, dev isi atribut nlain12 dari api tapem dukcapil di modul verifikasi akun siswa, dev override penyesuaian batasan pilih sekolah yang sudah dipilih di pendaftaran sebelumnya, pengembangan bi pengajuan akun dan pendaftaran jateng, lanjutan batasan koreksi berkas , proses migrasi dan replace alamat siswa rusunawa ke 2, dev override penguncian titik koordinat siswa sipenda dicabut, dev backend tampilan info cat di mts dan ma reguler, dev frontend tampilan info cat di mts dan ma reguler, dev pengecekan gagal verifikasi 8201002052, dev backend pilihan afirmasi tidak muncul di tanda bukti pengajuan pendaftaran, nisn 0094103525 dan 0092591939 tidak dapat tambahan 100 di pendaftaran pertama, override menampilkan penanda berkas sipenda pada laman verifikasi pendaftaran gabungan, dev penanda berkas sipenda pada laman verifikasi pendaftaran gabungan, override penyesuaian label pilihan jenis lulusan di form pendaftaran,  step cek data pendaftaran siswa tidak muncul, dev step cek data pendaftaran siswa tidak muncul di , dev pembatasan batal verifikasi pendaftaran tiap tahap pelaksanaan jalur maksimal 1 kali,  penyesuaian redaksional pada cetak bukti ajuan pendaftaran di semua jalur,  penyesuaian fitur cek status afirmasi,  tambah blok kolom disklaimer pada dokumen cetak , dev tambahkan override konfigurasi, dev ubah label jenis lulusan reguler, dev tambah redasiinformasi dibawah input jenis lulusan, dev muncul notifikasi proses gagal dijalankan silakan cek koneksi anda dan coba beberapa saat lagi saat pendafataran, pengecekan perbedaan alamat siswa di web dengan di tanda bukti cetak pendaftaran, bug nopes dan token berbeda dihalaman verifikasi pendaftaran, siswa gagal koreksi berkas, dev frontend penyesuaian fitur cek status afirmasi, dev penyesuaian akses pada koreksi data induk, dev skip unggah berkas yang telah ada di lookup, dev backend penyesuaian fitur cek status afirmasi, dev editable nilai jika nilainya kosong, dev ubah mekanime lookup untuk pencarian, batasan untuk koreksi berkas ajuan yang ditolak, override isian nilai mapel siswa lulusan mtspesantren, override isian nilai mapel siswa lulusan mtspesantren, override isian nilai mapel siswa lulusan mtspesantren, mekanisme unggah berkas yang ajuannya di tolak ,  req menampilkan status buta warna pada dasbor siswa,  penyesuaian kolom alamat siswa pada kondisi siswa dnt,  overide kolom input alamat siswa ,  req penyesuaian kolom info data dari dukcapil,  penyesuaian override mekanisme penyaluran siswa, penyesuaian label informasi situs ditutup, verifikasi berkas memakai google maps citra satelit, siswa prapendaftaran mengisikan lokasi verifikasi dan unggah berkas, menyalakan kem override batasan unggah berkas, merubah urutan tampilan daftar verifikasi berkas, migrasi dan replace alamat siswa rusunawa , override jadwal unggah berkas, mematikan ovveride auto ape siswa pra pendaftaran, menghapus ovveride pilihan madrasah pada verifikasi berkas, data iputan nilai rapor tidak muncul di cek ulang pendaftaran, override menghilangkan informasi waktu pengajuan dan waktu pendaftaran di detail siswa, penyesuaian tampilan jumlah data pada rekap per jenjang di bi, hide alamat di detail siswa di jalur bibit unggul, override penyesuaian cetak pendaftaran dan verifikasi, penyesuaan cetak pendataan prestasi siswa, override penyesuaia pencarian nik , override penyesuaian lokasi menu cek nik, override penyesuaian redaksi data dukcapil tidak ditemukan, menyembunyikan informasi disabilitas di detail siswa, override menyembunyikan nilai di cetak pendaftaran, override fitur pencarian nik , mengaktifkan siswa lulusan tahun dan 2022, tampilan peta pada tahap konfirmasi dan dokumen cetak siswa masih menggunakan osm, hide informasi status verifikasi dukcapil di dasbor siswa, nama siswa saat pendaftaran jadi auto translate, ubah label tanggal cetak kk menjadi tanggal kedatangan siswa, hilangkan form isian tanggal lahir dan validasinya pada fitur pencarian siswa, fitur koreksi verifikasi akun saat di simpan jumlah mapel rapor tersimpan nya menjadi 7 mapel dari 9 mapel, tambah informasi konfirmasi status siswa di dokumen kk dan potensi minat bakat, disable pilihan insi kecamatan dan kelurahan pada ajuan pendaftaran siswa, disable ubah tanggal cetak kartu kk di modul koreksi verifikasi akun siswa, set syarat daftar dengan atribut tanggal kedatangan ortu gagal disimpan dan muncul error, tambahkan atribut shdk kesesuaian nama ortu dan potensi minatbakat pada modul koreksi verifikasi akun siswa, munculkan kem isian dan validasi kepesertaan pip nlain13, reset pendaftaran siswa dummy , penyesuaian label tahun pelajaran menjadi tahun ajaran, pengajuan pendaftaran siswa gagal dan muncul notif parameter tanggal prestasi tidak valid, hilangkan isian dan validasi anak yatim nlain13, memunculkan mapel rapor pjok dan seni budaya pada cetak pengajuan akun , nilai rapor mapel pjok dan seni budaya berisi 0 di halaman verifikasi akun siswa, mapel pjok dan seni budaya belum muncul di isian nilai rapor, dev penyesuaian redaksional pada cetak bukti ajuan pendaftaran di semua jalur, dev batalkan override lulusan tahun lalu dimigrasi, dev upsitus publik , dev pastikan rapor tidak tereset ketika koreksi, dev mengaktifkan siswa lulusan tahun dan 2022, dev nisn 0094103525 dan 0092591939 tidak dapat tambahan 100 di pendaftaran pertama,  req menampilkan unggah berkas saat pendaftaran, penyesuaian alur penyimpanan data alamat ke pendaftaran, dev disable isian nilai aspd di form ajuan pendaftaran, dev cleanup data yang pilihannya masih belum mendapatkan tambahan 100, dev mematikan override batasan pendaftaran kedua satu jenjang dengan pendaftaran pertama, dev menampilkan berkas menjadi 2 url jika url mengandung koma, dev ulangi param siswa pada action search dengan radius sesuai nlain16, dev tolak 3 ajuan sma afirmasi yang terlanjur batal verifikasi, dev frontend detail nilai rapor di konfirmasi data pendaftaran tidak muncul, dev isi url berkas dengan yang ditemukan di lookup, proses perbaikan perbedaan alamat siswa di web dengan di tanda bukti cetak pendaftaran, dev batasan untuk koreksi berkas ajuan yang ditolak, dev pengecekan perbedaan alamat siswa di web dengan di tanda bukti cetak pendaftaran, dev validasi kolom no telepon berawalan 08 dan max 14 gigit, dev siswa luar daerah tidak bisa ajukan pendaftaran, dev backend inisialisasi atribut yang dikosongkan dengan nilai tidak , dev frontend inisialisasi atribut yang dikosongkan dengan nilai tidak , dev tampilan peta pada tahap konfirmasi dan dokumen cetak siswa masih menggunakan osm, dev penyesuaian label informasi situs ditutup, dev baca data siswa dengan mendisable cache psbobject, dev hapus blokir nomor ujian 0117806547 dan siswa lain jika ada ,  penyesuaian override mekanisme penyaluran siswa dg penambahan acuan zonasi, dev frontend tambahkan informasi data siswa pada dasbor siswa, dev backend tambahkan informasi data siswa pada dasbor siswa, dev frontend penyesuaian isian alamat pada form ajuan, dev frontend penambahan input alamat siswa pada modul koreksi data induk, devfrontend bukti cetak pengajuan pendaftaran yang pakai maps tidak muncul, dev backend penyesuaian isian alamat pada form ajuan, dev backend penambahan input alamat siswa pada modul koreksi data induk, dev frontend hide notifikasi peringatan anak guru, dev hide alamat di detail siswa di jalur bibit unggul, dev hide informasi status verifikasi dukcapil di dasbor siswa,  menampilkan status buta warna pada dasbor siswa, dev perubahan mekanisme koreksi berkas, dev ubah atribut kemunculan dokumen yang diunggah saat pengajuan pendaftaran sesuai dengan kategori siswa calon pendaftar zonasi, dev melepas validasi hapus domisili di pengaturan data siswa admintools, dev backend req menampilkan status buta warna pada dasbor siswa, dev frontend req menampilkan status buta warna pada dasbor siswa, dev tolak 1 ajuan sma afirmasi yang terlanjur batal verifikasi,  penyesuaian redaksi jika data nik tidak ditemukan, dev backend menyembunyikan informasi nama ibu di situs publik , dev nama siswa saat pendaftaran jadi auto translate, dev req disable kolom status hubungan keluarga pada koreksi data induk, dev backend overide kolom input alamat siswa , dev backend batasan opsi pilihan sesuai dengan pilihan atribut lain,  hilangkan kolom alamat rt dan rw , dev frontend ubah label tanggal cetak kk menjadi tanggal kedatangan siswa, dev backend batasi insi dan , dev backend tambah variabel jenis peta pada cetak pendaftaran gabungan, dev frontend nomor kartu keluarga 16 digit dan awalan angka 6271xxxxxxxxxxxx, dev penyesuaian cetak pendaftaran dan verifikasi, dev penyesuaian redaksi jika data nik tidak ditemukan, dev frontend opsi pilihan sesuai dengan pilihan atribut lain, dev req penyesuaian kolom info data dari dukcapil, dev backend hilangkan form isian tanggal lahir dan validasinya pada fitur pencarian siswa, dev penyesuaian modul batal pendaftaran di situs operator, dev frontend overide kolom input alamat siswa , dev fitur koreksi verifikasi akun saat di simpan jumlah mapel rapor tersimpan nya menjadi 7 mapel dari 9 mapel, dev frontend hilangkan form isian tanggal lahir dan validasinya pada fitur pencarian siswa, backend menyalakan kem override batasan unggah berkas, dev penyesuaan cetak pendataan prestasi siswa, dev usia piagam belum terbaca sesuai dengan tanggal yg diinputkan, dev sequence nomor pengganti tidak sinkron dengan data pada siswa, dev buat daftar tabel dan field yang harus ditambah dan diset,  non aktifkan override info pendaftaran, dev batal pendaftaran siswa salah pilih zonasi sd, dev ubah narasi status anak guru, penyediaan bi data siswa salah pilih zonasi sd untuk pemantauan pendaftaran kem, dev buat estetik tampilan unduhan dokumen online di situs jatengdemosiapcom, dev frontend tambah informasi konfirmasi status siswa di dokumen kk dan potensi minat bakat, dev backend tambah informasi konfirmasi status siswa di dokumen kk dan potensi minat bakat, dev disable pilihan insi kecamatan dan kelurahan pada ajuan pendaftaran siswa, dev backend cetak prestasi tidak muncul, dev backend pengecekan nilai rerata rapor peserta cabdin , dev disable pilihan insi kecamatan dan kelurahan pada ajuan pendaftaran siswa, dev backend cek set nilai siswa muncul notif af1c1 parameter nilai jenis kepindahan domisili siswa tidak valid,  penyesuaian kolom inputan nilai siswa, dev fix tanggal cetak kk disabled ketika ajuan, dev backend penyesuaian kolom inputan nilai siswa, dev frontend disable ubah tanggal cetak kartu kk di modul koreksi verifikasi akun siswa, dev disable ubah tanggal cetak kartu kk di modul koreksi verifikasi akun siswa, dev tambahkan atribut shdk kesesuaian nama ortu dan potensi minatbakat pada modul koreksi verifikasi akun siswa, dev ubah entry tanggal dengan component yang bisa copas, dev frontend isian kepindahan domisili ortu dan tanggal kedatangan ortu, dev backend tambah kepindahan domisili ortu dan tanggal kedatangan ortu, dev mode ubah lokasi ketika verifikasi tidak berjalan, dev frontend tambah blok kolom disklaimer pada dokumen cetak ,  non aktifkan override info pendaftaran, dev backend custom rule untuk nlain19 nteks07 dan nteks08 , dev frontend req tombol ubah nilai atribut surat keterangan buta warna, dev backend req tombol ubah nilai atribut surat keterangan buta warna, penyesuaian url untuk jateng , dev frontend cegah masuk jika mfa belum aktif,  non aktifkan override info pendaftaran, dev frontend menampilkan nteks07 jika nlain19 1, override hapus informasi waktu pendaftaran pada butki cetak, dev frontend form setting mfa, dev kemunculan dokumen yang diunggah saat pengajuan pendaftaran sesuai dengan kategori siswa calon pendaftar zonasi, dev backend override pilihan jenis perpindahan tugas orang tua, dev deploy aplikasi di server neometaldki, menghilangkan informasi sms di portal dan cetak berkas,  penyesuaian tombol zonasi, dev frontend override pilihan jenis perpindahan tugas orang tua, dev merubah urutan tampilan daftar verifikasi berkas, dev frontend update rumus perhitungan ratarata nilai rapor, dev backend update rumus perhitungan ratarata nilai rapor, dev penyesuaian url untuk jateng , penyesuaian alur evaluasi data alamat dari pendaftaran, frontendpenyesuaian alur penyimpanan data alamat ke pendaftaran, backendpenyesuaian alur penyimpanan data alamat ke pendaftaran, dev backend tambah form opsi untuk mengaktifkan mfa di daerah pelaksana, dev backend form setting mfa, dev frontend penyesuaian tombol zonasi, dev create project, dev backend validasi token mfa ketika login, dev error 404 situs , dev munculkan kem isian dan validasi kepesertaan pip nlain13, dev merubah tampilan status peserta didik saat verifikasi ke tab pengajuan,  nilai rerata rapor dan semester tidak muncul pada cetak ajuan dan verifikasi, dev frontend tambah form opsi untuk mengaktifkan mfa di daerah pelaksana, dev penyesuaia pencarian nik , dev generate konfigurasi status dan jenis mfa yang digunakan, dev menolak ajuan berkas peserta, dev cek ajuan berkas peserta tidak ditemukan, dev verifikasi berkas belum google maps, proses migrasi dan replace alamat siswa rusunawa , dev kemunculan dokumen yang diunggah saat pengajuan pendaftaran sesuai dengan kategori prestasi yang dipilih, dev ubah redaksional jumlah nilai rerata, backend hilangkan validasi nilai aspd, dev pindah lokasi menu cek nik, dev backend mekanisme unggah berkas yang ajuannya di tolak , dev penyesuaian jadwal unggah berkas, dev frontend mekanisme unggah berkas yang ajuannya di tolak , dev keluarkan isian lokasi verisikasi dan unggah berkas untuk siswa pra pendaftaran, dev hilangkan informasi status verifikasi, dev nonaktifkan override auto ape siswa pra pendaftaran, dev penyesuaian label tahun pelajaran menjadi tahun ajaran, dev penyesuaian pengecekan nik untuk siswa prapendaftaran, dev memunculkan mapel rapor pjok dan seni budaya pada cetak pengajuan akun , dev nilai rapor mapel pjok dan seni budaya berisi 0 di halaman verifikasi akun siswa, dev penyesuaian bukti cetak pengajuan pendaftaran dan bukti verifikasi jalur prestasi, dev hilangkan isian dan validasi anak yatim nlain13, dev menyembunyikan informasi disabilitas di detail siswa, dev mapel pjok dan seni budaya belum muncul di isian nilai rapor, dev informasi kelompok pilihan jalur di bukti cetak pengajuan pendaftaran, dev menghilangkan informasi rangking dari jumlah pendafttar pada detail siswa, backend informasi kelompok pilihan jalur di bukti cetak pengajuan pendaftaran, dev cetak pengajuan pendaftaran tidak muncul peta, dev bukti cetak jalur perpindahan tugas orang tua, dev mengaktifkan upaten , frontend menyembunyikan informasi disabilitas di detail siswa, dev frontend fitur pencarian data siswa, dev backend fitur pencarian data siswa, backend override menyembunyikan nilai di cetak pendaftaran, dev penyesuaian validasi berkas unggahan berdasarkan isian nilai, frontend hilangkan informasi na pada bukti cetak pendaftaran, dev penyesuaian tampilan berkas unggahan berdasarkan isian nilai, penyesuaian konten situs publik yang ditutup, dev gagal save setting berkas unggahan, dev penyesuaian konten situs publik yang ditutup, frontend isian nilai mapel siswa lulusan mtspesantren, dev ubah informasi dugaan data ganda di situs operator, backend isian nilai mapel siswa lulusan mtspesantren, frontend override isian nilai mapel siswa lulusan mtspesantren, backend override isian nilai mapel siswa lulusan mtspesantren, dev frontend isian nilai mapel mengikuti jenis lulusan, dev backend isian nilai mapel mengikuti jenis lulusan, dev error ketika koreksi pendaftaran gabungan, dev hapus override dari tiket 12454, frontend fitur pencarian nik , dev ubah default tahun lulus, dev hapus override pilihan madrasah pada verifikasi berkas, bakckend pencarian fitur pencarian nik , backendbukti cetak penyesuaian bukti cetak set nilai tambah di jalur afirmasi, frontend penyesuaian input npsn terhadap pilihan status siswa ,\n",
      "\n",
      "Cluster 9 subject: review dokumen sph awal online , review dokumen sph awal online smp , emailing sph awal online insi , emailing sph awal online insi , nomor surat sph nego online , nomor sph awal berdasarkan email yang disampaikan dari business solution support pt metranet perihal permohonan surat penawaran harga online suumi, pembuatan sph awal online , nomor surat sph nego online upaten , pembuatan sph awal online insi , emailing sph awal online insi , review sph awal online upaten , review sph awal online upaten , nomor surat sph awal online upaten kulonprogo , pembuatan sph awal online insi , review sph awal online upaten , nomor sph awal online , review dokumen sph awal online , nomor sph awal berdasarkan email yang disampaikan dari business solution support pt metranet perihal permohonan surat penawaran harga online kulonprogo, nomor sph awal online , nomor surat sph awal online madrasah dki jenjang mtsn, nomor surat sph awal online madrasah dki jenjang man, nomor sph awal berdasarkan email yang disampaikan dari business solution support pt metranet perihal permohonan surat penawaran harga online ta , permintaan pembuatan nomor sph awal online insi , nomor sph awal online banjarmasin , nomor sph awal online jenjang tk, nomor sph awal online jenjang sd, nomor sph awal online jenjang smp, nomor sp awal menindaklanjuti email permintaan sph tanggal 6 mei dari business solution support pt metranet untuk pekerjaan sewa aplikasi online tahun pelajaran 2025 kantor wilayah kemenag insi dki jenjang man, nomor sph awal menindaklanjuti email permintaan sph tanggal 6 mei dari business solution support pt metranet untuk untuk pekerjaan sewa aplikasi online tahun pelajaran 2025 kantor wilayah kemenag insi dki jenjang mtsn, tandatangan sph awal online madrasah dki jenjang min, nomor surat sph awal online madrasah dki jenjang min, review sph awal online madrasah dki jenjang min, nomor sph awal berdasarkan email yang disampaikan dari business solution support pt metranet perihal permohonan surat penawaran harga online banjarmasin, nomor id paket sfdp24059182697 melalui mekanisme pengadaan epurchasing untuk pekerjaan sewa layanan online ta , revisi sph awal online jenjang tk, revisi sph awal online jenjang smp, revisi sph awal online jenjang sd, nomor sph awal id paket lplp24049041985 melalui mekanisme pengadaan epurchasing untuk pekerjaan sewa layanan online ta , nomor sph nego id paket lplp24049104536 melalui mekanisme pengadaan epurchasing untuk pekerjaan pengadaan layanan online ta , nomor sph nego surat pesanan nomor 02701ppksp422101 tanggal 1 april melalui mekanisme penunjukan langsung untuk pekerjaan pengadaan layanan online ta , nomor sph nego id lplp24049156389 melalui mekanisme pengadaan epurchasing untuk pekerjaan pengadaan layanan online ta , nomor sph nego id paket lplp24049064350 melalui mekanisme pengadaan e purchasing untuk pekerjaan pengadaan layanan online ta , nomor sph awal id paket lplp24049095279 melalui mekanisme pengadaan e purchasing untuk pekerjaan pengadaan layanan online jenjang sd ta , nomor sph awal id paket lplp24059192062 melalui mekanisme pengadaan e purchasing untuk pekerjaan pengadaan layanan online jenjang tk ta , nomor sph awal id paket lplp24049156180 melalui mekanisme pengadaan e purchasing untuk pekerjaan pengadaan layanan online jenjang smp ta , nomor sph awal spk dengan nomor b4166kw092ks01204 melalui mekanisme pengadaan langsung untuk pekerjaan sewa aplikasi online pengadaan online tingkat madrasah ibtidaiyah negeri tahun pelajaran 2025 kantor wilayah kemenag i, nomor sph nego id paket lplp24049102457 melalui mekanisme pengadaan epurchasing untuk pekerjaan pengadaan layanan online ta , nomor sph awal berdasarkan email yang disampaikan dari business solution support pt metranet pada tanggal 5 mei perihal permohonan surat penawaran harga online ta , permintaan pembuatan nomor sph awal online , nomor surat sph awal online upaten , nomor surat sph awal online , nomor sph awal id lplp24049156389 melalui mekanisme pengadaan epurchasing untuk pekerjaan pengadaan layanan online ta , permintaan pembuatan nomor sph awal online , nomor sph awal surat pesanan nomor 02701ppksp422101 tanggal 1 april melalui mekanisme penunjukan langsung untuk pekerjaan pengadaan layanan online ta , nomor surat sph awal online upaten , nomor sph awal id paket lplp24049102457 melalui mekanisme pengadaan epurchasing untuk pekerjaan pengadaan layanan online ta , nomor sph awal id paket lplp24049104536 melalui mekanisme pengadaan epurchasing untuk pekerjaan pengadaan layanan online ta , nomor sph awal id paket lplp24049064350 melalui mekanisme pengadaan e purchasing untuk pekerjaan pengadaan layanan online ta ,\n",
      "\n",
      "Cluster 10 subject: dev override hide unggahan suket domisili untuk siswa anak guru, data siswa tidak ditemukan pada situs publik, dev perubahan label informasi pada peringatan tidak bisa lanjut diterima sementara pengajuan di situs publik, dev hilangkan informasi status diterima sementara pada situs operator, dev data siswa tidak ditemukan pada situs publik,  tambah overide perhitungan n gabungan pada menu koreksi pendataan, menambah informasi nilai prestasi, override hide unggahan sertifikatpiagam untuk yang tidak memiliki prestasi, dev hilangkan icon seleksi pada pencarian siswa di situs publik, dev nilai rata2 semester siswa pendataan di smk reguler berubah menjadi 0, dev tambah overide perhitungan n gabungan pada menu koreksi pendataan, kendala koreksi pendaftaran pada jalur zonasi untuk koreksi koordinat tidak jalan di production, dev koreksi pendaftaran pada jalur zonasi untuk koreksi koordinat tidak jalan di production, dev normalisasi nilai rapor, override penambahan nilai 100 juga muncul pada pendaftaran kedua seharusnya tidak, dev penambahan nilai 100 juga muncul pada pendaftaran kedua seharusnya tidak, override penambahan info pada inputan nilai rapor jenjang smk, override hide info pilihan diterima pada laman data siswa pendaftar,  req disable kolom status hubungan keluarga pada koreksi data induk, menampilkan pengumuman cat pada dashboard siswa, dev munculkan kem kolom hubungan keluarga pada jalur prestasi dan set enable editing, override menyembunyikan smk prestasi dari beranda situs publik, dev hide info pilihan diterima pada laman data siswa pendaftar, dev sembunyikan jalur smk prestasi di situs publik, override pembukan batasan jika siswa ditolak ditolak di sma bisa daftar ke smk,  override , dev penambahan info pada inputan nilai rapor jenjang smk, dev update batasan tanggal pendataan prestasi, override nilai atribut nlain181 seharusnya bisa ajuan pendaftaran online di smk jarak terdekat, override menampilkan sebagian berkas pada tiap jalur sma smk, kendala koreksi akreditasi berdampak pada nilai rapor menjadi 0, dev tambah atribut pada cetak bukti pemberian nilai tambahan di afirmasi sma dan smk,  tambah kolom info keterangan daya tampung digunakan pada laman seleksi, munculkan semua jalur pendaftaran pada situs publik arsip ppbd , password untuk akses situs publik demo, override relabeling informasi situs publik tutup, override tahun lalu belum jalan untuk mekanisme siswa pendataan pada jalur prestasi, uat limpahan pagu 2 tingkat di smk, penolakan untuk ajuan sma smk jalur afirmasi yang belum diverifikasi, override tambahan nilai 100 pada pilihan pertama tidak berlaku saat pindah jenjang, override override nilai rapor untuk sma dan smk tahun , override menghilangkan isian nilai pendataan selain pelajaran ujian akhir pada 3 jalur sma, disable untuk pilihan insi dan , google maps di situs publik , ovveride menghilangkan tombol cari pada situs publik, pengecekan lokasi daftar sma dan smk pada admin tools, pengecekan data pada bi belum sesuai dengan situs operator, persetujuan override set unggahan berkas piagam, hapus override tahun lalu,  req tambah kolom info agama pada dokumen laporan , override pembatasan pada jalur zonasi untuk nisn sama, situs arsip tidak tersedia untuk yang sma dan smk, override override versi 2 nilai rapor untuk sma dan smk tahun , perubahan nama jalur pto pada jenjang smk, hilangkan pilihan paket abslblain lain pada jenis lulusan, memunculkan kem tombol cari pada situs publik, pengecekan waktu idle pada situs operator, pengerjaan evidence kalsel smk swasta , gagal unggah daya tampung afirmasi sma pada admin tool, tambah keterangan sudah diverifikasi untuk filter status dokumen kk, set default filter untuk role akses operator khusus, ganti label tanggal kedatangan siswa dimodul set nilai siswa, set nilai default untuk nlain20 26 juni 2022, tambah atribut keterangan dukcapil pada modul set nilai siswa, set nilai siswa muncul notif af1c1 parameter nilai jenis kepindahan domisili siswa tidak valid, set status anak guru di jenjang smasmk, update label dan acuan tanggal kk kurang dari 3 tahun untuk filter usia kk terbaru, hide tampilan biodata info dan nilai pada modul set nilai siswa, hide nilai aspd, update acuan tanggal kk kurang dari 1 tahun untuk filter usia kk, update acuan tanggal usia kk pada pop up notifikasi informasi kk kurang dari 1 tahun, dev nilai atribut nlain181 seharusnya bisa ajuan pendaftaran online di smk jarak terdekat, proses set tahun lulus sesuai kondisi kelulusan untuk siswa dnt, dev penambahan untuk sma zonasi tahap 2 tidak berjalan, dev frontend menyesuaikan label pada menu daftar pada jalur yang belum mulai, dev buka engine sma prestasi untuk dilakukan seleksi kem, dev relabeling informasi situs publik tutup, dev skip validasi syarat daftar untuk siswa pendataan, dev set nilai zonasi sesuai tabel rayon, dev frontend tambah kolom info keterangan daya tampung digunakan pada laman seleksi , menambahkan status lapor diri pada bi , dev override tahun lalu belum jalan untuk mekanisme siswa pendataan pada jalur prestasi, dev cek limpahan pagu 2 tingkat di smk, dev frontend tambah keterangan sudah diverifikasi untuk filter status dokumen kk, dev backend tambah keterangan sudah diverifikasi untuk filter status dokumen kk,  disable kolom status hubungan keluarga pada koreksi data induk, dev mekanisme jalur zonasi untuk kategori siswa calon pendaftar zonasi saat pengajuan di situs publik, dev set default filter untuk role akses operator khusus, prosescabdin penyediaan laporan set nilai siswa, dev penolakan untuk ajuan sma smk jalur afirmasi yang belum diverifikasi, dev footer situs publik daerah online, devfrontend disable untuk pilihan insi dan , peta tidak muncul pada verfikasi sd zonasi, dev disable to edit untuk asal sekolah lulusan pada jalur prestasi bagi siswa dalam database, dev frontend menambahkan ketentuan override nilai rapor yang muncul sesuai asal sekolah lulusan yang dipilih di jalur prestasi, dev backend menambahkan ketentuan override nilai rapor yang muncul sesuai asal sekolah lulusan yang dipilih di jalur prestasi, dev ganti label tanggal kedatangan siswa dimodul set nilai siswa, dev membatalkan override menghilangkan isian nilai pendataan selain pelajaran ujian akhir di jalur sman 10, perubahan url situs online sma smk , dev modul set nilai nilainya terdisabled, dev set nilai default untuk nlain20 26 juni 2022, set status anak guru di jenjang smasmk, tambah atribut keterangan dukcapil pada modul set nilai siswa, dev tambah atribut keterangan dukcapil pada modul set nilai siswa, dev kemunculan dokumen mengikuti atribut yang dipilih pada jalur sertifikat prestasi jenjang sma dan smk, proses pengecekan lokasi daftar sma dan smk pada admin tools, dev menghilangkan isian nilai pendataan selain pelajaran ujian akhir pada 3 jalur sma, dev backend override akumulasi nilai rerata rapor 10 mapel selama 5 semester untuk sma dan smk tahun , dev tambahan nilai 100 pada pilihan pertama pada sma prestasi sma zonasi tahap 2 dan smk reguler, devpengecekan syarat pendaftaran sma dan smk , dev override nilai rapor untuk sma dan smk tahun , dev tambahan nilai 100 pada pilihan pertama tidak berlaku saat pindah jenjang, dev menghapus override nilai rapor untuk sma dan smk tahun , dev hilangkan tab biodata info dan nilai pada modul set nilai siswa, dev kode google analytics untuk upaten , dev override redaksi keterangan set nilai siswa cabdin , google maps di situs publik , dev generate kode google api untuk upaten , dev buka akses koreksi nilai rapor untuk siswa pendataan, dev label pada situs publik untuk jalur zonasi pada sma dan smk, dev label pada situs publik jalur perpindahan tugas orang tua sma dan smk, header di situs operator yang untuk tombol logout tiba2 hilang , dev tambah tabel untuk menyimpan informasi mfa siswa, frontend hide nilai aspd, munculkan semua jalur pendaftaran pada situs publik ppbd , dev header di situs operator yang untuk tombol logout tiba2 hilang , dev tambah parameter untuk menampilkan nilai dan handle nilai yang dikirim, proses pengecekan data pada bi belum sesuai dengan situs operator, dev sekolah yang sudah dipilih tidak boleh dipilih kem untuk jalur prestasi, devupdate acuan tanggal usia kk pada pop up notifikasi informasi kk kurang dari 1 tahun, dev ubah theme warna situs publik sma dan smk, dev menghilangkan tombol cari pada situs publik, dev menambahkan key pilihan pada response validate, dev override label waktu pemberian titik maps di situs publik jalur zonasi, perubahan cdn pada situs publik, bast online bandar smk ta , bard online bandar smk ta , baut online bandar smk ta , ganti dokumen unduh brosur pada situs daerah non pelanggan, dev ganti dokumen unduh brosur pada situs daerah non pelanggan, penambahan opsi rw siswa pada pengaturan kapasitas,\n",
      "\n",
      "Cluster 11 subject: dev buka blokir nik siswa yang sudah diterima sekolah ke 6, proses blokir dan buka blokir nik bina lingkungan ke 6, buka blokir nik siswa yang sudah diterima sekolah ke 5, batal blokir nik siswa bl ke 2, buka blokir nik siswa yang sudah diterima sekolah, blokir nik siswa yang sudah diterima sekolah, buka blokir nik, dev buka blokir nik siswa yang sudah diterima sekolah ke 4, dev buka blokir nik siswa yang sudah diterima sekolah ke 3, dev buka blokir nik siswa yang sudah diterima sekolah ke 2, dev buka blokir nik siswa yang sudah diterima sekolah, proses blokir dan buka blokir nik bina lingkungan ke 5, proses blokir dan buka blokir nik bina lingkungan ke 4, proses blokir dan buka blokir nik bina lingkungan ke 3, proses batal blokir nik siswa bl ke 2, nik yang sudah mengajukan akun, blokir siswa yang sudah diterima sekolah, proses migrasi data blokir nik bina lingkungan ke 2, proses batal blokir nik siswa bl, proses blokir nik bina lingkungan ,\n",
      "\n",
      "Cluster 12 subject: migrasi data kelurahan dari demo ke real, pilihan ke3 diluar rjs sekolah berhasil mendaftar ,  pembatasan pilihan sekolah hanya pada npsn ortu bertugas, dev pilihan ke3 diluar rjs sekolah berhasil mendaftar , dev ada pilihan sekolah tidak muncul pada pendaftaran sma prestasi siswa sipenda, penambahan aksses password untuk situs demo, dev anak guru bisa mendaftar di sekolah bukan tempat ortu bekerja, password situs demo ,  sinkron master kelurahan kecamatan dan data rayon ke riil, proses sinkron master kelurahan dari demo ke riil, proses migrasi sekolah asal untuk jenjang smp, override terkait akreditas sekolah asal saat pengajuan pendaftaran smk semua jalur, dev terkait akreditas sekolah asal saat pengajuan pendaftaran smk semua jalur,  aktifkan kem serta penyesuaian aturan pemilihan sekolah,  req penambahan kondisi aturan pemilihan sekolah, dev req penambahan kondisi aturan pemilihan sekolah,  proses sinkron master kelurahan kecamatan dan data rayon ke riil, dev backend pembatasan pilihan sekolah hanya pada npsn ortu bertugas, update sekolah peserta zona riil, dev akun operator sekolah masih bisa edit nilai disabilitas dan hubungan keluarga, penambahan popup notifikasi jika memilih sekolah kurang dari 3 pilihan, gagal melanjutkan proses pendaftaran utk 1 pilihan sekolah di jalur prestasi akademik non akademik, me nonaktifkan override batasan pilihan sekolah jalur pto, override batasan pilihan sekolah, override batasan pilihan sekolah utk jalur prestasi, batasan pilihan sekolah jenjang sma, override pengecualian batasan pilihan sekolah, migrasi data sekolah peserta dari demo ke real, pengecekan kompetensi dan daya tampung sekolah tidak update, override perubahan redaksi informasi pilihan sekolah jenjang sma,  label pilihan sekolah 1 dan 2 pada tampilan situs publik error,  cek data sekolah dan jadwal ,  cek data sekolah jadwal , penambahan label rjs saat memilih sekolah pada jalur zonasi, titik koordinat sekolah tidak update, pilihan sekolah diurutkan dari yang jaraknya paling dekat pada form ajuan, hapus semua pendaftaran siswa semua jenjang di zona demo, hapus semua pendaftaran siswa semua jenjang di zona demo, kendala koreksi sekolah peserta di operator demo, menghapus nik peserta, merubah nik peserta, update lokasi sekolah peserta smp, migrasi data akreditasi sekolah asal , mematikan override verifikasi dokumen prestasi oleh sekolah pilihan pertama, peta dan tikor tidak tampil di menu koreksi sekolah, gagal login operator sekolah, password situs demo , siswa pendataan jalur prestasi dengan jenis asal sekolah lulusan tidak bisa lanjut ke step berikutnya, override pilihan sekolah kedua dan seterusnya tidak boleh lintas zona sesuai zona sekolah pilihan pertama, penambahan aksses password untuk situs demo, penambahan aksses password untuk situs demo, penambahan aksses password untuk situs demo, asal sekolah tidak muncul di situs publik, migrasi beberapa peserta prapendaftaran ke zona demo, munculkan label prioritas zonasi pada listing sekolah pilihan, data kejuaraan belum muncul pada dasbor siswa dan keterangan operator sekolah tidak sesuai, sinkron master dukuh di upaten purworejo jateng dari demo ke riil, sinkron master dukuh di zona demo dan riil , npsn sekolah mtss ahmad dahlan di sistem tidak sesuai, reset data dymmy zona demo pendaftaran tahun , hilangkan informasi data nilai akreditasi asal sekolah, override aturan pemilihan sekolah , override aturan pemilihan sekolah, setting siswa anak guru atau tenaga kependidikan hanya muncul pilihan sekolah sesuai npsn yg diinputkan, proses sinkron data kelurahan dari demo ke real, proses sinkron master kelurahan cabdin , proses update sekolah peserta zona riil, dev backend data kejuaraan belum muncul pada dasbor siswa dan keterangan operator sekolah tidak sesuai, dev backend data kejuaraan belum muncul pada dasbor siswa dan keterangan operator sekolah tidak sesuai, proses sinkron sekolah peserta dari zona demo ke zona real, dev penambahan popup notifikasi jika memilih sekolah kurang dari 3 pilihan, dev pengecekan kompetensi dan daya tampung sekolah tidak update, proses sinkronisasi sekolah peserta jenjang sd update alamat sekolah, proses sinkron sekolah peserta, proses sinkron master dukuh di zona demo dan riil, dev gagal melanjutkan proses pendaftaran utk 1 pilihan sekolah di jalur prestasi akademik non akademik, dev menonaktifkan override batasan pilihan sekolah jalur pto, dev titik koordinat sekolah tidak update,  penyesuain labelredaksi pada tahap pilih sekolah, dev penyesuain labelredaksi pada tahap pilih sekolah, dev penambahan info label rjs saat memilih sekolah pada jalur zonasi, proses migrasi sekolah asal seinsi kalimantan timur utk , dev label pilihan sekolah 1 dan 2 pada peta tidak sesuai, dev frontend titik koordinat peta pilihan sekolah tidak muncul pada bukti cetak, npsn sekolah mtss ahmad dahlan di sistem tidak sesuai, dev sekolah pilihan 2 tidak bisa verval pendaftaran karena ada pendaftar di sekolah pilihan 1 belum di verval, proses sinkron sekolah peserta demo ke real, devfrontend perubahan redaksi informasi pilihan sekolah jenjang sma, proses reset semua pendaftaran siswa semua jenjang di zona demo, dev pilihan sekolah diurutkan dari yang jaraknya paling dekat pada form ajuan, dev batasi sekolah pilihan by system hanya radius 5km kebawah,  req resetclear data pendaftaran demo , dev aktifkan kem serta penyesuaian aturan pemilihan sekolah, dev override jumlah pilihan sekolah , proses reset data pendaftaran demo, dev menambahkan validasi saat tidak terdapat sekolah pilihan dari siswa, dev mereset rombel daya tampung sekolah, dev batasan pilihan sekolah, dev buka batasan pilihan sekolah jika sudah tidak diterima, merubah nik peserta, reset data dymmy zona demo pendaftaran tahun ,  ganti redaksional pada notifikasi pengajuan akun siswa sekolah asal luar , proses menghapus nik peserta, dev kendala koreksi sekolah peserta di operator demo, deploy sekolah peserta dari demo ke riil, hapus semua pendaftaran siswa semua jenjang di zona demo, proses sinkron lokasi sekolah peserta smp, dev hilangkan informasi data nilai akreditasi asal sekolah, frontend batasan pilihan sekolah jenjang sma, backend batasan pilihan sekolah jenjang sma, dev ganti redaksional notifikasi pengajuan akun siswa sekolah asal luar , dev pembatasan verval diberlakukan per sekolah per jalur, dev batasan pilihan sekolah siswa sesuai batas maksimal sekolah, migrasi data akreditasi sekolah asal , obl jenjang smp 9 sekolah, dev urutkan sekolah pada daftar sekolah pilihan dari jarak terdekat ke terjauh, implementasi aturan pemilihan sekolah , obl insi tahap 1 40 sekolah, batasi pilihan sekolah anak gtk,\n",
      "\n",
      "Cluster 13 subject: proses data migrasi susulan 4, migrasi data susulan 1, migrasi peserta cat susulan ke 2, proses migrasi data susulan 3, migrasi data dnt susulan 2, proses migrasi peserta cat susulan ke 2, proses normalisasi data ajuan siswa dnt, proses migrasi data susulan, proses migrasi data susulan 2, migrasi peserta cat susulan, proses migrasi peserta cat susulan, proses migrasi data susulan 2, migrasi data dnt susulan ke 1, proses migrasi data dnt susulan 1, proses migrasi data susulan, migrasi data dnt susulan ke 1, proses migrasi data susulan,  proses migrasi data dnt , proses migrasi tambah data baru dan update data anak gtk susulan 3, migrasi data susulan nilai prestasi, data susulan siswa ke 4, migrasi master data siswa susulan 3, migrasi master data siswa susulan 4, migrasi master data siswa susulan 1, migrasi master data siswa susulan 2, data susulan siswa ke 1, data susulan siswa ke 2,  data dnt demo, migrasi data siswa miskin dtks susulan 2, migrasi status data siswa anak panti asuhan susulan 2, migrasi data dnt revisi 2, migrasi data dnt , migrasi data dnt revisi, migrasi data dnt , migrasi data siswa miskin dtks susulan 1, migrasi tambah data dan hapus data anak gtk susulan 1, migrasi dan hapus status data siswa anak panti asuhan susulan 1, migrasi data dnt , migrasi tambah data baru dan update data anak gtk susulan 2, proses migrasi data susulan siswa ke 4, proses migrasi status data siswa anak panti asuhan susulan 2, migrasi data siswa miskin dtks susulan 2, proses migrasi data susulan siswa ke 3, proses migrasi data susulan siswa ke 2, proses migrasi data susulan siswa ke 1,  migrasi dnt , proses migrasi data dnt revisi 2, migrasi master data siswa susulan 7, migrasi master data siswa susulan 6, proses migrasi data dnt ,  proses migrasi dnt , migrasi master data siswa susulan 5,  cek dan migrasi ulang data dnt belum termigrasi,  proses cek dan migrasi ulang data dnt belum termigrasi, migrasi master data siswa susulan 3, migrasi master data siswa susulan 4, proses migrasi data dnt revisi, migrasi master data siswa susulan 2, proses migrasi data dnt , migrasi master data siswa susulan 1, migrasi data siswa miskin dtks susulan 1, migrasi tambah data dan hapus data anak gtk susulan 1, migrasi dan hapus status data siswa anak panti asuhan susulan 1,  proses migrasi data dnt calon peserta didik,  proses update dan migrasi data dnt nilai siswa tambahan,  migrasi data dnt ,  proses migrasi data dnt , migrasi data dnt ,  data dnt demo,\n",
      "\n",
      "Cluster 14 subject:  data siswa ,  data siswa perbaikan 1,  data nilai prestasi , migrasi data master siswa,  req update data domisili siswa berdasarkan data dukcapil terupdate, normalisasi data ajuan siswa dnt, dev req update data domisili siswa berdasarkan data dukcapil terupdate, migrasi data sidanira update 1,  migrasi data siswa tambahan, proses normalisasi data siswa luar yang dimigrasi, migrasi data cat, migrasi data siswa blokir, migrasi master data siswa 6, migrasi master data siswa 5, dev normalisasi data siswa, migrasi master data siswa 5, migrasi master data siswa 4, migrasi master data siswa 3, migrasi master data siswa 2, migrasi master data siswa, migrasi master data siswa, migrasi data siswa, migrasi data siswa,  migrasi data siswa, migrasi data siswa,  migrasi data siswa , migrasi data sidanira , merubah nik data sidanira ke 2, merubah nik data sidanira, migrasi data sidanira ,  reset data siswa demo , normalisasi data ajuan siswa , penyediaan data siswa diterima, merubah nik data sidanira ke 3, migrasi data sidanira ke zona demo,  migrasi data dukcapil dan data calon siswa smp,  migrasi siswa dalam , migrasi tambahan data siswa calon peserta smp 12 juni , migrasi tambahan data siswa calon peserta smp,  migrasi data calon siswa smp luar , migrasi data nilai aspd ,  migrasi data dukcapil calon siswa sd,  migrasi data peserta bibit unggul,  migrasi data kms afirmasi , migrasi data siswa rev 2, tambah atribut data pada fitur koreksi data induk siswa,  data siswa , tambahkan informasi data siswa pada dasbor siswa,  migrasi ulang data siswa , migrasi ulang data dapodik siswa , migrasi data siswa miskin dtks , migrasi data siswa anak pondok pesantren , migrasi data dapodik siswa jateng , migrasi data anak gtkptk , migrasi data siswa anak panti asuhan ,  migrasi data siswa ,  reset data dummy siswa , reset data pendaftaran siswa dummy , fitur pencarian data siswa upaten , proses backup data siswa, proses migrasi data siswa sipenda disdik kalteng,  data siswa tambahan,  req fitur ubah data pada koreksi data induk,  data nilai siswa perbaikan1, dev frontend tambah atribut data pada fitur koreksi data induk siswa, dev backend tambah atribut data pada fitur koreksi data induk siswa,  data siswa , prosedur migrasi data siswa blokir, migrasi data afirmasi sd ,  data siswa ,  data nilai siswa ,  data nilai siswa ,  data siswa , proses migrasi tambahan data siswa calon peserta smp 12 juni , proses reset data pengajuan pendaftaran dan data verifikasi, dev hapus data ajuan siswa data, migrasi lookup ,  migrasi data siswa ,  update dan migrasi data dnt nilai siswa tambahan, migrasi master data siswa,  proses migrasi data calon siswa smp luar , proses migrasi tambahan data siswa calon peserta smp,  migrasi data nilai siswa , migrasi ulang data dapodik siswa , proses merubah nik data sidanira ke 4, migrasi data lookup siswa anak pondok pesantren , proses merubah nik data sidanira, migrasi data ke tabel lookup, proses migrasi data ke tabel lookup, migrasi data siswa, migrasi data lookup siswa afirmasi, proses migrasi data lookup siswa afirmasi,  migrasi data siswa , migrasi data siswa anak pondok pesantren , migrasi data anak gtkptk , proses merubah nik data sidanira, migrasi data siswa anak panti asuhan , proses migrasi data dapodik siswa jateng , migrasi data siswa miskin dtks ,  reset data dummy ,  proses migrasi data dukcapil dan data calon siswa smp,  proses migrasi data dukcapil calon siswa sd,  proses migrasi data peserta bibit unggul, proses reset data dummy siswa , migrasi ulang data pokok siswa riil , migrasi data sidanira update 1, reset data pendaftaran siswa dummy , migrasi data sidanira ,  migrasi data siswa ,  migrasi data nilai siswa ,\n",
      "\n",
      "Cluster 15 subject: st koreksi alur,  penambahan gambar banner, mengganti gambar banner, st alur , st pengecekan ssl custom domain , st merekayasa banner , st custom domain goid dari , st cek kesesuaian ssl untuk domain , st upgrade spek 10232245, st banner situs publik online kalteng , mangganti background banner, st ganti foto banner , pasang gambar alur, update banner 2, pengecekan ssl custom domain , banner situs publik online , banner baru online , pemasangan url pada tombol berkas alur gambar, perubahan gambar alur pelaksanaan sd dan smp di situs publik,  penambahan gambar alur model b, banner implementasi banner , banner menambahkan logo hut pada banner situs publik, banner menambahkan logo majapahit dan bertumbuh berkembang berdampak, merubah gambar pada menu alur, merubah gambar alur update 1, perbaikan gambar alur jalur bibit unggul , penyesuaian gambar alur pendaftaran online yogya smp jalur perpindahan tugas, st password situs demo , st password untuk akses situs publik demo, st infrastruktur subdomain untuk production , st mengganti user vpn pusdatikomdik, st perbaikan gambar alur jalur bibit unggul , st update banner , st mangganti background banner , st alur , st banner revisi typo, st alur , dev frontend pemasangan url pada tombol berkas alur gambar, st pemasangan banner , st revisi banner pak gub, gambar alur di situs publik, st pengecekan ssl custom domain , st banner , st uix alur b, mengganti photo pejabat pada banner situs publik, st penambahan gambar banner, st up situs kalimantan timur cabdin , uixpenyesuaian gambar alur pendaftaran online yogya smp jalur perpindahan tugas, st penambahan gambar alur model b, st custom domain , pasang banner tkdn online di portal, dev pasang banner tkdn online di portal, st pemasangan banner nilai tkdn portal produk , st penambahan storage 10212226, st upscale vm tool migrasi 10212153, st penambahan storage 10212108, st ssl domain siapcom,\n",
      "\n",
      "Cluster 16 subject: setup interkoneksi ke api dukcapil, setup aplikasi pasca deploy riil, setup bi wilayah banjarmasin, setup bi wilayah , setup bi wilayah , dla setup bi , setup bi wilayah , setup bi wilayah , setup bi wilayah cabdin , setup bi , setup vm database zona , setup bi dki , st setup interkoneksi ke api dukcapil, setup bi , dla setup bi , setup bi , setup database master nusantara, setup database slave nusantara, setup database master dki, setup database slave dki, setup koneksi tools , setup monitoring database, setup bi tahun , setup koneksi database dbbackupsiapid, setup database slave all di aws, setup database slave all di oci, setup cdc database production dan demo,\n",
      "\n",
      "Cluster 17 subject:  visite insi ,  visite insi demo aplikasi tahap 2,  visite insi demo aplikasi, dev membatalkan lapor diri peserta, tidak bisa mendaftar karena titik koordinat hilang , menyalakan kem engine seleksi, dev tidak bisa mendaftar karena titik koordinat hilang ,  kolom n gabungan tidak terupdate,  siswa tidak bisa lanjut pendaftaran karena peta error,  bantuan unggah master dukuh, dev pengecekan peserta gagal login, perbaikan nilai akhir siswa yang terdampak tiket 21368, paspor siap online kendala akun siap password kereset, st req pembuatan posterbanner pena berkah kalteng, dev jumlah diterima melebihi kapasitas total daya tampung, siswa bisa mendaftar walaupun sudah di terima, dev siswa bisa mendaftar walaupun sudah di terima, dev tambahkan akses ke admin tool untuk akun rizkyferoarneugmailcom, terdapat perbedaan jarak antara di situs publik dan web operator, pengecekan jumlah rombel pada situs operator berbeda dengan admin tools, membuatkan akun bi untuk dinas dki , upgrade spek 10232245,  req pembatasan batal verifikasi,  situs freeze setelah user siswa login,  req admin dinas bisa batal verval atau batal tolak tanpa batal pickup,  req akses untuk melihat data ajuan siswa yg sudah dipickup oleh user lain,  pic terima data dari dinas pelanggan,  verifikasi data pendukung , dev pastikan value telah dipilih, proses siswa luar termigrasi sebagai siswa dalam upaten , validasi data pelanggan kalteng , pengecekan nisn bisa mendaftar lebih dari 1 kali padahal tidak ditolak, dev tambahkan akses ke admin tool untuk akun mrifaisiaponlinecom, konfirmasi daerah 2 di tr ii, dev daftar admin sistem yang dapat akses ke admin tool , perubahan angka rjs sdn 23 barat,  upsitus publik, ubah besar cache sequence menjadi 10 tanpa mengubah lastval, proses ubah besar cache sequence menjadi 10 tanpa mengubah lastval,  situs tidak bisa diakses,  req set batas umur piagam prestasi menggunakan rentang tanggal, migrasi tautan berkas dari sipenda ke konfigurasi , pengecekan siswa terdampak karena perubahan zonasi bersama, validasi data terunggah pada kelola data admin tools, ubah besar cache sequence menjadi 10 tanpa mengubah lastval, penerimaan data dari disdik kalteng, verifikasi data dari disdik kalteng, pengolahan data ke kelola data admin tools, proses ubah besar cache sequence menjadi 10 tanpa mengubah lastval, dev perubahan angka rjs sdn 23 barat, siswa sudah melakukan pendaftaran namun datanya tidak ditemukan, inisialisasi juknis online jateng , dev buka batasan nomor daftar 15 digit, kendala siswa yang tertolak ajuannya titik koordinat masih sama, dev isian nilai pendataan siswa luar database terkunci sehingga tidak bisa diisi,  gagal save setting berkas unggahan, gagal daftar karena pembatasan verval harian, melepas batasan periode batal verval, pilihan keikutsertaan program keluarga tidak mampu dan abk otamatis terisi padahal tidak dipilih, override siswa afirmasi dapat mendaftar meski tidak memiliki kartu,  titik koordinat siswa tidak valid,  siswa luar daerah tidak bisa ajukan pendaftaran,  input data siswa pendataan tidak berhasil,  update data siswa dg informasi lokasi ortu bertugas,  req ip whitelisting untuk keperluan integrasi api dukcapil , kendala siswa bisa diverifikasi 2 kali,  cek hasil konfig , header update header situs publik, mengaktifkan kem bot jadwal di telegram group jagr siap online, eos tambah akses ke admin tools sebagai eos konfigurator batch 2, situs operator gagal diakses, eos tambah akses ke admin tools sebagai eos konfigurator dan blokir akses eos , kebutuhan teknis yang belum bisa diakomodir secara default, nomor kartu keluarga 16 digit dan awalan angka 6271xxxxxxxxxxxx, perubahan redaksional jumlah nilai rerata, admin tools tidak bisa akses jadwal situs di zona demo, implementasi api dukcapil , mengganti user vpn pusdatikomdik, create akun dan generate token, cpdb tidak bisa aktivasi, data operator madrasah dki tahun , gagal memilih koordinat saat daftar, pembatasan periode verifikasi oleh operator, tidak bisa menyimpan konfigurasi admin tools, operator sudah ditambahkan namun saat login tidak memiliki akses,  admin dinas tidak bisa batal verval atau batal tolak ,  tidak bisa input surat keterangan bebas buta warna dan hubungan keluarga saat koreksi data induk , tidak mendapatkan email dari paspor untuk aktivasi dan buat password, kendala siswa pengajuan lebih dari 1 jalur sudah berhasil tapi tidak ada datanya pada saat akan diverifkasi, konfirmasi bisnis pelaksanaan , presensi pelatihan dokumentasi presensi, undangan sosialisasi , dokumentasi undangan pelatihan pelatihan , foto dokumentasi pelatihan operator , delivery screenshoot bukti delivery layanan , eos usulan tambah eos khusus editor, foto dan presensi sosialisasi atau pelatihan operator , foto sosialisasi atau pelatihan operator , interkoneksi adminduk via pusdatikomdik ,  migrasi siswa berkebutuhan khusus abk, perbaikan nisn siswa, update nilai aspd siswa yogya karta,  melengkapi isian data dukcapil , kolom kapasitas cad keluarga ekonomi tidak mampu dijalur sma afirmasi tidak muncul, data zonasi hasil unggah ada selisih saat diunduh kem, validasi kolom no telepon berawalan 08 dan max 14 gigit, rekap verifikasi operator dukcapil , hide notifikasi peringatan anak guru, usia piagam belum terbaca sesuai dengan tanggal yg diinputkan, tambahkan akses ke bisiapcom jateng, ubah narasi status anak guru, operator yang sudah berhasil ditambahkan menjadi operator online tidak muncul saat di cari di toolssiapid, set fitur ubah password paksa mulai tgl 24 juni jam 0000wib, reset password masal via toolssiapid , buat estetik tampilan unduhan dokumen online di situs jatengdemosiapcom, tarik data daftar operator online zona riil tahun , fitur verval usia domisili kk dukcapil, gagal unggah master dukuh , update rumus perhitungan ratarata nilai rapor, opsi unduhan data uploadan dapodik versi csv, penelusuran penyebab siswa tidak diterima, pencairan honor eos konfigurasi witel rizky feroarneo , unduh format uploader dapodik tidak ada action, update perhitungan umur piagam , update narasi petunjuk pengisian nilai rapor, gagal unggah master dukuh, agregator situs menunggu slot eksekusi, tampilan situs publik demo belum berubah sesuai konfigurasi admin tool,  online surat keterangan pengalaman kerja eos an anis suryansyah, rentang tanggal kk belum muncul sesuai konfigurasi, infra upsitus publik , proses update biodata dan nilai lulusan sd 007 selatan tahun , dev siswa bisa diverifikasi 2 kali, perbaiki format tgl lahir , proses perbaikan nisn siswa yogya yang tertukar, dev pengecekan siswa terdampak karena perubahan zonasi bersama, dev backend req admin dinas bisa batal verval atau batal tolak tanpa batal pickup,  siswa yang sudah ditolak tidak bisa diedit ,  data zonasi tidak terbaca, dev kolom kapasitas cad keluarga ekonomi tidak mampu dijalur sma afirmasi tidak muncul, dev tidak bisa diverifikasi, bast bard online ta , dev pembatalan oleh user level admin,  titik koordinat siswa tidak valid, deploy server , deploy server aplikasi, deploy server cluster jateng aplikasi,  input data siswa pendataan tidak berhasil, update nilai mts negeri , update nilai smpn 6 ,  laporan pelaksanaan pencairan termin 2 eos,  jatenglaporan pelaksanaan pencairan termin 2 eos,  karanganyarlaporan pelaksanaan pencairan termin 2 eos,  tegallaporan pelaksanaan pencairan termin 2 eos, sertifikat eos pendamping daerah, buka project upaten , proses migrasi siswa tidak valid dimigrasi sebelumnya ,  rreq data traceroute server ,  rreq data traceroute server ,  dokumen laporan ,  pengisian atribut via api tapem, dla deploy data , dev nlain12 tidak tersimpan,  proses update data siswa dg informasi lokasi ortu bertugas, topologi infrastruktur yang digunakan di online ,  integrasi api dukcapil , bast baut bard cabang dinas 9 tahun , dokumen skm online cabang dinas 9 tahun , pengajuan kontrak ar untuk witel banyumas witel magelang dan witel pekalongan tahun 2022, obl dokumen sph dan skm obl , proses tambahkan akses ke bisiapcom jateng, upaten timor tengah utara diskusi online upaten timor tengah utara ,  konfigurasi juknis online , insi rapat kastemisasi sistem online ,  undangan dprd persiapan , upaten mengaktifkan daerah baru, sample data pengecekan api response dukcapil , perbaikan fitur reset password masal di toolssiapid, dev tidak bisa melakukan pendataan siswa, dnt update nilai siswa karena kolomnya ke geser, catatan penyediaan data siswa salah pilih zonasi sd, penyediaan data siswa salah pilih zonasi sd, dev set fitur ubah password paksa mulai tgl 24 juni jam 0000wib, dev ubah pesan error nomor peserta sudah digunakan siswa dalam, dnt proses update nilai siswa karena kolomnya ke geser, duplikasi request upstream dari lb dinamis, perubahan url situs online cabdin kutim, st duplikasi request upstream dari lb dinamis,  dokumentasi api tapem, proses update perhitungan nilai peserta , migrasi nilai raport cabdin ,  update biodata siswa tambahan, proses update nilai aspd siswa yogya karta, proses perbaikan nisn siswa,  proses update biodata siswa tambahan,  req tombol ubah nilai atribut surat keterangan buta warna, dev update data nik melalui api push sidanira,  visit koordinasi ,  req tombol ubah nilai atribut surat keterangan buta warna, proses update nilai rapor siswa smp , database proses nisn baru dari hasil pembetulan tidak bisa digunakan untuk pengajuan pendaftaran, dev cpdb tidak bisa aktivasi, dev req set batas umur piagam prestasi menggunakan rentang tanggal, database proses pembetulan nisn sebab terk siswa yang sudah terlanjur ajuan dan sudah dibatalkan ajuannya, transfer honor eos konfigurasi witel rizky feroarneo , proses tarik data daftar operator online zona riil tahun ,  proses melengkapi isian data dukcapil , dev integrasi api dukcapil , deploy aplikasi di server neometaldki,  laporan pelaksanaan pencairan termin 2 eos,  update master dukuh, devmematikan pengecekan nokk siswa prapendaftaran, error 404 situs , gagal unggah master dukuh , visite , visite insi ,  pembahasan juknis , visite , dev up situs kalimantan timur cabdin ,  proses migrasi siswa berkebutuhan khusus abk, perbaiki struktur tabel menghapus comment pada kolom demo , dev penelusuran penyebab siswa tidak diterima, dev proses deploy server cluster jateng, mengarahkan dns record , unduh format uploader dapodik tidak ada action, dev ubah pesan error data dukcapil tidak ditemukan,  parameter nilai lingkungan tidak valid, dev update perhitungan umur piagam , bi tambahkan filter tahun dan wilayah berdasarkan scope, dev update narasi petunjuk pengisian nilai rapor, undangan pembahasan pelaksanaan online , dev sudah ditutup operator demonya tapi masih terbuka, sample data pengecekan api response dukcapil dki , dev implementasi api dukcapil , mengaktifkan kem bot jadwal di telegram group jagr siap online, hapus batasan batal verval, fix gagal akses situs operator, upaten timor tengah utara mengaktifkan daerah baru, upscale vm tool migrasi 10212153, penambahan storage 10212108, mengarahkan semua daerah ke non pelanggan, penambahan storage 10212226, st mengarahkan semua daerah ke non pelanggan, wfm close insi tahap ii ,  tidak bisa koreksi tanggal lahir, dev tambah daerah baru upaten timor tengah utara, dla deploy data , tampilkan nilai tkdn, konfirmasi daerah 1 dan 1 di tr vi, konfirmasi daerah 1 dan 2 di tr v,  siddenreng rappang konfirmasi keikutsertaan online ,  ternate update penawaran konfirmasi online, dokumen kontrak layanan kl online tahun , bast baut bard kaltim cabang dinas , wfm close cabdin kutim , bast kaltim cabang dinas , baut bard kaltim cabang dinas , baut dan bard , bast tahun , wfm close do , baut smp , bast smp , bard smp , bast cabdin , pengiriman lengkap berkas document dinas hard document, wfm close cabdin , baut bard cabdin , bak dki kelompok 17 , bap dki kelompok 17 , bap dki kelompok 2 , bap dki kelompok 5 , bap dki kelompok 4 , bap dki kelompok 18 , bap dki kelompok 19 , bap dki kelompok 13 , bap dki kelompok 12 , bak dki kelompok 12 , bap dki kelompok 11 , bak dki kelompok 11 , bap dki kelompok 6 , bak dki kelompok 6 , bap dki kelompok 14 , bak dki kelompok 14 , bap dki kelompok 15 , bak dki kelompok 15 , bak dki kelompok 10 , bap dki kelompok 16 , bak dki kelompok 16 , bap dki kelompok 8 , bak dki kelompok 8 , bap dki kelompok 1 , bak dki kelompok 1 , bap dki kelompok 3 , bak dki kelompok 3 , bap dki kelompok 7 , bak dki kelompok 7 , permohonan pembuatan skm utara smp, data operator madrasah dki tahun , transfer ca rab rapat pelatihan eos area tr iv jateng ahmad nashruddin, dev tambah akses ke admin tools, deploy api notification, bast ta , lamp bard baut dki kel 8, baut tahun , kontrak layanan dki kelompok 11, lamp bard baut dki kel 9, bap dki kelompok 9 , kontrak layanan dki kl14, lamp bard baut dki kel 10, ubah arsip yogya agar jalur keluar semua, evidence kaltim cabang dinas ,  koordinasi persiapan online dinas pendidikan ,  pembahasan juknis online ,  juknis , tambah akses ke admin tools sebagai eos konfigurator , bado printsign, cleanup data pelaksanaan online , rab rapat pelatihan eos area tr iv jateng ahmad nashruddin, pencairan hr termin 2 eos , override info dari formatter kapasitas jika yang diakses adalah , konfirmasi daerah 3 di tr i,\n",
      "\n",
      "Cluster 18 subject: dev pengecekan dan penyesuaian hasil seleksi jalur reguler, dev backend tolak pilihan insi dan selain dan jalur zonasi dan pto,  req menambahkan kolom info nik pada unduhan laporan hasil seleksi akhir, dev frontend disable pilihan insi dan jalur zonasi dan pto, override batasan ajuan pendaftaran jalur zonasi pto dan prestasi, dev req menambahkan kolom info nik pada unduhan laporan hasil seleksi akhir, check kondisi maps menempel pada jalur bukan pada siswa di jalur zonasi dan jalur perpindahan, dev data siswa beda alamat di jalur zonasi dan perpindahan, proses pembuatan laporan daftar peserta diterima jalur tahap kedua, dev tanggal lahir siswa hilang pada menu hasil seleksi, dev siswa pto saat akan mendaftar jalur pto kena syarat daftar jalur pto, mematikan ovveride jadwal unggah berkas jalur penyandang disabilitas, proses perbaikan siswa hasil migrasi tidak muncul di pencarian sistem, dev hasil unduhan laporan sementara dan laporan hasil akhir jalur prestasi jalur pto dan jalur afirmasi, devsyarat daftar jenjang smk jalur afirmasi tidak berjalan,  ngabungan sma afirmasi tidak susuai antara cetak dan seleksi, scroll bar pada hasil seleksi, dev syarat blokir jenjang smk all jalur tidak berjalan, devbackend simpan alamat yang sebelumnya dikunci pada jalur prestasi, devfrontend buka kuncian pilihan alamat pada jalur prestasi,  hilangkan kolom status afirmasi status disabilitas dan skor prestasi pada jalur pto, migrasi penanda jalur dari pra pendaftaran sipenda disdik kalteng,  hilangkan kolom hubungan keluarga pada jalur prestasi, penyesuaian aturan pendaftaran siswa jalur tahfidz dengan zonasi, override pembatasan pengajuan pendaftaran di jalur prestasi, gagal reset engine jalur prestasi hafiz quran, override ungahan berkas siswa tidak memiliki prestasi dan afirmasi atau abk, override pilihan status afirmasi atau abk syarat daftar jalur afirmasi, override ungahan berkas siswa afirmasi atau abk jalur afirmasi, data peserta tidak muncul pada hasil seleksi, override memunculkan radio button pilihan luar insi jalur afirmasi, unggahan piagam prestasi tidak muncul saat memilih bukan siswa afirmasi dan abk,  penyesuaian kolom input data prestasi di ajuan pendaftaran siswa jalur prestasi,  acuan zonasi siswa hasil penyaluran salah,  validasi data pendaftaran siswa jalur afirmasi,  req override edit status dtks dan anak panti pada jalur afirmasi, data pendaftar data pendaftar siswa jalur prestasi yang diverifikasi lebih dari 1 kali, gagal ijin koreksi pendaftaran jalur zonasi, override nilai akhir siswa jalur bibit unggul menggunakan nujumlah, merubah status peserta dari diskualifikasi pendaftaran menjadi diskualifikasi hasil, reset pendaftaran dan hasil seleksi siswa dummy tahun sebelumnya,  siswa dnt tanpa migrasi nilai tidak bisa diverifikasi saat ajuan pendaftaran jalur prestasi, override ubah ketentuan override di jalur afirmasi terkaid diterima semua, situs operator ubah urutan keikutsertaan program kurang mampu jalur afirmasi, pengecekan pengisian alamat siswa saat pendaftaran jalur pto, pengecekan hasil seleksi pada situs publik belum berjalan, cetak prestasi tidak muncul, override pilihan domisili luardalam tidak ditampilkan di laman pendaftaran jalur afirmasi penyandang disabilitas, syarat daftar jalur zonasi tidak berjalan, set default pilihan jalur zonasi dan jalur prestasi ya, siswa mendaftar di jalur prestasi luar tidak bisa di verifikasi di jalur zonasi, urutan seleksi siswa belum muncul dihasil seleksi, reset pendaftaran dan hasil seleksi siswa dummy tahun sebelumnya, dev frontend hilangkan kolom hubungan keluarga pada jalur prestasi, dev frontend hilangkan kolom status afirmasi status disabilitas dan skor prestasi pada jalur pto, dev override batasan ajuan pendaftaran jalur zonasi pto dan prestasi,  hasil koreksi data induk siswa tidak terupdate, dev data pendaftar siswa jalur prestasi yang diverifikasi lebih dari 1 kali, dev hasil koreksi data induk siswa tidak terupdate, dev scroll bar pada hasil seleksi, dev merubah status peserta dari diskualifikasi pendaftaran menjadi diskualifikasi hasil, dev penyesuaian aturan pendaftaran jalur tahfiz dan zonasi, dev backend ungahan berkas siswa tidak memiliki prestasi dan afirmasi atau abk, dev backend validasi saat pengajuan pendaftaran jalur prestasi bagi siswa pendataan, dev batasan pengajuan pendaftaran di jalur prestasi, dev penyesuaian override pilihan status afirmasi atau abk syarat daftar jalur afirmasi, dev data afirmasi sd , dev merubah label alamat pada jalur pto, dev status verifikasi di jalur zonasi dan jalur perpindahan, prosespengecekan data ajuan di sma dan smk jalur prestasi , dev backend penyesuaian override jalur afirmasi dengan melepas validasi nik pkh, dev backend ungahan berkas siswa afirmasi atau abk jalur afirmasi, dev frontend ungahan berkas siswa afirmasi atau abk jalur afirmasi, dev frontend pilihan status afirmasi atau abk syarat daftar jalur afirmasi, dev backend pilihan status afirmasi atau abk syarat daftar jalur afirmasi, dev backend syarat daftar jalur zonasi tidak berjalan, dev set default pilihan jalur zonasi dan jalur prestasi ya,  nilai literasi membaca tidak valid jalur pto, dev backend validasi data pendaftaran siswa jalur afirmasi, dev status verifikasi di jalur prestasi dan jalur afirmasi,  aspd tidak muncul pada jalur prestasi,  aspd tidak muncul pada jalur prestasi, dev gagal ijin koreksi pendaftaran jalur zonasi, frontend hide nilai aspd jalur non prestasi, backend hilangkan validasi nilai aspd jalur non prestasi, dev tidak ditemukan jalur didatabase, backendunggahan piagam prestasi tidak muncul saat memilih bukan siswa afirmasi dan abk, dev tampilan daya tampung di hasil seleksi belum sesuai, dev kemkan pilihan pilihan luar insi untuk jalur afirmasi, dev siswa bisa mengajukan pendaftaran di jalur zonasi jika tidak lapor diri, database migrasi data siswa lulusan dan generate token guna ajuan di jalur zonasi, dev hapus informasi nilai akhir pada jalur prestasi dan jalur perpindahan, dev data peserta tidak muncul pada hasil seleksi, dev disable validasi jadwal unggah berkas jalur penyandang disabilitas, cek komplain nilai radius tidak muncul pada hasil seleksi, dev pilihan domisili luardalam tidak ditampilkan di laman pendaftaran jalur afirmasi penyandang disabilitas, reset pendaftaran dan hasil seleksi siswa dummy tahun sebelumnya, reset pendaftaran dan hasil seleksi siswa dummy tahun sebelumnya, override engine seleksi ,\n",
      "\n",
      "Cluster 19 subject: override perubahan redaksi pendaftaran siswa database, database proses migrasi database tambahan batch 2, dev perubahan redaksi pendaftaran siswa database, menambah storage pada vm database slave, st menambah storage pada vm database slave, dev perubahan redaksi pendaftaran siswa database, penambahan space database 0619, database proses migrasi data siswa batch 3, database update master dukuh ke production, database proses pengecekan lulusan sd, database proses migrasi tambahan batch 2, upgrade kapasitas database zona nusantara, database proses tambahan migrasi, tambah kapasitas hdd pada server database 0620, st tambah kapasitas hdd pada server database 0620, override perubahan redaksi pendaftaran siswa database, database migrasi database siswa lulusan sdmi batch 3, database perbaikan nisn batch 2, database migrasi database siswa calon pendaftaran batch 4, database proses migrasi database siswa lulusan sdmi sederajat , deploy server database, database proses perbaikan data nilai calon pendaftar , tambah kapasitas hdd pada server database 10212119, st tambah kapasitas hdd pada server database 10212119, database migrasi database calon siswa pendaftar, database proses migrasi batch 5, upgrade kapasitas database , database proses migrasi jenis asal sekolah lulusan pendaftar, st upgrade kapasitas database , database proses migrasi database siswa calon pendaftar jalur prestasi, database proses migrasi akreditasi asal sekolah sdmi , database proses migrasi nilai hasil pendataan prestasi dinas pendidikan , database proses migrasi data siswa pendaftar , perbaikan nama siswa dalam database, scale up vm database master dki, database migrasi database batch 5, proses ulang migrasi batch 4, database migrasi database batch 4, database proses migrasi batch 3 dan batch 4, database proses ketidaksesuaian migrasi database di bagian sekolah asal pendaftar, database update database, database proses pembetulan nisn sebab terk, penyesuaian database demo dan riil, proses penyesuaian database demo dan riil,  reset database siswa demo, database proses migrasi data pendaftar karena awalnya dianggap tanggal lahir tidak valid, database proses migrasi database calon pendaftar , database migrasi data siswa calon pendaftar batch 4, penyediaan user database readonly demo dan real, database migrasi data calon pendaftar batch 2, penyediaan user database readonly demo dan real, database migrasi data siswa calon pendaftar batch 3, database migrasi data calon pendaftar batch 2, database migrasi data siswa calon pendaftar , database migrasi database siswa lulusan sdmi sederajat batch 2, proses migrasi database siswa lulusan sdmi batch 3, database reset data pengajuan pendaftaran di situs demo, database migrasi lulusan batch 2, proses reset database siswa demo, database migrasi database siswa lulusan sdmi sederajat , up scale database zona 1 dan dki 11 mei , up scale database zona 1 dan dki 11 mei , database migrasi database siswa lulusan sdmi , database migrasi data siswa yang awalnya tidak dimigrasi pasca diperbaiki, penyediaan vm oci untuk database slave all wilayah, sinkronisasi struktur database penambahan alamat daftar, sinkronisasi struktur database penambahan alamat daftar, restorasi database psbdbpublik dengan backup 9 mei , st penyediaan vm oci untuk database slave all wilayah,\n",
      "\n",
      "\n",
      "\n"
     ]
    }
   ],
   "source": [
    "from __future__ import print_function\n",
    "\n",
    "print(\"Anggota per cluster:\")\n",
    "print()\n",
    "#sort cluster centers by proximity to centroid\n",
    "order_centroids = km.cluster_centers_.argsort()[:, ::-1] \n",
    "\n",
    "for i in range(num_clusters):\n",
    "    #UNTUK MENAMPILKAN TOPIC (MASIH ERROR)\n",
    "    #print(f\"Cluster {i} topic:\", end='') \n",
    "    #for ind in order_centroids[i, :4]:  # Replace 6 with n_words_per_cluster\n",
    "        #word = terms[ind].split(' ')\n",
    "        #if word[0] in vocab_frame.index:\n",
    "            #print(f\" {vocab_frame.loc[word[0]].values.tolist()[0][0].encode('utf-8', 'ignore').decode('utf-8')},\", end='')\n",
    "    #print()  # Add whitespace\n",
    "    #print()  # Add whitespace\n",
    "\n",
    "    print(f\"Cluster {i} subject:\", end='')\n",
    "    if i in data_hsl.index:\n",
    "        for title in data_hsl.loc[i]['subject_p'].values.tolist():\n",
    "            print(f\" {title},\", end='')\n",
    "    print()  # Add whitespace\n",
    "    print()  # Add whitespace\n",
    "    \n",
    "print()\n",
    "print()"
   ]
  },
  {
   "cell_type": "markdown",
   "id": "7ed855b8-87b1-4ef7-97ee-1cce1c9e9c42",
   "metadata": {},
   "source": [
    "# Data tiap Cluster"
   ]
  },
  {
   "cell_type": "code",
   "execution_count": 95,
   "id": "7606d73f-3f5d-412b-b57b-d5d9245ef5ed",
   "metadata": {},
   "outputs": [
    {
     "data": {
      "text/plain": [
       "0         menghapus waktu pendaftaran pada detil siswa\n",
       "0     dev menghapus waktu pendaftaran pada detil siswa\n",
       "0    devtampilan maps pada halaman konfirmasi penga...\n",
       "0    sembunyikan informasi akreditasi sekolah asal ...\n",
       "0    dev penutupan halaman detil siswa 483103232207...\n",
       "0    dev menampilkan halaman konfirmasicek ulang pa...\n",
       "0    dev backend aggregator konten halaman data zon...\n",
       "0    dev frontend halaman data zonasi sekolah di si...\n",
       "0    dev tampilkan info pada halaman verifikasi dan...\n",
       "0    dev muncul notifikasi halaman ini belum dapat ...\n",
       "0    dev sembunyikan informasi akreditasi sekolah a...\n",
       "0    dev ubah tampilkan info status verifikasi di d...\n",
       "0    dev frontend menampilkan halaman memasukkan to...\n",
       "0               refresh portal halaman tidak ditemukan\n",
       "0                          pencarian detil arsip error\n",
       "0               refresh portal halaman tidak ditemukan\n",
       "Name: subject_p, dtype: object"
      ]
     },
     "execution_count": 95,
     "metadata": {},
     "output_type": "execute_result"
    }
   ],
   "source": [
    "cluster0 = data_hsl[data_hsl['cluster'] == 0]\n",
    "data_cls0 = cluster0['subject_p']\n",
    "data_cls0"
   ]
  },
  {
   "cell_type": "code",
   "execution_count": 110,
   "id": "a3d5a75d-3f7e-4e07-a685-b26d15162fe6",
   "metadata": {},
   "outputs": [
    {
     "name": "stdout",
     "output_type": "stream",
     "text": [
      "The history saving thread hit an unexpected error (OperationalError('attempt to write a readonly database')).History will not be written to the database.\n"
     ]
    },
    {
     "data": {
      "text/plain": [
       "1                              proses deploy data\n",
       "1           migrasi data lulusan asal sekolah sd \n",
       "1                proses migrasi data master siswa\n",
       "1    proses migrasi data siswa lulusan sd dan mi \n",
       "1       proses migrasi data siswa lulusan suumi 2\n",
       "                         ...                     \n",
       "1                 deploy production data lulusan \n",
       "1           proses migrasi data siswa lulusan sd \n",
       "1                            deploy data lulusan \n",
       "1      database migrasi data siswa proses migrasi\n",
       "1                                  proses migrasi\n",
       "Name: subject_p, Length: 91, dtype: object"
      ]
     },
     "execution_count": 110,
     "metadata": {},
     "output_type": "execute_result"
    }
   ],
   "source": [
    "#cluster1 = data_hsl[data_hsl['cluster'] == 1]\n",
    "data_cls1 = data_hsl[data_hsl['cluster'] == 1]['subject_p']\n",
    "data_cls1"
   ]
  },
  {
   "cell_type": "code",
   "execution_count": 71,
   "id": "9f20638b-ff95-4e71-b3a8-57185c49a18a",
   "metadata": {},
   "outputs": [],
   "source": [
    "cluster2 = data_hsl[data_hsl['cluster'] == 2]\n",
    "data_cls2 = cluster2['subject_p']"
   ]
  },
  {
   "cell_type": "code",
   "execution_count": 132,
   "id": "83345fe7-7a03-46e6-b5ce-4fcff3b06773",
   "metadata": {},
   "outputs": [],
   "source": [
    "cluster11 = data_hsl[data_hsl['cluster'] == 11]\n",
    "data_cls11 = cluster11['subject_p']"
   ]
  },
  {
   "cell_type": "code",
   "execution_count": 72,
   "id": "0581eab4-3d33-46d8-89b9-f1a0ed17c8f1",
   "metadata": {},
   "outputs": [],
   "source": [
    "cluster3 = data_hsl[data_hsl['cluster'] == 3]\n",
    "data_cls3 = cluster3['subject_p']"
   ]
  },
  {
   "cell_type": "code",
   "execution_count": 73,
   "id": "6e539f35-f567-43e2-afb8-d1352bdbbc0e",
   "metadata": {},
   "outputs": [],
   "source": [
    "cluster4 = data_hsl[data_hsl['cluster'] == 4]\n",
    "data_cls4 = cluster4['subject_p']"
   ]
  },
  {
   "cell_type": "code",
   "execution_count": 74,
   "id": "26161f1c-0a5f-42a1-8bbf-d45687bfbe7c",
   "metadata": {},
   "outputs": [],
   "source": [
    "cluster5 = data_hsl[data_hsl['cluster'] == 5]\n",
    "data_cls5 = cluster5['subject_p']"
   ]
  },
  {
   "cell_type": "code",
   "execution_count": 75,
   "id": "fe70c665-919c-4545-9ff1-c6252c136ff1",
   "metadata": {},
   "outputs": [],
   "source": [
    "cluster6 = data_hsl[data_hsl['cluster'] == 6]\n",
    "data_cls6 = cluster6['subject_p']"
   ]
  },
  {
   "cell_type": "code",
   "execution_count": 111,
   "id": "595b48c7-25cf-4df8-8b6d-a5b979c6a917",
   "metadata": {},
   "outputs": [],
   "source": [
    "data = []\n",
    "\n",
    "for i in range(20):\n",
    "    data.append(data_hsl[data_hsl['cluster'] == i]['subject_p'])\n",
    "    "
   ]
  },
  {
   "cell_type": "code",
   "execution_count": 120,
   "id": "08dc0181-0eae-420f-a6d1-40cd0085eb46",
   "metadata": {},
   "outputs": [
    {
     "data": {
      "text/plain": [
       "0         menghapus waktu pendaftaran pada detil siswa\n",
       "0     dev menghapus waktu pendaftaran pada detil siswa\n",
       "0    devtampilan maps pada halaman konfirmasi penga...\n",
       "0    sembunyikan informasi akreditasi sekolah asal ...\n",
       "0    dev penutupan halaman detil siswa 483103232207...\n",
       "0    dev menampilkan halaman konfirmasicek ulang pa...\n",
       "0    dev backend aggregator konten halaman data zon...\n",
       "0    dev frontend halaman data zonasi sekolah di si...\n",
       "0    dev tampilkan info pada halaman verifikasi dan...\n",
       "0    dev muncul notifikasi halaman ini belum dapat ...\n",
       "0    dev sembunyikan informasi akreditasi sekolah a...\n",
       "0    dev ubah tampilkan info status verifikasi di d...\n",
       "0    dev frontend menampilkan halaman memasukkan to...\n",
       "0               refresh portal halaman tidak ditemukan\n",
       "0                          pencarian detil arsip error\n",
       "0               refresh portal halaman tidak ditemukan\n",
       "Name: subject_p, dtype: object"
      ]
     },
     "execution_count": 120,
     "metadata": {},
     "output_type": "execute_result"
    }
   ],
   "source": [
    "data[0]"
   ]
  },
  {
   "cell_type": "code",
   "execution_count": 131,
   "id": "48b16b4b-f7cf-494a-92c8-a20eecef9865",
   "metadata": {},
   "outputs": [
    {
     "data": {
      "text/plain": [
       "19    override perubahan redaksi pendaftaran siswa d...\n",
       "19    database proses migrasi database tambahan batch 2\n",
       "19     dev perubahan redaksi pendaftaran siswa database\n",
       "19              menambah storage pada vm database slave\n",
       "19           st menambah storage pada vm database slave\n",
       "                            ...                        \n",
       "19    penyediaan vm oci untuk database slave all wil...\n",
       "19    sinkronisasi struktur database penambahan alam...\n",
       "19    sinkronisasi struktur database penambahan alam...\n",
       "19    restorasi database psbdbpublik dengan backup 9...\n",
       "19    st penyediaan vm oci untuk database slave all ...\n",
       "Name: subject_p, Length: 69, dtype: object"
      ]
     },
     "execution_count": 131,
     "metadata": {},
     "output_type": "execute_result"
    }
   ],
   "source": [
    "data[19]"
   ]
  },
  {
   "cell_type": "markdown",
   "id": "6cf860c1-b31a-491d-8d3f-27cf9d470609",
   "metadata": {},
   "source": [
    "# IndoBERT"
   ]
  },
  {
   "cell_type": "code",
   "execution_count": null,
   "id": "5128172d-9e43-4f54-91a9-d84facd359bc",
   "metadata": {},
   "outputs": [],
   "source": []
  },
  {
   "cell_type": "markdown",
   "id": "903038d0-75f7-4549-96c4-5b1afb3867c8",
   "metadata": {},
   "source": [
    "## Topic generation (Contoh)"
   ]
  },
  {
   "cell_type": "code",
   "execution_count": 44,
   "id": "23cfefe7-0114-41b2-bec2-7e82759b480d",
   "metadata": {},
   "outputs": [],
   "source": [
    "from bertopic import BERTopic\n",
    "from umap import UMAP\n",
    "from sklearn.feature_extraction.text import CountVectorizer\n",
    "\n",
    "\n",
    "import seaborn as sns\n",
    "import matplotlib.pyplot as plt"
   ]
  },
  {
   "cell_type": "markdown",
   "id": "1856f3c6-ecc0-4fcc-988c-fbc12494cc83",
   "metadata": {},
   "source": [
    "1. CountVectorizer:\n",
    "Ini adalah kelas dari scikit-learn yang digunakan untuk mengubah teks menjadi representasi angka (vector). CountVectorizer menghitung frekuensi kata atau n-gram dalam dokumen teks.\n",
    "\n",
    "2. ngram_range=(2, 2):\n",
    "Parameter ngram_range menentukan rentang n-gram yang akan diekstraksi dari teks. Dalam kasus ini, (2, 2) berarti model hanya akan mengekstrak bigram (sepasang kata berturut-turut) dari teks. Sebagai contoh, dari teks \"saya suka membaca buku\", bigram yang dihasilkan adalah \"saya suka\", \"suka membaca\", dan \"membaca buku\".\n",
    "\n",
    "3. stop_words=stopword_ind:\n",
    "Parameter stop_words digunakan untuk menentukan daftar kata-kata yang akan diabaikan (dihapus) dari teks sebelum proses n-gram dilakukan. stopword_ind di sini adalah variabel yang menyimpan daftar kata-kata umum dalam bahasa Indonesia (seperti \"dan\", \"di\", \"yang\", dll.) yang tidak dianggap penting untuk analisis."
   ]
  },
  {
   "cell_type": "markdown",
   "id": "6b247c26-cbb5-4a69-8288-89fa2d5e8be0",
   "metadata": {},
   "source": [
    "1. BERTopic:\n",
    "\n",
    "BERTopic adalah library yang digunakan untuk pemodelan topik berbasis embedding teks. Model ini menggabungkan transformer berbasis BERT dengan algoritma clustering untuk menemukan dan memvisualisasikan topik dalam teks.\n",
    "\n",
    "2. top_n_words=10:\n",
    "\n",
    "Parameter ini menentukan jumlah kata teratas yang akan diambil untuk setiap topik. Dalam hal ini, 10 kata teratas akan diambil untuk menggambarkan setiap topik.\n",
    "\n",
    "3. n_gram_range=(2, 2):\n",
    "\n",
    "Parameter ini menentukan rentang n-gram yang akan digunakan dalam pemrosesan teks. (2, 2) berarti model akan menggunakan bigram (sepasang kata berturut-turut).\n",
    "\n",
    "4. nr_topics=7:\n",
    "\n",
    "Parameter ini menentukan jumlah topik yang akan diekstraksi dari teks. Dalam kasus ini, model akan mencoba menemukan 7 topik.\n",
    "\n",
    "5. vectorizer_model=vectorizer_model:\n",
    "\n",
    "Parameter ini memungkinkan kita untuk menentukan model vectorizer yang telah kita buat sebelumnya. Dalam hal ini, vectorizer_model adalah objek CountVectorizer yang dikonfigurasi untuk menghasilkan bigram dan mengabaikan stop words dalam bahasa Indonesia.\n",
    "\n",
    "6. umap_model=UMAP(random_state=1):\n",
    "\n",
    "UMAP (Uniform Manifold Approximation and Projection) adalah algoritma untuk reduksi dimensi yang sering digunakan untuk visualisasi data tinggi dimensi. random_state=1 memastikan bahwa hasil reduksi dimensi bisa direproduksi (konsisten setiap kali dijalankan)."
   ]
  },
  {
   "cell_type": "code",
   "execution_count": 89,
   "id": "73baa0fa-e263-4134-84b6-d756b37238f7",
   "metadata": {},
   "outputs": [],
   "source": [
    "# create a list of speeches\n",
    "docs = data_cls1.tolist()\n",
    "\n",
    "vectorizer_model = CountVectorizer(ngram_range=(3, 3),\n",
    "                                   stop_words=stopword_ind)\n",
    "\n",
    "# generate a bigram topic model with 10 top terms and 8 topics\n",
    "bertopic_model = BERTopic(top_n_words=5,\n",
    "                          n_gram_range=(3,3),\n",
    "                          nr_topics=2,\n",
    "                          vectorizer_model=vectorizer_model,\n",
    "                          umap_model = UMAP(random_state=1))  # setting seed topics reproduce\n",
    "\n",
    "# fit the model to data\n",
    "topics, probabilities = bertopic_model.fit_transform(docs)"
   ]
  },
  {
   "cell_type": "code",
   "execution_count": 90,
   "id": "a4e03975-de3b-41ab-86e1-c16f6de756fd",
   "metadata": {},
   "outputs": [
    {
     "data": {
      "text/html": [
       "<div>\n",
       "<style scoped>\n",
       "    .dataframe tbody tr th:only-of-type {\n",
       "        vertical-align: middle;\n",
       "    }\n",
       "\n",
       "    .dataframe tbody tr th {\n",
       "        vertical-align: top;\n",
       "    }\n",
       "\n",
       "    .dataframe thead th {\n",
       "        text-align: right;\n",
       "    }\n",
       "</style>\n",
       "<table border=\"1\" class=\"dataframe\">\n",
       "  <thead>\n",
       "    <tr style=\"text-align: right;\">\n",
       "      <th></th>\n",
       "      <th>Topic</th>\n",
       "      <th>Prob</th>\n",
       "    </tr>\n",
       "  </thead>\n",
       "  <tbody>\n",
       "    <tr>\n",
       "      <th>0</th>\n",
       "      <td>data siswa lulusan</td>\n",
       "      <td>0.158833</td>\n",
       "    </tr>\n",
       "    <tr>\n",
       "      <th>1</th>\n",
       "      <td>migrasi data siswa</td>\n",
       "      <td>0.143345</td>\n",
       "    </tr>\n",
       "    <tr>\n",
       "      <th>2</th>\n",
       "      <td>proses migrasi data</td>\n",
       "      <td>0.101033</td>\n",
       "    </tr>\n",
       "    <tr>\n",
       "      <th>3</th>\n",
       "      <td>siswa lulusan insi</td>\n",
       "      <td>0.093922</td>\n",
       "    </tr>\n",
       "    <tr>\n",
       "      <th>4</th>\n",
       "      <td>migrasi data lulusan</td>\n",
       "      <td>0.087203</td>\n",
       "    </tr>\n",
       "  </tbody>\n",
       "</table>\n",
       "</div>"
      ],
      "text/plain": [
       "                  Topic      Prob\n",
       "0    data siswa lulusan  0.158833\n",
       "1    migrasi data siswa  0.143345\n",
       "2   proses migrasi data  0.101033\n",
       "3    siswa lulusan insi  0.093922\n",
       "4  migrasi data lulusan  0.087203"
      ]
     },
     "execution_count": 90,
     "metadata": {},
     "output_type": "execute_result"
    }
   ],
   "source": [
    "# topic visualization\n",
    "topic = pd.DataFrame(bertopic_model.get_topic(0), columns=[\"Topic\", \"Prob\"])\n",
    "topics_df = pd.concat([topic], axis=1)\n",
    "topics_df"
   ]
  },
  {
   "cell_type": "code",
   "execution_count": 46,
   "id": "1f07b196-8f08-4e78-8698-96e972340b92",
   "metadata": {},
   "outputs": [
    {
     "name": "stdout",
     "output_type": "stream",
     "text": [
      "[0, 0, 1, 0, 0, 0, 0, 1, 1, 1, 1, 1, 0, 1, 0, 0, 0, 0, 0, 0, 0, 0, 0, 0, 0, 0, 0, 0, 0, 0, 0, 1, 0, 1, 1, 0, 1, 1, 0, 1, 0, 1, 1, 0, 1, 1, 0, 1, 0, 0, 0, 0, 0, 0, 0, 0, 0, 1, 0, 0, 1, 0, 0, 0, 0, 0, 0, 0, 0, 1, 0, 1, 0, 0, 0, 1, 1, 0, 1, 0, 1, 1, 0, 0, 0, 0, 0, 0, 0, 1, 1]\n"
     ]
    }
   ],
   "source": [
    "print(topics)"
   ]
  },
  {
   "cell_type": "code",
   "execution_count": 47,
   "id": "f6fb74eb-612a-408b-a781-01047d9c08f9",
   "metadata": {},
   "outputs": [
    {
     "name": "stdout",
     "output_type": "stream",
     "text": [
      "[0.3592418  0.74899098 0.76541941 1.         1.         1.\n",
      " 1.         0.65155858 0.77706746 0.75430414 0.77706746 1.\n",
      " 1.         0.76541941 1.         1.         0.96944227 0.9419092\n",
      " 1.         1.         1.         1.         1.         0.96163026\n",
      " 1.         1.         0.84183046 1.         1.         0.92037242\n",
      " 1.         0.77706746 1.         0.73302157 0.87262871 1.\n",
      " 1.         0.60107845 0.8408549  0.71630456 1.         1.\n",
      " 1.         1.         0.77706746 0.52726463 1.         0.84479305\n",
      " 1.         1.         0.70635624 1.         1.         1.\n",
      " 0.58634112 0.85065576 0.81659991 1.         1.         0.71720617\n",
      " 0.76820937 0.77109391 1.         0.83280496 0.45056448 0.90127799\n",
      " 0.7884704  1.         0.86091816 1.         0.95495571 1.\n",
      " 1.         0.94651973 0.89111917 1.         1.         0.36853229\n",
      " 1.         1.         0.88704276 0.63389215 0.44369967 1.\n",
      " 1.         0.83372714 0.49285115 1.         0.45489056 0.7381336\n",
      " 0.69020473]\n"
     ]
    }
   ],
   "source": [
    "print(probabilities)"
   ]
  },
  {
   "cell_type": "code",
   "execution_count": 49,
   "id": "2c757042-f8a0-4ecf-93ab-e51a5435f271",
   "metadata": {},
   "outputs": [
    {
     "data": {
      "image/png": "[encoded data removed]",
      "text/plain": [
       "<Figure size 1400x1300 with 2 Axes>"
      ]
     },
     "metadata": {},
     "output_type": "display_data"
    }
   ],
   "source": [
    "## topic visualization - heatmap\n",
    "\n",
    "# Initialize DataFrame to store reshaped data\n",
    "reshaped_data = pd.DataFrame(columns=['Bigram', 'Topic', 'Prob'])\n",
    "\n",
    "# Reshape data from original DataFrame\n",
    "for i in range(1, 2):\n",
    "    topic_word_col = f'Topic'\n",
    "    topic_prob_col = f'Prob'\n",
    "    temp_df = pd.DataFrame({\n",
    "        'Bigram': topics_df[topic_word_col],\n",
    "        'Topic': f'Topic',\n",
    "        'Prob': topics_df[topic_prob_col]\n",
    "    })\n",
    "    reshaped_data = pd.concat([reshaped_data, temp_df])\n",
    "\n",
    "# Set 'Bigram' as index\n",
    "reshaped_data.set_index('Bigram', inplace=True)\n",
    "\n",
    "# Create pivot table for heatmap\n",
    "pivot_table = reshaped_data.pivot(columns='Topic', values='Prob').fillna(0)\n",
    "\n",
    "# Plot heatmap\n",
    "plt.figure(figsize=(14, 13))\n",
    "cmap = sns.color_palette(\"crest\", as_cmap=True)\n",
    "cmap.set_under(color='white')\n",
    "\n",
    "# Generate heatmap\n",
    "sns.heatmap(pivot_table, cmap=cmap, linewidths=0.5, annot=False,\n",
    "            cbar=True, mask=(pivot_table == 0), vmin=0.0001)\n",
    "\n",
    "# Add bigrams with non-zero probability on top of the heatmap\n",
    "for i, bigram in enumerate(pivot_table.index):\n",
    "    for j, topic in enumerate(pivot_table.columns):\n",
    "        if pivot_table.loc[bigram, topic] > 0:\n",
    "            plt.text(j + 0.5, i + 0.5, bigram, ha='center', va='center',\n",
    "                     color='black' if pivot_table.loc[bigram, topic] > 0 else 'white', fontsize=9)\n",
    "\n",
    "# Customize plot\n",
    "plt.title('Topic for Cluster')\n",
    "plt.xlabel('Topic')\n",
    "plt.ylabel('Bigram')\n",
    "plt.tight_layout()\n",
    "plt.savefig(\"BERTopic_Russia.png\")\n",
    "plt.show()"
   ]
  },
  {
   "cell_type": "markdown",
   "id": "36a61cc9-bb9d-45b3-8823-921ab4ac14dc",
   "metadata": {},
   "source": [
    "## Cluster 0 (Error)"
   ]
  },
  {
   "cell_type": "code",
   "execution_count": 154,
   "id": "2820e44c-ea8d-4696-80f6-12f88ef50567",
   "metadata": {},
   "outputs": [],
   "source": [
    "# create a list of speeches\n",
    "docs = data_cls0.tolist()\n",
    "\n",
    "vectorizer_model = CountVectorizer(ngram_range=(1, 1),\n",
    "                                   stop_words=stopword_ind)\n",
    "\n",
    "\n",
    "# generate a bigram topic model with 10 top terms and 8 topics\n",
    "bertopic_model = BERTopic(top_n_words=1,\n",
    "                          n_gram_range=(1,2),\n",
    "                          nr_topics='auto',\n",
    "                          min_topic_size=2,\n",
    "                          calculate_probabilities=True,\n",
    "                          vectorizer_model=vectorizer_model,\n",
    "                          umap_model = UMAP(random_state=1))  # setting seed topics reproduce\n",
    "#bertopic_model = BERTopic()\n",
    "# fit the model to data\n",
    "topics, probabilities = bertopic_model.fit_transform(docs)"
   ]
  },
  {
   "cell_type": "code",
   "execution_count": 150,
   "id": "f6931276-9fa0-4e34-88ce-83bf6499e1b3",
   "metadata": {},
   "outputs": [
    {
     "data": {
      "text/plain": [
       "['menghapus waktu pendaftaran pada detil siswa',\n",
       " 'dev menghapus waktu pendaftaran pada detil siswa',\n",
       " 'devtampilan maps pada halaman konfirmasi pengajuan pendaftaran masih menampilkan peta osm',\n",
       " 'sembunyikan informasi akreditasi sekolah asal pada halaman ajuan akun',\n",
       " 'dev penutupan halaman detil siswa 48310323220746 pada situs arsip 2017',\n",
       " 'dev menampilkan halaman konfirmasicek ulang pada situs publik sesuai asal sekolah lulusan',\n",
       " 'dev backend aggregator konten halaman data zonasi sekolah di situs publik',\n",
       " 'dev frontend halaman data zonasi sekolah di situs publik',\n",
       " 'dev tampilkan info pada halaman verifikasi dan tolak ajuan akun',\n",
       " 'dev muncul notifikasi halaman ini belum dapat diaksesjalur bibit unggul',\n",
       " 'dev sembunyikan informasi akreditasi sekolah asal pada halaman ajuan akun',\n",
       " 'dev ubah tampilkan info status verifikasi di detil siswa',\n",
       " 'dev frontend menampilkan halaman memasukkan token ketika login',\n",
       " 'refresh portal halaman tidak ditemukan',\n",
       " 'pencarian detil arsip error',\n",
       " 'refresh portal halaman tidak ditemukan']"
      ]
     },
     "execution_count": 150,
     "metadata": {},
     "output_type": "execute_result"
    }
   ],
   "source": [
    "docs"
   ]
  },
  {
   "cell_type": "code",
   "execution_count": 157,
   "id": "48ef9d2f-f042-4169-9291-f334f28db3ea",
   "metadata": {},
   "outputs": [
    {
     "data": {
      "text/html": [
       "<div>\n",
       "<style scoped>\n",
       "    .dataframe tbody tr th:only-of-type {\n",
       "        vertical-align: middle;\n",
       "    }\n",
       "\n",
       "    .dataframe tbody tr th {\n",
       "        vertical-align: top;\n",
       "    }\n",
       "\n",
       "    .dataframe thead th {\n",
       "        text-align: right;\n",
       "    }\n",
       "</style>\n",
       "<table border=\"1\" class=\"dataframe\">\n",
       "  <thead>\n",
       "    <tr style=\"text-align: right;\">\n",
       "      <th></th>\n",
       "      <th>Topic</th>\n",
       "      <th>Prob</th>\n",
       "    </tr>\n",
       "  </thead>\n",
       "  <tbody>\n",
       "    <tr>\n",
       "      <th>0</th>\n",
       "      <td>pendaftaran</td>\n",
       "      <td>0.162933</td>\n",
       "    </tr>\n",
       "  </tbody>\n",
       "</table>\n",
       "</div>"
      ],
      "text/plain": [
       "         Topic      Prob\n",
       "0  pendaftaran  0.162933"
      ]
     },
     "execution_count": 157,
     "metadata": {},
     "output_type": "execute_result"
    }
   ],
   "source": [
    "# topic visualization\n",
    "topic = pd.DataFrame(bertopic_model.get_topic(0), columns=[\"Topic\", \"Prob\"])\n",
    "topics_df = pd.concat([topic], axis=1)\n",
    "topics_df"
   ]
  },
  {
   "cell_type": "code",
   "execution_count": 156,
   "id": "8feb9683-0cec-4ef3-83d9-20decbd0d03f",
   "metadata": {},
   "outputs": [
    {
     "data": {
      "text/plain": [
       "[('pendaftaran', 0.1629331336616537)]"
      ]
     },
     "execution_count": 156,
     "metadata": {},
     "output_type": "execute_result"
    }
   ],
   "source": [
    "bertopic_model.get_topic(0)"
   ]
  },
  {
   "cell_type": "markdown",
   "id": "a44f4f06-fc11-4f9c-8b2d-25ec2b83f529",
   "metadata": {},
   "source": [
    "## Cluster 1 (migrasi data)"
   ]
  },
  {
   "cell_type": "code",
   "execution_count": 125,
   "id": "536f88ca-3c6b-4654-bf4f-e89777bb1c41",
   "metadata": {},
   "outputs": [],
   "source": [
    "# create a list of speeches\n",
    "docs = data_cls1.tolist()\n",
    "\n",
    "vectorizer_model = CountVectorizer(ngram_range=(3, 3),\n",
    "                                   stop_words=stopword_ind)\n",
    "\n",
    "# generate a bigram topic model with 10 top terms and 8 topics\n",
    "bertopic_model = BERTopic(top_n_words=5,\n",
    "                          n_gram_range=(3,3),\n",
    "                          nr_topics=2,\n",
    "                          vectorizer_model=vectorizer_model,\n",
    "                          umap_model = UMAP(random_state=1))  # setting seed topics reproduce\n",
    "\n",
    "# fit the model to data\n",
    "topics, probabilities = bertopic_model.fit_transform(docs)"
   ]
  },
  {
   "cell_type": "code",
   "execution_count": 126,
   "id": "f3a0b3db-4ca0-46ff-8617-97b66eb51ab6",
   "metadata": {},
   "outputs": [
    {
     "data": {
      "text/plain": [
       "False"
      ]
     },
     "execution_count": 126,
     "metadata": {},
     "output_type": "execute_result"
    }
   ],
   "source": [
    "bertopic_model.get_topic(0)"
   ]
  },
  {
   "cell_type": "code",
   "execution_count": 105,
   "id": "3ebe010b-72e1-471d-992d-369aaf40e7a1",
   "metadata": {},
   "outputs": [
    {
     "data": {
      "text/html": [
       "<div>\n",
       "<style scoped>\n",
       "    .dataframe tbody tr th:only-of-type {\n",
       "        vertical-align: middle;\n",
       "    }\n",
       "\n",
       "    .dataframe tbody tr th {\n",
       "        vertical-align: top;\n",
       "    }\n",
       "\n",
       "    .dataframe thead th {\n",
       "        text-align: right;\n",
       "    }\n",
       "</style>\n",
       "<table border=\"1\" class=\"dataframe\">\n",
       "  <thead>\n",
       "    <tr style=\"text-align: right;\">\n",
       "      <th></th>\n",
       "      <th>Topic</th>\n",
       "      <th>Prob</th>\n",
       "    </tr>\n",
       "  </thead>\n",
       "  <tbody>\n",
       "    <tr>\n",
       "      <th>0</th>\n",
       "      <td>data siswa lulusan</td>\n",
       "      <td>0.158833</td>\n",
       "    </tr>\n",
       "    <tr>\n",
       "      <th>1</th>\n",
       "      <td>migrasi data siswa</td>\n",
       "      <td>0.143345</td>\n",
       "    </tr>\n",
       "    <tr>\n",
       "      <th>2</th>\n",
       "      <td>proses migrasi data</td>\n",
       "      <td>0.101033</td>\n",
       "    </tr>\n",
       "    <tr>\n",
       "      <th>3</th>\n",
       "      <td>siswa lulusan insi</td>\n",
       "      <td>0.093922</td>\n",
       "    </tr>\n",
       "    <tr>\n",
       "      <th>4</th>\n",
       "      <td>migrasi data lulusan</td>\n",
       "      <td>0.087203</td>\n",
       "    </tr>\n",
       "  </tbody>\n",
       "</table>\n",
       "</div>"
      ],
      "text/plain": [
       "                  Topic      Prob\n",
       "0    data siswa lulusan  0.158833\n",
       "1    migrasi data siswa  0.143345\n",
       "2   proses migrasi data  0.101033\n",
       "3    siswa lulusan insi  0.093922\n",
       "4  migrasi data lulusan  0.087203"
      ]
     },
     "execution_count": 105,
     "metadata": {},
     "output_type": "execute_result"
    }
   ],
   "source": [
    "# topic visualization\n",
    "topic = pd.DataFrame(bertopic_model.get_topic(0), columns=[\"Topic\", \"Prob\"])\n",
    "topics_df = pd.concat([topic], axis=1)\n",
    "topics_df"
   ]
  },
  {
   "cell_type": "markdown",
   "id": "9c97bc3b-31c5-496f-9334-44dff3ede61e",
   "metadata": {},
   "source": [
    "## Cluster 2 (deploy riil)"
   ]
  },
  {
   "cell_type": "code",
   "execution_count": 106,
   "id": "1c884a13-379d-4fb3-8a25-ea0ac9ea2f5d",
   "metadata": {},
   "outputs": [],
   "source": [
    "# create a list of speeches\n",
    "docs = data_cls2.tolist()\n",
    "\n",
    "vectorizer_model = CountVectorizer(ngram_range=(3, 3),\n",
    "                                   stop_words=stopword_ind)\n",
    "\n",
    "# generate a bigram topic model with 10 top terms and 8 topics\n",
    "bertopic_model = BERTopic(top_n_words=5,\n",
    "                          n_gram_range=(3,3),\n",
    "                          nr_topics=2,\n",
    "                          vectorizer_model=vectorizer_model,\n",
    "                          umap_model = UMAP(random_state=1))  # setting seed topics reproduce\n",
    "\n",
    "# fit the model to data\n",
    "topics, probabilities = bertopic_model.fit_transform(docs)"
   ]
  },
  {
   "cell_type": "code",
   "execution_count": 107,
   "id": "487cf003-2352-41cc-9cad-adea8f0dce2a",
   "metadata": {},
   "outputs": [
    {
     "data": {
      "text/html": [
       "<div>\n",
       "<style scoped>\n",
       "    .dataframe tbody tr th:only-of-type {\n",
       "        vertical-align: middle;\n",
       "    }\n",
       "\n",
       "    .dataframe tbody tr th {\n",
       "        vertical-align: top;\n",
       "    }\n",
       "\n",
       "    .dataframe thead th {\n",
       "        text-align: right;\n",
       "    }\n",
       "</style>\n",
       "<table border=\"1\" class=\"dataframe\">\n",
       "  <thead>\n",
       "    <tr style=\"text-align: right;\">\n",
       "      <th></th>\n",
       "      <th>Topic</th>\n",
       "      <th>Prob</th>\n",
       "    </tr>\n",
       "  </thead>\n",
       "  <tbody>\n",
       "    <tr>\n",
       "      <th>0</th>\n",
       "      <td>deploy riil deploy</td>\n",
       "      <td>0.333774</td>\n",
       "    </tr>\n",
       "    <tr>\n",
       "      <th>1</th>\n",
       "      <td>riil deploy riil</td>\n",
       "      <td>0.328906</td>\n",
       "    </tr>\n",
       "    <tr>\n",
       "      <th>2</th>\n",
       "      <td>riil infra deploy</td>\n",
       "      <td>0.225154</td>\n",
       "    </tr>\n",
       "    <tr>\n",
       "      <th>3</th>\n",
       "      <td>infra deploy riil</td>\n",
       "      <td>0.225154</td>\n",
       "    </tr>\n",
       "    <tr>\n",
       "      <th>4</th>\n",
       "      <td>deploy riil infra</td>\n",
       "      <td>0.225154</td>\n",
       "    </tr>\n",
       "  </tbody>\n",
       "</table>\n",
       "</div>"
      ],
      "text/plain": [
       "                Topic      Prob\n",
       "0  deploy riil deploy  0.333774\n",
       "1    riil deploy riil  0.328906\n",
       "2   riil infra deploy  0.225154\n",
       "3   infra deploy riil  0.225154\n",
       "4   deploy riil infra  0.225154"
      ]
     },
     "execution_count": 107,
     "metadata": {},
     "output_type": "execute_result"
    }
   ],
   "source": [
    "# topic visualization\n",
    "topic = pd.DataFrame(bertopic_model.get_topic(0), columns=[\"Topic\", \"Prob\"])\n",
    "topics_df = pd.concat([topic], axis=1)\n",
    "topics_df"
   ]
  },
  {
   "cell_type": "markdown",
   "id": "fd3025e4-88a2-45ec-9567-25ce86dce0bd",
   "metadata": {},
   "source": [
    "## Cluster 3 (pengiriman sph)"
   ]
  },
  {
   "cell_type": "code",
   "execution_count": 108,
   "id": "94f1a38f-396f-4f1d-a4d0-c115cfb33261",
   "metadata": {},
   "outputs": [],
   "source": [
    "# create a list of speeches\n",
    "docs = data_cls3.tolist()\n",
    "\n",
    "vectorizer_model = CountVectorizer(ngram_range=(3, 3),\n",
    "                                   stop_words=stopword_ind)\n",
    "\n",
    "# generate a bigram topic model with 10 top terms and 8 topics\n",
    "bertopic_model = BERTopic(top_n_words=5,\n",
    "                          n_gram_range=(3,3),\n",
    "                          nr_topics=2,\n",
    "                          vectorizer_model=vectorizer_model,\n",
    "                          umap_model = UMAP(random_state=1))  # setting seed topics reproduce\n",
    "\n",
    "# fit the model to data\n",
    "topics, probabilities = bertopic_model.fit_transform(docs)"
   ]
  },
  {
   "cell_type": "code",
   "execution_count": 109,
   "id": "e4932213-3982-415f-a76f-4d553c0e2513",
   "metadata": {},
   "outputs": [
    {
     "data": {
      "text/html": [
       "<div>\n",
       "<style scoped>\n",
       "    .dataframe tbody tr th:only-of-type {\n",
       "        vertical-align: middle;\n",
       "    }\n",
       "\n",
       "    .dataframe tbody tr th {\n",
       "        vertical-align: top;\n",
       "    }\n",
       "\n",
       "    .dataframe thead th {\n",
       "        text-align: right;\n",
       "    }\n",
       "</style>\n",
       "<table border=\"1\" class=\"dataframe\">\n",
       "  <thead>\n",
       "    <tr style=\"text-align: right;\">\n",
       "      <th></th>\n",
       "      <th>Topic</th>\n",
       "      <th>Prob</th>\n",
       "    </tr>\n",
       "  </thead>\n",
       "  <tbody>\n",
       "    <tr>\n",
       "      <th>0</th>\n",
       "      <td>pengiriman sph online</td>\n",
       "      <td>0.212265</td>\n",
       "    </tr>\n",
       "    <tr>\n",
       "      <th>1</th>\n",
       "      <td>sph nego online</td>\n",
       "      <td>0.184254</td>\n",
       "    </tr>\n",
       "    <tr>\n",
       "      <th>2</th>\n",
       "      <td>online pengiriman sph</td>\n",
       "      <td>0.162587</td>\n",
       "    </tr>\n",
       "    <tr>\n",
       "      <th>3</th>\n",
       "      <td>pengiriman sph nego</td>\n",
       "      <td>0.162587</td>\n",
       "    </tr>\n",
       "    <tr>\n",
       "      <th>4</th>\n",
       "      <td>nego online pengiriman</td>\n",
       "      <td>0.116188</td>\n",
       "    </tr>\n",
       "  </tbody>\n",
       "</table>\n",
       "</div>"
      ],
      "text/plain": [
       "                    Topic      Prob\n",
       "0   pengiriman sph online  0.212265\n",
       "1         sph nego online  0.184254\n",
       "2   online pengiriman sph  0.162587\n",
       "3     pengiriman sph nego  0.162587\n",
       "4  nego online pengiriman  0.116188"
      ]
     },
     "execution_count": 109,
     "metadata": {},
     "output_type": "execute_result"
    }
   ],
   "source": [
    "# topic visualization\n",
    "topic = pd.DataFrame(bertopic_model.get_topic(0), columns=[\"Topic\", \"Prob\"])\n",
    "topics_df = pd.concat([topic], axis=1)\n",
    "topics_df"
   ]
  },
  {
   "cell_type": "code",
   "execution_count": null,
   "id": "fbc64e75-d3c7-4899-8e20-446179031a0d",
   "metadata": {},
   "outputs": [],
   "source": []
  }
 ],
 "metadata": {
  "kernelspec": {
   "display_name": "Python 3 (ipykernel)",
   "language": "python",
   "name": "python3"
  },
  "language_info": {
   "codemirror_mode": {
    "name": "ipython",
    "version": 3
   },
   "file_extension": ".py",
   "mimetype": "text/x-python",
   "name": "python",
   "nbconvert_exporter": "python",
   "pygments_lexer": "ipython3",
   "version": "3.12.4"
  }
 },
 "nbformat": 4,
 "nbformat_minor": 5
}
