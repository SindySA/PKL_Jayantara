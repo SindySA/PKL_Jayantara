{
 "cells": [
  {
   "cell_type": "markdown",
   "id": "70b0be47-34fd-43d1-8be2-ebb4b47eb7be",
   "metadata": {},
   "source": [
    "Sumber text clustering using NLTK library: https://github.com/lucas-de-sa/national-anthems-clustering/blob/master/Cluster_Anthems.ipynb\n",
    "\n",
    "Sumber text clustering using Spacy library: https://github.com/kirralabs/text-clustering/blob/master/script/core/Clustering.ipynb"
   ]
  },
  {
   "cell_type": "markdown",
   "id": "9eaaf42c-07e2-4bb3-995e-718721b14792",
   "metadata": {
    "jp-MarkdownHeadingCollapsed": true
   },
   "source": [
    "# A. Import Library"
   ]
  },
  {
   "cell_type": "markdown",
   "id": "e67c880f-3f58-498d-bc1f-eed2fde152fa",
   "metadata": {
    "jp-MarkdownHeadingCollapsed": true
   },
   "source": [
    "### a). Library if use NLTK"
   ]
  },
  {
   "cell_type": "code",
   "execution_count": 1,
   "id": "d378beda-1730-45bb-a019-747113809a8f",
   "metadata": {},
   "outputs": [],
   "source": [
    "# Data Structures\n",
    "import numpy  as np\n",
    "import pandas as pd\n",
    "import geopandas as gpd\n",
    "import json\n",
    "\n",
    "# Corpus Processing\n",
    "import re\n",
    "import nltk.corpus\n",
    "from unidecode                        import unidecode\n",
    "from nltk.tokenize                    import word_tokenize\n",
    "from nltk                             import SnowballStemmer\n",
    "from sklearn.feature_extraction.text  import TfidfVectorizer\n",
    "from sklearn.preprocessing            import normalize\n",
    "\n",
    "# K-Means\n",
    "from sklearn import cluster\n",
    "\n",
    "# Visualization and Analysis\n",
    "import matplotlib.pyplot  as plt\n",
    "import matplotlib.cm      as cm\n",
    "import seaborn            as sns\n",
    "from sklearn.metrics                  import silhouette_samples, silhouette_score\n",
    "from wordcloud                        import WordCloud\n",
    "\n",
    "# Map Viz\n",
    "import folium\n",
    "#import branca.colormap as cm\n",
    "from branca.element import Figure"
   ]
  },
  {
   "cell_type": "markdown",
   "id": "1c4717a3-952a-4e00-8315-d06800406e3c",
   "metadata": {
    "jp-MarkdownHeadingCollapsed": true
   },
   "source": [
    "### b). Library if use Spacy"
   ]
  },
  {
   "cell_type": "code",
   "execution_count": 31,
   "id": "c8c36752-bf67-4740-9895-659c27981013",
   "metadata": {},
   "outputs": [],
   "source": [
    "import os, mpld3, nltk\n",
    "import numpy as np\n",
    "import pandas as pd"
   ]
  },
  {
   "cell_type": "code",
   "execution_count": 32,
   "id": "4db7c77f-be18-485e-bd9d-95ec13bf25dd",
   "metadata": {},
   "outputs": [],
   "source": [
    "from spacy.lang.id import Indonesian\n",
    "import fnmatch\n",
    "def getAllFileinFolder(folderpath):\n",
    "    filelist = []\n",
    "    for dirpath, dirs, files in os.walk(folderpath):\n",
    "        for filename in fnmatch.filter(files, '*.txt'):\n",
    "            filelist.append(dirpath + \"/\" + filename)\n",
    "    return filelist\n",
    "\n",
    "def writedataa(list, thname):\n",
    "    file = open(\"sentence_rep_{}.txt\".format(thname), \"w\");\n",
    "    for x in sorted(set(list)):\n",
    "        # for x in list:\n",
    "        # hasil = x.replace('\"','').replace(\"#\",\"\").replace(\"&nbsp;\",\"\" )\n",
    "        file.write(x + \"\\n\")\n",
    "    file.close()\n",
    "\n",
    "nlp = Indonesian()\n",
    "def tokenize_and_stem(text):\n",
    "    text = u'{}'.format(text)\n",
    "    doc = nlp(text)\n",
    "    stems = [t.lemma_ for t in doc]\n",
    "    stems = [t.lower() for t in stems]\n",
    "    return stems\n",
    "\n",
    "\n",
    "def tokenize_only(text):\n",
    "    text = u'{}'.format(text)\n",
    "    doc = nlp(text)\n",
    "    stems = [t.text for t in doc]\n",
    "    stems = [t.lower() for t in stems]\n",
    "    return stems"
   ]
  },
  {
   "cell_type": "markdown",
   "id": "4464e468-4fb2-4585-afb8-ba835b8b9541",
   "metadata": {},
   "source": [
    "# B. Import Dataset"
   ]
  },
  {
   "cell_type": "code",
   "execution_count": 254,
   "id": "51c00119-0d6a-4832-9d5e-1c88cfa78356",
   "metadata": {},
   "outputs": [
    {
     "data": {
      "text/html": [
       "<div>\n",
       "<style scoped>\n",
       "    .dataframe tbody tr th:only-of-type {\n",
       "        vertical-align: middle;\n",
       "    }\n",
       "\n",
       "    .dataframe tbody tr th {\n",
       "        vertical-align: top;\n",
       "    }\n",
       "\n",
       "    .dataframe thead th {\n",
       "        text-align: right;\n",
       "    }\n",
       "</style>\n",
       "<table border=\"1\" class=\"dataframe\">\n",
       "  <thead>\n",
       "    <tr style=\"text-align: right;\">\n",
       "      <th></th>\n",
       "      <th>sumber</th>\n",
       "      <th>tahun bulan</th>\n",
       "      <th>issue id</th>\n",
       "      <th>tracker</th>\n",
       "      <th>created on</th>\n",
       "      <th>closed on</th>\n",
       "      <th>start date</th>\n",
       "      <th>due date</th>\n",
       "      <th>project</th>\n",
       "      <th>subject</th>\n",
       "      <th>state</th>\n",
       "      <th>poin</th>\n",
       "      <th>id resolver</th>\n",
       "      <th>nama resolver</th>\n",
       "      <th>grup resolver</th>\n",
       "      <th>id creator</th>\n",
       "      <th>nama creator</th>\n",
       "      <th>ts menit</th>\n",
       "      <th>wkt resolved</th>\n",
       "      <th>st lembur</th>\n",
       "    </tr>\n",
       "  </thead>\n",
       "  <tbody>\n",
       "    <tr>\n",
       "      <th>0</th>\n",
       "      <td>Lapor PPDB</td>\n",
       "      <td>2024-06</td>\n",
       "      <td>21639</td>\n",
       "      <td>Support</td>\n",
       "      <td>2024-06-29 09:09:00</td>\n",
       "      <td>2024-07-01 05:11:11</td>\n",
       "      <td>2024-06-29</td>\n",
       "      <td>2024-06-29</td>\n",
       "      <td>Kota Denpasar</td>\n",
       "      <td>[Closing Engine] Kota Denpasar 2024 - Jalur Zo...</td>\n",
       "      <td>Closed</td>\n",
       "      <td>NaN</td>\n",
       "      <td>69.0</td>\n",
       "      <td>Febrian Hilmi Firdaus</td>\n",
       "      <td>DSO</td>\n",
       "      <td>69</td>\n",
       "      <td>Febrian Hilmi Firdaus</td>\n",
       "      <td>NaN</td>\n",
       "      <td>2024-06-29 14:30:41</td>\n",
       "      <td>Lembur</td>\n",
       "    </tr>\n",
       "    <tr>\n",
       "      <th>1</th>\n",
       "      <td>Lapor PPDB</td>\n",
       "      <td>2024-06</td>\n",
       "      <td>21662</td>\n",
       "      <td>Support</td>\n",
       "      <td>2024-06-29 12:51:50</td>\n",
       "      <td>2024-07-01 05:10:57</td>\n",
       "      <td>2024-06-29</td>\n",
       "      <td>2024-06-29</td>\n",
       "      <td>Prov. Bali</td>\n",
       "      <td>[Kendala] Siswa Masih Bisa Langsung Pengajuan ...</td>\n",
       "      <td>Closed</td>\n",
       "      <td>NaN</td>\n",
       "      <td>69.0</td>\n",
       "      <td>Febrian Hilmi Firdaus</td>\n",
       "      <td>DSO</td>\n",
       "      <td>69</td>\n",
       "      <td>Febrian Hilmi Firdaus</td>\n",
       "      <td>NaN</td>\n",
       "      <td>2024-07-01 05:10:57</td>\n",
       "      <td>Normal</td>\n",
       "    </tr>\n",
       "    <tr>\n",
       "      <th>2</th>\n",
       "      <td>Lapor PPDB</td>\n",
       "      <td>2024-06</td>\n",
       "      <td>21088</td>\n",
       "      <td>Support</td>\n",
       "      <td>2024-06-22 05:30:34</td>\n",
       "      <td>2024-06-22 10:18:51</td>\n",
       "      <td>2024-06-22</td>\n",
       "      <td>2024-06-29</td>\n",
       "      <td>Prov. Nusa Tenggara Timur</td>\n",
       "      <td>[Closing Engine] Prov NTT 2024 - SMA All Jalur...</td>\n",
       "      <td>Closed</td>\n",
       "      <td>NaN</td>\n",
       "      <td>69.0</td>\n",
       "      <td>Febrian Hilmi Firdaus</td>\n",
       "      <td>DSO</td>\n",
       "      <td>69</td>\n",
       "      <td>Febrian Hilmi Firdaus</td>\n",
       "      <td>NaN</td>\n",
       "      <td>2024-06-22 08:54:49</td>\n",
       "      <td>Normal</td>\n",
       "    </tr>\n",
       "    <tr>\n",
       "      <th>3</th>\n",
       "      <td>Lapor PPDB</td>\n",
       "      <td>2024-06</td>\n",
       "      <td>21689</td>\n",
       "      <td>Support</td>\n",
       "      <td>2024-07-01 02:28:58</td>\n",
       "      <td>2024-07-01 02:46:11</td>\n",
       "      <td>2024-06-30</td>\n",
       "      <td>2024-07-01</td>\n",
       "      <td>Kanwil Prov. DKI Jakarta</td>\n",
       "      <td>[DEV] Pengecekan dan Penyesuaian hasil seleksi...</td>\n",
       "      <td>Closed</td>\n",
       "      <td>5.0</td>\n",
       "      <td>4.0</td>\n",
       "      <td>Azhar Mashuri</td>\n",
       "      <td>DIP</td>\n",
       "      <td>4</td>\n",
       "      <td>Azhar Mashuri</td>\n",
       "      <td>NaN</td>\n",
       "      <td>2024-07-01 02:46:06</td>\n",
       "      <td>Lembur</td>\n",
       "    </tr>\n",
       "    <tr>\n",
       "      <th>4</th>\n",
       "      <td>Lapor PPDB</td>\n",
       "      <td>2024-06</td>\n",
       "      <td>21479</td>\n",
       "      <td>Support</td>\n",
       "      <td>2024-06-26 14:13:47</td>\n",
       "      <td>2024-07-01 01:27:33</td>\n",
       "      <td>2024-06-26</td>\n",
       "      <td>2024-06-26</td>\n",
       "      <td>Kota Sukabumi</td>\n",
       "      <td>Pengecekan File Ajuan Pendaftaran di Operator ...</td>\n",
       "      <td>Closed</td>\n",
       "      <td>NaN</td>\n",
       "      <td>74.0</td>\n",
       "      <td>Hayan .</td>\n",
       "      <td>DSO</td>\n",
       "      <td>74</td>\n",
       "      <td>Hayan .</td>\n",
       "      <td>NaN</td>\n",
       "      <td>2024-06-26 14:24:31</td>\n",
       "      <td>Normal</td>\n",
       "    </tr>\n",
       "    <tr>\n",
       "      <th>5</th>\n",
       "      <td>Lapor PPDB</td>\n",
       "      <td>2024-06</td>\n",
       "      <td>21680</td>\n",
       "      <td>Support</td>\n",
       "      <td>2024-06-30 19:56:25</td>\n",
       "      <td>2024-06-30 22:43:27</td>\n",
       "      <td>2024-06-30</td>\n",
       "      <td>2024-06-30</td>\n",
       "      <td>Kota Serang</td>\n",
       "      <td>[DEV] Backend - Tolak Pilihan Provinsi Dan Kot...</td>\n",
       "      <td>Closed</td>\n",
       "      <td>1.0</td>\n",
       "      <td>62.0</td>\n",
       "      <td>Villa Nanda</td>\n",
       "      <td>DIP</td>\n",
       "      <td>4</td>\n",
       "      <td>Azhar Mashuri</td>\n",
       "      <td>NaN</td>\n",
       "      <td>2024-06-30 21:41:11</td>\n",
       "      <td>Lembur</td>\n",
       "    </tr>\n",
       "  </tbody>\n",
       "</table>\n",
       "</div>"
      ],
      "text/plain": [
       "       sumber tahun bulan  issue id  tracker           created on  \\\n",
       "0  Lapor PPDB     2024-06     21639  Support  2024-06-29 09:09:00   \n",
       "1  Lapor PPDB     2024-06     21662  Support  2024-06-29 12:51:50   \n",
       "2  Lapor PPDB     2024-06     21088  Support  2024-06-22 05:30:34   \n",
       "3  Lapor PPDB     2024-06     21689  Support  2024-07-01 02:28:58   \n",
       "4  Lapor PPDB     2024-06     21479  Support  2024-06-26 14:13:47   \n",
       "5  Lapor PPDB     2024-06     21680  Support  2024-06-30 19:56:25   \n",
       "\n",
       "             closed on  start date    due date                    project  \\\n",
       "0  2024-07-01 05:11:11  2024-06-29  2024-06-29              Kota Denpasar   \n",
       "1  2024-07-01 05:10:57  2024-06-29  2024-06-29                 Prov. Bali   \n",
       "2  2024-06-22 10:18:51  2024-06-22  2024-06-29  Prov. Nusa Tenggara Timur   \n",
       "3  2024-07-01 02:46:11  2024-06-30  2024-07-01   Kanwil Prov. DKI Jakarta   \n",
       "4  2024-07-01 01:27:33  2024-06-26  2024-06-26              Kota Sukabumi   \n",
       "5  2024-06-30 22:43:27  2024-06-30  2024-06-30                Kota Serang   \n",
       "\n",
       "                                             subject   state  poin  \\\n",
       "0  [Closing Engine] Kota Denpasar 2024 - Jalur Zo...  Closed   NaN   \n",
       "1  [Kendala] Siswa Masih Bisa Langsung Pengajuan ...  Closed   NaN   \n",
       "2  [Closing Engine] Prov NTT 2024 - SMA All Jalur...  Closed   NaN   \n",
       "3  [DEV] Pengecekan dan Penyesuaian hasil seleksi...  Closed   5.0   \n",
       "4  Pengecekan File Ajuan Pendaftaran di Operator ...  Closed   NaN   \n",
       "5  [DEV] Backend - Tolak Pilihan Provinsi Dan Kot...  Closed   1.0   \n",
       "\n",
       "   id resolver          nama resolver grup resolver  id creator  \\\n",
       "0         69.0  Febrian Hilmi Firdaus           DSO          69   \n",
       "1         69.0  Febrian Hilmi Firdaus           DSO          69   \n",
       "2         69.0  Febrian Hilmi Firdaus           DSO          69   \n",
       "3          4.0          Azhar Mashuri           DIP           4   \n",
       "4         74.0                Hayan .           DSO          74   \n",
       "5         62.0            Villa Nanda           DIP           4   \n",
       "\n",
       "            nama creator  ts menit         wkt resolved st lembur  \n",
       "0  Febrian Hilmi Firdaus       NaN  2024-06-29 14:30:41    Lembur  \n",
       "1  Febrian Hilmi Firdaus       NaN  2024-07-01 05:10:57    Normal  \n",
       "2  Febrian Hilmi Firdaus       NaN  2024-06-22 08:54:49    Normal  \n",
       "3          Azhar Mashuri       NaN  2024-07-01 02:46:06    Lembur  \n",
       "4                Hayan .       NaN  2024-06-26 14:24:31    Normal  \n",
       "5          Azhar Mashuri       NaN  2024-06-30 21:41:11    Lembur  "
      ]
     },
     "execution_count": 254,
     "metadata": {},
     "output_type": "execute_result"
    }
   ],
   "source": [
    "data_raw = pd.read_csv('~/Downloads/data-ticket-karyawan.csv', encoding='utf-8')\n",
    "data_raw.columns = map(str.lower, data_raw.columns) #membuat huruf awal nama kolom menjadi tidak kapital\n",
    "\n",
    "sumber = ['Lapor PPDB']\n",
    "data_raw = data_raw.loc[data_raw['sumber'].isin(sumber)]\n",
    "data_raw.head(6)"
   ]
  },
  {
   "cell_type": "code",
   "execution_count": 255,
   "id": "e337b4de-fd75-40b2-a51e-62de6a28c20b",
   "metadata": {},
   "outputs": [
    {
     "name": "stdout",
     "output_type": "stream",
     "text": [
      "<class 'pandas.core.frame.DataFrame'>\n",
      "Index: 2036 entries, 0 to 2035\n",
      "Data columns (total 20 columns):\n",
      " #   Column         Non-Null Count  Dtype  \n",
      "---  ------         --------------  -----  \n",
      " 0   sumber         2036 non-null   object \n",
      " 1   tahun bulan    2036 non-null   object \n",
      " 2   issue id       2036 non-null   int64  \n",
      " 3   tracker        2036 non-null   object \n",
      " 4   created on     2036 non-null   object \n",
      " 5   closed on      2036 non-null   object \n",
      " 6   start date     1630 non-null   object \n",
      " 7   due date       2036 non-null   object \n",
      " 8   project        2036 non-null   object \n",
      " 9   subject        2036 non-null   object \n",
      " 10  state          2036 non-null   object \n",
      " 11  poin           1712 non-null   float64\n",
      " 12  id resolver    2036 non-null   float64\n",
      " 13  nama resolver  2036 non-null   object \n",
      " 14  grup resolver  1952 non-null   object \n",
      " 15  id creator     2036 non-null   int64  \n",
      " 16  nama creator   2036 non-null   object \n",
      " 17  ts menit       371 non-null    float64\n",
      " 18  wkt resolved   2036 non-null   object \n",
      " 19  st lembur      2036 non-null   object \n",
      "dtypes: float64(3), int64(2), object(15)\n",
      "memory usage: 334.0+ KB\n"
     ]
    }
   ],
   "source": [
    "data_raw.info()"
   ]
  },
  {
   "cell_type": "markdown",
   "id": "df70d4bc-d3a5-42d4-a4a9-4e3812d0aac3",
   "metadata": {
    "jp-MarkdownHeadingCollapsed": true
   },
   "source": [
    "# Carpus Processing"
   ]
  },
  {
   "cell_type": "markdown",
   "id": "ba658527-f9e5-4cca-a5b5-103aff9b3418",
   "metadata": {
    "jp-MarkdownHeadingCollapsed": true
   },
   "source": [
    "### Corpus Loading"
   ]
  },
  {
   "cell_type": "code",
   "execution_count": 169,
   "id": "63b9d69e-a1de-4a17-a62d-5a187c89bd95",
   "metadata": {},
   "outputs": [
    {
     "data": {
      "text/plain": [
       "'Override - Batasan Ajuan Pendaftaran Jalur Zonasi, PTO dan Prestasi'"
      ]
     },
     "execution_count": 169,
     "metadata": {},
     "output_type": "execute_result"
    }
   ],
   "source": [
    "corpus = data_raw['subject'].tolist()\n",
    "corpus[18][0:447]"
   ]
  },
  {
   "cell_type": "markdown",
   "id": "bb51f766-a67a-496f-aa29-be983a6ec047",
   "metadata": {
    "jp-MarkdownHeadingCollapsed": true
   },
   "source": [
    "## 1. Stop Words and Stemming"
   ]
  },
  {
   "cell_type": "code",
   "execution_count": 5,
   "id": "3e0fc722-a0ff-417f-94a6-2ee41ddd2769",
   "metadata": {},
   "outputs": [],
   "source": [
    "# removes a list of words (ie. stopwords) from a tokenized list.\n",
    "def removeWords(listOfTokens, listOfWords):\n",
    "    return [token for token in listOfTokens if token not in listOfWords]\n",
    "\n",
    "# applies stemming to a list of tokenized words\n",
    "def applyStemming(listOfTokens, stemmer):\n",
    "    return [stemmer.stem(token) for token in listOfTokens]\n",
    "\n",
    "# removes any words composed of less than 2 or more than 21 letters\n",
    "def twoLetters(listOfTokens):\n",
    "    twoLetterWord = []\n",
    "    for token in listOfTokens:\n",
    "        if len(token) <= 2 or len(token) >= 21:\n",
    "            twoLetterWord.append(token)\n",
    "    return twoLetterWord"
   ]
  },
  {
   "cell_type": "markdown",
   "id": "ff50dbb1-5cae-4ea5-90dc-339f30169021",
   "metadata": {
    "jp-MarkdownHeadingCollapsed": true
   },
   "source": [
    "## 2. The main corpus processing function"
   ]
  },
  {
   "cell_type": "markdown",
   "id": "c109239d-555d-4c4f-89fc-192f4fda187c",
   "metadata": {},
   "source": [
    "STOPWORDS UNTUK BAHASA INDONESIA: https://github.com/stopwords-iso/stopwords-id/blob/132f51cb383abf95a98beb33c4e1afb6933ff884/raw/indonesian-stopwords-complete.txt\n"
   ]
  },
  {
   "cell_type": "markdown",
   "id": "94e2eda3-b160-43c6-b554-2f8cd8914412",
   "metadata": {},
   "source": [
    "Tutorial install nltk: https://www.google.com/search?sca_esv=67eac9aa2b9499b8&sxsrf=ADLYWIKFMpDR9XEWQVPMLfUljnd_t7hZSw:1721699518919&q=nltk+for+mac&tbm=vid&source=lnms&fbs=AEQNm0DVrIRjdA3gRKfJJ-deMT8ZtYOjoIt1NWOMRkEKym4u5PkAZgxJOmIgPx6WieMhF6q1Hq7W6nME2Vp0eHuijF3ZElaTgD0zbj1gkQrti2r6HpgEQJ__FI2P2zVbzOTQnx-xQGuWfPA7_LjHL8X54xCjPigLtLX638JLYGhCvRlpvvGBo-fNpc7q_rU8dgffCadMYeMgxPqmupqDpgcFpVxKo2EBMA&sa=X&ved=2ahUKEwjcuvDBhryHAxXGVmwGHXduBboQ0pQJegQIDBAB&biw=1393&bih=701&dpr=2#fpstate=ive&vld=cid:1e6e69e9,vid:wuQeKgXUZks,st:0"
   ]
  },
  {
   "cell_type": "code",
   "execution_count": 24,
   "id": "3c90055f-2283-4df6-8205-3f7e6ec0f365",
   "metadata": {},
   "outputs": [],
   "source": [
    "def processCorpus(corpus, language):   \n",
    "    #stopwords = nltk.corpus.stopwords.words(language)\n",
    "    param_stemmer = SnowballStemmer(language)\n",
    "    #countries_list = [line.rstrip('\\n') for line in open('lists/countries.txt')] # Load .txt file line by line\n",
    "    #nationalities_list = [line.rstrip('\\n') for line in open('lists/nationalities.txt')] # Load .txt file line by line\n",
    "    #other_words = [line.rstrip('\\n') for line in open('lists/stopwords_scrapmaker.txt')] # Load .txt file line by line\n",
    "    \n",
    "    for document in corpus:\n",
    "        index = corpus.index(document)\n",
    "        #corpus[index] = corpus[index].replace(u'\\ufffd', '8')   # Replaces the ASCII '�' symbol with '8'\n",
    "        corpus[index] = corpus[index].replace(',', '')          # Removes commas\n",
    "        corpus[index] = corpus[index].rstrip('\\n')              # Removes line breaks\n",
    "        corpus[index] = corpus[index].casefold()                # Makes all letters lowercase\n",
    "        \n",
    "        #corpus[index] = re.sub('\\W_',' ', corpus[index])        # removes specials characters and leaves only words\n",
    "        #corpus[index] = re.sub(\"\\S*\\d\\S*\",\" \", corpus[index])   # removes numbers and words concatenated with numbers IE h4ck3r. Removes road names such as BR-381.\n",
    "        #corpus[index] = re.sub(\"\\S*@\\S*\\s?\",\" \", corpus[index]) # removes emails and mentions (words with @)\n",
    "        #corpus[index] = re.sub(r'http\\S+', '', corpus[index])   # removes URLs with http\n",
    "        #corpus[index] = re.sub(r'www\\S+', '', corpus[index])    # removes URLs with www\n",
    "\n",
    "        listOfTokens = word_tokenize(corpus[index])\n",
    "        twoLetterWord = twoLetters(listOfTokens)\n",
    "\n",
    "        #listOfTokens = removeWords(listOfTokens, stopwords)\n",
    "        listOfTokens = removeWords(listOfTokens, twoLetterWord)\n",
    "        #listOfTokens = removeWords(listOfTokens, countries_list)\n",
    "        #listOfTokens = removeWords(listOfTokens, nationalities_list)\n",
    "        #listOfTokens = removeWords(listOfTokens, other_words)\n",
    "        \n",
    "        listOfTokens = applyStemming(listOfTokens, param_stemmer)\n",
    "        #listOfTokens = removeWords(listOfTokens, other_words)\n",
    "\n",
    "        corpus[index]   = \" \".join(listOfTokens)\n",
    "        corpus[index] = unidecode(corpus[index])\n",
    "\n",
    "    return corpus"
   ]
  },
  {
   "cell_type": "markdown",
   "id": "0080e09a-4cfe-4671-bd91-a10c70753253",
   "metadata": {
    "jp-MarkdownHeadingCollapsed": true
   },
   "source": [
    "## Install NLTK for Mac"
   ]
  },
  {
   "cell_type": "code",
   "execution_count": 10,
   "id": "0e1ef38d-4dfb-4ee9-abee-34df1b0a9037",
   "metadata": {},
   "outputs": [],
   "source": [
    "import nltk\n",
    "import zipfile\n",
    "import requests"
   ]
  },
  {
   "cell_type": "code",
   "execution_count": 11,
   "id": "16b31817-454f-41f4-bf96-e59ee9189726",
   "metadata": {},
   "outputs": [
    {
     "data": {
      "text/plain": [
       "13905355"
      ]
     },
     "execution_count": 11,
     "metadata": {},
     "output_type": "execute_result"
    }
   ],
   "source": [
    "# Step 1: Download the punkt.zip file\n",
    "url = 'https://github.com/nltk/nltk_data/blob/gh-pages/packages/tokenizers/punkt.zip?raw=true'\n",
    "r = requests.get(url, allow_redirects=True)\n",
    "open('punkt.zip', 'wb').write(r.content)\n"
   ]
  },
  {
   "cell_type": "code",
   "execution_count": 12,
   "id": "7fc438f5-6982-4888-b6c1-1a284084c215",
   "metadata": {},
   "outputs": [],
   "source": [
    "# Step 2: Extract the contents of the zip file\n",
    "with zipfile.ZipFile('punkt.zip', 'r') as zip_ref:\n",
    "    zip_ref.extractall('/Users/mac/nltk_data/tokenizers')"
   ]
  },
  {
   "cell_type": "code",
   "execution_count": 13,
   "id": "ce0e1197-a98a-42a0-a321-0c57d0d888b7",
   "metadata": {},
   "outputs": [
    {
     "data": {
      "text/plain": [
       "FileSystemPathPointer('/Users/mac/nltk_data/tokenizers/punkt/PY3')"
      ]
     },
     "execution_count": 13,
     "metadata": {},
     "output_type": "execute_result"
    }
   ],
   "source": [
    "# Step 3: Verify if the data is available\n",
    "from nltk.data import find\n",
    "find('tokenizers/punkt')"
   ]
  },
  {
   "cell_type": "code",
   "execution_count": 14,
   "id": "68c9d0ce-6abe-495e-bfd6-f49c726f4eca",
   "metadata": {},
   "outputs": [
    {
     "name": "stderr",
     "output_type": "stream",
     "text": [
      "[nltk_data] Error loading punkt: <urlopen error [SSL:\n",
      "[nltk_data]     CERTIFICATE_VERIFY_FAILED] certificate verify failed:\n",
      "[nltk_data]     unable to get local issuer certificate (_ssl.c:1000)>\n"
     ]
    },
    {
     "data": {
      "text/plain": [
       "False"
      ]
     },
     "execution_count": 14,
     "metadata": {},
     "output_type": "execute_result"
    }
   ],
   "source": [
    "import nltk\n",
    "nltk.download('punkt')"
   ]
  },
  {
   "cell_type": "code",
   "execution_count": 15,
   "id": "5863f318-8120-4f67-88ea-d621fd766f76",
   "metadata": {},
   "outputs": [],
   "source": [
    "import nltk\n",
    "from nltk.tokenize import word_tokenize"
   ]
  },
  {
   "cell_type": "code",
   "execution_count": 16,
   "id": "628d290b-905c-417e-b8db-c68f851e13e8",
   "metadata": {},
   "outputs": [],
   "source": [
    "# Ensure the NLTK data path includes the directory where 'punkt' is located\n",
    "nltk.data.path.append('/Users/mac/nltk_data')"
   ]
  },
  {
   "cell_type": "code",
   "execution_count": 17,
   "id": "99311fd1-5f7e-4067-9936-fbf669790e82",
   "metadata": {},
   "outputs": [],
   "source": [
    "# Sample text\n",
    "text = \"Hello, how are you?\""
   ]
  },
  {
   "cell_type": "code",
   "execution_count": 18,
   "id": "3f38cabe-b904-47ba-b666-2a0a2c76ca2e",
   "metadata": {},
   "outputs": [
    {
     "name": "stdout",
     "output_type": "stream",
     "text": [
      "['Hello', ',', 'how', 'are', 'you', '?']\n"
     ]
    }
   ],
   "source": [
    "# Tokenize the text\n",
    "tokens = word_tokenize(text)\n",
    "print(tokens)"
   ]
  },
  {
   "cell_type": "markdown",
   "id": "ccb882ff-973d-44d0-81f9-f5b00c06c73e",
   "metadata": {
    "jp-MarkdownHeadingCollapsed": true
   },
   "source": [
    "## 2. Lanjutan Corpus"
   ]
  },
  {
   "cell_type": "code",
   "execution_count": 26,
   "id": "8aa1b332-8044-4526-b5ea-f3c3f31512c9",
   "metadata": {},
   "outputs": [
    {
     "ename": "ValueError",
     "evalue": "The language 'indonesia' is not supported.",
     "output_type": "error",
     "traceback": [
      "\u001b[0;31m---------------------------------------------------------------------------\u001b[0m",
      "\u001b[0;31mValueError\u001b[0m                                Traceback (most recent call last)",
      "Cell \u001b[0;32mIn[26], line 2\u001b[0m\n\u001b[1;32m      1\u001b[0m language \u001b[38;5;241m=\u001b[39m \u001b[38;5;124m'\u001b[39m\u001b[38;5;124mindonesia\u001b[39m\u001b[38;5;124m'\u001b[39m\n\u001b[0;32m----> 2\u001b[0m corpus \u001b[38;5;241m=\u001b[39m \u001b[43mprocessCorpus\u001b[49m\u001b[43m(\u001b[49m\u001b[43mcorpus\u001b[49m\u001b[43m,\u001b[49m\u001b[43m \u001b[49m\u001b[43mlanguage\u001b[49m\u001b[43m)\u001b[49m\n\u001b[1;32m      3\u001b[0m corpus[\u001b[38;5;241m18\u001b[39m][\u001b[38;5;241m0\u001b[39m:\u001b[38;5;241m460\u001b[39m]\n",
      "Cell \u001b[0;32mIn[24], line 3\u001b[0m, in \u001b[0;36mprocessCorpus\u001b[0;34m(corpus, language)\u001b[0m\n\u001b[1;32m      1\u001b[0m \u001b[38;5;28;01mdef\u001b[39;00m \u001b[38;5;21mprocessCorpus\u001b[39m(corpus, language):   \n\u001b[1;32m      2\u001b[0m     \u001b[38;5;66;03m#stopwords = nltk.corpus.stopwords.words(language)\u001b[39;00m\n\u001b[0;32m----> 3\u001b[0m     param_stemmer \u001b[38;5;241m=\u001b[39m \u001b[43mSnowballStemmer\u001b[49m\u001b[43m(\u001b[49m\u001b[43mlanguage\u001b[49m\u001b[43m)\u001b[49m\n\u001b[1;32m      4\u001b[0m     \u001b[38;5;66;03m#countries_list = [line.rstrip('\\n') for line in open('lists/countries.txt')] # Load .txt file line by line\u001b[39;00m\n\u001b[1;32m      5\u001b[0m     \u001b[38;5;66;03m#nationalities_list = [line.rstrip('\\n') for line in open('lists/nationalities.txt')] # Load .txt file line by line\u001b[39;00m\n\u001b[1;32m      6\u001b[0m     \u001b[38;5;66;03m#other_words = [line.rstrip('\\n') for line in open('lists/stopwords_scrapmaker.txt')] # Load .txt file line by line\u001b[39;00m\n\u001b[1;32m      8\u001b[0m     \u001b[38;5;28;01mfor\u001b[39;00m document \u001b[38;5;129;01min\u001b[39;00m corpus:\n",
      "File \u001b[0;32m~/Downloads/jupyter_env/lib/python3.12/site-packages/nltk/stem/snowball.py:106\u001b[0m, in \u001b[0;36mSnowballStemmer.__init__\u001b[0;34m(self, language, ignore_stopwords)\u001b[0m\n\u001b[1;32m    104\u001b[0m \u001b[38;5;28;01mdef\u001b[39;00m \u001b[38;5;21m__init__\u001b[39m(\u001b[38;5;28mself\u001b[39m, language, ignore_stopwords\u001b[38;5;241m=\u001b[39m\u001b[38;5;28;01mFalse\u001b[39;00m):\n\u001b[1;32m    105\u001b[0m     \u001b[38;5;28;01mif\u001b[39;00m language \u001b[38;5;129;01mnot\u001b[39;00m \u001b[38;5;129;01min\u001b[39;00m \u001b[38;5;28mself\u001b[39m\u001b[38;5;241m.\u001b[39mlanguages:\n\u001b[0;32m--> 106\u001b[0m         \u001b[38;5;28;01mraise\u001b[39;00m \u001b[38;5;167;01mValueError\u001b[39;00m(\u001b[38;5;124mf\u001b[39m\u001b[38;5;124m\"\u001b[39m\u001b[38;5;124mThe language \u001b[39m\u001b[38;5;124m'\u001b[39m\u001b[38;5;132;01m{\u001b[39;00mlanguage\u001b[38;5;132;01m}\u001b[39;00m\u001b[38;5;124m'\u001b[39m\u001b[38;5;124m is not supported.\u001b[39m\u001b[38;5;124m\"\u001b[39m)\n\u001b[1;32m    107\u001b[0m     stemmerclass \u001b[38;5;241m=\u001b[39m \u001b[38;5;28mglobals\u001b[39m()[language\u001b[38;5;241m.\u001b[39mcapitalize() \u001b[38;5;241m+\u001b[39m \u001b[38;5;124m\"\u001b[39m\u001b[38;5;124mStemmer\u001b[39m\u001b[38;5;124m\"\u001b[39m]\n\u001b[1;32m    108\u001b[0m     \u001b[38;5;28mself\u001b[39m\u001b[38;5;241m.\u001b[39mstemmer \u001b[38;5;241m=\u001b[39m stemmerclass(ignore_stopwords)\n",
      "\u001b[0;31mValueError\u001b[0m: The language 'indonesia' is not supported."
     ]
    }
   ],
   "source": [
    "language = 'indonesia'\n",
    "corpus = processCorpus(corpus, language)\n",
    "corpus[18][0:460]"
   ]
  },
  {
   "cell_type": "markdown",
   "id": "e29912f5-4f57-4f2c-83d5-a9438871088c",
   "metadata": {},
   "source": [
    "the language 'indonesia' or 'indonesian' is not supported by NLTK's punkt tokenizer. NLTK's punkt tokenizer primarily supports a limited number of languages.\n",
    "\n",
    "For Indonesian language support, you can use other libraries like Sastrawi or spacy for tokenization."
   ]
  },
  {
   "cell_type": "markdown",
   "id": "be75f825-e151-42a3-ac04-205d9cf92893",
   "metadata": {},
   "source": [
    "# Use Spacy Library"
   ]
  },
  {
   "cell_type": "markdown",
   "id": "de8e733f-3020-42eb-b376-2f3205e14f46",
   "metadata": {},
   "source": [
    "### Pilih kolom yang akan digunakan"
   ]
  },
  {
   "cell_type": "code",
   "execution_count": 256,
   "id": "84ef6089-2632-4fa2-9259-d00fb8bf74fe",
   "metadata": {},
   "outputs": [
    {
     "data": {
      "text/plain": [
       "0       [Closing Engine] Kota Denpasar 2024 - Jalur Zo...\n",
       "1       [Kendala] Siswa Masih Bisa Langsung Pengajuan ...\n",
       "2       [Closing Engine] Prov NTT 2024 - SMA All Jalur...\n",
       "3       [DEV] Pengecekan dan Penyesuaian hasil seleksi...\n",
       "4       Pengecekan File Ajuan Pendaftaran di Operator ...\n",
       "                              ...                        \n",
       "2031    Reset daftar Ajuan Pendaftaran Gabungan zona Demo\n",
       "2032                    Override Engine Seleksi Kota Batu\n",
       "2033       Dokumen SPH PPDB Online Kota Palangkaraya 2023\n",
       "2034    Override Info Dari Formatter Kapasitas Jika Ya...\n",
       "2035                 Konfirmasi daerah 3 Kota/Kab di TR I\n",
       "Name: subject, Length: 2036, dtype: object"
      ]
     },
     "execution_count": 256,
     "metadata": {},
     "output_type": "execute_result"
    }
   ],
   "source": [
    "data_subj = data_raw['subject']\n",
    "data = data_raw['subject']\n",
    "data"
   ]
  },
  {
   "cell_type": "code",
   "execution_count": 257,
   "id": "3f54285e-d120-41b7-9953-c57be592ec83",
   "metadata": {},
   "outputs": [
    {
     "data": {
      "text/plain": [
       "array(['[Closing Engine] Kota Denpasar 2024 - Jalur Zonasi Kategori Umum - Tahap 1',\n",
       "       '[Kendala] Siswa Masih Bisa Langsung Pengajuan Pendaftaran di 2 Jenjang Sekaligus',\n",
       "       '[Closing Engine] Prov NTT 2024 - SMA All Jalur - Tahap 1', ...,\n",
       "       'Dokumen SPH PPDB Online Kota Palangkaraya 2023',\n",
       "       'Override Info Dari Formatter Kapasitas Jika Yang Diakses Adalah Kota Batu',\n",
       "       'Konfirmasi daerah 3 Kota/Kab di TR I'], dtype=object)"
      ]
     },
     "execution_count": 257,
     "metadata": {},
     "output_type": "execute_result"
    }
   ],
   "source": [
    "data.values #Menjadikan array"
   ]
  },
  {
   "cell_type": "markdown",
   "id": "fcfeb2a0-959f-4d5e-ab59-0bbb61f359b6",
   "metadata": {},
   "source": [
    "### Cleaning data"
   ]
  },
  {
   "cell_type": "code",
   "execution_count": 258,
   "id": "c46c05b3-85fe-4aae-829c-2511855608ef",
   "metadata": {},
   "outputs": [
    {
     "data": {
      "text/plain": [
       "0       [closing engine] kota denpasar 2024 - jalur zo...\n",
       "1       [kendala] siswa masih bisa langsung pengajuan ...\n",
       "2       [closing engine] prov ntt 2024 - sma all jalur...\n",
       "3       [dev] pengecekan dan penyesuaian hasil seleksi...\n",
       "4       pengecekan file ajuan pendaftaran di operator ...\n",
       "                              ...                        \n",
       "2031    reset daftar ajuan pendaftaran gabungan zona demo\n",
       "2032                    override engine seleksi kota batu\n",
       "2033       dokumen sph ppdb online kota palangkaraya 2023\n",
       "2034    override info dari formatter kapasitas jika ya...\n",
       "2035                 konfirmasi daerah 3 kota/kab di tr i\n",
       "Name: subject, Length: 2036, dtype: object"
      ]
     },
     "execution_count": 258,
     "metadata": {},
     "output_type": "execute_result"
    }
   ],
   "source": [
    "#Mengubah huruf kapital menjadi lower case\n",
    "data = data.str.lower()\n",
    "data"
   ]
  },
  {
   "cell_type": "code",
   "execution_count": 259,
   "id": "adb10fff-406b-4f89-9b54-80e22bb03bc9",
   "metadata": {},
   "outputs": [
    {
     "data": {
      "text/plain": [
       "0       closing engine     jalur zonasi kategori umum ...\n",
       "1       kendala siswa masih bisa langsung pengajuan pe...\n",
       "2               closing engine     sma all jalur  tahap 1\n",
       "3       dev pengecekan dan penyesuaian hasil seleksi j...\n",
       "4       pengecekan file ajuan pendaftaran di operator ...\n",
       "                              ...                        \n",
       "2031    reset daftar ajuan pendaftaran gabungan zona demo\n",
       "2032                            override engine seleksi  \n",
       "2033                               dokumen sph  online   \n",
       "2034    override info dari formatter kapasitas jika ya...\n",
       "2035                         konfirmasi daerah 3  di tr i\n",
       "Name: subject, Length: 2036, dtype: object"
      ]
     },
     "execution_count": 259,
     "metadata": {},
     "output_type": "execute_result"
    }
   ],
   "source": [
    "def clean_text(text):\n",
    "    text = re.sub(r\"(@\\[A-Za-z0-9]+)|([^0-9A-Za-z \\t])|(\\w+:\\/\\/\\S+)|^rt|http.+?\", \"\", text)\n",
    "    text = re.sub(r\"2024|2023|ppdb\", \"\", text)\n",
    "    text = re.sub(r\"kota|kab|prov|kotakab\", \"\", text)\n",
    "    text = re.sub(r\"balikpapan|bontang|samarinda|bangka|bantul|barito selatan|batang|berau|bungo|demak|gresik|grobogan|jepara|karimun|klaten|kudus|kulon progo| kutai timur|malang|pati|purbalingga|sleman|jakarta|banjarbaru|batu|bengkulu|bontang|denpasar|jambi|mataram|mojokerto|padang sidempuan|palangkaraya|pasuruan|pontianak|serang|sukabumi|yogyakarta|bali|banten|yogyakarta|jambi|jawa tengah|kalimantan tengah|kalimantan selatan|lampung|ntt|nusa tenggara timur\", \"\", text)\n",
    "    return text\n",
    "    \n",
    "\n",
    "# Apply the function to each element in the 'text' column\n",
    "data = data.apply(clean_text)\n",
    "\n",
    "data"
   ]
  },
  {
   "cell_type": "code",
   "execution_count": 260,
   "id": "69c483c2-8a4e-4b6a-9a61-e186d59c638c",
   "metadata": {},
   "outputs": [
    {
     "data": {
      "text/plain": [
       "array(['closing engine     jalur zonasi kategori umum  tahap 1',\n",
       "       'kendala siswa masih bisa langsung pengajuan pendaftaran di 2 jenjang sekaligus',\n",
       "       'closing engine     sma all jalur  tahap 1', ...,\n",
       "       'dokumen sph  online   ',\n",
       "       'override info dari formatter kapasitas jika yang diakses adalah  ',\n",
       "       'konfirmasi daerah 3  di tr i'], dtype=object)"
      ]
     },
     "execution_count": 260,
     "metadata": {},
     "output_type": "execute_result"
    }
   ],
   "source": [
    "data.values"
   ]
  },
  {
   "cell_type": "markdown",
   "id": "603bfbff-a653-4dda-b192-43bd239778aa",
   "metadata": {},
   "source": [
    "## Tokenization"
   ]
  },
  {
   "cell_type": "code",
   "execution_count": 261,
   "id": "5fe0c8d3-bfe3-4bde-814d-47e111fd0c67",
   "metadata": {},
   "outputs": [
    {
     "name": "stdout",
     "output_type": "stream",
     "text": [
      "Article process: 2036 from 2036\n",
      "\n",
      "total vacab stem:  15758\n",
      "total vacab tokenize:  15758\n"
     ]
    }
   ],
   "source": [
    "#not super pythonic, no, not at all.\n",
    "#use extend so it's a big flat list of vocab\n",
    "from __future__ import print_function\n",
    "totalvocab_stemmed = []\n",
    "totalvocab_tokenized = []\n",
    "dataarticle = list(data.values)\n",
    "count = 0\n",
    "for i in dataarticle:\n",
    "    print(\"\\rArticle process: {} from {}\".format(count+1, len(dataarticle)), end=\"\")\n",
    "    count += 1\n",
    "    allwords_stemmed = tokenize_and_stem(i) #for each item in 'synopses', tokenize/stem\n",
    "    totalvocab_stemmed.extend(allwords_stemmed) #extend the 'totalvocab_stemmed' list\n",
    "    \n",
    "    allwords_tokenized = tokenize_only(i)\n",
    "    totalvocab_tokenized.extend(allwords_tokenized)\n",
    "print (\"\")\n",
    "print (\"\")\n",
    "\n",
    "print (\"total vacab stem: \", len(totalvocab_stemmed))\n",
    "print (\"total vacab tokenize: \",len(totalvocab_tokenized))"
   ]
  },
  {
   "cell_type": "code",
   "execution_count": 262,
   "id": "07b133d3-1889-4ce6-b407-1b08edd703ce",
   "metadata": {},
   "outputs": [
    {
     "name": "stdout",
     "output_type": "stream",
     "text": [
      "there are 15758 items in vocab_frame\n"
     ]
    }
   ],
   "source": [
    "vocab_frame = pd.DataFrame({'words': totalvocab_tokenized}, index = totalvocab_stemmed)\n",
    "print ('there are ' + str(vocab_frame.shape[0]) + ' items in vocab_frame')\n",
    "# vocab_frame[:10] #print 10 word"
   ]
  },
  {
   "cell_type": "code",
   "execution_count": 263,
   "id": "26c3ca09-65ea-4aeb-a34a-23034e735deb",
   "metadata": {},
   "outputs": [
    {
     "name": "stdout",
     "output_type": "stream",
     "text": [
      "TF-idf matrix:  (2036, 1220)\n"
     ]
    }
   ],
   "source": [
    "from spacy.lang.id import stop_words\n",
    "from string import punctuation, digits\n",
    "from sklearn.feature_extraction.text import TfidfVectorizer\n",
    "\n",
    "STWRD = list(set(punctuation))\n",
    "STWRD += list(set(digits))\n",
    "STWRD += stop_words.STOP_WORDS\n",
    "\n",
    "#tfidf_vectorizer = TfidfVectorizer(max_df=0.8, max_features=200000,\n",
    "                                 #min_df=2, stop_words=STWRD,\n",
    "                                 #use_idf=True, tokenizer=tokenize_and_stem, ngram_range=(1,3))\n",
    "\n",
    "tfidf_vectorizer = TfidfVectorizer()\n",
    "\n",
    "tfidf_matrix = tfidf_vectorizer.fit_transform(list(data.values)) #fit the vectorizer to synopses\n",
    "\n",
    "print(\"TF-idf matrix: \",tfidf_matrix.shape)\n",
    "\n",
    "terms = tfidf_vectorizer.get_feature_names_out()"
   ]
  },
  {
   "cell_type": "code",
   "execution_count": 264,
   "id": "b0cdc326-f678-48a2-baab-3c10fee5e513",
   "metadata": {},
   "outputs": [
    {
     "data": {
      "text/plain": [
       "array([[ 0.00000000e+00,  1.00000000e+00,  5.21789195e-01, ...,\n",
       "         1.00000000e+00,  1.00000000e+00,  1.00000000e+00],\n",
       "       [ 1.00000000e+00, -2.22044605e-16,  1.00000000e+00, ...,\n",
       "         1.00000000e+00,  1.00000000e+00,  9.37113882e-01],\n",
       "       [ 5.21789195e-01,  1.00000000e+00, -2.22044605e-16, ...,\n",
       "         1.00000000e+00,  1.00000000e+00,  1.00000000e+00],\n",
       "       ...,\n",
       "       [ 1.00000000e+00,  1.00000000e+00,  1.00000000e+00, ...,\n",
       "        -2.22044605e-16,  1.00000000e+00,  1.00000000e+00],\n",
       "       [ 1.00000000e+00,  1.00000000e+00,  1.00000000e+00, ...,\n",
       "         1.00000000e+00, -2.22044605e-16,  1.00000000e+00],\n",
       "       [ 1.00000000e+00,  9.37113882e-01,  1.00000000e+00, ...,\n",
       "         1.00000000e+00,  1.00000000e+00,  0.00000000e+00]])"
      ]
     },
     "execution_count": 264,
     "metadata": {},
     "output_type": "execute_result"
    }
   ],
   "source": [
    "from sklearn.metrics.pairwise import cosine_similarity\n",
    "dist = 1 - cosine_similarity(tfidf_matrix)\n",
    "print\n",
    "dist"
   ]
  },
  {
   "cell_type": "markdown",
   "id": "70898e40-4b20-496b-9277-8517ba7d21d0",
   "metadata": {},
   "source": [
    "## Elbow methods"
   ]
  },
  {
   "cell_type": "code",
   "execution_count": 210,
   "id": "28e1187f-a5ac-4abc-ae96-6b1f403fbf83",
   "metadata": {},
   "outputs": [],
   "source": [
    "from tqdm import tqdm"
   ]
  },
  {
   "cell_type": "code",
   "execution_count": 211,
   "id": "1b2da86f-be7d-40ee-89fa-78f61540d9cb",
   "metadata": {},
   "outputs": [],
   "source": [
    "# elbow score plot with Yellowbrick\n",
    "def elbowplot(df, elbowmetric, model):\n",
    "    print(\"Elbow Score Plot (\" + str(elbowmetric) + \" metric):\")\n",
    "    vis = KElbowVisualizer(\n",
    "        model, \n",
    "        k=(2,nK), \n",
    "        metric=elbowmetric,\n",
    "        locate_elbow=True, \n",
    "        timings=False)\n",
    "    vis.fit(df)      \n",
    "    print(\"elbow value = optimal k:\", f'{vis.elbow_value_:.0f}', \\\n",
    "            \" | elbow score:\", f'{vis.elbow_score_:,.3f}')\n",
    "    vis.show() "
   ]
  },
  {
   "cell_type": "markdown",
   "id": "76790733-3899-4a59-a5a8-200b2dabf33f",
   "metadata": {},
   "source": [
    "## KMeans"
   ]
  },
  {
   "cell_type": "code",
   "execution_count": 265,
   "id": "8417d6d4-4175-422a-a354-686ae0021bf1",
   "metadata": {},
   "outputs": [],
   "source": [
    "from sklearn.cluster import KMeans\n",
    "\n",
    "num_clusters = 10\n",
    "\n",
    "km = KMeans(n_clusters=num_clusters)\n",
    "\n",
    "km.fit(tfidf_matrix)\n",
    "\n",
    "clusters = km.labels_.tolist()"
   ]
  },
  {
   "cell_type": "code",
   "execution_count": 267,
   "id": "6c9fe952-cad6-4781-b6db-a72b0d3316a5",
   "metadata": {},
   "outputs": [
    {
     "data": {
      "text/html": [
       "<div>\n",
       "<style scoped>\n",
       "    .dataframe tbody tr th:only-of-type {\n",
       "        vertical-align: middle;\n",
       "    }\n",
       "\n",
       "    .dataframe tbody tr th {\n",
       "        vertical-align: top;\n",
       "    }\n",
       "\n",
       "    .dataframe thead th {\n",
       "        text-align: right;\n",
       "    }\n",
       "</style>\n",
       "<table border=\"1\" class=\"dataframe\">\n",
       "  <thead>\n",
       "    <tr style=\"text-align: right;\">\n",
       "      <th></th>\n",
       "      <th>subject</th>\n",
       "      <th>cluster</th>\n",
       "    </tr>\n",
       "  </thead>\n",
       "  <tbody>\n",
       "    <tr>\n",
       "      <th>9</th>\n",
       "      <td>[Closing Engine] Kota Denpasar 2024 - Jalur Zo...</td>\n",
       "      <td>8</td>\n",
       "    </tr>\n",
       "    <tr>\n",
       "      <th>1</th>\n",
       "      <td>[Kendala] Siswa Masih Bisa Langsung Pengajuan ...</td>\n",
       "      <td>4</td>\n",
       "    </tr>\n",
       "    <tr>\n",
       "      <th>9</th>\n",
       "      <td>[Closing Engine] Prov NTT 2024 - SMA All Jalur...</td>\n",
       "      <td>8</td>\n",
       "    </tr>\n",
       "    <tr>\n",
       "      <th>9</th>\n",
       "      <td>[DEV] Pengecekan dan Penyesuaian hasil seleksi...</td>\n",
       "      <td>8</td>\n",
       "    </tr>\n",
       "    <tr>\n",
       "      <th>6</th>\n",
       "      <td>Pengecekan File Ajuan Pendaftaran di Operator ...</td>\n",
       "      <td>5</td>\n",
       "    </tr>\n",
       "    <tr>\n",
       "      <th>...</th>\n",
       "      <td>...</td>\n",
       "      <td>...</td>\n",
       "    </tr>\n",
       "    <tr>\n",
       "      <th>6</th>\n",
       "      <td>Reset daftar Ajuan Pendaftaran Gabungan zona Demo</td>\n",
       "      <td>5</td>\n",
       "    </tr>\n",
       "    <tr>\n",
       "      <th>4</th>\n",
       "      <td>Override Engine Seleksi Kota Batu</td>\n",
       "      <td>4</td>\n",
       "    </tr>\n",
       "    <tr>\n",
       "      <th>8</th>\n",
       "      <td>Dokumen SPH PPDB Online Kota Palangkaraya 2023</td>\n",
       "      <td>6</td>\n",
       "    </tr>\n",
       "    <tr>\n",
       "      <th>4</th>\n",
       "      <td>Override Info Dari Formatter Kapasitas Jika Ya...</td>\n",
       "      <td>4</td>\n",
       "    </tr>\n",
       "    <tr>\n",
       "      <th>1</th>\n",
       "      <td>Konfirmasi daerah 3 Kota/Kab di TR I</td>\n",
       "      <td>4</td>\n",
       "    </tr>\n",
       "  </tbody>\n",
       "</table>\n",
       "<p>2036 rows × 2 columns</p>\n",
       "</div>"
      ],
      "text/plain": [
       "                                              subject  cluster\n",
       "9   [Closing Engine] Kota Denpasar 2024 - Jalur Zo...        8\n",
       "1   [Kendala] Siswa Masih Bisa Langsung Pengajuan ...        4\n",
       "9   [Closing Engine] Prov NTT 2024 - SMA All Jalur...        8\n",
       "9   [DEV] Pengecekan dan Penyesuaian hasil seleksi...        8\n",
       "6   Pengecekan File Ajuan Pendaftaran di Operator ...        5\n",
       "..                                                ...      ...\n",
       "6   Reset daftar Ajuan Pendaftaran Gabungan zona Demo        5\n",
       "4                   Override Engine Seleksi Kota Batu        4\n",
       "8      Dokumen SPH PPDB Online Kota Palangkaraya 2023        6\n",
       "4   Override Info Dari Formatter Kapasitas Jika Ya...        4\n",
       "1                Konfirmasi daerah 3 Kota/Kab di TR I        4\n",
       "\n",
       "[2036 rows x 2 columns]"
      ]
     },
     "execution_count": 267,
     "metadata": {},
     "output_type": "execute_result"
    }
   ],
   "source": [
    "output = { 'subject': list(data_subj.values), 'cluster': clusters }\n",
    "\n",
    "data_hsl = pd.DataFrame(films, index = [clusters] , columns = ['subject','cluster'])\n",
    "data_hsl"
   ]
  },
  {
   "cell_type": "code",
   "execution_count": 268,
   "id": "95c94f15-d9b8-49ca-a121-eb1e199c66cf",
   "metadata": {},
   "outputs": [
    {
     "data": {
      "text/plain": [
       "cluster\n",
       "4    640\n",
       "2    187\n",
       "5    183\n",
       "7    180\n",
       "1    175\n",
       "9    171\n",
       "6    153\n",
       "8    152\n",
       "3    135\n",
       "0     60\n",
       "Name: count, dtype: int64"
      ]
     },
     "execution_count": 268,
     "metadata": {},
     "output_type": "execute_result"
    }
   ],
   "source": [
    "data_hsl['cluster'].value_counts() #number of article per cluster (clusters from 0 to 4)"
   ]
  },
  {
   "cell_type": "code",
   "execution_count": 269,
   "id": "50a5aba0-41f5-4102-8531-4cfdb4c03500",
   "metadata": {},
   "outputs": [
    {
     "name": "stdout",
     "output_type": "stream",
     "text": [
      "Top terms per cluster:\n",
      "\n",
      "Cluster 0 topic:\n",
      "\n",
      "Cluster 0 subject: ST - koreksi alur, [Kab. Barito Selatan] Penambahan Gambar Banner, Mengganti Gambar Banner, ST - [Req] Pembuatan Poster/banner Pena Berkah Kalteng, ST - Alur Prov. Bali, ST - Pengecekan SSL Custom Domain PPDB Kota Serang 2024, ST - Menambah Storage pada VM database slave, ST - Merekayasa banner bengkulu, ST - custom domain ppdb.jepara.go.id dari https://jepara.siap-ppdb.com/#/, ST - Cek kesesuaian SSL untuk domain PPDB Jepara, ST - Upgrade spek 10.23.2.245, ST - Banner Situs Publik PPDB Online Prov. Kalteng 2024, mangganti Background Banner, ST - ganti foto banner kab bangka, pasang Gambar Alur, Update Banner [2], Pengecekan SSL Custom Domain PPDB Prov. Banten 2024, Banner Situs Publik PPDB Online Prov. Banten 2024, Banner Baru PPDB Online Prov. Banten 2024, Pemasangan URL pada tombol Berkas Alur Gambar, Perubahan Gambar Alur Pelaksanaan SD dan SMP di situs Publik, [Kab. Barito Selatan] Penambahan Gambar Alur Model B+, [Banner] Implementasi Banner Prov Bali 2024, [Banner] Menambahkan Logo Hut Kota Mojokerto pada Banner Situs Publik, Merubah gambar pada menu alur, Merubah Gambar Alur - Update 1, Perbaikan Gambar alur Jalur Bibit Unggul Kota Yogyakarta, Penyesuaian Gambar Alur Pendaftaran PPDB Online Kota Yogya SMP Jalur Perpindahan Tugas, ST - Password Situs Demo PPDB Prov. Banten, ST - Password untuk Akses Situs Publik Demo, ST - [infrastruktur] Subdomain untuk Production Prov Bali 2024, ST - Mengganti User VPN Pusdatikomdik, ST - Perbaikan Gambar alur Jalur Bibit Unggul Kota Yogyakarta, ST - Update Banner Prov Banten, ST - Mangganti Background Banner Kota Jambi, ST - Alur Kota Pontianak, ST - Banner Padang sidempuan (Revisi Typo), ST - Upgrade Kapasitas Database PPDB Jawa Tengah 2024, ST - Alur Kab. Karimun, [DEV] Frontend Pemasangan URL pada tombol Berkas Alur Gambar, ST - Duplikasi request upstream dari LB Dinamis, ST - Pemasangan banner Prov Bali 2024, ST - Revisi banner Pak Gub, Gambar Alur Di situs publik, ST - Pengecekan SSL Custom Domain PPDB Prov. Banten 2024, ST - Banner Padang sidempuan, ST - UIX alur jambi B+, Mengganti Photo pejabat pada Banner situs Publik, ST - [Kab. Barito Selatan] Penambahan Gambar Banner, [UIX]Penyesuaian Gambar Alur Pendaftaran PPDB Online Kota Yogya SMP Jalur Perpindahan Tugas, ST - [Kab. Barito Selatan] Penambahan Gambar Alur Model B+, ST - Custom Domain PPDB Kota Jambi 2024, Pasang Banner TKDN PPDB Online di Portal, [DEV] Pasang Banner TKDN PPDB Online di Portal, ST - pemasangan banner nilai tkdn portal produk ppdb, ST - Penambahan Storage 10.21.2.226, ST - Upscale VM tool migrasi 10.21.2.153, ST - Penambahan Storage 10.21.2.108, ST - SSL Domain jakarta.siap-ppdb.com, ST - Penyediaan VM OCI untuk Database slave all wilayah,\n",
      "\n",
      "Cluster 1 topic:\n",
      "\n",
      "Cluster 1 subject: Migrasi Data Kelurahan Dari Demo ke Real, [Kab Bantul] Data siswa 2024  - perbaikan 1, Override - Perubahan Redaksi Pendaftaran Siswa Database, [Kab. Barito Selatan] Migrasi data Lulusan asal Sekolah SD Barito Selatan 2024, [Database] Proses Migrasi Database Tambahan Batch 2, [DEV] Perubahan Redaksi Pendaftaran Siswa Database, Menambah Storage pada VM database slave, Proses Blokir dan Buka Blokir NIK Bina Lingkungan 2024 ke 6, [DEV] Perubahan Redaksi Pendaftaran Siswa Database, Proses Perbaikan Siswa hasil migrasi tidak muncul di pencarian sistem, Penambahan space database 2024-06-19, [Database] Proses Migrasi Data Siswa Batch 3, Proses Migrasi dan Replace Alamat Siswa Rusunawa 2024 ke 2, Proses Normalisasi Data Siswa Luar yang dimigrasi, [Database] Update Master Dukuh ke Production, [Database] Proses Pengecekan Lulusan SD, [Database] Proses Migrasi Tambahan Batch 2, [Kota Balikpapan] Proses Migrasi Data DNT Kota Balikpapan, Proses Migrasi Biodata Lulusan untuk PPDB Prov. Kalteng 2024, Proses Sinkron Master Kelurahan dari Demo Ke Riil, Proses Migrasi Sekolah Asal untuk Jenjang SMP, Upgrade Kapasitas Database Zona Nusantara, Update sekolah peserta zona riil, [Database] Proses Tambahan Migrasi, Tambah kapasitas HDD pada server database 2024-06-20, ST - Tambah kapasitas HDD pada server database 2024-06-20, Migrasi Data Sekolah Peserta Dari Demo Ke Real, Override - Perubahan Redaksi Pendaftaran Siswa Database, [Database] MIgrasi Database Siswa Lulusan SD-MI Kab Malang 2024 Batch 3, Migrasi Data DNT Lulusan SD/MI Kab. Berau 2024, Perbaikan Data ke-2 DNT Lulusan SD/MI Kota Palangkaraya 2024, Migrasi Data DNT Lulusan SD/MI Kota Palangkaraya , Perbaikan Data DNT Lulusan SD/MI Kota Palangkaraya 2024, Migrasi data Lulusan asal Sekolah MI/SD Kota Banjarmasin 2024, [Kab. Barito Selatan] Data DNT Demo, Migrasi data asal Sekolah Lulusan SD MI Kota banjarbaru 2024, Migrasi dan Replace Alamat Siswa Rusunawa 2024, Migrasi Data Akreditasi Sekolah Asal 2024, [Database] Perbaikan NISN batch 2, [Database] Migrasi Database Siswa Calon Pendaftaran Batch 4, Migrasi beberapa peserta prapendaftaran ke zona demo, Migrasi Data Sidanira 2023 ke Zona Demo, [Kota Yogyakarta] Migrasi Siswa Berkebutuhan Khusus (ABK), Migrasi Tambahan Data Siswa Calon Peserta SMP 12 Juni 2024, Perbaikan NISN Siswa, [Kota Yogyakarta] Migrasi Data Peserta Bibit Unggul, [Kota Yogyakarta] Migrasi Data KMS Afirmasi Kota Yogyakarta, [Database] Proses Migrasi Database Siswa Lulusan SD/MI Sederajat Kota Mataram 2024, Proses sinkron Data Kelurahan Dari Demo ke Real, Proses Sinkron Master Kelurahan Cabdin Kota Balikpapan, Proses Update sekolah peserta zona riil, Proses Update Biodata dan Nilai Lulusan SD 007 Bontang Selatan Tahun 2024, Proses Sinkron Sekolah Peserta dari Zona Demo ke Zona Real, Proses Perbaikan NISN Siswa PPDB Kota Yogya yang Tertukar, Proses Migrasi 19 Juni 2024 - Update Nilai Lulusan SD-MI Kota Bontang Tahun 2024, Proses Perbaikan Data ke-2 DNT Lulusan SD/MI Kota Palangkaraya 2024, [Kab Batang 2024] Migrasi DNT Kab Batang 2024, Proses Sinkronisasi Sekolah Peserta Jenjang SD - update alamat sekolah, Proses Sinkron sekolah peserta, Proses Sinkron master dukuh di zona demo dan riil, Migrasi Data DNT Lulusan SD/MI Kab. Berau 2024, [Kab Batang 2024] Proses Migrasi DNT Kab Batang 2024, Migrasi Update Data Lulusan SMP MTS Kota Samarinda 2024 13 Juni 2024, [Database] Proses Perbaikan Data Nilai Calon Pendaftar Kab Gresik 2024, Tambah kapasitas HDD pada server database 10.21.2.119, Proses Migrasi siswa tidak valid dimigrasi sebelumnya , [DIY 2024] Cek dan migrasi ulang data DNT DIY belum termigrasi, ST - Tambah kapasitas HDD pada server database 10.21.2.119, [Database] Migrasi Database Calon Siswa Pendaftar, [DIY 2024] Proses Cek dan migrasi ulang data DNT DIY belum termigrasi, Migrasi Data Lulusan SMP MTS Kota Samarinda 2024 Invalid 9 Juni 2024, Proses Migrasi Sekolah Asal se-Provinsi Kalimantan Timur utk PPDB 2024, Migrasi Data Tambahan Lulusan MTS Kota Samarinda 2024, Migrasi 12 Juni 2024 - Tambahan Data Siswa dan Nilai Lulusan SD-MI Kota Bontang Tahun 2024, Proses Migrasi Tambahan Data Siswa Calon Peserta SMP 12 Juni 2024, [Database] Proses Migrasi Batch 5, Proses migrasi siswa perbaikan nisn, Proses Reset Data Pengajuan Pendaftaran dan Data Verifikasi, Proses Perbaikan Data DNT Lulusan SD/MI Kota Palangkaraya 2024, Migrasi Perbaikan Data Lulusan 4 SMP/MTs Kota Bontang, Upgrade Kapasitas Database PPDB Jawa Tengah 2024, Migrasi Tambahan Data Siswa dan Nilai Lulusan SD-MI Kota Bontang Tahun 2024, [Database] Proses Migrasi Jenis Asal Sekolah Lulusan Pendaftar, Migrasi Perbaikan Data Lulusan SMP MTs Kota Bontang, [Database] Proses Migrasi Database Siswa Calon Pendaftar Jalur Prestasi, [Database] Proses Migrasi Akreditasi Asal Sekolah SD/MI 2024, [Database] Proses Migrasi Nilai Hasil Pendataan Prestasi Dinas Pendidikan 2024, [Database] Proses Migrasi Data Siswa Pendaftar 2024, [DNT] Proses Update nilai siswa karena kolomnya ke geser, Migrasi Lookup Prov Jawa Tengah, Proses Migrasi Lookup Prov Jawa Tengah, Proses Blokir dan Buka Blokir NIK Bina Lingkungan 2024 ke 5, Proses Update Perhitungan nilai Peserta PPDB Kota Balikpapan, Perbaikan Nama Siswa dalam Database, [Prov. Kalimantan Selatan] Proses Migrasi Data DNT Calon Peserta Didik, Proses Blokir dan Buka Blokir NIK Bina Lingkungan 2024 ke 4, Proses Sinkron Sekolah Peserta Demo ke Real, Proses Perbaikan NISN Siswa Lulusan SMP Kota Balikpapan, Scale UP VM Database Master DKI, Migrasi Data Nilai Lulusan SD-MI Kota Bontang Tahun 2023, Migrasi Data Lulusan SMP MTS Kota Bontang 2024, Migrasi Data Lulusan SMP MTS Kota Samarinda 2024, Proses Perbaikan NISN Siswa, [Kab Klaten 2024] Proses Update biodata siswa tambahan, Proses Migrasi Data DNT Lulusan SD/MI Kota Palangkaraya, [Database] Migrasi Database Batch 5, Proses Blokir dan Buka Blokir NIK Bina Lingkungan 2024 ke 3, Proses Merubah NIK data SIDANIRA ke 4, Proses Batal Blokir NIK siswa BL ke 2, Proses Ulang Migrasi Batch 4, Proses Update Nilai Rapor SIswa SMP Balikpapan, [Database] Migrasi Database Batch 4, Proses Merubah NIK data SIDANIRA, [Database] Proses Migrasi Batch 3 dan Batch 4, [Database] Proses Ketidaksesuaian Migrasi Database di Bagian Sekolah Asal Pendaftar, [Database] Proses NISN Baru dari Hasil Pembetulan Tidak Bisa Digunakan Untuk Pengajuan Pendaftaran, Proses Perbaikan NISN Siswa Lulusan SMP, [Database] Proses Pembetulan NISN Sebab Terbalik - siswa yang sudah terlanjur ajuan dan sudah dibatalkan ajuannya, [Database] Update Database, [Kota Yogyakarta] Proses Melengkapi Isian Data Dukcapil Kota Yogyakarta, [Database] Proses Pembetulan NISN Sebab Terbalik, Proses Migrasi Data Blokir NIK Bina Lingkungan 2024 ke 2, Proses Batal Blokir NIK siswa BL, Proses Merubah NIK data SIDANIRA, Proses reset data pendaftaran demo, Proses Migrasi data Lulusan asal Sekolah MI/SD Kota Banjarmasin 2024, [Kab. Barito Selatan] Proses Migrasi data Lulusan asal Sekolah SD Barito Selatan 2024, Penyesuaian Database Demo dan Riil, Proses Blokir NIK Bina Lingkungan 2024, Proses Penyesuaian Database Demo dan Riil, [Kota Yogyakarta] Proses Migrasi Siswa Berkebutuhan Khusus (ABK), Proses Migrasi dan Replace Alamat Siswa Rusunawa 2024, [Kab. Barito Selatan] Data DNT Demo, [DIY 2024] Reset database siswa demo, [Database] Proses Migrasi Data Pendaftar Karena Awalnya Dianggap Tanggal Lahir Tidak Valid, Proses Menghapus NIK Peserta, [Database] Proses Migrasi Database Calon Pendaftar Prov Bali 2024, [Database] Migrasi Data Siswa Calon Pendaftar Batch 4, Penyediaan User Database Readonly Demo dan Real, [Database] Migrasi Data Calon Pendaftar Batch 2, Penyediaan User Database Readonly Demo dan Real, [Kota Yogyakarta] Proses Migrasi Data KMS Afirmasi Kota Yogyakarta, [Database] Migrasi Data Siswa Calon Pendaftar Batch 3, [Kota Yogyakarta] Proses Migrasi Data Peserta Bibit Unggul, [Database] Migrasi Data Calon Pendaftar Batch 2, [Database] Migrasi Data Siswa Lulusan dan Generate Token Guna Ajuan di Jalur Zonasi, Setup VM database Zona Jawa Tengah, proses sinkron Lokasi Sekolah Peserta - SMP, [Database] Migrasi Data Siswa Calon Pendaftar 2024, Proses [Kab. Kudus] Reset Data Dummy Siswa 2024, [Database] Migrasi Database Siswa Lulusan SD/MI Sederajat Kota Denpasar 2024 Batch 2, Proses MIgrasi Database Siswa Lulusan SD-MI Kab Malang 2024 Batch 3, [Database] Reset Data Pengajuan Pendaftaran di Situs Demo, [Database] Migrasi Lulusan Kab Malang Batch 2, Proses [DIY 2024] Reset database siswa demo, [Database] Migrasi Database Siswa Lulusan SD/MI Sederajat Kota Denpasar 2024, Up Scale Database Zona 1 dan DKI 11 Mei 2024, Up Scale Database Zona 1 dan DKI 11 Mei 2024, Migrasi Data Akreditasi Sekolah Asal 2024, Migrasi data asal Sekolah Lulusan SD MI Kota banjarbaru 2024, [Database] MIgrasi Database Siswa Lulusan SD-MI Kab Malang 2024, Setup Database Master Nusantara, Setup Database Slave Nusantara, Setup Database Master DKI, Setup Database Slave DKI, Setup Monitoring database, Setup Koneksi database dbbackup.siap.id, Setup Database Slave All di AWS, Setup Database Slave All di OCI, Setup CDC Database Production dan Demo, [Database] Migrasi Data Siswa yang Awalnya \"Tidak Dimigrasi\" pasca Diperbaiki, Penyediaan VM OCI untuk Database slave all wilayah, Sinkronisasi Struktur Database PPDB Kota, penambahan alamat daftar, Sinkronisasi Struktur Database PPDB Kota, penambahan alamat daftar, Restorasi Database psbdb_publik dengan backup 9 mei 2023 ,\n",
      "\n",
      "Cluster 2 topic:\n",
      "\n",
      "Cluster 2 subject: [Prov DIY] Visite PPDB Provinsi DIY 2024, [Prov DIY] Visite PPDB Provinsi DIY 2024 - Demo Aplikasi Tahap 2, [Prov DIY] Visite PPDB Provinsi DIY 2024 - Demo Aplikasi, [DEV] Penyesuaian link ppdb online pada situs demo 2024, [Paspor SIAP Online] Kendala Akun SIAP (password kereset), Penambahan aksses Password untuk Situs Demo, Terdapat Perbedaan Jarak Antara di Situs Publik dan Web Operator, Password Situs Demo PPDB Prov. Banten, Pengecekan jumlah rombel pada situs operator berbeda dengan admin tools, Membuatkan akun BI untuk Dinas DKI Jakarta, Pengembangan BI Pengajuan akun dan Pendaftaran Jateng, [Prov DIY] Situs PPDB freeze setelah user siswa login, [DIY 2024] PIC Terima data dari dinas (pelanggan), [DIY 2024] Verifikasi data pendukung PPDB DIY 2024, [DIY 2024] Sinkron master kelurahan, kecamatan dan data rayon PPDB DIY ke riil, [DIY 2024] Proses Sinkron master kelurahan, kecamatan dan data rayon PPDB DIY ke riil, [Prov DIY] situs PPDB tidak bisa diakses, Migrasi Tautan Berkas dari Sipenda ke Konfigurasi PPDB, Migrasi Penanda Jalur PPDB dari Pra Pendaftaran Sipenda Disdik Kalteng, Pengecekan siswa terdampak karena perubahan zonasi PPDB Bersama, Inisialisasi juknis PPDB Online Prov Jateng 2024, [PPDB DIY 2024] Req ip whitelisting untuk keperluan integrasi API Dukcapil DIY, Munculkan semua jalur pendaftaran pada situs publik [Arsip] PPBD DIY, Password untuk Akses Situs Publik Demo, [Prov NTT 2024] Cek Data Sekolah dan Jadwal PPDB Prov NTT 2024, [Kota Denpasar 2024] Cek Hasil konfig PPDB Kota Denpasar 2024, [Prov Bali 2024] Cek Data Sekolah & Jadwal PPDB Prov Bali 2024, [Header] Update Header Situs Publik, Mengaktifkan Kembali Bot Jadwal PPDB 2024 di Telegram Group JAGR - SIAP PPDB Online, Situs Operator Gagal Diakses, Kebutuhan Teknis PPDB Kota Batu 2024 yang Belum Bisa Diakomodir secara Default, Hapus Semua Pendaftaran Siswa semua jenjang di zona demo, Hapus Semua Pendaftaran Siswa semua jenjang di zona demo, Kendala Koreksi Sekolah Peserta di Operator Demo, [Admin Tools] tidak bisa akses Jadwal Situs di zona demo, setup Interkoneksi ke API Dukcapil, Implementasi API Dukcapil 2024, Pengecekan data pada bi belum sesuai dengan situs operator, Data Operator Madrasah DKI Jakarta Tahun 2023, Pembatasan Periode Verifikasi oleh Operator, Gagal Login Operator Sekolah, Operator Sudah Ditambahkan Namun Saat Login Tidak Memiliki Akses, Password Situs Demo PPDB Kab Batang, [Kab Batang 2024] Reset data siswa demo PPDB Kab Batang 2024, [Presensi Pelatihan] Dokumentasi Presensi, [Undangan] Sosialisasi Kota Mojokerto, [Dokumentasi Undangan Pelatihan] Pelatihan PPDB Kab Malang 2024, [Foto] Dokumentasi Pelatihan Operator PPDB Kab Malang 2024, [Situs Operator] Ubah Urutan Keikutsertaan Program Kurang Mampu Jalur Afirmasi, [Delivery] Screenshoot Bukti Delivery Layanan PPDB Kota Batu 2024, [Foto dan Presensi] Sosialisasi atau Pelatihan Operator Kota Mojokerto 2024, [Foto] Sosialisasi atau Pelatihan Operator Kota Batu 2024, Penambahan aksses Password untuk Situs Demo, Penambahan aksses Password untuk Situs Demo, Penambahan aksses Password untuk Situs Demo, Pengecekan waktu idle pada situs operator, Penyesuaian tampilan jumlah data pada rekap per jenjang di BI, [Pengerjaan] evidence PPDB Prov kalsel SMK Swasta 2023, Sinkron master dukuh di kabupaten purworejo jateng dari demo ke riil, Sinkron master dukuh di zona demo dan riil , rekap verifikasi operator dukcapil , Set default filter untuk role akses operator khusus, Tambahkan akses ke bi.siap-ppdb.com Prov Jateng, operator yang sudah berhasil ditambahkan menjadi operator PPDB Online tidak muncul saat di cari di tools.siap.id, Reset password masal via tools.siap.id , Buat Estetik tampilan unduhan dokumen PPDB Online di situs jateng.demo.siap-ppdb.com, tarik data daftar operator PPDB Online zona riil tahun 2023, Reset data dymmy zona demo pendaftaran tahun 2023, [Kab. Demak] Close Engine 2024, [Kab. Pati] Close Engine 2024, Pencairan Honor EOS Konfigurasi PPDB Witel Kudus | Rizky Feroarneo | 2024, Agregator situs kab bantul \"menunggu slot eksekusi\", Tampilan situs publik demo belum berubah sesuai konfigurasi admin tool, [PPDB Online] Surat Keterangan Pengalaman Kerja EOS an Anis Suryansyah, [DEV] Pengecekan siswa terdampak karena perubahan zonasi PPDB Bersama, BAST BARD - PPDB Online Kab Malang TA 2023, Deploy server PPDB 2024 Cluster Jateng - Aplikasi, Menambahkan Status Lapor diri pada BI PPDB, [DIY 2024] Rreq data traceroute Server PPDB DIY, [DEV] Set default filter untuk role akses operator khusus, [DIY 2024] Rreq data traceroute Server PPDB DIY, [DEV] Footer Situs Publik Daerah PPDB Online, [Prov DIY]Data siswa PPDB 2024, [Prov DIY] Pengisian Atribut via API Tapem, Topologi infrastruktur yang digunakan di PPDB Online 2024, [Prov DIY 2024] Integrasi API Dukcapil 2024, BAST BAUT BARD - Jawa Tengah Cabang Dinas 9 Tahun 2023, Dokumen SKM PPDB Online Jawa Tengah Cabang Dinas 9 tahun 2023, Pengajuan Kontrak AR untuk witel Banyumas, Witel Magelang dan Witel Pekalongan PPDB tahun 2022, [OBL PPDB Kab. Sleman 2023] Dokumen SPH dan SKM OBL PPDB Kab. Sleman 2023, Proses Tambahkan akses ke bi.siap-ppdb.com Prov Jateng, [Kabupaten Timor Tengah Utara] Diskusi PPDB Online Kabupaten Timor Tengah Utara 2024, [Kota Batu] Konfigurasi Juknis PPDB Online 2024, [Provinsi Bali] Rapat Kastemisasi Sistem PPDB Online 2024, [Kota Batu] Undangan DPRD Kota Batu persiapan PPDB 2024, Sample Data Pengecekan API Response Dukcapil PPDB DIY 2024, Perbaikan Fitur Reset password masal di tools.siap.id, Perubahan URL Situs PPDB Online Cabdin Bontang Kutim, Perubahan URL Situs PPDB Online SMA SMK Samarinda, [DEV] Buat Estetik tampilan unduhan dokumen PPDB Online di situs jateng.demo.siap-ppdb.com, [Prov DIY] Dokumentasi API Tapem, Proses Reset Semua Pendaftaran Siswa semua jenjang di zona demo, [Dev]Pengecekan Syarat Pendaftaran PPDB SMA dan SMK , [Kab Sleman] VIsit Koordinasi  PPDB Kab Sleman 2024, Setup BI Wilayah Kota Banjarmasin, Penyesuaian URL untuk PPDB Jateng 2024, Setup BI wilayah Kota Mojokerto, Setup BI wilayah Kab Malang, Transfer Honor EOS Konfigurasi PPDB Witel Kudus | Rizky Feroarneo | 2024, Proses tarik data daftar operator PPDB Online zona riil tahun 2023, [DLA] - [Setup BI] Kab. Barito Selatan 2024, Deploy Aplikasi PPDB di server neo-metal-dki, [DEV] Deploy Aplikasi PPDB di server neo-metal-dki, [DEV] Penyesuaian URL untuk PPDB Jateng 2024, Error 404 situs https://cabdinbalikpapan.siap-ppdb.com, Setup BI Wilayah Kota Yogyakarta, Setup BI Wilayah Kota Bontang, Setup BI Wilayah Cabdin Balikpapan, [Visite] PPDB Kab Bantul 2024, [Visite] PPDB Provinsi DIY 2024, [Kab Sleman] Pembahasan Juknis Kab Sleman 2024, [Visite] PPDB Kab Sleman  2024, Header di situs operator yang untuk tombol logout tiba2 hilang , Reset data dymmy zona demo pendaftaran tahun 2023, Munculkan semua jalur pendaftaran pada situs publik PPBD DIY, Perbaiki struktur tabel (menghapus comment pada kolom) demo ppdb, [DEV] Header di situs operator yang untuk tombol logout tiba2 hilang , [DEV] Proses Deploy server PPDB 2024 Cluster Jateng, Mengarahkan DNS Record PPDB Kota Jambi 2024, [DEV] Kendala Koreksi Sekolah Peserta di Operator Demo, Setup BI Kota Pasuruan, Proses Pengecekan data pada bi belum sesuai dengan situs operator, Hapus Semua Pendaftaran Siswa semua jenjang di zona demo, [BI PPDB] Tambahkan filter tahun dan wilayah berdasarkan scope, Undangan Pembahasan Pelaksanaan PPDB Online Kota Pasuruan 2024, Setup BI Prov. DKI Jakarta, Sample Data Pengecekan API Response Dukcapil DKI 2024, ST - Setup Interkoneksi ke API Dukcapil, Setup BI Kab. Demak, Mengaktifkan Kembali Bot Jadwal PPDB 2024 di Telegram Group JAGR - SIAP PPDB Online, fix: Gagal Akses Situs Operator, Mengarahkan Semua Daerah PPDB 2023 Ke Non Pelanggan, ST - Mengarahkan Semua Daerah PPDB 2023 Ke Non Pelanggan, WFM Close - PPDB Provinsi NTT Tahap II - 2023, [DLA] - [Setup BI] Kota Banjarbaru 2024, [Kab. Siddenreng Rappang] - Konfirmasi keikutsertaan PPDB Online 2024, [Kota Ternate] - Update penawaran & konfirmasi PPDB Online, Dokumen Kontrak Layanan (KL) PPDB Online Kalimantan Tengah tahun 2023, BAST BAUT BARD - Kaltim Cabang Dinas Bontang 2023, WFM Close - PPDB Cabdin Bontang&Kutim - 2023, BAST - Kaltim Cabang Dinas Bontang 2023, BAUT BARD - Kaltim Cabang Dinas Bontang 2023, BAUT dan BARD - PPDB Kota Balikpapan 2023, BAST - Kota Balikpapan tahun 2023, WFM Close DO - PPDB Kab. Kulon Progo 2023, BAUT - PPDB Kab Bangka SMP 2023, BAST - PPDB Kab Bangka SMP 2023, BARD - PPDB Kab Bangka SMP 2023, BAST - PPDB Cabdin Kota Samarinda 2023, Pengiriman lengkap berkas document PPDB Dinas Kota Samarinda (Hard document), WFM Close - PPDB Cabdin Samarinda 2023, BAUT BARD - Cabdin Kota Samarinda 2023, Permohonan Pembuatan SKM PPDB Kab Lampung Utara (SMP), Setup BI Kab Pati, [OBL PPDB 2023] Kota Mojokerto Jenjang SMP 9 Sekolah, Data Operator Madrasah DKI Jakarta Tahun 2023, Transfer CA RAB Rapat | Pelatihan EOS 2024 Area TR IV (Jateng & DIY) | Ahmad Nashruddin, BAST PPDB Kota Batu TA 2023, Lamp BARD & BAUT PPDB DKI Kel 8, BAST - PPDB Online Kota Bandar Lampung SMK TA 2023, BAUT - Kota Balikpapan tahun 2023, Kontrak Layanan - PPDB DKI Kelompok 11, BARD - PPDB Online Kota Bandar Lampung SMK TA 2023, BAUT - PPDB Online Kota Bandar Lampung SMK TA 2023, Lamp BARD & BAUT PPDB DKI Kel 9, Kontrak Layanan - DKI Jakarta 2023 - KL14, Lamp BARD & BAUT PPDB DKI Kel 10, Setup Koneksi Tools PPDB 2024, Setup BI ppdb tahun 2024, Evidence - Kaltim Cabang Dinas Bontang 2023, [OBL PPDB 2023] Provinsi NTT Tahap 1 40 Sekolah, [Kab. Malang] Koordinasi Persiapan PPDB Online Dinas Pendidikan Kab. Malang, [Kota Mojokerto] Pembahasan Juknis PPDB Online 2024, [Kota Mojokerto] Juknis Kota Mojokerto 2024, BADO - PPDB Kab. Kulon Progo 2023 - Print&Sign, Cleanup Data Pelaksanaan PPDB Online 2023, RAB Rapat | Pelatihan EOS 2023 Area TR IV (Jateng & DIY) | Ahmad Nashruddin,\n",
      "\n",
      "Cluster 3 topic:\n",
      "\n",
      "Cluster 3 subject: Data Siswa Tidak Ditemukan Pada Situs Publik, [Up Situs Publik] Kota Serang 2024, INFRA - [Up Situs Publik] Kota Serang 2024, [Up Situs Publik] Kab. Berau 2024, [Up Situs Publik] Kota Serang 2024, INFRA - [Up situs Publik] Kota Bengkulu 2024, [Infra] - Up situs Publik Kab. Bungo 2024, [Up situs Publik] Kota Bengkulu 2024, [Up situs Publik] Kab. Bungo 2024, ST - Up Situs Publik Riil Kab Bantul 2024, ST - [Up situs Publik] Kab. Bangka 2024, ST - [Kab. Jepara] Up Situs Publik Riil 2024, ST - [Kab. Kudus] Up Situs Publik Riil 2024, ST - Up Situs Publik Riil Kab. Sleman 2024, ST - [Up Situs Publik] Prov. Kalimantan Tengah 2024, ST - [Up Situs Publik] Kab. Kutai Timur 2024, [Up Situs Publik] Kota Sukabumi 2024, [Up Situs Publik] Kab. Kutai Timur 2024, [Up Situs Publik] Prov. Kalimantan Tengah 2024, [Up Situs Publik] Kabupaten Purbalingga 2024, [Up Situs Publik] Kota Pontianak 2024, Up situs Publik, Up situs Publik, [Up situs Publik] Prov. Jambi 2024, [Up Situs Publik] PPDB Provinsi Banten 2024, [Infrastruktur] Up Situs Publik Kab Malang 2024, [Aplikasi] Up Situs Publik Kab Malang 2024, [Infrastruktur] Up Situs Publik Kota Batu 2024, Google maps di Situs Publik , [Up Situs Publik] Kab. Barito Selatan, [Up Situs Publik] Kota Palangkaraya 2024, [Up Situs Publik] Kota Banjarmasin 2024, [Up Situs Publik] Kota Banjarbaru 2024, [Up Situs Publik] Madrasah DKI Jakarta 2024, [Up Situs Publik] Dinas DKI Jakarta 2024, [Situs Publik] Ubah Foto pada Header Situs Publik, [Situs Publik] Kendala Akses Situs Demo, Asal Sekolah tidak muncul di situs publik, [Kota Yogyakarta] Up Situs Publik Riil 2024, [Kab.Grobogan] Up Situs Publik Riil 2024, [Kab. Kulon Progo] Up Situs Publik Riil 2024, Up Situs Publik Riil Prov Jateng 2024, [Kab.Demak] Up Situs Publik Riil 2024, [Kab.Pati] Cek Up Situs Publik Riil 2024, [Up Situs Publik] Kab. Bantul 2024, [Up Situs Publik] Kab. Kudus 2024, [Up Situs Publik] Kab. Jepara 2024, [Up Situs Publik] Kab. Sleman 2024, [Up Situs Publik] Kab. Bangka 2024, ST - [Up Situs Publik] Kab. Berau 2024, ST - [Kota Balikapapan] Up Situs Publik Riil 2024, ST -  [Kab.Grobogan] Up Situs Publik Riil 2024, [infra] - Up Situs Publik Kota Pontianak 2024, [Up Situs Publik] Kab. Berau 2024, [Up Situs Publik] Kota Balikapapan 2024, [Up Situs Publik] Kota Pontianak 2024, [Up Situs Publik] Kab. Grobogan 2024, [Infra] - Up Situs Publik Prov. Bali 2024, [Infra] - Up Situs Publik Prov. Lampung 2024, [Infra] - Up Situs Publik PPDB Provinsi Banten 2024, [Up Situs Publik] Prov. Lampung 2024, [Up Situs Publik] PPDB Provinsi Banten 2024, [Infra] - Up Situs Publik Prov. Kalimantan Selatan 2024, [Up Situs Publik] Prov. Bali 2024, [Up Situs Publik] Prov. Kalimantan Selatan 2024, [Infra] - Up Situs Publik Prov. Nusa Tenggara Timur 2024, [Infra] - Up Situs Publik Kota Sukabumi 2024, [Up Situs Publik] Prov. Nusa Tenggara Timur 2024, [Up Situs Publik] Kabupaten Batang 2024, [Up Situs Publik] Kota Sukabumi 2024, [Up Situs Publik] Prov DI Yogyakarta 2024, [Infra] - Up Situs Publik Kota Denpasar 2024, [Infra] - Up Situs Publik Kabupaten Batang 2024, ST - [Kab. Kulon Progo] Up Situs Publik Riil 2024, [Up Situs Publik] SMA SMK Kota Samarinda 2024, [infra] - Up Situs Publik Cabdin Bontang Kutim 2024, [Infra] - Up Situs Publik Kota Mataram 2024, [Up Situs Publik] Kota Mataram 2024, [Up Situs Publik] Cabdin Bontang Kutim 2024, [Up Situs Publik] Cabdin Kota Samarinda 2024, [Up Situs Publik] Kota Denpasar 2024, [Up Situs Publik] Kab. Batang 2024, ST - [Up Situs Publik] Kab Gresik 2024, [Infra] - Up Situs Publik Kab. Karimun 2024, [Infra] - Up Situs Publik Kota Padang Sidempuan 2024, [Infra] - Up Situs Publik Kabupaten Purbalingga 2024, [Infra] - Up situs Publik Prov. Jambi 2024, [Infra] - Up Situs Publik Prov DI Yogyakarta 2024, [Up Situs Publik] Kab. Gresik 2024, [Up Situs Publik] Kab. Kulon Progo 2024, [Up Situs Publik] Kab. Karimun 2024, [Up Situs Publik] Kota Padang Sidempuan 2024, [Up Situs Publik] Kab. Purbalingga 2024, [Up Situs Publik] Prov. DI Yogyakarta 2024, [Up situs Publik] Prov. Jambi 2024, ST - [Up Situs Publik] Kab. Barito Selatan, [Up Situs Publik] Kab. Barito Selatan 2024, [Kab. Klaten] Tampilan Situs Publik , Google maps di Situs Publik , [Infra] - Up Situs Publik Prov Jateng 2024, [Kab. Klaten] Tampilan Situs Publik , [Up Situs Publik] Kabupaten Klaten 2024, [Kab. Klaten] Tampilan Situs Publik , ST - [Up Situs Publik] Kota Bontang 2024, ST - [Up Situs Publik] Kabupaten Klaten 2024, [Up Situs Publik] Prov Jateng 2024, ST - [Up Situs] Prov. Kalimantan Timur Cabdin Balikpapan, [DEV] Up Situs Prov. Kalimantan Timur Cabdin Balikpapan 2024, [Up Situs Publik] Kab. Klaten 2024, [DEV] Tampilan Situs Publik Kab. Klaten, [Up Situs Publik] Kota Bontang 2024, [Infra] - Up Situs Publik Kota Palangkaraya 2024, [Infra] - Up Situs Publik Kota Banjarmasin 2024, [Up Situs Publik] Kota Banjarmasin 2024, [Up Situs Publik] Kota Palangkaraya 2024, [Infra] - Up Situs Publik Kota Mojokerto 2024, [DEV] Up Situs Publik Kota Mojokerto 2024, [Infra] - [Kota Yogyakarta] Up Situs Publik Riil 2024, [Up Situs Publik] Kota Yogyakarta 2024, ST - [Up Situs Publik] Kota Pasuruan 2024, [DEV] Up Situs Publik Kota Pasuruan 2024, [INFRA] Up Situs Publik DKI Jakarta 2024, [Infrastruktur] Up Situs Publik Kab Malang 2024, [DEV] Up Situs Publik Kab Malang 2024, [Infra] Up Situs Publik Riil Kab.Demak 2024, [Dev] Up Situs Publik Riil Kab.Demak 2024, [Dev] Up Situs Publik DKI Jakarta 2024, [Up Situs Publik] Madrasah DKI Jakarta 2024, ST - [Kab.Pati] Up Situs Publik Riil 2024, Perubahan CDN Pada Situs Publik, [Up Situs Publik] Madrasah Prov. DK Jakarta 2024, [Up Situs Publik] Kota Banjarbaru 2024, [PIC] Up Situs Publik Riil Kab.Pati 2024, [DEV] Up Situs Publik Kota Banjarbaru 2024, [Aplikasi] Up Situs Publik Kota Batu 2024,\n",
      "\n",
      "Cluster 4 topic:\n",
      "\n",
      "Cluster 4 subject: [Kendala] Siswa Masih Bisa Langsung Pengajuan Pendaftaran di 2 Jenjang Sekaligus, [Prov DIY]Req menambahkan kolom info NIK pada unduhan Laporan Hasil Seleksi Akhir, [DEV] Override - Hide Unggahan Suket Domisili Untuk Siswa Anak Guru, [DEV] Penyesuaian Redaksi Waktu Akses Pendaftaran, [DEV] Penyesuaian dokumen laporan rekap seleksi, [DEV] Membatalkan Lapor diri peserta, Tidak bisa mendaftar karena Titik Koordinat Hilang , [Kab Bantul] penyesuaian akses pada koreksi data induk, Menyalakan kembali engine seleksi, [DEV] Req menambahkan kolom info NIK pada unduhan Laporan Hasil Seleksi Akhir, [DEV] Siswa Masih Bisa Langsung Pengajuan Pendaftaran di 2 Jenjang Sekaligus, [DEV] Tidak bisa mendaftar karena Titik Koordinat Hilang , [DEV] Perubahan Label Informasi pada Peringatan Tidak Bisa Lanjut (Diterima Sementara) Pengajuan di Situs Publik, [DEV] Hilangkan Informasi Status Diterima Sementara pada Situs Operator, [DEV] Data Siswa Tidak Ditemukan Pada Situs Publik, [DIY 2024] Tambah overide perhitungan N Gabungan pada menu koreksi pendataan, [DIY 2024] Kolom N Gabungan tidak terupdate, [Kab Purbalingga 2024] Siswa tidak bisa lanjut pendaftaran karena peta error, [Kab Sleman] Data siswa Sleman 2024, menambah informasi nilai prestasi, [DEV] Hide Kolom Pencarian dan Tombol Live Detection, [DEV] Penyesuaian Tikor Pada Pencarian Agar Sama Dengan Alamat Siswa, Pilihan ke-3 diluar RJS sekolah, berhasil mendaftar , [DEV] Hide informasi tanggal kedatangan siswa dan ortu di dasbor siswa, [Kab Sleman] Pembatasan pilihan sekolah hanya pada NPSN Ortu bertugas, [Kab Kulon Progo]Bantuan unggah master dukuh, [DEV] Pilihan ke-3 diluar RJS sekolah, berhasil mendaftar , Override - Hide Unggahan Sertifikat/Piagam Untuk yang Tidak Memiliki Prestasi, [Kendala] Informasi Alamat Tidak Sama antara Detail Siswa dengan Bukti Cetak Pengajuan, [Test Case] Data Siswa Pendaftaran di Zonasi dan Perpindahan, [DEV] Pengecekan Peserta Gagal Login, [DEV] Hilangkan Icon Seleksi pada Pencarian Siswa di Situs Publik, [Kab Sleman] Data Nilai Prestasi Sleman 2024, [DEV] Kirim Tanda Ke Frontend Agar Tidak Menampilkan Icon, [DEV] Ada Pilihan Sekolah Tidak Muncul pada Pendaftaran SMA Prestasi Siswa Sipenda, [DEV] Informasi Alamat Tidak Sama antara Detail Siswa dengan Bukti Cetak Pengajuan, [DEV] Nilai Rata2 Semester Siswa Pendataan di SMK Reguler Berubah Menjadi 0, Perbaikan Nilai Akhir Siswa yang Terdampak Tiket #21368, [DEV] Menampilkan Data Siswa di Pendaftaran Kedua Dari data di Pendaftaran Pertama, [DEV] Permintaan Data Siswa Sudah Batal Verifikasi Pendaftaran Gabungan SMA Zonasi dan SMK Reguler yang Dapat Tambahan 100 di Pendaftaran Kedua, [DEV] [DIY 2024] Tambah overide perhitungan N Gabungan pada menu koreksi pendataan, [DEV] Buka Blokir NIK siswa yang sudah diterima sekolah ke 6, [DEV] Redaksi Jadwal Pendaftaran di Situs Publik, [DIY 2024] Req penyesuaian aturan pendaftaran siswa dan non aktifkan overide #16485 , [DIY 2024] Req update data domisili siswa berdasarkan data dukcapil terupdate, [DEV] Jumlah diterima melebihi kapasitas total daya tampung, Siswa Bisa mendaftar Walaupun sudah di terima, [DEV] Siswa Bisa mendaftar Walaupun sudah di terima, [DEV] Anak guru bisa mendaftar di sekolah bukan tempat ortu bekerja, [DEV] Req update data domisili siswa berdasarkan data dukcapil terupdate, Menghapus Waktu Pendaftaran pada detil siswa, [DEV] Perubahan Label \"Sambutan\", [DEV] Menghapus Waktu Pendaftaran pada detil siswa, [DEV] Set KP Ke Pendaftaran Pertama dan Abaikan Jika Tidak Valid, [DEV] Perbaikan Nilai Akhir Siswa yang Terdampak Tiket #21368, [DEV] Koreksi Pendaftaran Gagal Cetak Bukti Koreksi Pendaftarannya, Menghapus Riwayat Pendaftaran seblumnya, [DIP] Req penyesuaian aturan pendaftaran siswa dan non aktifkan overide #16485 , [DEV] Tambahkan akses ke admin tool untuk akun rizkyferoarneu@gmail.com, [DEV] Restore Siswa Dengan Tanggal Lahir Null, [DEV] Tanggal Lahir siswa hilang pada menu hasil seleksi, [DEV] Menghapus Riwayat Pendaftaran seblumnya, [DEV] Backend - Tambah atribut alamat dan tikor pada modul koreksi data induk, [DEV] Koreksi Pendaftaran Gabungan Nilai yang Dikoreksi Tidak Bisa Terupdate, [DEV] Normalisasi Nilai Rapor, [Override] Penambahan Nilai 100 juga Muncul pada Pendaftaran Kedua, Seharusnya Tidak, Reset pendaftaran siswa, [DEV] Frontend - Tambah atribut alamat dan tikor pada modul koreksi data induk, [DEV] Siswa lulusan luar Bantul tetapi domisili dalam bantul tidak bisa mengajukan pendaftaran , [DEV] Tanggal kedatangan siswa di set tidak ada kedatangan tetapi tidak terset default 22 juni 2022, [DEV] Penambahan Nilai 100 juga Muncul pada Pendaftaran Kedua, Seharusnya Tidak, Override - Penambahan Info Pada Inputan Nilai Rapor Jenjang SMK, Override - Hide Info Pilihan Diterima Pada Laman Data Siswa Pendaftar, Mematikan Override Batasan Pendaftaran Kedua Satu Jenjang dengan Pendaftaran Pertama, [DEV] [Override] Penyesuaian Batasan Pilih Sekolah yang sudah dipilih di Pendaftaran sebelumnya, Mematikan Ovveride Jadwal Unggah Berkas Jalur Penyandang Disabilitas, Buka Blokir NIK siswa yang sudah diterima sekolah ke 5, Upgrade spek 10.23.2.245, [Kab Bantul]Req Pembatasan Batal verifikasi, [DIY 2024] Req Admin Dinas bisa batal verval atau batal tolak tanpa batal pickup, [Prov DIY] Req  Akses untuk melihat data ajuan siswa yg sudah dipickup oleh user lain, [Prov DIY] Req Disable kolom status hubungan keluarga pada koreksi data induk, Lanjutan Batasan Koreksi berkas , [DEV] Override Penguncian Titik Koordinat Siswa Sipenda Dicabut, [DEV] Pastikan Value Telah Dipilih, Menampilkan Pengumuman CAT pada Dashboard siswa, [DEV] Backend - Tampilan Info CAT Di MTS dan MA Reguler, [DEV] Frontend - Tampilan Info CAT Di MTS dan MA Reguler, [DEV] Pengecekan Gagal Verifikasi 8201002052, [Prov DIY] N.Gabungan SMA Afirmasi tidak susuai antara cetak dan seleksi, Scroll Bar Pada Hasil Seleksi, Proses Siswa luar kab bantul termigrasi sebagai siswa dalam kabupaten bantul, NISN 0094103525 dan 0092591939 Tidak Dapat Tambahan 100 di Pendaftaran Pertama, Validasi Data Pelanggan Prov. Kalteng 2024, [Override] Menyembunyikan SMK Prestasi dari Beranda Situs Publik, [Override] Menampilkan Penanda Berkas Sipenda pada Laman Verifikasi Pendaftaran Gabungan, [DEV] Hide Info Pilihan Diterima Pada Laman Data Siswa Pendaftar, [Kab. Purbalingga 2024] Aktifkan kembali serta penyesuaian  Aturan Pemilihan Sekolah, [Kab. Purbalingga 2024] Req penambahan kondisi Aturan Pemilihan Sekolah, [DEV] Req penambahan kondisi Aturan Pemilihan Sekolah, Pengecekan NISN Bisa Mendaftar Lebih Dari 1 Kali Padahal Tidak Ditolak, Override - Pembukan Batasan Jika Siswa Ditolak Ditolak di SMA bisa Daftar ke SMK, [Kab. Jepara] Override , [DEV] Tambahkan akses ke admin tool untuk akun mrifai@siap-online.com, Konfirmasi daerah 2 Kota/Kab di TR II, [DEV] Penambahan Info Pada Inputan Nilai Rapor Jenjang SMK, [DEV] Daftar admin sistem yang dapat akses ke admin tool , [DEV] Penanda Berkas Sipenda pada Laman Verifikasi Pendaftaran Gabungan, [DEV] Update Batasan tanggal pendataan prestasi, [Override] Penyesuaian Label Pilihan Jenis Lulusan di Form Pendaftaran, Perubahan angka RJS SDN 23 Pontianak Barat, [Kota Jambi] Upsitus Publik, Ubah Besar Cache Sequence Menjadi 10 Tanpa Mengubah LastVal, Proses Ubah Besar Cache Sequence Menjadi 10 Tanpa Mengubah LastVal, [DIY 2024] Step cek data pendaftaran siswa tidak muncul, [DEV] Backend - Pembatasan pilihan sekolah hanya pada NPSN Ortu bertugas, [Purbalingga 2024] Req set batas umur piagam / prestasi menggunakan rentang tanggal, [DEV] Step cek data pendaftaran siswa tidak muncul di DIY 2024, [DEV]Tampilan Maps pada halaman konfirmasi pengajuan pendaftaran masih menampilkan peta OSM, [Kab Bantul]Penyesuaian fitur cek status afirmasi, [Kab Purbalingga 2024] Tambah blok kolom disklaimer pada dokumen cetak , Validasi Data Terunggah pada Kelola Data Admin Tools, Ubah Besar Cache Sequence Menjadi 10 Tanpa Mengubah LastVal, Penerimaan Data dari Disdik Prov. Kalteng, Verifikasi Data dari Disdik Prov. Kalteng, Pengolahan Data ke Kelola Data Admin Tools, [DEV] Normalisasi Data Siswa, Proses Ubah Besar Cache Sequence Menjadi 10 Tanpa Mengubah LastVal, [DEV] Tambahkan Override Konfigurasi, [Kendala] Koreksi Akreditasi Berdampak pada Nilai Rapor Menjadi 0, [DEV] Ubah Label Jenis Lulusan Reguler, [DEV] Tambah Redasi/Informasi Dibawah Input Jenis Lulusan, [DEV] Perubahan angka RJS SDN 23 Pontianak Barat, [DEV] Muncul Notifikasi Proses gagal dijalankan, silakan cek koneksi Anda dan coba beberapa saat lagi saat pendafataran, Pengecekan Perbedaan Alamat Siswa di Web Dengan di Tanda Bukti Cetak Pendaftaran, Siswa Sudah Melakukan Pendaftaran Namun Datanya Tidak Ditemukan, [DEV] Akun Operator Sekolah Masih Bisa Edit Nilai Disabilitas dan Hubungan Keluarga, [BUG] Nopes Dan Token Berbeda Dihalaman Verifikasi Pendaftaran, [DEV] Buka Batasan Nomor Daftar 15 Digit, siswa gagal koreksi berkas, Kendala siswa yang tertolak ajuannya, titik koordinat masih sama, Penambahan popup notifikasi jika memilih Sekolah kurang dari 3 pilihan, [DEV] Frontend - Penyesuaian fitur cek status afirmasi, [DEV] Isian Nilai Pendataan Siswa Luar Database Terkunci sehingga Tidak Bisa Diisi, [DEV] penyesuaian akses pada koreksi data induk, [DEV] Skip Unggah Berkas Yang Telah Ada di Lookup, [DEV] Backend - Penyesuaian fitur cek status afirmasi, [DEV] Editable Nilai Jika Nilainya Kosong, [DEV] Ubah Mekanime Lookup Untuk Pencarian, [DEV] Tambah Atribut Pada Cetak Bukti Pemberian Nilai Tambahan di Afirmasi SMA dan SMK, Batasan untuk Koreksi berkas ajuan yang ditolak, [Override] Batasan pilihan sekolah, Batasan pilihan sekolah jenjang SMA, [override] Isian Nilai Mapel Siswa lulusan MTs/Pesantren, [Kota Jambi] gagal save setting berkas unggahan, gagal daftar karena pembatasan verval harian, Melepas Batasan Periode Batal Verval, [Override] Pengecualian batasan pilihan sekolah, [override] Isian Nilai Mapel Siswa lulusan MTs/Pesantren, [override] Isian Nilai Mapel Siswa lulusan MTs/Pesantren, Mekanisme Unggah berkas yang ajuannya di tolak , Pengecekan Kompetensi dan Daya Tampung Sekolah Tidak Update, Pilihan Keikutsertaan Program Keluarga Tidak Mampu dan ABK Otamatis Terisi Padahal Tidak Dipilih, Override - Siswa Afirmasi Dapat Mendaftar Meski Tidak Memiliki Kartu, Override - Perubahan Redaksi Informasi Pilihan Sekolah Jenjang SMA, Data Peserta Tidak Muncul Pada Hasil Seleksi, [Batang 2024] Titik koordinat siswa tidak valid, [Kab Batang 2024] Siswa luar daerah tidak bisa ajukan pendaftaran, [Kab. Batang] Label pilihan sekolah 1 dan 2 pada tampilan Situs Publik error, [Prov DIY] Req menampilkan status buta warna pada dasbor siswa, [Batang 2024] Tambah kolom info keterangan daya tampung digunakan pada laman seleksi, [Prov DIY] Input data siswa pendataan tidak berhasil, [Batang 2024] Penyesuaian kolom alamat siswa pada kondisi siswa DNT, [Batang 2024] Overide kolom input alamat siswa , [DIY 2024] Update data siswa dg informasi lokasi ortu bertugas, [DIY 2024] Req penyesuaian kolom info data dari dukcapil, [Kab Batang 2024] Penyesuaian override mekanisme Penyaluran siswa, [Batang 2024] Acuan zonasi siswa hasil penyaluran salah, [Kendala] Siswa Bisa Diverifikasi 2 Kali, [Override] Relabeling Informasi Situs Publik Tutup, Penyesuaian Label Informasi Situs Ditutup, [EOS] Tambah Akses ke Admin Tools Sebagai EOS Konfigurator 2024 (batch 2), [EOS] Tambah Akses ke Admin Tools Sebagai EOS Konfigurator 2024 dan Blokir Akses EOS 2023, [UAT] Limpahan Pagu 2 Tingkat di SMK, [Override] Tambahan Nilai 100 pada Pilihan Pertama Tidak Berlaku saat Pindah Jenjang, [Override] Override Nilai Rapor untuk SMA dan SMK tahun 2024, [Override] Menghilangkan Isian Nilai Pendataan selain Pelajaran Ujian Akhir pada 3 Jalur SMA, [Override] Nilai Akhir Siswa Jalur Bibit Unggul Menggunakan nu_jumlah, Titik Koordinat Sekolah tidak update, Disable untuk pilihan Provinsi dan Kota , Nomor Kartu Keluarga 16 Digit dan awalan angka 6271xxxxxxxxxxxx, Pilihan Sekolah Diurutkan Dari Yang Jaraknya Paling Dekat Pada Form Ajuan, Perubahan Redaksional Jumlah Nilai Rerata, Verifikasi Berkas memakai Google Maps Citra Satelit, [Ovveride] Menghilangkan tombol \"cari \" pada situs publik, Siswa Prapendaftaran Mengisikan Lokasi Verifikasi dan Unggah berkas, Menyalakan kembali override batasan unggah berkas, Mengganti User VPN Pusdatikomdik, Merubah Status Peserta dari Diskualifikasi Pendaftaran menjadi Diskualifikasi Hasil, Batal Blokir NIK siswa BL ke 2, Buka Blokir NIK siswa yang sudah diterima sekolah, Pengecekan Lokasi Daftar SMA dan SMK pada Admin Tools, CPDB Tidak Bisa Aktivasi, Merubah NIK data SIDANIRA ke 2, Blokir NIK siswa yang sudah diterima sekolah, Merubah urutan tampilan daftar verifikasi berkas, Merubah NIK data SIDANIRA, Override - Jadwal Unggah Berkas, Menghapus NIK Peserta, Merubah NIk Peserta, Mematikan Ovveride auto approve siswa pra pendaftaran, Update Lokasi Sekolah Peserta - SMP, Mematikan Override Verifikasi Dokumen Prestasi Oleh Sekolah Pilihan Pertama, Menghapus Ovveride Pilihan Madrasah pada verifikasi berkas, Reset pendaftaran dan hasil seleksi siswa dummy tahun sebelumnya, [Persetujuan Override Kota Jambi] Set Unggahan Berkas Piagam, gagal memilih koordinat saat daftar, Peta dan Tikor tidak tampil di menu koreksi sekolah, Hapus Override tahun lalu, Tidak bisa menyimpan konfigurasi admin tools, Data Iputan Nilai Rapor Tidak Muncul di Cek Ulang Pendaftaran, [Kab. Klaten 2024] Req tambah kolom info agama pada Dokumen Laporan , [DIY 2024] Admin Dinas tidak bisa batal verval atau batal tolak , [Prov DIY 2024] Tidak bisa input Surat keterangan bebas buta warna dan hubungan keluarga saat koreksi data induk , Tidak Mendapatkan Email dari Paspor untuk Aktivasi dan Buat Password, [Kendala] SIswa Pengajuan Lebih dari 1 Jalur Sudah Berhasil tapi Tidak ada Datanya pada Saat Akan Diverifkasi, [Konfirmasi Bisnis] Pelaksanaan Prov NTT 2024, [Override] Menghilangkan Informasi Waktu Pengajuan dan Waktu Pendaftaran di Detail Siswa, [Banner] Menambahkan Logo Majapahit dan Bertumbuh Berkembang Berdampak, Situs Arsip Tidak Tersedia untuk 2023 yang SMA dan SMK, [EOS Bali] Usulan Tambah EOS Khusus Editor, [Override] Override Versi 2 Nilai Rapor untuk SMA dan SMK tahun 2024, [Override] Pilihan Sekolah Kedua dan Seterusnya Tidak Boleh Lintas Zona (Sesuai Zona Sekolah Pilihan Pertama), Hilangkan Pilihan Paket A/B/SLB/Lain lain pada Jenis Lulusan, Memunculkan kembali tombol \"cari \" pada situs publik, Interkoneksi Adminduk via Pusdatikomdik 2024, Penyediaan Data siswa diterima, Buka Blokir NIK, Pengecekan Hasil Seleksi pada situs publik belum berjalan, Merubah NIK data SIDANIRA ke 3, Munculkan Label Prioritas Zonasi Pada Listing Sekolah Pilihan, [Override] Penyesuaian Cetak Pendaftaran dan Verifikasi, Penyesuaan Cetak Pendataan Prestasi Siswa, Update Nilai ASPD Siswa Kota Yogya Karta, [Override] Penyesuaia Pencarian NIK Kota Yogyakarta, [Kota Yogyakarta] Melengkapi Isian Data Dukcapil Kota Yogyakarta, [Override] Penyesuaian lokasi menu cek NIK, [Override] Penyesuaian Redaksi Data Dukcapil Tidak Ditemukan, Menyembunyikan Informasi Disabilitas di Detail Siswa, [Override] Menyembunyikan Nilai di Cetak Pendaftaran, [Override] Fitur Pencarian NIK PPDB Kota Yogyakarta, mengaktifkan siswa lulusan tahun 2023 dan 2022, Data Kejuaraan belum muncul pada dasbor siswa dan keterangan operator sekolah tidak sesuai, Kolom kapasitas Cad. keluarga ekonomi tidak mampu dijalur SMA Afirmasi tidak muncul, Data Zonasi kulon progo hasil unggah ada selisih saat diunduh kembali, Tampilan Peta pada tahap konfirmasi dan dokumen cetak siswa masih menggunakan OSM, Validasi kolom no telepon berawalan \"08\" dan max 14 gigit, Gagal Unggah Daya tampung Afirmasi SMA pada admin tool, Tambah atribut data pada fitur koreksi data induk siswa, Hide notifikasi peringatan anak guru, Hide informasi status verifikasi dukcapil di dasbor siswa, [Kab Sleman] Data siswa Sleman 2024, tambah Keterangan sudah diverifikasi untuk filter status dokumen KK, Tambahkan informasi data siswa pada dasbor siswa, Nama siswa saat pendaftaran jadi auto translate, Ubah label Tanggal cetak KK menjadi \"Tanggal Kedatangan Siswa\", Hilangkan form isian tanggal lahir dan validasinya pada fitur pencarian siswa, Usia piagam belum terbaca sesuai dengan tanggal yg diinputkan, NPSN Sekolah MTSS AHMAD DAHLAN di sistem tidak sesuai, Ganti label \"Tanggal Kedatangan Siswa\" dimodul set nilai siswa, Ubah narasi status anak guru, set fitur ubah password paksa mulai tgl 24 juni 2024 jam 00.00wib, Tambah informasi \"Konfirmasi Status Siswa Di Dokumen KK\" dan \"Potensi Minat Bakat\", Set nilai default untuk n_lain20 26 juni 2022, Tambah atribut Keterangan Dukcapil pada modul Set Nilai Siswa, Set Nilai Siswa muncul notif AF1C1 : Parameter Nilai Jenis Kepindahan Domisili Siswa tidak valid, Set status anak guru di jenjang SMA/SMK, Set Syarat daftar dengan atribut tanggal kedatangan ortu gagal disimpan dan muncul error, Tambahkan atribut SHDK, Kesesuaian nama ortu dan Potensi Minat/bakat pada modul koreksi verifikasi akun siswa, Update label dan acuan tanggal KK kurang dari 3 tahun untuk filter usia KK terbaru, Hide tampilan Biodata, Info dan Nilai pada modul set nilai siswa, Fitur Verval Usia domisili KK Dukcapil, Gagal unggah master dukuh , Munculkan kembali isian dan validasi Kepesertaan PIP  n_lain13, Update rumus perhitungan rata-rata nilai rapor, Reset pendaftaran siswa dummy Kab Bantul, [Kab Bantul]Migrasi data siswa 2024, opsi unduhan data uploadan dapodik versi CSV, Hide nilai ASPD, Penelusuran penyebab siswa tidak diterima, Penyesuaian label \"Tahun Pelajaran\" menjadi \"Tahun Ajaran\", Pengajuan pendaftaran siswa gagal dan muncul notif \"parameter tanggal prestasi tidak valid\", Hilangkan isian dan validasi anak yatim n_lain13, Unduh format uploader dapodik tidak ada action, [Kab. Kudus] Reset Data Dummy Siswa 2024, Mapel PJOK dan Seni Budaya belum muncul di isian nilai rapor, Update perhitungan umur piagam 2024, Update acuan tanggal KK kurang dari 1 tahun untuk filter usia KK, Update narasi petunjuk pengisian nilai rapor, Hilangkan informasi Data Nilai Akreditasi Asal Sekolah, Update acuan tanggal usia KK pada pop up notifikasi informasi KK kurang dari 1 tahun, Gagal unggah master dukuh, Reset data pendaftaran siswa dummy 2023, Fitur Pencarian data siswa PPDB Kabupaten Kulon Progo, Override Aturan Pemilihan Sekolah 2024, Override Aturan Pemilihan Sekolah, Setting siswa anak guru atau tenaga kependidikan hanya muncul pilihan sekolah sesuai NPSN yg diinputkan, Urutan Seleksi siswa belum muncul dihasil seleksi, Reset pendaftaran dan hasil seleksi siswa dummy tahun sebelumnya, Rentang tanggal KK belum muncul sesuai konfigurasi, [DEV] Batalkan Override Lulusan Tahun Lalu Dimigrasi, [DEV] Upsitus Publik Kota Jambi 2024, [infra] - Upsitus Publik Kota Jambi 2024, [DEV] Pastikan Rapor Tidak Tereset Ketika Koreksi, [DEV] mengaktifkan siswa lulusan tahun 2023 dan 2022, [DEV] NISN 0094103525 dan 0092591939 Tidak Dapat Tambahan 100 di Pendaftaran Pertama, Proses Set tahun lulus sesuai kondisi kelulusan untuk siswa DNT`, [Prov DIY]Req Menampilkan unggah berkas saat pendaftaran, Penyesuaian alur penyimpanan data alamat ke pendaftaran, [DEV] Backend - Data Kejuaraan belum muncul pada dasbor siswa dan keterangan operator sekolah tidak sesuai, [DEV] Backend - Data Kejuaraan belum muncul pada dasbor siswa dan keterangan operator sekolah tidak sesuai, [DEV] Cleanup Data Yang Pilihannya Masih Belum Mendapatkan Tambahan 100, [DEV] Mematikan Override Batasan Pendaftaran Kedua Satu Jenjang dengan Pendaftaran Pertama, [Batang 2024] Hasil koreksi data induk siswa tidak terupdate, [DEV] Menampilkan Berkas Menjadi 2 URL Jika URL Mengandung Koma, [DEV] Siswa Bisa Diverifikasi 2 Kali, Perbaiki format tgl lahir , [DEV] Ulangi Param Siswa Pada Action Search Dengan Radius Sesuai n_lain16, [DEV] Frontend Detail Nilai Rapor di Konfirmasi Data Pendaftaran tidak muncul, [DEV] Penambahan popup notifikasi jika memilih Sekolah kurang dari 3 pilihan, [DEV] Isi Url Berkas Dengan Yang Ditemukan Di Lookup, [DEV] Penutupan Halaman Detil Siswa 48310323220746 Pada Situs Arsip 2017, Proses Perbaikan Perbedaan Alamat Siswa di Web Dengan di Tanda Bukti Cetak Pendaftaran, [DEV] Buka Blokir NIK siswa yang sudah diterima sekolah ke 4, [DEV][DIY 2024] Backend - Req Admin Dinas bisa batal verval atau batal tolak tanpa batal pickup, [DEV] Batasan untuk Koreksi berkas ajuan yang ditolak, [DEV] Hasil koreksi data induk siswa tidak terupdate, [DEV] Buka Blokir NIK siswa yang sudah diterima sekolah ke 3, [DEV] Scroll Bar Pada Hasil Seleksi, [DEV] Frontend Menyesuaikan Label pada menu Daftar pada Jalur yang Belum Mulai, [Prov DIY] Siswa yang sudah ditolak tidak bisa diedit , [Prov DIY]Data siswa tambahan, [Kab Bantul]Req Fitur ubah data pada koreksi data induk, [DEV] Merubah Status Peserta dari Diskualifikasi Pendaftaran menjadi Diskualifikasi Hasil, [Kab Kulon Progo] Data nilai siswa 2024 - perbaikan_1, [Kab Bantul]Data Zonasi tidak terbaca, [DEV] Pengecekan Perbedaan Alamat Siswa di Web Dengan di Tanda Bukti Cetak Pendaftaran, [DEV] Kolom kapasitas Cad. keluarga ekonomi tidak mampu dijalur SMA Afirmasi tidak muncul, [DEV] Validasi kolom no telepon berawalan \"08\" dan max 14 gigit, [DEV] Siswa luar daerah tidak bisa ajukan pendaftaran, [DEV] Menampilkan Halaman Konfirmasi/Cek Ulang pada Situs Publik Sesuai Asal Sekolah Lulusan, [DEV] Tidak Bisa Diverifikasi, [DEV] Backend - Aggregator Konten Halaman Data Zonasi Sekolah di Situs Publik, [DEV] Backend - Inisialisasi Atribut Yang Dikosongkan Dengan Nilai Tidak , [DEV] Frontend - Inisialisasi Atribut Yang Dikosongkan Dengan Nilai Tidak , [DEV] Tampilan Peta pada tahap konfirmasi dan dokumen cetak siswa masih menggunakan OSM, [DEV] Frontend - Halaman Data Zonasi Sekolah di Situs Publik, [DEV] Pengecekan Kompetensi dan Daya Tampung Sekolah Tidak Update, [DEV] Penyesuaian Label Informasi Situs Ditutup, [DEV] Baca Data Siswa Dengan Mendisable Cache Psb_Object, [DEV] Relabeling Informasi Situs Publik Tutup, [DEV] Frontend - Tambah atribut data pada fitur koreksi data induk siswa, [DEV] Backend - Tambah atribut data pada fitur koreksi data induk siswa, [DEV] Pembatalan Oleh User Level Admin, [DEV] Hapus Blokir Nomor Ujian 0117806547 dan Siswa Lain Jika Ada , [Batang 2024] Titik koordinat siswa tidak valid, [Kab Batang 2024] Penyesuaian override mekanisme Penyaluran siswa dg penambahan acuan zonasi, [DEV] Titik Koordinat Sekolah tidak update, [Prov DIY] Input data siswa pendataan tidak berhasil, [DEV] Skip Validasi Syarat Daftar Untuk Siswa Pendataan, [DEV] Set Nilai Zonasi Sesuai Tabel Rayon, [DEV] Frontend - Tambahkan informasi data siswa pada dasbor siswa, [DEV] Backend - Tambahkan informasi data siswa pada dasbor siswa, [DEV] Frontend - Tambah kolom info keterangan daya tampung digunakan pada laman seleksi Batang 2024, [DEV] Frontend - Penambahan Input Alamat Siswa Pada Modul Koreksi Data Induk, [DEV]Frontend Bukti Cetak Pengajuan Pendaftaran yang Pakai Maps Tidak Muncul, [DEV] Backend - Penambahan Input Alamat Siswa Pada Modul Koreksi Data Induk, [DEV] Data Afirmasi SD 2024, [Kab Sleman] Data siswa Sleman 2024, Update Nilai MTs Negeri Samarinda, Update Nilai SMPN 6 Samarinda, [DEV] Frontend - Hide notifikasi peringatan anak guru, [Batang 2024] Penyesuain label/redaksi pada tahap pilih sekolah, [DEV] Cek Limpahan Pagu 2 Tingkat di SMK, [Kab. Klaten]Laporan Pelaksanaan & Pencairan Termin 2 EOS, [Prov. Jateng]Laporan Pelaksanaan & Pencairan Termin 2 EOS, [Kab. Karanganyar]Laporan Pelaksanaan & Pencairan Termin 2 EOS, [Kota Tegal]Laporan Pelaksanaan & Pencairan Termin 2 EOS, Sertifikat EOS Pendamping Daerah, [DEV] Penyesuain label/redaksi pada tahap pilih sekolah, [DEV[ Hide informasi status verifikasi dukcapil di dasbor siswa, [DEV] Frontend - tambah Keterangan sudah diverifikasi untuk filter status dokumen KK, [DEV] Backend - tambah Keterangan sudah diverifikasi untuk filter status dokumen KK, [Prov DIY] Menampilkan status buta warna pada dasbor siswa, [Prov DIY] Disable kolom status hubungan keluarga pada koreksi data induk, [DEV] Perubahan Mekanisme Koreksi Berkas, [DEV] Ubah Atribut Kemunculan Dokumen yang Diunggah saat Pengajuan Pendaftaran sesuai dengan Kategori Siswa Calon Pendaftar Zonasi, [DEV] Melepas Validasi Hapus Domisili di Pengaturan Data Siswa Admintools, [Buka Project] Kabupaten Barito Selatan 2024, [DEV] Backend - Req menampilkan status buta warna pada dasbor siswa, [DEV] Frontend - Req menampilkan status buta warna pada dasbor siswa, [DIY 2024] Penyesuaian redaksi jika data NIK tidak ditemukan, [DEV] Muncul Notifikasi Halaman ini belum dapat diakses.Jalur Bibit Unggul, [Proses][Cabdin Kota Balikpapan] Penyediaan Laporan set Nilai Siswa, [DEV] Backend - Menyembunyikan Informasi Nama Ibu di Situs Publik , [Kab. Klaten] Dokumen Laporan , [DEV] Nama siswa saat pendaftaran jadi auto translate, [DEV] Req Disable kolom status hubungan keluarga pada koreksi data induk, [DEV] Backend - Overide kolom input alamat siswa , [DEV] Backend - Batasan Opsi Pilihan Sesuai Dengan Pilihan Atribut Lain, [Prov DIY] Hilangkan kolom Alamat, RT dan RW ,  [Kab Kulon Progo] Data nilai siswa 2024, [Kab Kulon Progo] Data nilai siswa 2024, [DEV] Frontend Ubah label Tanggal cetak KK menjadi \"Tanggal Kedatangan Siswa\", [DEV] Label Pilihan Sekolah 1 dan 2 Pada Peta Tidak Sesuai, [DEV] Backend - Batasi Provinsi dan Kota, [DEV] Backend - Tambah Variabel Jenis Peta Pada Cetak Pendaftaran Gabungan, [DEV] Frontend - Titik Koordinat Peta Pilihan sekolah Tidak muncul pada bukti cetak, [DEV]Frontend Disable untuk pilihan Provinsi dan Kota , [DEV] Frontend Nomor Kartu Keluarga 16 Digit dan awalan angka 6271xxxxxxxxxxxx, Peta Tidak muncul pada Verfikasi SD Zonasi, [DEV] n_lain12 tidak tersimpan, [DEV] Penyesuaian Cetak Pendaftaran dan Verifikasi, [DEV] Penyesuaian redaksi jika data NIK tidak ditemukan, [DEV] Frontend - Opsi Pilihan Sesuai Dengan Pilihan Atribut Lain, [DIY 2024] Proses Update data siswa dg informasi lokasi ortu bertugas, [DEV] Buka Blokir NIK siswa yang sudah diterima sekolah ke 2, [DEV] Req penyesuaian kolom info data dari dukcapil, [DEV] Backend - Hilangkan form isian tanggal lahir dan validasinya pada fitur pencarian siswa, [DEV] Ubah Tampilkan Info Status Verifikasi Di Detil Siswa, [DEV] Penyesuaian Modul Batal Pendaftaran di Situs Operator, [DEV] Frontend - Overide kolom input alamat siswa , [DEV] Frontend - Hilangkan form isian tanggal lahir dan validasinya pada fitur pencarian siswa, [Backend] Menyalakan kembali override batasan unggah berkas, [DEV] Penyesuaan Cetak Pendataan Prestasi Siswa, [DEV] Usia piagam belum terbaca sesuai dengan tanggal yg diinputkan, [DEV] Buka Blokir NIK siswa yang sudah diterima sekolah, [DEV] Sequence Nomor Pengganti Tidak Sinkron dengan Data Pada Siswa, NPSN Sekolah MTSS AHMAD DAHLAN di sistem tidak sesuai, [Kabupaten Barito Selatan] Mengaktifkan Daerah Baru, [DEV] Tidak bisa melakukan pendataan siswa, [DEV] Buat Daftar Tabel Dan Field Yang Harus Ditambah dan Diset, [DEV] Ganti label \"Tanggal Kedatangan Siswa\" dimodul set nilai siswa, [DEV] Sekolah Pilihan 2 Tidak Bisa Verval Pendaftaran Karena Ada Pendaftar di Sekolah Pilihan 1 Belum di Verval, [Prov DIY] Non Aktifkan Override info pendaftaran, [DNT] Update nilai siswa karena kolomnya ke geser, Catatan Penyediaan Data Siswa Salah Pilih Zonasi SD, Penyediaan Data Siswa Salah Pilih Zonasi SD, [DEV] Membatalkan Override Menghilangkan Isian Nilai Pendataan selain Pelajaran Ujian Akhir di Jalur SMAN 10, [DEV] Batal Pendaftaran Siswa Salah Pilih Zonasi SD, [DEV] set fitur ubah password paksa mulai tgl 24 juni 2024 jam 00.00wib, [DEV] Ubah narasi status anak guru, [DEV] Ubah Pesan Error Nomor Peserta Sudah Digunakan Siswa Dalam, Penyediaan BI Data Siswa Salah Pilih Zonasi SD Untuk Pemantauan Pendaftaran Kembali, Duplikasi request upstream dari LB Dinamis, [DEV] Modul Set Nilai Nilainya Terdisabled, [DEV] Frontend - Tambah informasi \"Konfirmasi Status Siswa Di Dokumen KK\" dan \"Potensi Minat Bakat\", [DEV] Backend - Tambah informasi \"Konfirmasi Status Siswa Di Dokumen KK\" dan \"Potensi Minat Bakat\", [DEV] Set nilai default untuk n_lain20 26 juni 2022, Set status anak guru di jenjang SMA/SMK, Tambah atribut Keterangan Dukcapil pada modul Set Nilai Siswa, [DEV] Tambah atribut Keterangan Dukcapil pada modul Set Nilai Siswa, [Dev] Backend - Pengecekan Nilai Rerata rapor peserta ppdb cabdin kota balikpapan, Migrasi Nilai Raport Cabdin Kota Bontang, [Proses] Pengecekan Lokasi Daftar SMA dan SMK pada Admin Tools, [DEV] Backend Cek Set Nilai Siswa muncul notif AF1C1 : Parameter Nilai Jenis Kepindahan Domisili Siswa tidak valid, [DEV] Menghilangkan Isian Nilai Pendataan selain Pelajaran Ujian Akhir pada 3 Jalur SMA, [Dev] Backend - [Override] Akumulasi Nilai Rerata Rapor 10 Mapel selama 5 Semester untuk SMA dan SMK Tahun 2024, [DEV]Frontend Perubahan Redaksi Informasi Pilihan Sekolah Jenjang SMA, [Kab Klaten 2024] Update biodata siswa tambahan, [Kab Klaten 2024] Penyesuaian Kolom Inputan Nilai Siswa, [DEV] Backend - [Kab Klaten 2024] Penyesuaian Kolom Inputan Nilai Siswa, Proses Update Nilai ASPD Siswa Kota Yogya Karta, [DEV] Pilihan Sekolah Diurutkan Dari Yang Jaraknya Paling Dekat Pada Form Ajuan, [DEV] Override Nilai Rapor untuk SMA dan SMK tahun 2024, [Prov DIY]Req Tombol ubah nilai atribut surat keterangan buta warna, [DEV] Tambahkan atribut SHDK, Kesesuaian nama ortu dan Potensi Minat/bakat pada modul koreksi verifikasi akun siswa, [DEV] Tambahan Nilai 100 pada Pilihan Pertama Tidak Berlaku saat Pindah Jenjang, [DEV] Batasi Sekolah Pilihan By System Hanya Radius 5KM Kebawah, [DEV] Ubah Entry Tanggal Dengan Component Yang Bisa Copas, [DEV] Menghapus Override Nilai Rapor untuk SMA dan SMK tahun 2023, [DEV] Frontend - Isian Kepindahan Domisili Ortu dan Tanggal Kedatangan Ortu, [DEV] Update data NIK melalui API PUSH SIDANIRA, [DEV] Backend - Tambah Kepindahan Domisili Ortu dan Tanggal Kedatangan Ortu, [DEV] Mode Ubah Lokasi Ketika Verifikasi Tidak Berjalan, [DEV] Frontend Tambah blok kolom disklaimer pada dokumen cetak Kab Purbalingga 2024, [Prov DIY]Req Tombol ubah nilai atribut surat keterangan buta warna, [Prov DIY] Non Aktifkan Override info pendaftaran, [DEV] Backend - Custom Rule untuk n_lain19, n_teks07 dan n_teks08 , [DEV] Frontend - Req Tombol ubah nilai atribut surat keterangan buta warna, [DEV] Backend - Req Tombol ubah nilai atribut surat keterangan buta warna, [Purbalingga 2024] Req reset/clear data pendaftaran demo , [DEV] Frontend - Cegah Masuk Jika MFA Belum Aktif, Blokir Siswa Yang Sudah Diterima Sekolah, [DEV] CPDB Tidak Bisa Aktivasi, [DEV] Aktifkan kembali serta penyesuaian  Aturan Pemilihan Sekolah, [DEV] Req set batas umur piagam / prestasi menggunakan rentang tanggal, [DEV] Hilangkan tab Biodata, Info dan Nilai pada modul set nilai siswa, [Prov DIY] Non Aktifkan Override info pendaftaran, [DEV] Frontend - Menampilkan n_teks07 jika n_lain19 = 1, [DEV] Integrasi API Dukcapil 2024, [Override] Hapus Informasi Waktu Pendaftaran pada Butki Cetak, [DEV] Override Jumlah Pilihan Sekolah PPDB Kota Balikpapan, [DEV] Frontend - Form Setting MFA, [DEV] Frontend - Menampilkan Halaman Memasukkan Token Ketika Login, [DEV] Kemunculan Dokumen yang Diunggah saat Pengajuan Pendaftaran sesuai dengan Kategori Siswa Calon Pendaftar Zonasi, [DEV] Backend - Override Pilihan Jenis Perpindahan Tugas Orang Tua, [DEV] Kode Google Analytics Untuk Kabupaten Barito Selatan, Menghilangkan informasi SMS di Portal dan Cetak Berkas, [DEV] Override Redaksi Keterangan Set Nilai Siswa Cabdin Kota Balikpapan, [Kab. Purbalingga]Laporan Pelaksanaan & Pencairan Termin 2 EOS, [Kab Bantul]Migrasi data siswa 2024, [Kab Klaten 2024] Penyesuaian tombol zonasi, [DEV] Frontend - Override Pilihan Jenis Perpindahan Tugas Orang Tua, [DEV] Merubah urutan tampilan daftar verifikasi berkas, [DEV] Frontend - Update rumus perhitungan rata-rata nilai rapor, [DEV] Backend - Update rumus perhitungan rata-rata nilai rapor, Penyesuaian alur evaluasi data alamat dari pendaftaran, [Frontend]Penyesuaian alur penyimpanan data alamat ke pendaftaran, [Backend]Penyesuaian alur penyimpanan data alamat ke pendaftaran, [DEV] Backend - Tambah Form Opsi Untuk Mengaktifkan MFA Di Daerah Pelaksana, [DEV] Backend - Form Setting MFA, [DEV] Frontend - Penyesuaian tombol zonasi, [DEV] Generate Kode Google API Untuk Kabupaten Barito Selatan, [DEV] Create Project, [Kab Bantul] Update master dukuh, [DEV] Backend - Validasi Token MFA Ketika Login, [DEV] Menambahkan Validasi Saat Tidak terdapat sekolah pilihan dari Siswa, [Dev]Mematikan Pengecekan No.KK siswa PraPendaftaran, [DEV] Mereset Rombel Daya Tampung Sekolah, [DEV] Error 404 situs https://cabdinbalikpapan.siap-ppdb.com, [DEV] Batasan Pilihan Sekolah, Gagal unggah master dukuh , [DEV] Munculkan kembali isian dan validasi Kepesertaan PIP  n_lain13, [DEV] Merubah tampilan status peserta didik saat verifikasi ke tab pengajuan, [Kab Bantul] Reset data dummy 2024, [Kab Kulon Progo] Nilai Rerata Rapor dan Semester tidak muncul pada cetak ajuan dan verifikasi, [DEV] Frontend - Tambah Form Opsi Untuk Mengaktifkan MFA Di Daerah Pelaksana, [DEV] Penyesuaia Pencarian NIK Kota Yogyakarta, [DEV] Buka Akses Koreksi Nilai Rapor untuk siswa pendataan, [DEV] Generate Konfigurasi Status dan Jenis MFA Yang Digunakan, [DEV] Buka Batasan Pilihan Sekolah Jika Sudah Tidak Diterima, [DEV] Cek Ajuan Berkas Peserta tidak ditemukan, [DEV] Verifikasi Berkas Belum Google Maps, [DEV] Kemunculan Dokumen yang Diunggah saat Pengajuan Pendaftaran sesuai dengan Kategori Prestasi yang Dipilih, Merubah NIk Peserta, [DEV] Tambah Tabel Untuk Menyimpan Informasi MFA Siswa, [DEV] Ubah Redaksional Jumlah Nilai Rerata, [Frontend] Hide nilai ASPD, [Backend] Hilangkan validasi nilai ASPD, [DEV] Pindah Lokasi Menu Cek NIK, [DEV] Backend - Mekanisme Unggah berkas yang ajuannya di tolak , [DEV] Penyesuaian Jadwal Unggah Berkas, [DEV] Frontend - Mekanisme Unggah berkas yang ajuannya di tolak , [DEV] Keluarkan isian lokasi verisikasi dan unggah berkas untuk siswa pra pendaftaran, [DEV] Penelusuran penyebab siswa tidak diterima, [DEV] Tampilan Daya Tampung di Hasil Seleksi Belum Sesuai, [DEV] Hilangkan Informasi Status Verifikasi, Unduh format uploader dapodik tidak ada action, [DEV] Nonaktifkan Override Auto Approve Siswa Pra Pendaftaran, [DEV] Penyesuaian label \"Tahun Pelajaran\" menjadi \"Tahun Ajaran\", [DEV] Ubah Pesan Error Data Dukcapil Tidak Ditemukan, [DEV] Penyesuaian Pengecekan NIK untuk siswa prapendaftaran, [DEV] Tambah parameter untuk menampilkan nilai dan handle nilai yang dikirim, [Kab Sleman] Parameter Nilai Lingkungan tidak valid, [Dev] Hilangkan isian dan validasi anak yatim n_lain13, [Dev] Menyembunyikan Informasi Disabilitas di Detail Siswa, [DEV] Update perhitungan umur piagam 2024, [DEV] Mapel PJOK dan Seni Budaya belum muncul di isian nilai rapor, [DEV] Menghilangkan Informasi Rangking dari Jumlah Pendafttar pada Detail Siswa, [DEV] Update narasi petunjuk pengisian nilai rapor, [Dev]Update acuan tanggal usia KK pada pop up notifikasi informasi KK kurang dari 1 tahun, [Dev] Hilangkan informasi Data Nilai Akreditasi Asal Sekolah, [Dev] Cetak Pengajuan Pendaftaran Tidak Muncul Peta, [DEV] Sudah Ditutup Operator Demonya Tapi Masih Terbuka, [DEV] Mengaktifkan Kabupaten Barito Selatan, [DEV] Data Peserta Tidak Muncul Pada Hasil Seleksi, [Frontend] Menyembunyikan Informasi Disabilitas di Detail Siswa, [Frontend] Batasan pilihan sekolah jenjang SMA, [Backend] Batasan pilihan sekolah jenjang SMA, [DEV] Frontend Fitur Pencarian Data Siswa, [DEV] Backend Fitur Pencarian Data Siswa, [Backend] [Override] Menyembunyikan Nilai di Cetak Pendaftaran, [DEV] Penyesuaian Validasi Berkas Unggahan Berdasarkan Isian Nilai, [DEV] Ubah Theme Warna Situs Publik SMA dan SMK, [Frontend] Hilangkan Informasi NA pada Bukti Cetak Pendaftaran, [DEV] Implementasi API Dukcapil 2024, [DEV] Disable Validasi Jadwal Unggah Berkas Jalur Penyandang Disabilitas, [DEV] Penyesuaian Tampilan Berkas Unggahan Berdasarkan Isian Nilai, [Dev] Menghilangkan tombol \"cari \" pada situs publik, Penyesuaian Konten Situs Publik Yang Ditutup, [DEV] Gagal save setting berkas unggahan, [DEV] Penyesuaian Konten Situs Publik Yang Ditutup, [Frontend] Isian Nilai Mapel Siswa lulusan MTs/Pesantren, [DEV] Ubah Informasi Dugaan Data Ganda di Situs Operator, [Backend] Isian Nilai Mapel Siswa lulusan MTs/Pesantren, Reset data pendaftaran siswa dummy 2023, [Frontend] Override Isian Nilai Mapel Siswa lulusan MTs/Pesantren, [Backend] Override Isian Nilai Mapel Siswa lulusan MTs/Pesantren, Hapus Batasan Batal Verval, Cek Komplain Nilai Radius Tidak Muncul Pada Hasil Seleksi, [DEV] Pembatasan Verval Diberlakukan Per Sekolah Per Jalur, [DEV] Frontend - Isian Nilai Mapel Mengikuti Jenis Lulusan, [DEV] Backend - Isian Nilai Mapel Mengikuti Jenis Lulusan, Refresh Portal, halaman tidak ditemukan, [Kabupaten Timor Tengah Utara] Mengaktifkan Daerah Baru, [DEV] Menambahkan Key pilihan pada response validate, [DEV] Error Ketika Koreksi Pendaftaran Gabungan, [DEV] Batasan Pilihan Sekolah Siswa Sesuai Batas Maksimal Sekolah, Upscale VM tool migrasi 10.21.2.153, Penambahan Storage 10.21.2.108, Penambahan Storage 10.21.2.226, Pencarian Detil Arsip Error, Refresh Portal, halaman tidak ditemukan, [Kab Sleman] Tidak bisa koreksi tanggal lahir, [DEV] Hapus Override Dari Tiket #12454, [DEV] Tambah Daerah Baru Kabupaten Timor Tengah Utara, Tampilkan Nilai TKDN, Konfirmasi daerah 1 Prov dan 1 Kota/Kab di TR VI, Konfirmasi daerah 1 Prov dan 2 Kota/Kab di TR V, [Frontend] Fitur Pencarian NIK PPDB Kota Yogyakarta, [DEV] Ubah Default Tahun Lulus, [DEV] Hapus Override Pilihan Madrasah Pada Verifikasi Berkas, Reset pendaftaran dan hasil seleksi siswa dummy tahun sebelumnya, [DEV] Tambah Akses ke Admin Tools, [DEV] Urutkan Sekolah Pada Daftar Sekolah Pilihan Dari Jarak Terdekat ke Terjauh, Implementasi Aturan Pemilihan Sekolah 2024, [Bakckend] Pencarian Fitur Pencarian NIK PPDB Kota Yogyakarta, Ubah Arsip Prov. Yogya 2024 Agar Jalur Keluar Semua, Ganti dokumen Unduh Brosur pada Situs Daerah non Pelanggan, Batasi Pilihan Sekolah Anak GTK, [DEV] Ganti dokumen Unduh Brosur pada Situs Daerah non Pelanggan, [Frontend] Penyesuaian Input NPSN Terhadap Pilihan Status Siswa , Tambah Akses ke Admin Tools Sebagai EOS Konfigurator 2024, Penambahan opsi RW siswa pada pengaturan kapasitas, Pencairan HR Termin 2 EOS Prov. Kalimantan Tengah 2023, Reset pendaftaran dan hasil seleksi siswa dummy tahun sebelumnya, Override Engine Seleksi Kota Batu, Override Info Dari Formatter Kapasitas Jika Yang Diakses Adalah Kota Batu, Konfirmasi daerah 3 Kota/Kab di TR I,\n",
      "\n",
      "Cluster 5 topic:\n",
      "\n",
      "Cluster 5 subject: Pengecekan File Ajuan Pendaftaran di Operator Tidak Terbuka, [DEV] Menampilkan Alamat Ajuan pada Detail Siswa Pendaftaran, [DEV] Menampilkan Alamat Ajuan pada Laporan Pendaftaran , [DEV] Tanggal Kartu keluarga berubah menjadi 6 september 2023 setelah dilakukan koreksi ajuan akun siswa, [Normalisasi] Normalisasi Data Ajuan Pendaftaran, [DEV] Nilai Siswa Berbeda antara Daftar Ajuan, Riwayat, dan Seleksi, [DEV]Koreksi verifikasi akun untuk siswa status PTOW saat disimpan muncul notif \"50A20 : Parameter Tanggal perpindahan Tugas Ortu/Wali tidak valid\", Pengecekan peserta pada daftar ajuan pendaftaran tidak ada, [DEV] Pengecekan peserta pada daftar ajuan pendaftaran tidak ada, [DIY 2024] Siswa tidak bisa disetujui ajuan akunnya, [DIY 2024] Req penyesuaian fitur verifikasi akun siswa , Normalisasi data Ajuan Siswa DNT, [DEV] Siswa tidak bisa disetujui ajuan akunnya DIY 2024, [Fix] Fitur Batal verifikasi ajuan pendaftaran muncul notif \"D6FE8 : Terjadi kesalahan aplikasi\", Pemutakhiran data siswa sesuai atribut mengacu pada ajuan akun yang terakhir, Filter Menurut Jam Ajuan Pendaftaran pada Laporan Ajuan pendaftaran, [DEV] Filter Menurut Jam Ajuan Pendaftaran pada Laporan Ajuan pendaftaran, [DIY 2024] Penyesuaian fitur verifikasi akun siswa ambil data API Tapem/Dukcapil, [DEV] Nilai rata rata rapor saat pendaftaran berbeda dengan saat verifikasi ajuan akun, [DEV] Isi Atribut N_LAIN12 Dari API Tapem / Dukcapil di Modul Verifikasi Akun Siswa, [Prov DIY 2024]Siswa Pendataan tidak bisa ajuan akun, [Prov DIY] Req Tambah kolom status hubungan keluarga pada daftar ajuan akun, [Prov DIY] Nilai Gabungan pada ajuan akun dan cetak ajuan akun tidak sesuai, Gagal Approval Ajuan Akun di SMP Zonasi, [DEV] Nilai rata rata rapo berbeda antara di verifikasi ajuan akun dengan di dasbor siswa, [Override] Update Siswa yang Dikunci Titik Koordinatnya saat Ajuan Pendaftaran Gabungan, [DEV] Update Siswa yang Dikunci Titik Koordinatnya saat Ajuan Pendaftaran Gabungan, [DEV] Penelusuran Koordinat Siswa Berbeda Antara Ajuan Dan Daftar, [Override] Siswa dengan Atribut (siswa_nilai.n_lain16)=1 Tidak Bisa Ubah Titik Koordinat saat Ajuan Pendaftaran Gabungan, [Kab Purbalingga 2024] Req override ubah tikor siswa saat verval ajuan pendaftaran, [Override] Nilai Atribut n_lain18=1 Seharusnya Bisa Ajuan Pendaftaran Online di SMK Jarak Terdekat, pengecekan info pengajuan pendaftaran berbeda dgn ajuan pendaftarannya, [DEV] Siswa Perpindahan masih nyantol data perpindahannya saat ajuan akun ulang dengan menggunakan domisili sesuai KK, Reset daftar Ajuan Pendaftaran Gabungan zona Demo, Reset daftar Ajuan Pendaftaran Gabungan zona Demo, Hapus Data Ajuan Pendaftaran di Demo, [Prov DIY]Tidak bisa ajuan akun di jenjang SMK, [DIY 2024] Kolom info Hubungan Keluarga pada cetak ajuan akun siswa kosong, [Prov DIY]Tidak bisa ajuan akun, [Prov DIY 2024] Penyiapan akun demo ajuan akun siswa, [Kendala] Reset data Ajuan supaya menjadi Ajuan lagi di SMPN 9 Denpasar, [Publik] Sudah Diabtasi Waktu Ajuan Akun dan Pendaftarannya Tapi Tetap Kelolosan, Pengecekan siswa tidak bisa mengajukan akun ke 2, Create Akun dan Generate Token, Ajuan Berkas Peserta tidak ditemukan, Menghapus Ajuan Akun siswa Prapendaftaran, Mematikan Validasi NIK saat mengajukan akun, Menambahkan NIK pada validasi SIdanira saat pengajuan akun, mematikan Override penguncian pilihan provinsi saat ajuan akun MIN, menampilkan kembali validasi data sidanira saat pengajuan akun, Tahun Lulus Siswa 2024 Namun Saat Ajuan Akun Munculnya 2023, [Prov DIY]  Atribut tidak muncul saat ajuan akun, [Prov DIY]Hilangkan isian NIK saat ajuan akun pada jenjang SMK demo, Normalisasi data Ajuan Siswa , Pengecekan siswa tidak bisa mengajukan akun, Ajuan akun siswa yang kedua masih nyantol data kejuaraan dari yang ajuan pertama, Rata rata aktivitas approval ajuan akun persekolah, Zonasi siswa saat ajuan pendaftaran terbaca dari zona 4, Ajuan akun siswa ulang setelah di tolak tetap menampilkan unggahan dokumen kejuaraan, Operator sekolah gagal verifikasi ajuan akun karena stuk di tombol verifikasi, Sembunyikan informasi Akreditasi sekolah asal pada halaman ajuan akun, Saat ajuan ulang nilai rapor terkunci, Siswa Asal sekolah Luar prov dan jenis lulusan lain lain setelah di tolak pengajuan akun tidak bisa ajuan akun kembali, Fitur Koreksi verifikasi akun saat di simpan jumlah mapel rapor tersimpan nya menjadi 7 mapel dari 9 mapel, Siswa non database setelah di tolak pengajuan akun tidak bisa ajuan akun kembali , Siswa belum ajuan akun tetapi muncul notif \"NISN sudah digunakan ajuan akun\", Status kepesertaan PIP terbaca \"tidak PIP\" saat siswa ajuan akun, Take down notifikasi konfirmasi verifikasi ajuan akun siswa yang kurang dari 1 tahun, Tambah atribut status dokumen KK saat verifikasi ajuan akun siswa, Tambah atribut status dokumen KK pada filter Kartu keluarga di modul daftar ajuan akun siswa, Status siswa anak guru dijenjang SMA/SMK tidak muncul saat ajuan akun siswa, Tanggal cetak KK tidak bisa diklik saat ajuan akun , Disable pilihan provinsi, kota/kab, kecamatan dan kelurahan pada ajuan pendaftaran siswa, menampilkan atribut tanggal Tanggal perpindahan Tugas Ortu untuk siswa PTOW pada saat ajuan akun, Disable ubah tanggal cetak kartu KK di modul koreksi verifikasi akun siswa, Menampilkan data verval dukcapil di modul detil siswa ajuan akun siswa, Gagal ajuan akun dan muncul notifikasi Perhatian! 6505B : Parameter Tanggal Kedatangan Ortu tidak valid, Loading tampilan halaman ajuan akun lama bisa sampai 10 detik , Ajuan akun siswa stuck di tahap ke 2, Reset ajuan akun, hasil seleksi zona demo tahun 2023, Jadikan mandatori isian saat verifikasi ajuan akun di operator, Menampilkan maps pada cetak bukti ajuan akun, Memunculkan mapel rapor PJOK dan Seni Budaya pada cetak pengajuan akun , Nilai rapor mapel PJOK dan Seni Budaya berisi 0 di halaman verifikasi akun siswa, Munculkan tombol verifikasi, Tolak, batal verifikasi dan batal tolak di menu daftar ajuan akun, Isian Nilai Saat Verifikasi akun belum muncul di halaman operator saat melakukan verifikasi ajuan akun siswa, Reset status verifikasi akun siswa dummy 2023, [DEV] Nilai Atribut n_lain18=1 Seharusnya Bisa Ajuan Pendaftaran Online di SMK Jarak Terdekat, [DEV] Disable Isian Nilai ASPD di Form Ajuan Pendaftaran, [DEV] Reset data Ajuan supaya menjadi Ajuan lagi di SMPN 9 Denpasar, siswa non database (luilusan 2023) saat ajuan akun gagal simpan , [Prov DIY]Siswa Pendataan tidak bisa ajuan akun, [DEV] Tolak 3 Ajuan SMA Afirmasi yang Terlanjur Batal Verifikasi, [DIY 2024] Fitur Pick Up ajuan akun siswa, [DIY 2024] Tambah mekanisme batal pickup ajuan akun siswa, [DEV] Backend Ajuan akun siswa yang kedua masih nyantol data kejuaraan dari yang ajuan pertama, Hapus Ajuan Pendaftaran Siawa , Laporan Rata rata aktivitas approval ajuan akun persekolah, [Prov DIY] Req Akses untuk melihat data ajuan siswa, [DEV] Hapus Ajuan Pendaftaran Siawa , [DEV] Hanya Validasi Ketika Akan Tolak Verifikasi Pada Daftar Ajuan Akun, [DEV] Tampilkan Info Pada Halaman Verifikasi dan Tolak Ajuan Akun, [DEV] Siswa Pendataan tidak bisa ajuan akun, [DEV] Frontend - Penyesuaian Isian Alamat Pada Form Ajuan, [DEV] Backend - Penyesuaian Isian Alamat Pada Form Ajuan, [DEV] Backend - Ajuan akun siswa ulang setelah di tolak tetap menampilkan unggahan dokumen kejuaraan, [Prov DIY] Tambah kolom status hubungan keluarga pada daftar ajuan akun, [DEV] Tolak 1 Ajuan SMA Afirmasi yang Terlanjur Batal Verifikasi, [DEV] Saat ajuan ulang nilai rapor terkunci, [DEV] Frontend Fitur Pick Up ajuan akun siswa DIY 2024, [DEV] Backend Fitur Pick Up ajuan akun siswa DIY 2024, [DEV] Req Tambah kolom status hubungan keluarga pada daftar ajuan akun, [DEV] Req Tambah kolom status hubungan keluarga pada daftar ajuan akun, [DEV] Sembunyikan informasi Akreditasi sekolah asal pada halaman ajuan akun, [Prov DIY] Nilai Gabungan pada ajuan akun dan cetak ajuan akun tidak sesuai, [DEV] Nilai Gabungan pada ajuan akun dan cetak ajuan akun tidak sesuai, [Prov DIY] Status hub keluarga tidak muncul saat ajuan akun, [PPDB DIY 2024] Penyesuaian kolom info alamat pada form ajuan akun siswa, [DEV] Pengecekan Siswa mendaftar PTO tidak muncul pada ajuan pendaftaran, [DEV] Fitur Koreksi verifikasi akun saat di simpan jumlah mapel rapor tersimpan nya menjadi 7 mapel dari 9 mapel, Perbaiki dashboard ajuan akun di BI, [DEV] Siswa non database setelah di tolak pengajuan akun tidak bisa ajuan akun kembali , [Prov DIY] Req Override menampilkan atribut saat ajuan akun, [Prov DIY] Req tambah filter di halaman daftar ajuan  akun siswa , [DEV] Siswa belum ajuan akun tetapi muncul notif \"NISN sudah digunakan ajuan akun\", [Prov DIY] Req Override menampilkan atribut saat ajuan akun, [Prov DIY] Req tambah filter di halaman daftar ajuan  akun siswa , [Kab Bantul] Atribut saat pengajuan akun jalur afirmasi masih bisa diedit, [Kab Bantul] Atribut saat pengajuan akun jalur Zonasi masih bisa diedit, [DEV] Take down notifikasi konfirmasi verifikasi ajuan akun siswa yang kurang dari 1 tahun, [DEV] Backend - Tambah atribut status dokumen KK pada filter Kartu keluarga di modul daftar ajuan akun siswa, [DEV] Disable pilihan provinsi, kota/kab, kecamatan dan kelurahan pada ajuan pendaftaran siswa, [DEV] Backend - Penyesuaian kolom info alamat pada form ajuan akun siswa, [DEV] Frontend - Tambah atribut status dokumen KK pada filter Kartu keluarga di modul daftar ajuan akun siswa, [DEV] Disable pilihan provinsi, kota/kab, kecamatan dan kelurahan pada ajuan pendaftaran siswa, [DEV] Frontend - Penyesuaian kolom info alamat pada form ajuan akun siswa, [DEV]Backend Tambah atribut status dokumen KK saat verifikasi ajuan akun siswa, [DEV] Menampilkan data verval dukcapil di modul detil siswa ajuan akun siswa, [DEV] Menampilkan data verval dukcapil di modul detil siswa ajuan akun siswa, [DEV] Fix Tanggal Cetak KK Disabled Ketika Ajuan, url ajuan masih belum sesuai, [DEV] Url ajuan masih belum sesuai, [DEV] Frontend - Disable ubah tanggal cetak kartu KK di modul koreksi verifikasi akun siswa, [DEV] Pengecekan siswa tidak bisa mengajukan akun ke 2, [DEV] Disable ubah tanggal cetak kartu KK di modul koreksi verifikasi akun siswa, [DEV] Backend Validasi Nilai Atribut Tanggal perpindahan Tugas Ortu untuk siswa PTOW Pada Ajuan Akun, [DEV[ Frontend Menampilkan atribut tanggal Tanggal perpindahan Tugas Ortu untuk siswa PTOW pada saat ajuan akun, [Kab. Jepara] PIlihan Default Ajuan Akun, [DEV] Tambah Filter Daftar Ajuan Akun, [DEV] Req Override menampilkan atribut saat ajuan akun, [DEV] Frontend - Req tambah filter di halaman daftar ajuan  akun siswa , [DEV] Backend - Req tambah filter di halaman daftar ajuan  akun siswa , NIK Yang Sudah Mengajukan Akun, [DEV] Loading tampilan halaman ajuan akun lama bisa sampai 10 detik , [Prov DIY]  Atribut tidak muncul saat ajuan akun, [Prov DIY]Muncul isian NIK saat ajuan akun pada jenjang SMK, [Prov DIY]Tidak bisa ajuan akun, [DEV] Jadikan mandatori isian saat verifikasi ajuan akun di operator, [DEV]Tidak bisa ajuan akun di jenjang SMK, [DEV] Ajuan akun siswa stuck di tahap ke 2, [DEV] Menolak ajuan berkas peserta, [DEV] Reset Aktivasi Akun Siswa 0121789997, Menghapus Ajuan Akun siswa Prapendaftaran, Reset ajuan akun, hasil seleksi zona demo tahun 2023, [DIY 2024] Aktifkan kembali fitur menu Aktivasi Akun Siswa, [Prov DIY 2024] Ganti redaksional pada Notifikasi pengajuan Akun Siswa Sekolah Asal Luar Prov. DIY, [DEV] Aktifkan kembali fitur menu Aktivasi Akun Siswa DIY 2024, Proses Hapus Data Ajuan Pendaftaran di Demo, [DEV] Nonaktifkan Validasi NIK Saat Pengajuan Akun, [DEV] Menampilkan maps pada cetak bukti ajuan akun, [DEV] Isian Nilai Saat Verifikasi akun belum muncul di halaman operator saat melakukan verifikasi ajuan akun siswa, [DEV] Ajuan Akun tidak menampilkan isian SIDANIRA, [DEV] Memunculkan mapel rapor PJOK dan Seni Budaya pada cetak pengajuan akun , [DEV] Nilai rapor mapel PJOK dan Seni Budaya berisi 0 di halaman verifikasi akun siswa, [Dev] Penyesuaian info pada saat ajuan akun, [DEV]Munculkan tombol verifikasi, Tolak, batal verifikasi dan batal tolak di menu daftar ajuan akun, [Backend] Validasi SIdanira saat pengajuan akun, [Frontend] Menambahkan NIK pada validasi SIdanira saat pengajuan akun, [DEV] Ganti Redaksional Notifikasi Pengajuan Akun Siswa Sekolah Asal Luar Prov. DIY, [DEV] Gagal Ajuan Akun, [DEV] Hapus Override Disable Pilihan Provinsi Pada Ajuan Akun Jenjang MIN, Reset daftar Ajuan Pendaftaran Gabungan zona Demo, Reset daftar Ajuan Pendaftaran Gabungan zona Demo,\n",
      "\n",
      "Cluster 6 topic:\n",
      "\n",
      "Cluster 6 subject: Pengiriman SPH Awal PPDB Online Kota Balikpapan Tambahan Tahun 2024, Review Dokumen SPH Awal PPDB Online Kab Karimun 2024, Pengiriman SPH Nego PPDB Online Kota Bontang Tahun 2024, Pengiriman SPH Nego PPDB Online Kota Pontianak - SMP Tahun 2024, Pengiriman SPH Nego PPDB Online Kota Pontianak - SD Tahun 2024, Pengiriman SPH Nego PPDB Online Kota Mataram Tahun 2024, Review Dokumen SPH Awal PPDB Online Kota Bengkulu - SMP 2024, Emailing SPH Awal PPDB Online Provinsi Kota Serang 2024, Pengiriman SPH Nego PPDB Online Kabupaten Kutai Timur - Jenjang SD Tahun 2024, Pengiriman SPH Nego PPDB Online Kota Mojokerto Tahun 2024 - Jenjang TK, Pengiriman SPH Nego PPDB Online Kota Mojokerto Tahun 2024 - Jenjang SD, Pengiriman SPH Nego PPDB Online Kota Mojokerto Tahun 2024 - Jenjang SMP, Pengiriman SPH Nego PPDB Online Kabupaten Gresik Tahun 2024, Pengiriman SPH Nego PPDB Online Kota Denpasar Tahun 2024, Pengiriman SPH Nego PPDB Online Kota Balikpapan Tahun 2024, Pengiriman SPH Awal PPDB Online Kabupaten Kutai Timur - Jenjang SMP Tahun 2024, Pengiriman SPH Awal PPDB Online Kabupaten Kutai Timur - Jenjang SD Tahun 2024, Pengiriman SPH Nego PPDB Online Kabupaten Barito Selatan Tahun 2024, Pengiriman Soft Dokumen SPH Nego - PPDB Online Kab. Sleman Tahun 2024, Pengiriman SPH Awal PPDB Online Provinsi Kalimantan Selatan - SMK Swasta Tahun 2024, Emailing SPH Awal PPDB Online Provinsi Kab. Batang 2024, Pengiriman Soft Dokumen SPH Nego - PPDB Online Kab. Demak Tahun 2024, Pengiriman SPH Awal PPDB Online Kota Mataram Tahun 2024, Pengiriman Soft Dokumen SPH Awal - PPDB Online Kab. Jepara 2024, Pengiriman SPH Awal PPDB Online Provinsi NTT Tahun 2024, Pengiriman SPH Nego PPDB Online Kota Banjarbaru Tahun 2024, Pengiriman SPH Nego PPDB Online Kota Pasuruan Tahun 2024, Nomor Surat SPH NEGO PPDB Online Kota Yogyakarta 2024, Nomor SPH Awal Berdasarkan email yang disampaikan dari Business Solution & Support PT. METRA-NET perihal Permohonan Surat Penawaran Harga PPDB Online Kota Sukabumi, Dokumen SPH PPDB Online Jawa Tengah Cabang Dinas 9 Tahun 2023, Pembuatan SPH Awal PPDB Online Kab. Purbalingga 2024, Pengiriman SPH Nego PPDB Online Kab Malang Tahun 2024, Pengiriman Soft Dokumen SPH Awal - PPDB Online Kab. Grobogan 2024, Pengiriman SPH Nego PPDB Online Kota Palangka Raya Tahun 2024, Pengiriman Soft Dokumen SPH Nego - PPDB Online Kota Yogyakarta Tahun 2024, Pengiriman SPH Nego PPDB Online Kota Batu Tahun 2024, Pengiriman Soft Dokumen SPH Nego - PPDB Online Kab. Pati Tahun 2024, Nomor Surat SPH Nego PPDB Online Kabupaten Pati 2024, Pembuatan SPH Awal PPDB Online Provinsi Banten 2024, Emailing SPH Awal PPDB Online Provinsi Banten Tahun 2024, Emailing SPH Awal PPDB Online Provinsi Kab. Purbalingga 2024, Pengiriman SPH Awal PPDB Online Kota Pontianak - SD Tahun 2024, Pengiriman SPH Awal PPDB Online Kota Pontianak - SMP Tahun 2024, Pengiriman SPH Awal PPDB Online Kota Denpasar Tahun 2024, Review SPH Awal PPDB Online Kabupaten Bangka 2024, Pengiriman SPH Awal PPDB Online Cabdin Balikpapan Provinsi Kalimantan Timur Tahun 2024, Pengiriman SPH Awal PPDB Online Provinsi Kalimantan Tengah Tahun 2024, Pengiriman SPH Awal PPDB Online Kabupaten Barito Selatan Tahun 2024, Pengiriman Scan Dokumen SPH Awal - PPDB Online Kab. Kudus 2024, Pengiriman Scan Dokumen SPH Awal - PPDB Online DIY 2024, Pengiriman Soft Dokumen SPH Awal - PPDB Online Jawa Tengah 2024, Pengiriman Soft Dokumen SPH Awal - PPDB Online Kab. Klaten 2024, Pengiriman Soft Dokumen SPH Awal - PPDB Online Kab. Sleman 2024, Pengiriman SPH Awal PPDB Online Kabupaten Gresik Tahun 2024, Review SPH Awal PPDB Online Kabupaten Karimun 2024, Nomor Surat SPH Awal PPDB Online Kabupaten Kulonprogo 2024, Pengiriman SPH Awal PPDB Online Kota Balikpapan Tahun 2024, Pengiriman SPH Awal PPDB Online Kota Palangka Raya Tahun 2024, Pengiriman Scan Dokumen SPH Awal - PPDB Online Kab. Bantul 2024, Pengiriman SPH Awal PPDB Online Kota Bontang Tahun 2024, Pengiriman SPH Awal PPDB Online Kabupaten Berau Tahun 2024, Pembuatan SPH Awal PPDB Online Provinsi Jambi 2024, Review SPH Awal PPDB Online Kabupaten Bantul 2024, Pengiriman Scan Dokumen SPH Awal - PPDB Online Kab. Kulon Progo 2024, Nomor SPH Awal PPDB Online Prov Jambi 2024, Review Dokumen SPH Awal PPDB Online Prov Jambi 2024, Nomor SPH Awal Berdasarkan email yang disampaikan dari Business Solution & Support PT. METRA-NET perihal Permohonan Surat Penawaran Harga PPDB Online Kab. Kulonprogo, Nomor SPH Awal PPDB Online Kota Banjarbaru 2024, Pengiriman SPH Awal PPDB Online Kota Pasuruan Tahun 2024, Nomor Surat SPH Awal PPDB Online Madrasah DKI 2024 - Jenjang MTSN, Nomor Surat SPH Awal PPDB Online Madrasah DKI 2024 - Jenjang MAN, Pengiriman SPH Awal PPDB Online Prov Jambi Tahun 2024, Sign Dokumen SPH Awal PPDB Online Prov Jambi Tahun 2024, Pengiriman SPH Awal PPDB Online Kota Banjarmasin Tahun 2024, BAK - PPDB DKI Kelompok 17 - 2023, BAP - PPDB DKI Kelompok 17 - 2023, BAP - PPDB DKI Kelompok 2 - 2023, BAP - PPDB DKI Kelompok 5- 2023, BAP - PPDB DKI Kelompok 4 - 2023, BAP - PPDB DKI Kelompok 18 - 2023, BAP - PPDB DKI Kelompok 19 - 2023, BAP - PPDB DKI Kelompok 13 - 2023, BAP - PPDB DKI Kelompok 12 - 2023, BAK - PPDB DKI Kelompok 12 - 2023, BAP - PPDB DKI Kelompok 11 - 2023, BAK - PPDB DKI Kelompok 11 - 2023, BAP - PPDB DKI Kelompok 6 - 2023, BAK - PPDB DKI Kelompok 6 - 2023, BAP - PPDB DKI Kelompok 14 - 2023, BAK - PPDB DKI Kelompok 14 - 2023, BAP - PPDB DKI Kelompok 15 - 2023, BAK - PPDB DKI Kelompok 15 - 2023, BAK - PPDB DKI Kelompok 10 - 2023, BAP - PPDB DKI Kelompok 16 - 2023, BAK - PPDB DKI Kelompok 16 - 2023, BAP - PPDB DKI Kelompok 8 - 2023, BAK - PPDB DKI Kelompok 8 - 2023, BAP - PPDB DKI Kelompok 1 - 2023, BAK - PPDB DKI Kelompok 1 - 2023, BAP - PPDB DKI Kelompok 3 - 2023, BAK - PPDB DKI Kelompok 3 - 2023, BAP - PPDB DKI Kelompok 7 - 2023, BAK - PPDB DKI Kelompok 7 - 2023, nomor SPH Awal Berdasarkan email yang disampaikan dari Business Solution & Support PT. METRA-NET perihal Permohonan Surat Penawaran Harga PPDB Online Kota Pasuruan TA 2024, Permintaan Pembuatan Nomor SPH Awal PPDB Online Provinsi Bali 2024, Nomor SPH Awal PPDB Online Kota Banjarmasin 2024, Nomor SPH Awal PPDB Online Kota Mojokerto 2024 - Jenjang TK, Nomor SPH Awal PPDB Online Kota Mojokerto 2024- Jenjang SD, Nomor SPH Awal PPDB Online Kota Mojokerto 2024- Jenjang SMP, Pengiriman Scan Dokumen SPH Awal - PPDB Online Kab. Demak Tahun 2024, Pengiriman Scan Dokumen SPH Awal - PPDB Online Kota Yogyakarta Tahun 2024, Pengiriman SPH Awal PPDB Online Provinsi Bali Tahun 2024, Pengiriman Scan Dokumen SPH Awal - PPDB Online Kab. Pati Tahun 2024, nomor SP Awal Menindaklanjuti email permintaan SPH tanggal 6 Mei dari Business Solution & Support PT METRA-NET untuk pekerjaan Sewa Aplikasi PPDB Online Tahun Pelajaran 2024/2025 Kantor Wilayah Kemenag Provinsi DKI Jakarta jenjang MAN, nomor SPH Awal Menindaklanjuti email permintaan SPH tanggal 6 Mei dari Business Solution & Support PT METRA-NET untuk untuk pekerjaan Sewa Aplikasi PPDB Online Tahun Pelajaran 2024/2025 Kantor Wilayah Kemenag Provinsi DKI Jakarta jenjang MTSN, Tandatangan SPH Awal PPDB Online Madrasah DKI 2024 - Jenjang MIN, Nomor Surat SPH Awal PPDB Online Madrasah DKI 2024 - Jenjang MIN, Review SPH Awal PPDB Online Madrasah DKI 2024 - Jenjang MIN, nomor SPH Awal Berdasarkan email yang disampaikan dari Business Solution & Support PT. METRA-NET perihal Permohonan Surat Penawaran Harga PPDB Online Kota Banjarmasin, Nomor ID Paket SFD-P2405-9182697  melalui mekanisme pengadaan ePurchasing untuk pekerjaan Sewa Layanan PPDB Online Prov. Bali TA 2024, Pengiriman SPH Awal PPDB Online Kota Banjarbaru Tahun 2024, Pengiriman Revisi SPH Awal PPDB Online Kota Mojokerto Tahun 2024, Revisi SPH Awal PPDB Online Kota Mojokerto 2024 - Jenjang TK, Revisi SPH Awal PPDB Online Kota Mojokerto 2024 - Jenjang SMP, Revisi SPH Awal PPDB Online Kota Mojokerto 2024 - Jenjang SD, nomor SPH Awal ID Paket LPL-P2404-9041985 melalui mekanisme pengadaan ePurchasing untuk pekerjaan Sewa Layanan PPDB Online Prov. Jambi TA 2024, Pengiriman SPH Awal PPDB Online Kota Mojokerto Tahun 2024 - Jenjang TK, Pengiriman SPH Awal PPDB Online Kota Mojokerto Tahun 2024 - Jenjang SD, Pengiriman SPH Awal PPDB Online Kota Mojokerto Tahun 2024 - Jenjang SMP, nomor SPH Nego ID Paket LPL-P2404-9104536 melalui mekanisme pengadaan ePurchasing untuk pekerjaan Pengadaan Layanan PPDB Online Kab. Pati TA 2024, nomor SPH Nego Surat Pesanan Nomor 027/01/PPK-SP/422/101/2024 Tanggal 1 April 2024 melalui mekanisme Penunjukan Langsung untuk pekerjaan pengadaan layanan PPDB Online Kota Batu TA 2024, nomor SPH Nego ID LPL-P2404-9156389 melalui mekanisme pengadaan ePurchasing untuk pekerjaan Pengadaan Layanan PPDB Online Kota Yogyakarta TA 2024, nomor SPH Nego ID Paket LPL-P2404-9064350 melalui mekanisme pengadaan e purchasing untuk pekerjaan pengadaan layanan PPDB Online Kab. Malang TA 2024, nomor SPH Awal ID Paket LPL-P2404-9095279 melalui mekanisme pengadaan e purchasing untuk pekerjaan pengadaan layanan PPDB Online Kota Mojokerto Jenjang SD TA 2024, nomor SPH Awal ID Paket LPL-P2405-9192062 melalui mekanisme pengadaan e purchasing untuk pekerjaan pengadaan layanan PPDB Online Kota Mojokerto Jenjang TK TA 2024, nomor SPH Awal ID Paket LPL-P2404-9156180 melalui mekanisme pengadaan e purchasing untuk pekerjaan pengadaan layanan PPDB Online Kota Mojokerto Jenjang SMP TA 2024, nomor SPH Awal SPK dengan nomor B-4166/Kw.09.2/Ks.01.2/04/2024 melalui mekanisme pengadaan langsung untuk pekerjaan Sewa Aplikasi PPDB Online (Pengadaan PPDB Online Tingkat Madrasah Ibtidaiyah Negeri) Tahun Pelajaran 2024/2025 Kantor Wilayah Kemenag Provi, BAP - PPDB DKI Kelompok 9 - 2023, nomor SPH Nego ID Paket LPL-P2404-9102457 melalui mekanisme pengadaan ePurchasing untuk pekerjaan Pengadaan Layanan PPDB Online Kab. Demak TA 2024, nomor SPH Awal Berdasarkan email yang disampaikan dari Business Solution & Support PT. METRA-NET pada tanggal 5 Mei 2024 Perihal Permohonan Surat Penawaran Harga PPDB Online Kota Banjarbaru TA 2024, Permintaan Pembuatan Nomor SPH Awal PPDB Online Kab. Malang 2024, Pengiriman SPH Awal PPDB Online Kab Malang Tahun 2024, Nomor Surat SPH Awal PPDB Online Kabupaten Pati 2024, Pengiriman SPH Awal PPDB Online Kota Batu Tahun 2024, Nomor Surat SPH Awal PPDB Online Kota Yogyakarta 2024, nomor SPH Awal ID LPL-P2404-9156389 melalui mekanisme pengadaan ePurchasing untuk pekerjaan Pengadaan Layanan PPDB Online Kota Yogyakarta TA 2024, Permintaan Pembuatan Nomor SPH Awal PPDB Online Kota Batu 2024, nomor SPH Awal Surat Pesanan Nomor 027/01/PPK-SP/422/101/2024 Tanggal 1 April 2024 melalui mekanisme Penunjukan Langsung untuk pekerjaan pengadaan layanan PPDB Online Kota Batu TA 2024, Nomor Surat SPH Awal PPDB Online Kabupaten Demak 2024, nomor SPH Awal ID Paket LPL-P2404-9102457 melalui mekanisme pengadaan ePurchasing untuk pekerjaan Pengadaan Layanan PPDB Online Kab. Demak TA 2024,, nomor SPH Awal ID Paket LPL-P2404-9104536 melalui mekanisme pengadaan ePurchasing untuk pekerjaan Pengadaan Layanan PPDB Online Kab. Pati TA 2024,, nomor SPH Awal ID Paket LPL-P2404-9064350 melalui mekanisme pengadaan e purchasing untuk pekerjaan pengadaan layanan PPDB Online Kab. Malang TA 2024, Dokumen SPH PPDB Online Kota Palangkaraya 2023,\n",
      "\n",
      "Cluster 7 topic:\n",
      "\n",
      "Cluster 7 subject: Proses Data Migrasi Susulan [4], Migrasi Data Susulan [1], Migrasi Data Master Siswa, Proses Migrasi Data Master Siswa, Migrasi peserta CAT susulan ke 2, Proses Migrasi Data Susulan [3], Migrasi Data DNT Kab.Kudus 2024 - susulan 2, Proses Migrasi peserta CAT susulan ke 2, Proses Normalisasi data Ajuan Siswa DNT, Proses Migrasi Data Siswa Lulusan SD dan MI Kota Serang 2024, Proses migrasi data susulan, Proses Migrasi Data Susulan [2], Migrasi peserta CAT susulan, Proses Migrasi peserta CAT susulan, Proses Migrasi Data Susulan [2], Proses Migrasi Data Siswa Lulusan Kota Sukabumi 2024 [2], Migrasi data DNT susulan ke 1, Migrasi Data Siswa Lulusan 2024 Provinsi Banten [4],  Migrasi Data Siswa Lulusan 2024 Provinsi Banten [5], Migrasi Data Sidanira 2024 - Update 1, Proses Migrasi Data DNT Kab.Kudus 2024 - susulan 1, Proses Migrasi Data Susulan, Migrasi data DNT susulan ke 1, Proses Migrasi Master Data Siswa [8], [Prov DIY] Migrasi Data siswa tambahan, Proses Migrasi Data Susulan, Proses Migrasi Data Master Siswa, Proses Migrasi Data Master Siswa, Proses Migrasi Master Data Siswa [7], Migrasi Data CAT, Proses Migrasi Data CAT, Proses Migrasi Tambah data baru dan update data anak GTK 2024 - susulan 3, Migrasi Data Siswa Blokir, Migrasi Master Data Siswa [6], Migrasi Master Data Siswa [5], Proses Migrasi Master Data Siswa [6], Proses Migrasi Data Siswa Lulusan 2024 Provinsi Banten [5], Migrasi Data susulan Nilai Prestasi, Proses Migrasi Data Siswa Lulusan 2024 Provinsi Banten [4], Migrasi Data Siswa Lulusan 2024 Provinsi Banten [3], Migrasi Master Data Siswa [5], Migrasi Master Data Siswa [4], Migrasi Master Data Siswa [3], Migrasi Master Data Siswa [2], Migrasi Master Data Siswa, data susulan siswa ke 4, Migrasi Data DNT Lulusan Kota Pontianak 2024, Migrasi Master Data Siswa susulan [3], Migrasi Master Data Siswa susulan [4], Migrasi Master Data Siswa susulan [1], Migrasi Master Data Siswa susulan [2], Migrasi Master Data Siswa, Migrasi Data Siswa, Migrasi Data Siswa, [Kota Jambi] Migrasi Data Siswa Lulusan MI, [Kota Jambi] Migrasi Data Siswa, Migrasi Data Siswa, Migrasi Data Siswa Lulusan 2024 Provinsi Banten [2], Migrasi Data Siswa Lulusan 2024 Provinsi Banten, [Prov DIY 2024] Migrasi Data siswa PPDB 2024, data susulan siswa ke 1, data susulan siswa ke 2, Migrasi Data Sidanira 2024, Migrasi Data Sidanira 2024, [Kota Yogyakarta] Migrasi Data Dukcapil dan Data Calon Siswa SMP, [Kota Yogyakarta] Migrasi Siswa Dalam Kota, Migrasi Tambahan Data Siswa Calon Peserta SMP, [Kota Yogyakarta] Migrasi Data Calon Siswa SMP (Luar Kota), Migrasi Data Nilai ASPD Kota Yogyakarta, [Kota Yogyakarta] Migrasi Data Dukcapil Calon Siswa SD, Migrasi data siswa 2024 - Rev 2, Migrasi Data Siswa Miskin DTKS 2024 - susulan 2, Migrasi status Data siswa anak panti asuhan 2024 - susulan 2, Migrasi Data DNT Kulon Progo 2024 - Revisi 2, Migrasi Data DNT Kab.Jepara 2024, [Kab Bantul] Migrasi ulang data siswa 2024, Migrasi Data DNT Kulon Progo 2024 - Revisi, Migrasi Data DNT Kulon Progo 2024, Migrasi Data Siswa Miskin DTKS 2024 - susulan 1, Migrasi Tambah data dan Hapus data anak GTK 2024 - susulan 1, Migrasi dan Hapus status Data siswa anak panti asuhan 2024 - susulan 1, Migrasi Ulang data Dapodik siswa 2024, Migrasi data siswa Lulusan SD Kab.Grobogan 2024, Migrasi Data Siswa Miskin DTKS 2024, Migrasi Data siswa anak pondok pesantren 2024, Migrasi data Dapodik Siswa Prov Jateng 2024, Migrasi data anak GTK/PTK 2024, Migrasi Data siswa anak panti asuhan 2024, Migrasi Data DNT Kab.Kudus 2024, Migrasi data siswa Lulusan SD Kab Demak 2024, [Cek] Migrasi data siswa Lulusan SD Kab.Pati 2024, Migrasi Data Lulusan SD Data Kab. Bangka, Proses Migrasi Master Data Siswa, Proses Migrasi Data Siswa Domisil Dalam Lulusan Sekolah Luar Kota, Proses Migrasi Master Data Siswa [4], Migrasi Tambah data baru dan update data anak GTK 2024 - susulan 2, Proses Migrasi Ulang Data Siswa, Proses Migrasi data susulan siswa ke 4, Proses Migrasi Data Siswa Lulusan 2024 Provinsi Banten [3], Proses Migrasi data siswa 2024 - Rev 2, Proses Backup Data Siswa, Proses Migrasi status Data siswa anak panti asuhan 2024 - susulan 2, Migrasi Data Siswa Miskin DTKS 2024 - susulan 2, Proses Migrasi Master Data Siswa [3], Proses Migrasi data susulan siswa ke 3, Proses Migrasi Data Siswa Sipenda Disdik Kalteng, Proses migrasi data susulan siswa ke 2, Proses Migrasi data susulan siswa ke 1, Proses Migrasi Master Data Siswa [2], Proses Migrasi Data DNT Kulon Progo 2024 - Revisi 2, Proses Migrasi Data siswa tambahan, Migrasi Master Data Siswa susulan [7], [Kab Bantul] Data siswa 2024, Proses Migrasi Data Siswa Blokir, Prosedur Migrasi Data Siswa Blokir, Migrasi Data Afirmasi SD 2024, Proses Migrasi Master Data Siswa, Proses Migrasi Data Afirmasi SD 2024, Proses Migrasi Data Siswa Lulusan 2024 Provinsi Banten [2], Migrasi Master Data Siswa susulan [6], Proses Migrasi Data DNT Kab.Jepara 2024, [Kab Bantul] Proses Migrasi ulang data siswa 2024, Migrasi Master Data Siswa susulan [5], Migrasi Master Data Siswa susulan [3], Migrasi Master Data Siswa susulan [4], Migrasi Data DNT Lulusan Kota Pontianak 2024, Proses Migrasi Data Siswa Lulusan Kota Sukabumi 2024, Proses Migrasi Data DNT Kulon Progo 2024 - Revisi, [DEV] Hapus Data Ajuan Siswa Data, Migrasi Master Data Siswa susulan [2], [Prov DIY 2024] Proses Migrasi Data siswa PPDB 2024, Proses Migrasi Data DNT Kulon Progo 2024, Migrasi Master Data Siswa susulan [1], Migrasi Data Siswa Miskin DTKS 2024 - susulan 1, Migrasi Tambah data dan Hapus data anak GTK 2024 - susulan 1, Migrasi dan Hapus status Data siswa anak panti asuhan 2024 - susulan 1, [Kab Klaten 2024] Migrasi Data Siswa Kab. Klaten 2024, [Kab Klaten 2024] Update dan Migrasi data DNT + Nilai Siswa Tambahan, Migrasi Master Data Siswa, Migrasi Data Siswa Lulusan SD-MI Kota Bontang Tahun 2024, [Kota Yogyakarta] Proses Migrasi Data Calon Siswa SMP (Luar Kota), Proses Migrasi Tambahan Data Siswa Calon Peserta SMP, [Kab Klaten 2024] Migrasi Data Nilai Siswa Kab. Klaten 2024, Migrasi Ulang data Dapodik siswa 2024, [Kab Klaten 2024] Proses Update dan Migrasi data DNT + Nilai Siswa Tambahan, [Kab. Purbalingga] Migrasi Data DNT 2024, Migrasi Data Lookup siswa anak pondok pesantren 2024, Migrasi Data ke Tabel Lookup, Proses migrasi Data ke Tabel Lookup, Migrasi Data Siswa, Proses Migrasi Data Nilai ASPD Kota Yogyakarta, Migrasi data siswa Lulusan SD Kab.Grobogan 2024, Migrasi Data Lookup Siswa Afirmasi, Proses Migrasi Data Lookup Siswa Afirmasi, Proses Migrasi Data Siswa, Migrasi Data siswa anak pondok pesantren 2024, Migrasi data anak GTK/PTK 2024, [Kab. Purbalingga] Proses Migrasi Data DNT 2024, Migrasi Data siswa anak panti asuhan 2024, Proses Migrasi data Dapodik Siswa Prov Jateng 2024, Migrasi Data Siswa Miskin DTKS 2024, Proses Migrasi Data Siswa Lulusan 2024 Provinsi Banten, [Cabdin Kota Balikpapan] Proses Migrasi Data Siswa, Migrasi Data DNT Kab.Kudus 2024, [Kota Yogyakarta] Proses Migrasi Data Dukcapil dan Data Calon Siswa SMP, [Kota Yogyakarta] Proses Migrasi Data Dukcapil Calon Siswa SD, [Kab Bantul] Proses Migrasi data siswa 2024, [Kota Jambi] Proses Migrasi Data Siswa, [Kota Jambi] Proses Migrasi Data Siswa Lulusan MI, [Kota Yogyakarta] Proses Migrasi Siswa Dalam Kota, Migrasi ulang data pokok siswa riil Kab Bantul 2023, Migrasi Data Sidanira 2024 - Update 1, Proses Migrasi data siswa Lulusan SD Kab Demak 2024, Proses Migrasi data lulusan prov DKI Jakarta, Migrasi Data Sidanira 2024, [Kab Klaten 2024] Migrasi Data Siswa Kab. Klaten 2024, [Kab Klaten 2024] Migrasi Data Nilai Siswa Kab. Klaten 2024, Proses Migrasi data siswa Lulusan SD Kab.Pati 2024, [Database] Migrasi Data Siswa - Proses Migrasi, Proses migrasi,\n",
      "\n",
      "Cluster 8 topic:\n",
      "\n",
      "Cluster 8 subject: [Closing Engine] Kota Denpasar 2024 - Jalur Zonasi Kategori Umum - Tahap 1, [Closing Engine] Prov NTT 2024 - SMA All Jalur - Tahap 1, [DEV] Pengecekan dan Penyesuaian hasil seleksi jalur reguler, [DEV] Backend - Tolak Pilihan Provinsi Dan Kota Selain Prov. Banten dan Kota Serang Jalur Zonasi dan PTO, [Closing Engine] Kab Purbalingga 2024 - Jalur Zonasi Khusus, Afirmasi, Zonasi Reguler, Prestasi dan PTO - Tahap 1, [DEV] Frontend - Disable Pilihan Provinsi Dan Kota Jalur Zonasi dan PTO, Override - Batasan Ajuan Pendaftaran Jalur Zonasi, PTO dan Prestasi, [Closing Engine] Provinsi Banten 2024 - Jalur Zonasi, Afirmasi dan PTO [SMA], [Closing Engine] Prov DI Yogyakarta 2024 - Jalur Zonasi Radius, Afirmasi, Zonasi Reguler, Prestasi dan PTO - Tahap 1, [Check] Kondisi Maps Menempel pada Jalur bukan pada Siswa di Jalur Zonasi dan Jalur Perpindahan, [DEV] Data Siswa Beda Alamat Di Jalur Zonasi dan Perpindahan, [Closing Engine] Kota Pontianak 2024 - Jalur Afirmasi Tahap 1, [Kendala] Koreksi Pendaftaran pada Jalur Zonasi untuk Koreksi Koordinat Tidak Jalan Di Production, [DEV] Koreksi Pendaftaran pada Jalur Zonasi untuk Koreksi Koordinat Tidak Jalan Di Production, [Closing Engine] Kabupaten Batang 2024 - Jalur Zonasi dan PTO - Tahap 1, [Closing Engine] Kota Mataram 2024 - Jalur Afirmasi dan Prestasi - Tahap 1, Closing Engine - DKI Jakarta Gelombang 3, Proses pembuatan laporan Daftar peserta diterima Jalur Tahap kedua, [DEV] Frontend - Kelompok PIlihan Jalur 0 pada Bukti Cetak dan Pencarian Siswa, [DEV] Backend - Kelompok PIlihan Jalur 0 pada Bukti Cetak dan Pencarian Siswa, [Closing Engine] Kota Denpasar 2024 - Jalur Afirmasi dan Perpindahan - Tahap 1, [DEV] Reset engine Sleman jalur afirmasi, Pilihan Afirmasi Tidak Muncul di Tanda Bukti Pengajuan Pendaftaran, [DEV] Siswa PTO saat akan mendaftar jalur PTO kena syarat daftar jalur PTO, [DEV] Hasil Unduhan Laporan Sementara dan Laporan Hasil Akhir Jalur Prestasi Jalur PTO dan Jalur Afirmasi, [DEV] Munculkan kembali kolom hubungan keluarga pada jalur prestasi dan set enable editing, [DEV]Syarat daftar jenjang SMK jalur afirmasi tidak berjalan, [DEV] Backend Pilihan Afirmasi Tidak Muncul di Tanda Bukti Pengajuan Pendaftaran, [Closing Engine] Kab. Kutai Timur 2023 - SD SMP - Semua Jalur, [Override] Terkait Akreditas Sekolah Asal Saat Pengajuan Pendaftaran SMK Semua Jalur, [DEV] Sembunyikan Jalur SMK Prestasi di Situs Publik, [DEV] Terkait Akreditas Sekolah Asal Saat Pengajuan Pendaftaran SMK Semua Jalur, [DEV] Syarat Blokir jenjang SMK all jalur tidak berjalan, [DEV]Backend - Simpan Alamat yang sebelumnya dikunci pada jalur prestasi, [Closing Engine] Kota Palangkaraya 2024 - Jalur Zonasi Tahap 1, [Closing Engine] Kota Banajrmasin 2024 - Jalur Zonasi Tahap 1, [DEV]Frontend - Buka kuncian pilihan alamat pada jalur prestasi, [Kab Bantul] Hilangkan kolom status afirmasi, status disabilitas dan skor prestasi pada jalur PTO, [DEV] Pembatasan Batal Verifikasi Pendaftaran tiap Tahap pelaksanaan jalur maksimal 1 kali, [Override] Menampilkan Sebagian Berkas pada Tiap Jalur SMA SMK, [Kab Bantul]Penyesuaian redaksional pada cetak bukti ajuan pendaftaran di semua jalur, [Kab Bantul] Hilangkan kolom hubungan keluarga pada jalur prestasi, [Closing Engine] Kabupaten Batang 2024 - Jalur Afirmasi - Tahap 1, Closing Engine - DKI Jakarta Gelombang 2, [Closing Engine] Kota Denpasar 2024 - Jalur Prestasi - Tahap 1, penyesuaian aturan pendaftaran siswa jalur Tahfidz dengan Zonasi, Gagal melanjutkan proses pendaftaran utk 1 pilihan sekolah di jalur prestasi akademik & non akademik, me non-aktifkan Override batasan pilihan sekolah jalur PTO, [Override] Pembatasan pengajuan pendaftaran di jalur Prestasi, gagal reset engine jalur Prestasi Hafiz Quran, [Override] batasan pilihan sekolah utk jalur Prestasi, Override - Ungahan Berkas Siswa Tidak Memiliki Prestasi dan Afirmasi atau ABK, Override - Pilihan Status Afirmasi atau ABK Syarat Daftar Jalur Afirmasi, Override - Ungahan Berkas Siswa Afirmasi atau ABK Jalur Afirmasi, Override - Memunculkan Radio Button Pilihan Luar Provinsi Jalur Afirmasi, Unggahan Piagam Prestasi Tidak Muncul Saat Memilih Bukan Siswa Afirmasi dan ABK, [Batang 2024] Penyesuaian kolom input data prestasi di ajuan pendaftaran siswa jalur prestasi, [Batang 2024] Validasi data pendaftaran siswa jalur Afirmasi, [Batang 2024] Req Override edit status DTKS dan Anak Panti pada jalur Afirmasi, [Data Pendaftar] Data Pendaftar Siswa Jalur Prestasi yang Diverifikasi Lebih dari 1 Kali, Override Tahun Lalu Belum Jalan untuk Mekanisme Siswa Pendataan pada Jalur Prestasi, Gagal Ijin Koreksi Pendaftaran Jalur Zonasi, Penolakan untuk Ajuan SMA SMK Jalur Afirmasi yang Belum Diverifikasi, Penambahan label RJS Saat Memilih Sekolah pada Jalur Zonasi, [Closing Engine] Kabupaten Klaten 2024 - All Jalur - Tahap 1, [Klaten 2024] Siswa DNT tanpa migrasi nilai tidak bisa diverifikasi saat ajuan pendaftaran jalur prestasi, [Closing Engine] Kota Pasuruan 2024 - Jalur Zonasi dan Jalur Perpindahan - Tahap 1, [Closing Engine] Kota Batu 2024 - Jalur Zonasi - Tahap 1, Siswa Pendataan Jalur Prestasi dengan Jenis Asal Sekolah Lulusan Tidak Bisa Lanjut ke Step Berikutnya, [Closing Engine] Kota Pasuruan 2024 - Jalur Afirmasi dan Jalur Prestasi - Tahap 1, [Closing Engine] Kota Mojokerto 2024 - Jalur all Non Zonasi - Tahap 1, [Closing Engine] Kota Batu 2024 - Jalur Perpindahan, Jalur Prestasi Lomba, Jalur Prestasi Rapor - Tahap 1, [Closing Engine] Kab Malang 2024 - Jalur Zonasi - Tahap 1, [Override] Pembatasan pada Jalur Zonasi untuk NISN Sama, [Override] Ubah Ketentuan Override di Jalur Afirmasi terkaid Diterima Semua, [Closing Engine] Kota Batu 2024 - Jalur Afirmasi - Tahap 1, [Closing Engine] Kab Malang 2024 - Jalur Afirmasi, Jalur Prestasi, Jalur Perpindahan - Tahap 1, Perubahan Nama Jalur PTO pada Jenjang SMK, [Closing Engine] Kab. Barito Selatan 2024 - Jalur Zonasi Tahap 1, [Closing Engine] Kota Banajrmasin 2024 - Jalur Afirmasi, Prestasi akademik dan Prestasi non akademik Tahap 1, [Closing Engine] Kota Banjarbaru 2024 - Jalur Zonasi (R1) Afirmasi (R2) Perpindahan Tugas (R3) Tahap 1, [Closing Engine] Kota Banjarbaru 2024 - Jalur Prestasi (R4), Pengecekan Pengisian alamat siswa saat pendaftaran jalur PTO, Hide Alamat di Detail Siswa di jalur Bibit Unggul, Cetak Prestasi Tidak muncul, [Override] Pilihan Domisili Luar/Dalam Tidak Ditampilkan di laman pendaftaran Jalur Afirmasi Penyandang Disabilitas, Syarat daftar jalur zonasi tidak berjalan, Set default pilihan Jalur Zonasi dan jalur Prestasi = Ya, Siswa mendaftar di jalur prestasi luar tidak bisa di verifikasi di jalur Zonasi, [DEV] Penyesuaian redaksional pada cetak bukti ajuan pendaftaran di semua jalur, [DEV] Frontend Hilangkan kolom hubungan keluarga pada jalur prestasi, [DEV] Frontend Hilangkan kolom status afirmasi, status disabilitas dan skor prestasi pada jalur PTO, [DEV] Override - Batasan Ajuan Pendaftaran Jalur Zonasi, PTO dan Prestasi, [DEV] Penambahan Untuk SMA Zonasi Tahap 2 Tidak Berjalan, [DEV] Data Pendaftar Siswa Jalur Prestasi yang Diverifikasi Lebih dari 1 Kali, [DEV] Buka Engine SMA Prestasi untuk Dilakukan Seleksi Kembali, [DEV] Penyesuaian Aturan Pendaftaran Jalur Tahfiz dan Zonasi, [DEV] Gagal melanjutkan proses pendaftaran utk 1 pilihan sekolah di jalur prestasi akademik & non akademik, [DEV] Backend - Ungahan Berkas Siswa Tidak Memiliki Prestasi dan Afirmasi atau ABK, [DEV] Backend - Validasi saat Pengajuan Pendaftaran Jalur Prestasi bagi Siswa Pendataan, [DEV] Menonaktifkan Override Batasan Pilihan Sekolah Jalur PTO, [DEV] Batasan pengajuan pendaftaran di jalur Prestasi, [Closing Engine] Prov. Kalimantan Tengah 2023 - SMA SMK - Semua Jalur, [DEV] Penyesuaian Override Pilihan Status Afirmasi atau ABK Syarat Daftar Jalur Afirmasi, [DEV] Override Tahun Lalu Belum Jalan untuk Mekanisme Siswa Pendataan pada Jalur Prestasi, [DEV] Hide Alamat di Detail Siswa di jalur Bibit Unggul, [DEV] Mekanisme Jalur Zonasi untuk Kategori Siswa Calon Pendaftar Zonasi saat Pengajuan di Situs Publik, [DEV] Penambahan Info Label RJS Saat Memilih Sekolah pada Jalur Zonasi, [DEV] Penolakan untuk Ajuan SMA SMK Jalur Afirmasi yang Belum Diverifikasi, [DEV] Merubah Label Alamat pada jalur PTO, [DEV] Status Verifikasi di Jalur Zonasi dan Jalur Perpindahan, [DEV] Disable to Edit untuk Asal Sekolah Lulusan pada Jalur Prestasi bagi Siswa Dalam Database, [DEV] Frontend Menambahkan Ketentuan Override Nilai Rapor yang Muncul sesuai Asal Sekolah Lulusan yang Dipilih di Jalur Prestasi, [DEV] Backend - Menambahkan Ketentuan Override Nilai Rapor yang Muncul sesuai Asal Sekolah Lulusan yang Dipilih di Jalur Prestasi, [Proses]Pengecekan data ajuan di SMA dan SMK Jalur Prestasi , [DEV] Backend Penyesuaian Override Jalur Afirmasi dengan melepas validasi NIK PKH, [DEV] Backend - Ungahan Berkas Siswa Afirmasi atau ABK Jalur Afirmasi, [DEV] Frontend - Ungahan Berkas Siswa Afirmasi atau ABK Jalur Afirmasi, [DEV] Frontend - Pilihan Status Afirmasi atau ABK Syarat Daftar Jalur Afirmasi, [DEV] Backend - Pilihan Status Afirmasi atau ABK Syarat Daftar Jalur Afirmasi, [DEV] Backend - Cetak Prestasi Tidak muncul, [DEV] Backend Syarat daftar jalur zonasi tidak berjalan, [DEV] Kemunculan Dokumen Mengikuti Atribut yang Dipilih pada Jalur Sertifikat Prestasi jenjang SMA dan SMK, [DEV] Tambahan Nilai 100 pada Pilihan Pertama pada SMA Prestasi, SMA Zonasi Tahap 2, dan SMK Reguler, [Closing Engine] Cabdin Kota Bontang 2023 - SMA SMK - Jalur Zonasi/Reguler, [DEV] Set default pilihan Jalur Zonasi dan jalur Prestasi = Ya, [Closing Engine] Cabdin Kota Samarinda 2023 - SMA SMK - Jalur Reguler/Zonasi - Tahap 2, [Kab Bantul] Nilai Literasi Membaca tidak valid Jalur PTO, [DEV] Backend - Validasi data pendaftaran siswa jalur Afirmasi, [DEV] Status Verifikasi di Jalur Prestasi dan Jalur Afirmasi, [Kab Kulon Progo] ASPD tidak muncul pada jalur prestasi, [Kab Bantul] ASPD tidak muncul pada jalur prestasi, [DEV] Gagal Ijin Koreksi Pendaftaran Jalur Zonasi, [DEV] Label pada Situs Publik untuk Jalur Zonasi pada SMa dan SMK, [DEV] Label pada Situs Publik Jalur Perpindahan Tugas Orang Tua SMA dan SMK, [Frontend] Hide nilai ASPD Jalur non Prestasi, [Backend] Hilangkan validasi nilai ASPD Jalur non Prestasi, [DEV] Tidak ditemukan jalur didatabase, [Backend]Unggahan Piagam Prestasi Tidak Muncul Saat Memilih Bukan Siswa Afirmasi dan ABK, [DEV] Kembalikan Pilihan Pilihan Luar Provinsi untuk Jalur Afirmasi, [DEV] Siswa Bisa Mengajukan Pendaftaran di Jalur Zonasi Jika Tidak Lapor Diri, [DEV] Penyesuaian Bukti Cetak Pengajuan Pendaftaran dan Bukti Verifikasi Jalur Prestasi, [DEV] Informasi Kelompok Pilihan Jalur di Bukti Cetak Pengajuan Pendaftaran, [Backend] Informasi Kelompok Pilihan Jalur di Bukti Cetak Pengajuan Pendaftaran, [DEV] Sekolah Yang Sudah Dipilih Tidak Boleh Dipilih Kembali Untuk Jalur Prestasi, [DEV] Hapus Informasi Nilai Akhir pada Jalur Prestasi dan Jalur Perpindahan, [Dev] Bukti Cetak Jalur Perpindahan Tugas Orang Tua, [Closing Engine] Kota Bontang 2023 - SMP (Jalur Prestasi NUS, Prestasi Non Akademik, PTO) - Tahap 1, [Closing Engine] Kota Bontang 2023 - SD (Jalur Z2, PTO) & SMP (Jalur Z1, Afirmasi Gakin, Afirmasi PTK) - Tahap 1, [DEV] Override Label Waktu Pemberian Titik Maps di Situs Publik Jalur Zonasi, [DEV] Pilihan Domisili Luar/Dalam Tidak Ditampilkan di laman pendaftaran Jalur Afirmasi Penyandang Disabilitas, [Backend][Bukti Cetak] Penyesuaian Bukti Cetak Set Nilai Tambah di Jalur Afirmasi,\n",
      "\n",
      "Cluster 9 topic:\n",
      "\n",
      "Cluster 9 subject: [Deploy Real] PPDB Provinsi Lampung 2024, [Kab Purbalingga 2024] Deploy Real PPDB Kab Purbalingga 2024, Proses deploy data, [Deploy Riil] Kab. Berau 2024, INFRA - [Deploy Riil] Kab. Bungo 2024, INFRA - [Deploy Riil] Kota Bengkulu 2024, [Deploy Data Riil] Kota Bengkulu 2024, [Deploy Data Riil] Kab. Bungo 2024, [Deploy Riil] Kab. Bungo 2024, [Deploy Riil] Kota Bengkulu 2024, [Infra] - Deploy Riil Kota Balikpapan 2024, Deploy Riil Data Migrasi Kota Balikpapan, [Deploy Riil] Kota Balikpapan 2024, [Deploy Real] Kota Pontianak 2024, [Deploy Real] Provinsi DKI Jakarta 2024, ST - [Kab.Kudus] Deploy Real 2024, ST - [Deploy Real] Kota Pontianak 2024, ST - Deploy Real Kab. Sleman 2024, ST - [Deploy Real] Kota Mataram 2024, ST - [Kab.Jepara] Deploy Real Kab Jepara 2024, [Infra] - Deploy Riil Prov. Kalimantan Tengah 2024, [Infra] - Deploy Riil Kab. Bantul 2024, [Infra] - Deploy Riil Kab. Kutai Timur 2024, [Infra] - Deploy Riil Kota Sukabumi 2024, INFRA - [Kab Purbalingga 2024] Deploy Real PPDB Kab Purbalingga 2024, INFRA - [Deploy Real] Kab. Bangka 2024, INFRA - [Deploy Real] Kota Jambi 2024, ST - [Prov. Kalimantan Selatan] Deploy Real Prov Kalimantan Selatan 2024, [Prov DI Yogyakarta] Deploy Real Prov DIY 2024, [Database] - Deploy Riil Kab. Bantul 2024, [Prov. Kalimantan Tengah] Proses Deploy Data Real Prov. Kalimantan Tengah 2024, [Deploy Real] Deploy Data PPDB Kota Sukabumi 2024, [Deploy Real] Proses Deploy Data Kota Jambi 2024, [Kab. Kutai Timur] Proses Deploy Data Real Kab. Kutai Timur 2024, [Kab Purbalingga 2024] Proses Deploy Data Real PPDB Kab Purbalingga 2024, [Deploy Real] Proses Deploy Data Kab. Bangka 2024, [Deploy Riil] Prov. Kalimantan Tengah 2024, [Deploy Riil] Kab. Kutai Timur 2024, [Deploy Riil] Kab. Bantul 2024, [Deploy Riil] Kota Sukabumi 2024, [Prov. Kalimantan Selatan] Proses Deploy Data Real Prov Kalimantan Selatan 2024, [Deploy Riil] Kota Jambi 2024, [Deploy Riil] Kab. Bangka 2024, [Deploy Riil] Kab. Purbalingga 2024, [Deploy Real] Data Kota Pontianak 2024, Deploy Real Kab. Sleman 2024, [Deploy Real] Data Kota Mataram 2024, [Kab.Kudus] Data Deploy Real 2024, [Deploy Riil] Prov. Kalimantan Selatan 2024, [Deploy Riil] Kab. Kudus 2024, [Deploy Riil] Kota Pontianak 2024, [Deploy Riil] Kab. Sleman 2024, [Deploy Riil] Kota Mataram 2024, [Kab.Jepara] Deploy Real Kab Jepara 2024, [Deploy Real] Kota Palangkaraya 2024, [Deploy Riil] Kab. Jepara 2024, [Deploy Real] PPDB Provinsi Banten 2024, [Infrastruktur] Deploy Real Kab Malang 2024, [Database] Deploy Real Kab Malang 2024, [Infrastruktur] Deploy Real Kota Batu 2024, [Deploy Real] Kota Banjarmasin 2024, [Deploy Real] Kab. Barito Selatan 2024, [Deploy Real] Kota Banjarbaru 2024, [Deploy Real] Madrasah DKI 2024, [Kota Yogyakarta] Deploy Real Kota Yogyakarta 2024, [Kab.Grobogan] Deploy Real Kab Grobogan 2024, [Kab. Kulon Progo] Deploy Real 2024, [Deploy Real] Prov Jateng 2024, [Kab.Demak] Deploy Real Kab Demak 2024, setup aplikasi pasca deploy riil, [Kab Batang 2024] Deploy Real PPDB Kab Batang 2024, ST - [Kab Batang 2024] Deploy Real PPDB Kab Batang 2024 , [Infra] - Deploy Riil Kab. Grobogan 2024, [Infra] - Deploy Riil Prov. Lampung 2024, [Database] - Deploy Riil Prov. Lampung 2024, [Kab.Grobogan] Deploy Real Kab Grobogan 2024, [Kab Batang 2024] Deploy Real PPDB Kab Batang 2024, [Deploy Riil] Kab. Batang 2024, [Deploy Riil] Kab. Grobogan 2024, [Deploy Riil] Prov. Lampung 2024, [Deploy Real] Prov Bali 2024, ST - [Deploy Real] PPDB Provinsi Banten 2024, Deploy server PPDB 2024, Deploy server PPDB 2024 - Aplikasi, Deploy server PPDB 2024 - Database, Proses Deploy Riil Data Prov Bali, Proses Deploy Riil Data Prov Banten, [Deploy Riil] Prov. Bali 2024, [Deploy Riil] Prov. Banten 2024, Database - Deploy Riil Kota Palangkaraya 2024, [Database] - Deploy Riil Kab. Gresik 2024, [Deploy Real] Prov NTT 2024, [Infra] - Deploy Riil Prov. Nusa Tenggara Timur 2024, [Infra] - Deploy Riil Kab. Gresik 2024, [Infra] - Deploy Riil Kota Palangkaraya 2024, [Deploy Riil] Prov. Nusa Tenggara Timur 2024, [Deploy Riil] Kab. Gresik 2024, [Deploy Riil] Kota Palangkaraya 2024, [Infra] -  Deploy Riil Prov. DI Yogyakarta 2024, [Infra] - Deploy Real Kota Padang Sidimpuan 2024, [Prov DI Yogyakarta] Proses Deploy data Real Prov DIY 2024, [DLA] - [Deploy Data] Kab. Barito Selatan 2024, [Deploy Riil] Prov. DI Yogyakarta 2024, [Deploy Real] Kota Padang Sidimpuan 2024, [Kab. Klaten] Deploy Real PPDB SMP Kab Klaten 2024, [Deploy Riil] Kota Padang Sidempuan 2024, [Deploy Real] Prov Jateng 2024, [Deploy Real] Kota Denpasar 2024, [Database] - Deploy Riil Kab. Kulon Progo 2024, [Deploy Real] Kab. Karimun 2024, ST - [Deploy Real] Kota Denpasar 2024, [Infra] - Deploy Riil Kab. Karimun 2024, [Deploy Riil] Kota Denpasar 2024, [Deploy Riil] Kab. Karimun 2024, [Infra] - Deploy Riil Cabdin Kota Samarinda 2024, [Infra] - Deploy Riil Prov. Jambi 2024, [Infra] - Deploy Riil Kab. Klaten 2024, ST - [Cabdin Bontang] Deploy Real Cabdin Bontang Kutim 2024, [Infra] - Deploy Riil Kab. Kulon Progo 2024, Deploy Real Cabdin Bontang Kutim 2024, [Deploy Riil] Cabdin Kota Bontang 2024, [Deploy Riil] Kab. Kulon Progo 2024, [Kab. Klaten] Proses Deploy data Real PPDB SMP Kab Klaten 2024,  Deploy Real Cabdin Samarinda 2024, [Deploy Riil] Kab. Klaten 2024, [Deploy Riil] Cabdin Kota Samarinda 2024, Deploy Production Data Lulusan Prov Jateng 2024, [Deploy Real] Proses deploy data Prov. Jambi 2024, [Deploy Riil] Prov. Jambi 2024, [Deploy Riil] Prov. Jawa Tengah 2024, ST - [Deploy Real] Kota Banjarmasin 2024, [Deploy Real] Proses Deploy Data Kota Banjarmasin 2024, [Deploy Riil] Kota Banjarmasin 2024, ST - [Deploy Real] Kab. Barito Selatan 2024, [Deploy Riil] Kab. Barito Selatan 2024, [Kota Yogyakarta] Proses Deploy Data Real Kota Yogyakarta 2024,  [Cabdin Kota Balikpapan] Proses Deploy Data Real Cabdin Kota Balikpapan 2024, [Infra] - Deploy Riil Kota Mojokerto 2024, ST - [Kota Yogyakarta] Deploy Real Kota Yogyakarta 2024, ST - [Kota Bontang] Deploy Real Kota Bontang 2024, ST - [Cabdin Kota Balikpapan] Deploy Real Cabdin Kota Balikpapan 2024, [Deploy Riil] Kota Bontang 2024, [Deploy Riil] Kota Yogyakarta 2024, [Deploy Riil] Cabdin Kota Balikpapan 2024, [Deploy Data] Proses Kota Mojokerto 2024, [Deploy Riil] Kota Mojokerto 2024, Deploy Sekolah Peserta dari demo ke riil, [Infra] - [Deploy Real] Kota Pasuruan 2024, [Deploy Data Riil] Kota Pasuruan 2024, [Deploy Riil] Kota Pasuruan 2024, [Infra] - Deploy Real Provinsi DKI Jakarta 2024, Proses deploy data lulusan, [Deploy Riil] Prov. DKI Jakarta 2024, [Database] Proses Deploy Real Kab Demak 2024, ST - [Infrastruktur] Deploy Real Kab Malang 2024, [Infra] Deploy Real Kab Demak 2024, Proses Deploy Real Kab Malang 2024, [Aplikasi] Deploy Real Kab Malang 2024, [Deploy Riil] Kab. Demak 2024, [Deploy Riil] Kab. Pati 2024, [Deploy Real] Madrasah DKI 2024, [Kab.Pati] Deploy Real Kab Pati 2024, [Deploy Data Riil] Madrasah DKI Jakarta 2024, [Deploy Riil] Madrasah DKI Jakarta 2024, [Infra] - [Deploy Real] Kota Banjarbaru 2024, [DLA] - [Deploy Data] Kota Banjarbaru 2024, [Deploy Riil] Kota Banjarbaru 2024, Deploy Production Data Lulusan Kab. Pati, deploy api notification, Deploy Data Lulusan Kota Batu, [Aplikasi] Deploy Real Kota Batu 2024,\n",
      "\n",
      "\n",
      "\n"
     ]
    }
   ],
   "source": [
    "from __future__ import print_function\n",
    "\n",
    "print(\"Top terms per cluster:\")\n",
    "print()\n",
    "#sort cluster centers by proximity to centroid\n",
    "order_centroids = km.cluster_centers_.argsort()[:, ::-1] \n",
    "\n",
    "for i in range(num_clusters):\n",
    "    print(f\"Cluster {i} topic:\", end='')\n",
    "    for ind in order_centroids[i, :1]:  # Replace 6 with n_words_per_cluster\n",
    "        word = terms[ind].split(' ')\n",
    "        if word[0] in vocab_frame.index:\n",
    "            print(f\" {vocab_frame.loc[word[0]].values.tolist()[0][0].encode('utf-8', 'ignore').decode('utf-8')},\", end='')\n",
    "    print()  # Add whitespace\n",
    "    print()  # Add whitespace\n",
    "\n",
    "    print(f\"Cluster {i} subject:\", end='')\n",
    "    if i in frame.index:\n",
    "        for title in frame.loc[i]['subject'].values.tolist():\n",
    "            print(f\" {title},\", end='')\n",
    "    print()  # Add whitespace\n",
    "    print()  # Add whitespace\n",
    "    \n",
    "print()\n",
    "print()"
   ]
  },
  {
   "cell_type": "markdown",
   "id": "1628b910-54cf-4485-8fd4-0fcd7b3ae8ea",
   "metadata": {},
   "source": [
    "### Menamakan Cluster"
   ]
  },
  {
   "cell_type": "code",
   "execution_count": null,
   "id": "f84b035c-f574-4ea2-87bf-7c0515b4a161",
   "metadata": {},
   "outputs": [],
   "source": [
    "cluster_names = {0: 'Penambahan Poster/Banner', \n",
    "                 1: 'Migrasi Data', \n",
    "                 2: 'Father', \n",
    "                 3: 'Up Situs Publik', \n",
    "                 4: 'Killed'}"
   ]
  }
 ],
 "metadata": {
  "kernelspec": {
   "display_name": "Python 3 (ipykernel)",
   "language": "python",
   "name": "python3"
  },
  "language_info": {
   "codemirror_mode": {
    "name": "ipython",
    "version": 3
   },
   "file_extension": ".py",
   "mimetype": "text/x-python",
   "name": "python",
   "nbconvert_exporter": "python",
   "pygments_lexer": "ipython3",
   "version": "3.12.4"
  }
 },
 "nbformat": 4,
 "nbformat_minor": 5
}
