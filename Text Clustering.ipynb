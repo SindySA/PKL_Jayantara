{
 "cells": [
  {
   "cell_type": "markdown",
   "id": "70b0be47-34fd-43d1-8be2-ebb4b47eb7be",
   "metadata": {},
   "source": [
    "Sumber text clustering using NLTK library: https://github.com/lucas-de-sa/national-anthems-clustering/blob/master/Cluster_Anthems.ipynb\n",
    "\n",
    "Sumber text clustering using Spacy library: https://github.com/kirralabs/text-clustering/blob/master/script/core/Clustering.ipynb"
   ]
  },
  {
   "cell_type": "markdown",
   "id": "9eaaf42c-07e2-4bb3-995e-718721b14792",
   "metadata": {
    "jp-MarkdownHeadingCollapsed": true
   },
   "source": [
    "# A. Import Library"
   ]
  },
  {
   "cell_type": "markdown",
   "id": "e67c880f-3f58-498d-bc1f-eed2fde152fa",
   "metadata": {},
   "source": [
    "### a). Library if use NLTK"
   ]
  },
  {
   "cell_type": "code",
   "execution_count": 3,
   "id": "d378beda-1730-45bb-a019-747113809a8f",
   "metadata": {},
   "outputs": [],
   "source": [
    "# Data Structures\n",
    "import numpy  as np\n",
    "import pandas as pd\n",
    "import geopandas as gpd\n",
    "import json\n",
    "\n",
    "# Corpus Processing\n",
    "import re\n",
    "import nltk.corpus\n",
    "from unidecode                        import unidecode\n",
    "from nltk.tokenize                    import word_tokenize\n",
    "from nltk                             import SnowballStemmer\n",
    "from sklearn.feature_extraction.text  import TfidfVectorizer\n",
    "from sklearn.preprocessing            import normalize\n",
    "\n",
    "# K-Means\n",
    "from sklearn import cluster\n",
    "\n",
    "# Visualization and Analysis\n",
    "import matplotlib.pyplot  as plt\n",
    "import matplotlib.cm      as cm\n",
    "import seaborn            as sns\n",
    "from sklearn.metrics                  import silhouette_samples, silhouette_score\n",
    "from wordcloud                        import WordCloud\n",
    "\n",
    "# Map Viz\n",
    "import folium\n",
    "#import branca.colormap as cm\n",
    "from branca.element import Figure"
   ]
  },
  {
   "cell_type": "markdown",
   "id": "1c4717a3-952a-4e00-8315-d06800406e3c",
   "metadata": {},
   "source": [
    "### b). Library if use Spacy"
   ]
  },
  {
   "cell_type": "code",
   "execution_count": 4,
   "id": "c8c36752-bf67-4740-9895-659c27981013",
   "metadata": {},
   "outputs": [],
   "source": [
    "import os, mpld3, nltk\n",
    "import numpy as np\n",
    "import pandas as pd"
   ]
  },
  {
   "cell_type": "code",
   "execution_count": 5,
   "id": "4db7c77f-be18-485e-bd9d-95ec13bf25dd",
   "metadata": {},
   "outputs": [],
   "source": [
    "from spacy.lang.id import Indonesian\n",
    "import fnmatch\n",
    "def getAllFileinFolder(folderpath):\n",
    "    filelist = []\n",
    "    for dirpath, dirs, files in os.walk(folderpath):\n",
    "        for filename in fnmatch.filter(files, '*.txt'):\n",
    "            filelist.append(dirpath + \"/\" + filename)\n",
    "    return filelist\n",
    "\n",
    "def writedataa(list, thname):\n",
    "    file = open(\"sentence_rep_{}.txt\".format(thname), \"w\");\n",
    "    for x in sorted(set(list)):\n",
    "        # for x in list:\n",
    "        # hasil = x.replace('\"','').replace(\"#\",\"\").replace(\"&nbsp;\",\"\" )\n",
    "        file.write(x + \"\\n\")\n",
    "    file.close()\n",
    "\n",
    "nlp = Indonesian()\n",
    "def tokenize_and_stem(text):\n",
    "    text = u'{}'.format(text)\n",
    "    doc = nlp(text)\n",
    "    stems = [t.lemma_ for t in doc]\n",
    "    stems = [t.lower() for t in stems]\n",
    "    return stems\n",
    "\n",
    "\n",
    "def tokenize_only(text):\n",
    "    text = u'{}'.format(text)\n",
    "    doc = nlp(text)\n",
    "    stems = [t.text for t in doc]\n",
    "    stems = [t.lower() for t in stems]\n",
    "    return stems"
   ]
  },
  {
   "cell_type": "markdown",
   "id": "4464e468-4fb2-4585-afb8-ba835b8b9541",
   "metadata": {
    "jp-MarkdownHeadingCollapsed": true
   },
   "source": [
    "# B. Import Dataset"
   ]
  },
  {
   "cell_type": "code",
   "execution_count": 6,
   "id": "51c00119-0d6a-4832-9d5e-1c88cfa78356",
   "metadata": {},
   "outputs": [
    {
     "data": {
      "text/html": [
       "<div>\n",
       "<style scoped>\n",
       "    .dataframe tbody tr th:only-of-type {\n",
       "        vertical-align: middle;\n",
       "    }\n",
       "\n",
       "    .dataframe tbody tr th {\n",
       "        vertical-align: top;\n",
       "    }\n",
       "\n",
       "    .dataframe thead th {\n",
       "        text-align: right;\n",
       "    }\n",
       "</style>\n",
       "<table border=\"1\" class=\"dataframe\">\n",
       "  <thead>\n",
       "    <tr style=\"text-align: right;\">\n",
       "      <th></th>\n",
       "      <th>sumber</th>\n",
       "      <th>tahun bulan</th>\n",
       "      <th>issue id</th>\n",
       "      <th>tracker</th>\n",
       "      <th>created on</th>\n",
       "      <th>closed on</th>\n",
       "      <th>start date</th>\n",
       "      <th>due date</th>\n",
       "      <th>project</th>\n",
       "      <th>subject</th>\n",
       "      <th>state</th>\n",
       "      <th>poin</th>\n",
       "      <th>id resolver</th>\n",
       "      <th>nama resolver</th>\n",
       "      <th>grup resolver</th>\n",
       "      <th>id creator</th>\n",
       "      <th>nama creator</th>\n",
       "      <th>ts menit</th>\n",
       "      <th>wkt resolved</th>\n",
       "      <th>st lembur</th>\n",
       "    </tr>\n",
       "  </thead>\n",
       "  <tbody>\n",
       "    <tr>\n",
       "      <th>0</th>\n",
       "      <td>Lapor PPDB</td>\n",
       "      <td>2024-06</td>\n",
       "      <td>21639</td>\n",
       "      <td>Support</td>\n",
       "      <td>2024-06-29 09:09:00</td>\n",
       "      <td>2024-07-01 05:11:11</td>\n",
       "      <td>2024-06-29</td>\n",
       "      <td>2024-06-29</td>\n",
       "      <td>Kota Denpasar</td>\n",
       "      <td>[Closing Engine] Kota Denpasar 2024 - Jalur Zo...</td>\n",
       "      <td>Closed</td>\n",
       "      <td>NaN</td>\n",
       "      <td>69.0</td>\n",
       "      <td>Febrian Hilmi Firdaus</td>\n",
       "      <td>DSO</td>\n",
       "      <td>69</td>\n",
       "      <td>Febrian Hilmi Firdaus</td>\n",
       "      <td>NaN</td>\n",
       "      <td>2024-06-29 14:30:41</td>\n",
       "      <td>Lembur</td>\n",
       "    </tr>\n",
       "    <tr>\n",
       "      <th>1</th>\n",
       "      <td>Lapor PPDB</td>\n",
       "      <td>2024-06</td>\n",
       "      <td>21662</td>\n",
       "      <td>Support</td>\n",
       "      <td>2024-06-29 12:51:50</td>\n",
       "      <td>2024-07-01 05:10:57</td>\n",
       "      <td>2024-06-29</td>\n",
       "      <td>2024-06-29</td>\n",
       "      <td>Prov. Bali</td>\n",
       "      <td>[Kendala] Siswa Masih Bisa Langsung Pengajuan ...</td>\n",
       "      <td>Closed</td>\n",
       "      <td>NaN</td>\n",
       "      <td>69.0</td>\n",
       "      <td>Febrian Hilmi Firdaus</td>\n",
       "      <td>DSO</td>\n",
       "      <td>69</td>\n",
       "      <td>Febrian Hilmi Firdaus</td>\n",
       "      <td>NaN</td>\n",
       "      <td>2024-07-01 05:10:57</td>\n",
       "      <td>Normal</td>\n",
       "    </tr>\n",
       "    <tr>\n",
       "      <th>2</th>\n",
       "      <td>Lapor PPDB</td>\n",
       "      <td>2024-06</td>\n",
       "      <td>21088</td>\n",
       "      <td>Support</td>\n",
       "      <td>2024-06-22 05:30:34</td>\n",
       "      <td>2024-06-22 10:18:51</td>\n",
       "      <td>2024-06-22</td>\n",
       "      <td>2024-06-29</td>\n",
       "      <td>Prov. Nusa Tenggara Timur</td>\n",
       "      <td>[Closing Engine] Prov NTT 2024 - SMA All Jalur...</td>\n",
       "      <td>Closed</td>\n",
       "      <td>NaN</td>\n",
       "      <td>69.0</td>\n",
       "      <td>Febrian Hilmi Firdaus</td>\n",
       "      <td>DSO</td>\n",
       "      <td>69</td>\n",
       "      <td>Febrian Hilmi Firdaus</td>\n",
       "      <td>NaN</td>\n",
       "      <td>2024-06-22 08:54:49</td>\n",
       "      <td>Normal</td>\n",
       "    </tr>\n",
       "    <tr>\n",
       "      <th>3</th>\n",
       "      <td>Lapor PPDB</td>\n",
       "      <td>2024-06</td>\n",
       "      <td>21689</td>\n",
       "      <td>Support</td>\n",
       "      <td>2024-07-01 02:28:58</td>\n",
       "      <td>2024-07-01 02:46:11</td>\n",
       "      <td>2024-06-30</td>\n",
       "      <td>2024-07-01</td>\n",
       "      <td>Kanwil Prov. DKI Jakarta</td>\n",
       "      <td>[DEV] Pengecekan dan Penyesuaian hasil seleksi...</td>\n",
       "      <td>Closed</td>\n",
       "      <td>5.0</td>\n",
       "      <td>4.0</td>\n",
       "      <td>Azhar Mashuri</td>\n",
       "      <td>DIP</td>\n",
       "      <td>4</td>\n",
       "      <td>Azhar Mashuri</td>\n",
       "      <td>NaN</td>\n",
       "      <td>2024-07-01 02:46:06</td>\n",
       "      <td>Lembur</td>\n",
       "    </tr>\n",
       "    <tr>\n",
       "      <th>4</th>\n",
       "      <td>Lapor PPDB</td>\n",
       "      <td>2024-06</td>\n",
       "      <td>21479</td>\n",
       "      <td>Support</td>\n",
       "      <td>2024-06-26 14:13:47</td>\n",
       "      <td>2024-07-01 01:27:33</td>\n",
       "      <td>2024-06-26</td>\n",
       "      <td>2024-06-26</td>\n",
       "      <td>Kota Sukabumi</td>\n",
       "      <td>Pengecekan File Ajuan Pendaftaran di Operator ...</td>\n",
       "      <td>Closed</td>\n",
       "      <td>NaN</td>\n",
       "      <td>74.0</td>\n",
       "      <td>Hayan .</td>\n",
       "      <td>DSO</td>\n",
       "      <td>74</td>\n",
       "      <td>Hayan .</td>\n",
       "      <td>NaN</td>\n",
       "      <td>2024-06-26 14:24:31</td>\n",
       "      <td>Normal</td>\n",
       "    </tr>\n",
       "    <tr>\n",
       "      <th>5</th>\n",
       "      <td>Lapor PPDB</td>\n",
       "      <td>2024-06</td>\n",
       "      <td>21680</td>\n",
       "      <td>Support</td>\n",
       "      <td>2024-06-30 19:56:25</td>\n",
       "      <td>2024-06-30 22:43:27</td>\n",
       "      <td>2024-06-30</td>\n",
       "      <td>2024-06-30</td>\n",
       "      <td>Kota Serang</td>\n",
       "      <td>[DEV] Backend - Tolak Pilihan Provinsi Dan Kot...</td>\n",
       "      <td>Closed</td>\n",
       "      <td>1.0</td>\n",
       "      <td>62.0</td>\n",
       "      <td>Villa Nanda</td>\n",
       "      <td>DIP</td>\n",
       "      <td>4</td>\n",
       "      <td>Azhar Mashuri</td>\n",
       "      <td>NaN</td>\n",
       "      <td>2024-06-30 21:41:11</td>\n",
       "      <td>Lembur</td>\n",
       "    </tr>\n",
       "  </tbody>\n",
       "</table>\n",
       "</div>"
      ],
      "text/plain": [
       "       sumber tahun bulan  issue id  tracker           created on  \\\n",
       "0  Lapor PPDB     2024-06     21639  Support  2024-06-29 09:09:00   \n",
       "1  Lapor PPDB     2024-06     21662  Support  2024-06-29 12:51:50   \n",
       "2  Lapor PPDB     2024-06     21088  Support  2024-06-22 05:30:34   \n",
       "3  Lapor PPDB     2024-06     21689  Support  2024-07-01 02:28:58   \n",
       "4  Lapor PPDB     2024-06     21479  Support  2024-06-26 14:13:47   \n",
       "5  Lapor PPDB     2024-06     21680  Support  2024-06-30 19:56:25   \n",
       "\n",
       "             closed on  start date    due date                    project  \\\n",
       "0  2024-07-01 05:11:11  2024-06-29  2024-06-29              Kota Denpasar   \n",
       "1  2024-07-01 05:10:57  2024-06-29  2024-06-29                 Prov. Bali   \n",
       "2  2024-06-22 10:18:51  2024-06-22  2024-06-29  Prov. Nusa Tenggara Timur   \n",
       "3  2024-07-01 02:46:11  2024-06-30  2024-07-01   Kanwil Prov. DKI Jakarta   \n",
       "4  2024-07-01 01:27:33  2024-06-26  2024-06-26              Kota Sukabumi   \n",
       "5  2024-06-30 22:43:27  2024-06-30  2024-06-30                Kota Serang   \n",
       "\n",
       "                                             subject   state  poin  \\\n",
       "0  [Closing Engine] Kota Denpasar 2024 - Jalur Zo...  Closed   NaN   \n",
       "1  [Kendala] Siswa Masih Bisa Langsung Pengajuan ...  Closed   NaN   \n",
       "2  [Closing Engine] Prov NTT 2024 - SMA All Jalur...  Closed   NaN   \n",
       "3  [DEV] Pengecekan dan Penyesuaian hasil seleksi...  Closed   5.0   \n",
       "4  Pengecekan File Ajuan Pendaftaran di Operator ...  Closed   NaN   \n",
       "5  [DEV] Backend - Tolak Pilihan Provinsi Dan Kot...  Closed   1.0   \n",
       "\n",
       "   id resolver          nama resolver grup resolver  id creator  \\\n",
       "0         69.0  Febrian Hilmi Firdaus           DSO          69   \n",
       "1         69.0  Febrian Hilmi Firdaus           DSO          69   \n",
       "2         69.0  Febrian Hilmi Firdaus           DSO          69   \n",
       "3          4.0          Azhar Mashuri           DIP           4   \n",
       "4         74.0                Hayan .           DSO          74   \n",
       "5         62.0            Villa Nanda           DIP           4   \n",
       "\n",
       "            nama creator  ts menit         wkt resolved st lembur  \n",
       "0  Febrian Hilmi Firdaus       NaN  2024-06-29 14:30:41    Lembur  \n",
       "1  Febrian Hilmi Firdaus       NaN  2024-07-01 05:10:57    Normal  \n",
       "2  Febrian Hilmi Firdaus       NaN  2024-06-22 08:54:49    Normal  \n",
       "3          Azhar Mashuri       NaN  2024-07-01 02:46:06    Lembur  \n",
       "4                Hayan .       NaN  2024-06-26 14:24:31    Normal  \n",
       "5          Azhar Mashuri       NaN  2024-06-30 21:41:11    Lembur  "
      ]
     },
     "execution_count": 6,
     "metadata": {},
     "output_type": "execute_result"
    }
   ],
   "source": [
    "data_raw = pd.read_csv('~/Downloads/data-ticket-karyawan.csv', encoding='utf-8')\n",
    "data_raw.columns = map(str.lower, data_raw.columns) #membuat huruf awal nama kolom menjadi tidak kapital\n",
    "\n",
    "sumber = ['Lapor PPDB']\n",
    "data_raw = data_raw.loc[data_raw['sumber'].isin(sumber)]\n",
    "data_raw.head(6)"
   ]
  },
  {
   "cell_type": "code",
   "execution_count": 7,
   "id": "e337b4de-fd75-40b2-a51e-62de6a28c20b",
   "metadata": {},
   "outputs": [
    {
     "name": "stdout",
     "output_type": "stream",
     "text": [
      "<class 'pandas.core.frame.DataFrame'>\n",
      "Index: 2036 entries, 0 to 2035\n",
      "Data columns (total 20 columns):\n",
      " #   Column         Non-Null Count  Dtype  \n",
      "---  ------         --------------  -----  \n",
      " 0   sumber         2036 non-null   object \n",
      " 1   tahun bulan    2036 non-null   object \n",
      " 2   issue id       2036 non-null   int64  \n",
      " 3   tracker        2036 non-null   object \n",
      " 4   created on     2036 non-null   object \n",
      " 5   closed on      2036 non-null   object \n",
      " 6   start date     1630 non-null   object \n",
      " 7   due date       2036 non-null   object \n",
      " 8   project        2036 non-null   object \n",
      " 9   subject        2036 non-null   object \n",
      " 10  state          2036 non-null   object \n",
      " 11  poin           1712 non-null   float64\n",
      " 12  id resolver    2036 non-null   float64\n",
      " 13  nama resolver  2036 non-null   object \n",
      " 14  grup resolver  1952 non-null   object \n",
      " 15  id creator     2036 non-null   int64  \n",
      " 16  nama creator   2036 non-null   object \n",
      " 17  ts menit       371 non-null    float64\n",
      " 18  wkt resolved   2036 non-null   object \n",
      " 19  st lembur      2036 non-null   object \n",
      "dtypes: float64(3), int64(2), object(15)\n",
      "memory usage: 334.0+ KB\n"
     ]
    }
   ],
   "source": [
    "data_raw.info()"
   ]
  },
  {
   "cell_type": "markdown",
   "id": "df70d4bc-d3a5-42d4-a4a9-4e3812d0aac3",
   "metadata": {
    "jp-MarkdownHeadingCollapsed": true
   },
   "source": [
    "# Carpus Processing (NLTK)"
   ]
  },
  {
   "cell_type": "markdown",
   "id": "ba658527-f9e5-4cca-a5b5-103aff9b3418",
   "metadata": {
    "jp-MarkdownHeadingCollapsed": true
   },
   "source": [
    "### Corpus Loading"
   ]
  },
  {
   "cell_type": "code",
   "execution_count": 169,
   "id": "63b9d69e-a1de-4a17-a62d-5a187c89bd95",
   "metadata": {},
   "outputs": [
    {
     "data": {
      "text/plain": [
       "'Override - Batasan Ajuan Pendaftaran Jalur Zonasi, PTO dan Prestasi'"
      ]
     },
     "execution_count": 169,
     "metadata": {},
     "output_type": "execute_result"
    }
   ],
   "source": [
    "corpus = data_raw['subject'].tolist()\n",
    "corpus[18][0:447]"
   ]
  },
  {
   "cell_type": "markdown",
   "id": "bb51f766-a67a-496f-aa29-be983a6ec047",
   "metadata": {
    "jp-MarkdownHeadingCollapsed": true
   },
   "source": [
    "## 1. Stop Words and Stemming"
   ]
  },
  {
   "cell_type": "code",
   "execution_count": 5,
   "id": "3e0fc722-a0ff-417f-94a6-2ee41ddd2769",
   "metadata": {},
   "outputs": [],
   "source": [
    "# removes a list of words (ie. stopwords) from a tokenized list.\n",
    "def removeWords(listOfTokens, listOfWords):\n",
    "    return [token for token in listOfTokens if token not in listOfWords]\n",
    "\n",
    "# applies stemming to a list of tokenized words\n",
    "def applyStemming(listOfTokens, stemmer):\n",
    "    return [stemmer.stem(token) for token in listOfTokens]\n",
    "\n",
    "# removes any words composed of less than 2 or more than 21 letters\n",
    "def twoLetters(listOfTokens):\n",
    "    twoLetterWord = []\n",
    "    for token in listOfTokens:\n",
    "        if len(token) <= 2 or len(token) >= 21:\n",
    "            twoLetterWord.append(token)\n",
    "    return twoLetterWord"
   ]
  },
  {
   "cell_type": "markdown",
   "id": "ff50dbb1-5cae-4ea5-90dc-339f30169021",
   "metadata": {
    "jp-MarkdownHeadingCollapsed": true
   },
   "source": [
    "## 2. The main corpus processing function"
   ]
  },
  {
   "cell_type": "markdown",
   "id": "c109239d-555d-4c4f-89fc-192f4fda187c",
   "metadata": {},
   "source": [
    "STOPWORDS UNTUK BAHASA INDONESIA: https://github.com/stopwords-iso/stopwords-id/blob/132f51cb383abf95a98beb33c4e1afb6933ff884/raw/indonesian-stopwords-complete.txt\n"
   ]
  },
  {
   "cell_type": "markdown",
   "id": "94e2eda3-b160-43c6-b554-2f8cd8914412",
   "metadata": {},
   "source": [
    "Tutorial install nltk: https://www.google.com/search?sca_esv=67eac9aa2b9499b8&sxsrf=ADLYWIKFMpDR9XEWQVPMLfUljnd_t7hZSw:1721699518919&q=nltk+for+mac&tbm=vid&source=lnms&fbs=AEQNm0DVrIRjdA3gRKfJJ-deMT8ZtYOjoIt1NWOMRkEKym4u5PkAZgxJOmIgPx6WieMhF6q1Hq7W6nME2Vp0eHuijF3ZElaTgD0zbj1gkQrti2r6HpgEQJ__FI2P2zVbzOTQnx-xQGuWfPA7_LjHL8X54xCjPigLtLX638JLYGhCvRlpvvGBo-fNpc7q_rU8dgffCadMYeMgxPqmupqDpgcFpVxKo2EBMA&sa=X&ved=2ahUKEwjcuvDBhryHAxXGVmwGHXduBboQ0pQJegQIDBAB&biw=1393&bih=701&dpr=2#fpstate=ive&vld=cid:1e6e69e9,vid:wuQeKgXUZks,st:0"
   ]
  },
  {
   "cell_type": "code",
   "execution_count": 24,
   "id": "3c90055f-2283-4df6-8205-3f7e6ec0f365",
   "metadata": {},
   "outputs": [],
   "source": [
    "def processCorpus(corpus, language):   \n",
    "    #stopwords = nltk.corpus.stopwords.words(language)\n",
    "    param_stemmer = SnowballStemmer(language)\n",
    "    #countries_list = [line.rstrip('\\n') for line in open('lists/countries.txt')] # Load .txt file line by line\n",
    "    #nationalities_list = [line.rstrip('\\n') for line in open('lists/nationalities.txt')] # Load .txt file line by line\n",
    "    #other_words = [line.rstrip('\\n') for line in open('lists/stopwords_scrapmaker.txt')] # Load .txt file line by line\n",
    "    \n",
    "    for document in corpus:\n",
    "        index = corpus.index(document)\n",
    "        #corpus[index] = corpus[index].replace(u'\\ufffd', '8')   # Replaces the ASCII '�' symbol with '8'\n",
    "        corpus[index] = corpus[index].replace(',', '')          # Removes commas\n",
    "        corpus[index] = corpus[index].rstrip('\\n')              # Removes line breaks\n",
    "        corpus[index] = corpus[index].casefold()                # Makes all letters lowercase\n",
    "        \n",
    "        #corpus[index] = re.sub('\\W_',' ', corpus[index])        # removes specials characters and leaves only words\n",
    "        #corpus[index] = re.sub(\"\\S*\\d\\S*\",\" \", corpus[index])   # removes numbers and words concatenated with numbers IE h4ck3r. Removes road names such as BR-381.\n",
    "        #corpus[index] = re.sub(\"\\S*@\\S*\\s?\",\" \", corpus[index]) # removes emails and mentions (words with @)\n",
    "        #corpus[index] = re.sub(r'http\\S+', '', corpus[index])   # removes URLs with http\n",
    "        #corpus[index] = re.sub(r'www\\S+', '', corpus[index])    # removes URLs with www\n",
    "\n",
    "        listOfTokens = word_tokenize(corpus[index])\n",
    "        twoLetterWord = twoLetters(listOfTokens)\n",
    "\n",
    "        #listOfTokens = removeWords(listOfTokens, stopwords)\n",
    "        listOfTokens = removeWords(listOfTokens, twoLetterWord)\n",
    "        #listOfTokens = removeWords(listOfTokens, countries_list)\n",
    "        #listOfTokens = removeWords(listOfTokens, nationalities_list)\n",
    "        #listOfTokens = removeWords(listOfTokens, other_words)\n",
    "        \n",
    "        listOfTokens = applyStemming(listOfTokens, param_stemmer)\n",
    "        #listOfTokens = removeWords(listOfTokens, other_words)\n",
    "\n",
    "        corpus[index]   = \" \".join(listOfTokens)\n",
    "        corpus[index] = unidecode(corpus[index])\n",
    "\n",
    "    return corpus"
   ]
  },
  {
   "cell_type": "markdown",
   "id": "0080e09a-4cfe-4671-bd91-a10c70753253",
   "metadata": {
    "jp-MarkdownHeadingCollapsed": true
   },
   "source": [
    "## Install NLTK for Mac"
   ]
  },
  {
   "cell_type": "code",
   "execution_count": 10,
   "id": "0e1ef38d-4dfb-4ee9-abee-34df1b0a9037",
   "metadata": {},
   "outputs": [],
   "source": [
    "import nltk\n",
    "import zipfile\n",
    "import requests"
   ]
  },
  {
   "cell_type": "code",
   "execution_count": 11,
   "id": "16b31817-454f-41f4-bf96-e59ee9189726",
   "metadata": {},
   "outputs": [
    {
     "data": {
      "text/plain": [
       "13905355"
      ]
     },
     "execution_count": 11,
     "metadata": {},
     "output_type": "execute_result"
    }
   ],
   "source": [
    "# Step 1: Download the punkt.zip file\n",
    "url = 'https://github.com/nltk/nltk_data/blob/gh-pages/packages/tokenizers/punkt.zip?raw=true'\n",
    "r = requests.get(url, allow_redirects=True)\n",
    "open('punkt.zip', 'wb').write(r.content)\n"
   ]
  },
  {
   "cell_type": "code",
   "execution_count": 12,
   "id": "7fc438f5-6982-4888-b6c1-1a284084c215",
   "metadata": {},
   "outputs": [],
   "source": [
    "# Step 2: Extract the contents of the zip file\n",
    "with zipfile.ZipFile('punkt.zip', 'r') as zip_ref:\n",
    "    zip_ref.extractall('/Users/mac/nltk_data/tokenizers')"
   ]
  },
  {
   "cell_type": "code",
   "execution_count": 13,
   "id": "ce0e1197-a98a-42a0-a321-0c57d0d888b7",
   "metadata": {},
   "outputs": [
    {
     "data": {
      "text/plain": [
       "FileSystemPathPointer('/Users/mac/nltk_data/tokenizers/punkt/PY3')"
      ]
     },
     "execution_count": 13,
     "metadata": {},
     "output_type": "execute_result"
    }
   ],
   "source": [
    "# Step 3: Verify if the data is available\n",
    "from nltk.data import find\n",
    "find('tokenizers/punkt')"
   ]
  },
  {
   "cell_type": "code",
   "execution_count": 14,
   "id": "68c9d0ce-6abe-495e-bfd6-f49c726f4eca",
   "metadata": {},
   "outputs": [
    {
     "name": "stderr",
     "output_type": "stream",
     "text": [
      "[nltk_data] Error loading punkt: <urlopen error [SSL:\n",
      "[nltk_data]     CERTIFICATE_VERIFY_FAILED] certificate verify failed:\n",
      "[nltk_data]     unable to get local issuer certificate (_ssl.c:1000)>\n"
     ]
    },
    {
     "data": {
      "text/plain": [
       "False"
      ]
     },
     "execution_count": 14,
     "metadata": {},
     "output_type": "execute_result"
    }
   ],
   "source": [
    "import nltk\n",
    "nltk.download('punkt')"
   ]
  },
  {
   "cell_type": "code",
   "execution_count": 15,
   "id": "5863f318-8120-4f67-88ea-d621fd766f76",
   "metadata": {},
   "outputs": [],
   "source": [
    "import nltk\n",
    "from nltk.tokenize import word_tokenize"
   ]
  },
  {
   "cell_type": "code",
   "execution_count": 16,
   "id": "628d290b-905c-417e-b8db-c68f851e13e8",
   "metadata": {},
   "outputs": [],
   "source": [
    "# Ensure the NLTK data path includes the directory where 'punkt' is located\n",
    "nltk.data.path.append('/Users/mac/nltk_data')"
   ]
  },
  {
   "cell_type": "code",
   "execution_count": 17,
   "id": "99311fd1-5f7e-4067-9936-fbf669790e82",
   "metadata": {},
   "outputs": [],
   "source": [
    "# Sample text\n",
    "text = \"Hello, how are you?\""
   ]
  },
  {
   "cell_type": "code",
   "execution_count": 18,
   "id": "3f38cabe-b904-47ba-b666-2a0a2c76ca2e",
   "metadata": {},
   "outputs": [
    {
     "name": "stdout",
     "output_type": "stream",
     "text": [
      "['Hello', ',', 'how', 'are', 'you', '?']\n"
     ]
    }
   ],
   "source": [
    "# Tokenize the text\n",
    "tokens = word_tokenize(text)\n",
    "print(tokens)"
   ]
  },
  {
   "cell_type": "markdown",
   "id": "ccb882ff-973d-44d0-81f9-f5b00c06c73e",
   "metadata": {
    "jp-MarkdownHeadingCollapsed": true
   },
   "source": [
    "## 2. Lanjutan Corpus"
   ]
  },
  {
   "cell_type": "code",
   "execution_count": 26,
   "id": "8aa1b332-8044-4526-b5ea-f3c3f31512c9",
   "metadata": {},
   "outputs": [
    {
     "ename": "ValueError",
     "evalue": "The language 'indonesia' is not supported.",
     "output_type": "error",
     "traceback": [
      "\u001b[0;31m---------------------------------------------------------------------------\u001b[0m",
      "\u001b[0;31mValueError\u001b[0m                                Traceback (most recent call last)",
      "Cell \u001b[0;32mIn[26], line 2\u001b[0m\n\u001b[1;32m      1\u001b[0m language \u001b[38;5;241m=\u001b[39m \u001b[38;5;124m'\u001b[39m\u001b[38;5;124mindonesia\u001b[39m\u001b[38;5;124m'\u001b[39m\n\u001b[0;32m----> 2\u001b[0m corpus \u001b[38;5;241m=\u001b[39m \u001b[43mprocessCorpus\u001b[49m\u001b[43m(\u001b[49m\u001b[43mcorpus\u001b[49m\u001b[43m,\u001b[49m\u001b[43m \u001b[49m\u001b[43mlanguage\u001b[49m\u001b[43m)\u001b[49m\n\u001b[1;32m      3\u001b[0m corpus[\u001b[38;5;241m18\u001b[39m][\u001b[38;5;241m0\u001b[39m:\u001b[38;5;241m460\u001b[39m]\n",
      "Cell \u001b[0;32mIn[24], line 3\u001b[0m, in \u001b[0;36mprocessCorpus\u001b[0;34m(corpus, language)\u001b[0m\n\u001b[1;32m      1\u001b[0m \u001b[38;5;28;01mdef\u001b[39;00m \u001b[38;5;21mprocessCorpus\u001b[39m(corpus, language):   \n\u001b[1;32m      2\u001b[0m     \u001b[38;5;66;03m#stopwords = nltk.corpus.stopwords.words(language)\u001b[39;00m\n\u001b[0;32m----> 3\u001b[0m     param_stemmer \u001b[38;5;241m=\u001b[39m \u001b[43mSnowballStemmer\u001b[49m\u001b[43m(\u001b[49m\u001b[43mlanguage\u001b[49m\u001b[43m)\u001b[49m\n\u001b[1;32m      4\u001b[0m     \u001b[38;5;66;03m#countries_list = [line.rstrip('\\n') for line in open('lists/countries.txt')] # Load .txt file line by line\u001b[39;00m\n\u001b[1;32m      5\u001b[0m     \u001b[38;5;66;03m#nationalities_list = [line.rstrip('\\n') for line in open('lists/nationalities.txt')] # Load .txt file line by line\u001b[39;00m\n\u001b[1;32m      6\u001b[0m     \u001b[38;5;66;03m#other_words = [line.rstrip('\\n') for line in open('lists/stopwords_scrapmaker.txt')] # Load .txt file line by line\u001b[39;00m\n\u001b[1;32m      8\u001b[0m     \u001b[38;5;28;01mfor\u001b[39;00m document \u001b[38;5;129;01min\u001b[39;00m corpus:\n",
      "File \u001b[0;32m~/Downloads/jupyter_env/lib/python3.12/site-packages/nltk/stem/snowball.py:106\u001b[0m, in \u001b[0;36mSnowballStemmer.__init__\u001b[0;34m(self, language, ignore_stopwords)\u001b[0m\n\u001b[1;32m    104\u001b[0m \u001b[38;5;28;01mdef\u001b[39;00m \u001b[38;5;21m__init__\u001b[39m(\u001b[38;5;28mself\u001b[39m, language, ignore_stopwords\u001b[38;5;241m=\u001b[39m\u001b[38;5;28;01mFalse\u001b[39;00m):\n\u001b[1;32m    105\u001b[0m     \u001b[38;5;28;01mif\u001b[39;00m language \u001b[38;5;129;01mnot\u001b[39;00m \u001b[38;5;129;01min\u001b[39;00m \u001b[38;5;28mself\u001b[39m\u001b[38;5;241m.\u001b[39mlanguages:\n\u001b[0;32m--> 106\u001b[0m         \u001b[38;5;28;01mraise\u001b[39;00m \u001b[38;5;167;01mValueError\u001b[39;00m(\u001b[38;5;124mf\u001b[39m\u001b[38;5;124m\"\u001b[39m\u001b[38;5;124mThe language \u001b[39m\u001b[38;5;124m'\u001b[39m\u001b[38;5;132;01m{\u001b[39;00mlanguage\u001b[38;5;132;01m}\u001b[39;00m\u001b[38;5;124m'\u001b[39m\u001b[38;5;124m is not supported.\u001b[39m\u001b[38;5;124m\"\u001b[39m)\n\u001b[1;32m    107\u001b[0m     stemmerclass \u001b[38;5;241m=\u001b[39m \u001b[38;5;28mglobals\u001b[39m()[language\u001b[38;5;241m.\u001b[39mcapitalize() \u001b[38;5;241m+\u001b[39m \u001b[38;5;124m\"\u001b[39m\u001b[38;5;124mStemmer\u001b[39m\u001b[38;5;124m\"\u001b[39m]\n\u001b[1;32m    108\u001b[0m     \u001b[38;5;28mself\u001b[39m\u001b[38;5;241m.\u001b[39mstemmer \u001b[38;5;241m=\u001b[39m stemmerclass(ignore_stopwords)\n",
      "\u001b[0;31mValueError\u001b[0m: The language 'indonesia' is not supported."
     ]
    }
   ],
   "source": [
    "language = 'indonesia'\n",
    "corpus = processCorpus(corpus, language)\n",
    "corpus[18][0:460]"
   ]
  },
  {
   "cell_type": "markdown",
   "id": "e29912f5-4f57-4f2c-83d5-a9438871088c",
   "metadata": {},
   "source": [
    "the language 'indonesia' or 'indonesian' is not supported by NLTK's punkt tokenizer. NLTK's punkt tokenizer primarily supports a limited number of languages.\n",
    "\n",
    "For Indonesian language support, you can use other libraries like Sastrawi or spacy for tokenization."
   ]
  },
  {
   "cell_type": "markdown",
   "id": "be75f825-e151-42a3-ac04-205d9cf92893",
   "metadata": {},
   "source": [
    "# Use Spacy Library"
   ]
  },
  {
   "cell_type": "markdown",
   "id": "de8e733f-3020-42eb-b376-2f3205e14f46",
   "metadata": {
    "jp-MarkdownHeadingCollapsed": true
   },
   "source": [
    "### Pilih kolom yang akan digunakan"
   ]
  },
  {
   "cell_type": "code",
   "execution_count": 8,
   "id": "84ef6089-2632-4fa2-9259-d00fb8bf74fe",
   "metadata": {},
   "outputs": [
    {
     "data": {
      "text/plain": [
       "0       [Closing Engine] Kota Denpasar 2024 - Jalur Zo...\n",
       "1       [Kendala] Siswa Masih Bisa Langsung Pengajuan ...\n",
       "2       [Closing Engine] Prov NTT 2024 - SMA All Jalur...\n",
       "3       [DEV] Pengecekan dan Penyesuaian hasil seleksi...\n",
       "4       Pengecekan File Ajuan Pendaftaran di Operator ...\n",
       "                              ...                        \n",
       "2031    Reset daftar Ajuan Pendaftaran Gabungan zona Demo\n",
       "2032                    Override Engine Seleksi Kota Batu\n",
       "2033       Dokumen SPH PPDB Online Kota Palangkaraya 2023\n",
       "2034    Override Info Dari Formatter Kapasitas Jika Ya...\n",
       "2035                 Konfirmasi daerah 3 Kota/Kab di TR I\n",
       "Name: subject, Length: 2036, dtype: object"
      ]
     },
     "execution_count": 8,
     "metadata": {},
     "output_type": "execute_result"
    }
   ],
   "source": [
    "data_subj = data_raw['subject']\n",
    "data = data_raw['subject']\n",
    "data"
   ]
  },
  {
   "cell_type": "code",
   "execution_count": 9,
   "id": "3f54285e-d120-41b7-9953-c57be592ec83",
   "metadata": {},
   "outputs": [
    {
     "data": {
      "text/plain": [
       "array(['[Closing Engine] Kota Denpasar 2024 - Jalur Zonasi Kategori Umum - Tahap 1',\n",
       "       '[Kendala] Siswa Masih Bisa Langsung Pengajuan Pendaftaran di 2 Jenjang Sekaligus',\n",
       "       '[Closing Engine] Prov NTT 2024 - SMA All Jalur - Tahap 1', ...,\n",
       "       'Dokumen SPH PPDB Online Kota Palangkaraya 2023',\n",
       "       'Override Info Dari Formatter Kapasitas Jika Yang Diakses Adalah Kota Batu',\n",
       "       'Konfirmasi daerah 3 Kota/Kab di TR I'], dtype=object)"
      ]
     },
     "execution_count": 9,
     "metadata": {},
     "output_type": "execute_result"
    }
   ],
   "source": [
    "data.values #Menjadikan array"
   ]
  },
  {
   "cell_type": "markdown",
   "id": "fcfeb2a0-959f-4d5e-ab59-0bbb61f359b6",
   "metadata": {},
   "source": [
    "### Cleaning data"
   ]
  },
  {
   "cell_type": "code",
   "execution_count": 10,
   "id": "c46c05b3-85fe-4aae-829c-2511855608ef",
   "metadata": {},
   "outputs": [
    {
     "data": {
      "text/plain": [
       "0       [closing engine] kota denpasar 2024 - jalur zo...\n",
       "1       [kendala] siswa masih bisa langsung pengajuan ...\n",
       "2       [closing engine] prov ntt 2024 - sma all jalur...\n",
       "3       [dev] pengecekan dan penyesuaian hasil seleksi...\n",
       "4       pengecekan file ajuan pendaftaran di operator ...\n",
       "                              ...                        \n",
       "2031    reset daftar ajuan pendaftaran gabungan zona demo\n",
       "2032                    override engine seleksi kota batu\n",
       "2033       dokumen sph ppdb online kota palangkaraya 2023\n",
       "2034    override info dari formatter kapasitas jika ya...\n",
       "2035                 konfirmasi daerah 3 kota/kab di tr i\n",
       "Name: subject, Length: 2036, dtype: object"
      ]
     },
     "execution_count": 10,
     "metadata": {},
     "output_type": "execute_result"
    }
   ],
   "source": [
    "#Mengubah huruf kapital menjadi lower case\n",
    "data = data.str.lower()\n",
    "data"
   ]
  },
  {
   "cell_type": "code",
   "execution_count": 31,
   "id": "adb10fff-406b-4f89-9b54-80e22bb03bc9",
   "metadata": {},
   "outputs": [
    {
     "data": {
      "text/plain": [
       "0       closing engine     jalur zonasi kategori umum ...\n",
       "1       kendala siswa masih bisa langsung pengajuan pe...\n",
       "2               closing engine     sma all jalur  tahap 1\n",
       "3       dev pengecekan dan penyesuaian hasil seleksi j...\n",
       "4       pengecekan file ajuan pendaftaran di operator ...\n",
       "                              ...                        \n",
       "2031    reset daftar ajuan pendaftaran gabungan zona demo\n",
       "2032                            override engine seleksi  \n",
       "2033                               dokumen sph  online   \n",
       "2034    override info dari formatter kapasitas jika ya...\n",
       "2035                         konfirmasi daerah 3  di tr i\n",
       "Name: subject, Length: 2036, dtype: object"
      ]
     },
     "execution_count": 31,
     "metadata": {},
     "output_type": "execute_result"
    }
   ],
   "source": [
    "def clean_text(text):\n",
    "    text = re.sub(r\"(@\\[A-Za-z0-9]+)|([^0-9A-Za-z \\t])|(\\w+:\\/\\/\\S+)|^rt|http.+?\", \"\", text)\n",
    "    text = re.sub(r\"2024|2023|ppdb\", \"\", text)\n",
    "    text = re.sub(r\"kota|kab|prov|kotakab|diy\", \"\", text)\n",
    "    text = re.sub(r\"balikpapan|bontang|samarinda|bangka|bantul|barito selatan|batang|berau|bungo|demak|gresik|grobogan|jepara|karimun|klaten|kudus|kulon progo| kutai timur|malang|pati|purbalingga|sleman|jakarta|banjarbaru|batu|bengkulu|bontang|denpasar|jambi|mataram|mojokerto|padang sidempuan|palangkaraya|pasuruan|pontianak|serang|sukabumi|yogyakarta|bali|banten|yogyakarta|jambi|jawa tengah|kalimantan tengah|kalimantan selatan|lampung|ntt|nusa tenggara timur\", \"\", text)\n",
    "    return text\n",
    "    \n",
    "\n",
    "# Apply the function to each element in the 'text' column\n",
    "data = data.apply(clean_text)\n",
    "\n",
    "data"
   ]
  },
  {
   "cell_type": "code",
   "execution_count": 43,
   "id": "9e6f3aa0-d1a8-4c5c-8d39-b01d50c8d872",
   "metadata": {},
   "outputs": [
    {
     "data": {
      "text/plain": [
       "0       closing engine jalur zonasi kategori umum tahap 1\n",
       "1       kendala siswa masih bisa langsung pengajuan pe...\n",
       "2                    closing engine sma all jalur tahap 1\n",
       "3       dev pengecekan dan penyesuaian hasil seleksi j...\n",
       "4       pengecekan file ajuan pendaftaran di operator ...\n",
       "                              ...                        \n",
       "2031    reset daftar ajuan pendaftaran gabungan zona demo\n",
       "2032                             override engine seleksi \n",
       "2033                                  dokumen sph online \n",
       "2034    override info dari formatter kapasitas jika ya...\n",
       "2035                          konfirmasi daerah 3 di tr i\n",
       "Name: subject, Length: 2036, dtype: object"
      ]
     },
     "execution_count": 43,
     "metadata": {},
     "output_type": "execute_result"
    }
   ],
   "source": [
    "data = data.str.replace(r'\\s+', ' ', regex=True)\n",
    "data"
   ]
  },
  {
   "cell_type": "code",
   "execution_count": 44,
   "id": "69c483c2-8a4e-4b6a-9a61-e186d59c638c",
   "metadata": {},
   "outputs": [
    {
     "data": {
      "text/plain": [
       "array(['closing engine jalur zonasi kategori umum tahap 1',\n",
       "       'kendala siswa masih bisa langsung pengajuan pendaftaran di 2 jenjang sekaligus',\n",
       "       'closing engine sma all jalur tahap 1', ..., 'dokumen sph online ',\n",
       "       'override info dari formatter kapasitas jika yang diakses adalah ',\n",
       "       'konfirmasi daerah 3 di tr i'], dtype=object)"
      ]
     },
     "execution_count": 44,
     "metadata": {},
     "output_type": "execute_result"
    }
   ],
   "source": [
    "data.values"
   ]
  },
  {
   "cell_type": "markdown",
   "id": "603bfbff-a653-4dda-b192-43bd239778aa",
   "metadata": {},
   "source": [
    "## Tokenization"
   ]
  },
  {
   "cell_type": "code",
   "execution_count": 45,
   "id": "5fe0c8d3-bfe3-4bde-814d-47e111fd0c67",
   "metadata": {},
   "outputs": [
    {
     "name": "stdout",
     "output_type": "stream",
     "text": [
      "Article process: 2036 from 2036\n",
      "\n",
      "total vacab stem:  14269\n",
      "total vacab tokenize:  14269\n"
     ]
    }
   ],
   "source": [
    "#not super pythonic, no, not at all.\n",
    "#use extend so it's a big flat list of vocab\n",
    "from __future__ import print_function\n",
    "totalvocab_stemmed = []\n",
    "totalvocab_tokenized = []\n",
    "dataarticle = list(data.values)\n",
    "count = 0\n",
    "for i in dataarticle:\n",
    "    print(\"\\rArticle process: {} from {}\".format(count+1, len(dataarticle)), end=\"\")\n",
    "    count += 1\n",
    "    allwords_stemmed = tokenize_and_stem(i) #for each item in 'synopses', tokenize/stem\n",
    "    totalvocab_stemmed.extend(allwords_stemmed) #extend the 'totalvocab_stemmed' list\n",
    "    \n",
    "    allwords_tokenized = tokenize_only(i)\n",
    "    totalvocab_tokenized.extend(allwords_tokenized)\n",
    "print (\"\")\n",
    "print (\"\")\n",
    "\n",
    "print (\"total vacab stem: \", len(totalvocab_stemmed))\n",
    "print (\"total vacab tokenize: \",len(totalvocab_tokenized))"
   ]
  },
  {
   "cell_type": "code",
   "execution_count": 46,
   "id": "07b133d3-1889-4ce6-b407-1b08edd703ce",
   "metadata": {},
   "outputs": [
    {
     "name": "stdout",
     "output_type": "stream",
     "text": [
      "there are 14269 items in vocab_frame\n"
     ]
    }
   ],
   "source": [
    "vocab_frame = pd.DataFrame({'words': totalvocab_tokenized}, index = totalvocab_stemmed)\n",
    "print ('there are ' + str(vocab_frame.shape[0]) + ' items in vocab_frame')\n",
    "# vocab_frame[:10] #print 10 word"
   ]
  },
  {
   "cell_type": "code",
   "execution_count": 55,
   "id": "26c3ca09-65ea-4aeb-a34a-23034e735deb",
   "metadata": {},
   "outputs": [
    {
     "name": "stdout",
     "output_type": "stream",
     "text": [
      "TF-idf matrix:  (2036, 1212)\n"
     ]
    }
   ],
   "source": [
    "from spacy.lang.id import stop_words\n",
    "from string import punctuation, digits\n",
    "from sklearn.feature_extraction.text import TfidfVectorizer\n",
    "\n",
    "#STWRD = list(set(punctuation))\n",
    "#STWRD += list(set(digits))\n",
    "#STWRD += stop_words.STOP_WORDS\n",
    "\n",
    "#tfidf_vectorizer = TfidfVectorizer(max_df=0.8, max_features=200000,\n",
    "                                 #min_df=2, stop_words=STWRD,\n",
    "                                 #use_idf=True, tokenizer=tokenize_and_stem, ngram_range=(1,3))\n",
    "\n",
    "tfidf_vectorizer = TfidfVectorizer()\n",
    "\n",
    "tfidf_matrix = tfidf_vectorizer.fit_transform(list(data.values)) #fit the vectorizer to synopses\n",
    "\n",
    "print(\"TF-idf matrix: \",tfidf_matrix.shape)\n",
    "\n",
    "terms = tfidf_vectorizer.get_feature_names_out()"
   ]
  },
  {
   "cell_type": "code",
   "execution_count": 56,
   "id": "b0cdc326-f678-48a2-baab-3c10fee5e513",
   "metadata": {},
   "outputs": [
    {
     "data": {
      "text/plain": [
       "array([[ 0.00000000e+00,  1.00000000e+00,  5.21789195e-01, ...,\n",
       "         1.00000000e+00,  1.00000000e+00,  1.00000000e+00],\n",
       "       [ 1.00000000e+00, -2.22044605e-16,  1.00000000e+00, ...,\n",
       "         1.00000000e+00,  1.00000000e+00,  9.37112753e-01],\n",
       "       [ 5.21789195e-01,  1.00000000e+00, -2.22044605e-16, ...,\n",
       "         1.00000000e+00,  1.00000000e+00,  1.00000000e+00],\n",
       "       ...,\n",
       "       [ 1.00000000e+00,  1.00000000e+00,  1.00000000e+00, ...,\n",
       "        -2.22044605e-16,  1.00000000e+00,  1.00000000e+00],\n",
       "       [ 1.00000000e+00,  1.00000000e+00,  1.00000000e+00, ...,\n",
       "         1.00000000e+00, -2.22044605e-16,  1.00000000e+00],\n",
       "       [ 1.00000000e+00,  9.37112753e-01,  1.00000000e+00, ...,\n",
       "         1.00000000e+00,  1.00000000e+00,  0.00000000e+00]])"
      ]
     },
     "execution_count": 56,
     "metadata": {},
     "output_type": "execute_result"
    }
   ],
   "source": [
    "from sklearn.metrics.pairwise import cosine_similarity\n",
    "dist = 1 - cosine_similarity(tfidf_matrix)\n",
    "print\n",
    "dist"
   ]
  },
  {
   "cell_type": "markdown",
   "id": "70898e40-4b20-496b-9277-8517ba7d21d0",
   "metadata": {},
   "source": [
    "## Elbow methods"
   ]
  },
  {
   "cell_type": "markdown",
   "id": "a4b17eaa-deb3-47cc-a886-e09acb2ef3ac",
   "metadata": {},
   "source": [
    "Sumber: https://medium.com/@rohithramesh1991/unsupervised-text-clustering-using-natural-language-processing-nlp-1a8bc18b048d"
   ]
  },
  {
   "cell_type": "code",
   "execution_count": 210,
   "id": "28e1187f-a5ac-4abc-ae96-6b1f403fbf83",
   "metadata": {},
   "outputs": [],
   "source": [
    "from tqdm import tqdm"
   ]
  },
  {
   "cell_type": "code",
   "execution_count": 57,
   "id": "134846b4-0210-4dca-ae36-08ef35f2be6f",
   "metadata": {},
   "outputs": [],
   "source": [
    "#checking for optimal number of clusters\n",
    "SSD = []\n",
    "K = range(1,150)\n",
    "for k in K:\n",
    "    kmm = KMeans (n_clusters=k)\n",
    "    kmm = kmm.fit (tfidf_matrix)\n",
    "    SSD.append(kmm.inertia_)"
   ]
  },
  {
   "cell_type": "code",
   "execution_count": 58,
   "id": "6ddf9f14-6c7e-46a1-af19-2cae75d18f80",
   "metadata": {},
   "outputs": [
    {
     "data": {
      "image/png": "[encoded data removed]",
      "text/plain": [
       "<Figure size 640x480 with 1 Axes>"
      ]
     },
     "metadata": {},
     "output_type": "display_data"
    }
   ],
   "source": [
    "import matplotlib.pyplot as plt\n",
    "\n",
    "plt.plot(K, SSD, 'bx-')\n",
    "plt.xlabel('k')\n",
    "plt.ylabel('SSD')\n",
    "plt.title('Elbow Method For Optimal k')\n",
    "plt.show()"
   ]
  },
  {
   "cell_type": "markdown",
   "id": "1057bdfc-2e09-47b1-ad9c-f2ddc65f39a0",
   "metadata": {},
   "source": [
    "Berdasarkan grafik dapat dilihat bahwa maksimum k nya adalah antara 0 sampai 20"
   ]
  },
  {
   "cell_type": "markdown",
   "id": "76790733-3899-4a59-a5a8-200b2dabf33f",
   "metadata": {},
   "source": [
    "## KMeans"
   ]
  },
  {
   "cell_type": "code",
   "execution_count": 49,
   "id": "8417d6d4-4175-422a-a354-686ae0021bf1",
   "metadata": {},
   "outputs": [],
   "source": [
    "from sklearn.cluster import KMeans\n",
    "\n",
    "num_clusters = 20\n",
    "\n",
    "km = KMeans(n_clusters=num_clusters)\n",
    "\n",
    "km.fit(tfidf_matrix)\n",
    "\n",
    "clusters = km.labels_.tolist()"
   ]
  },
  {
   "cell_type": "code",
   "execution_count": 50,
   "id": "6c9fe952-cad6-4781-b6db-a72b0d3316a5",
   "metadata": {},
   "outputs": [
    {
     "data": {
      "text/html": [
       "<div>\n",
       "<style scoped>\n",
       "    .dataframe tbody tr th:only-of-type {\n",
       "        vertical-align: middle;\n",
       "    }\n",
       "\n",
       "    .dataframe tbody tr th {\n",
       "        vertical-align: top;\n",
       "    }\n",
       "\n",
       "    .dataframe thead th {\n",
       "        text-align: right;\n",
       "    }\n",
       "</style>\n",
       "<table border=\"1\" class=\"dataframe\">\n",
       "  <thead>\n",
       "    <tr style=\"text-align: right;\">\n",
       "      <th></th>\n",
       "      <th>subject</th>\n",
       "      <th>subject_p</th>\n",
       "      <th>cluster</th>\n",
       "    </tr>\n",
       "  </thead>\n",
       "  <tbody>\n",
       "    <tr>\n",
       "      <th>8</th>\n",
       "      <td>[Closing Engine] Kota Denpasar 2024 - Jalur Zo...</td>\n",
       "      <td>closing engine jalur zonasi kategori umum tahap 1</td>\n",
       "      <td>8</td>\n",
       "    </tr>\n",
       "    <tr>\n",
       "      <th>6</th>\n",
       "      <td>[Kendala] Siswa Masih Bisa Langsung Pengajuan ...</td>\n",
       "      <td>kendala siswa masih bisa langsung pengajuan pe...</td>\n",
       "      <td>6</td>\n",
       "    </tr>\n",
       "    <tr>\n",
       "      <th>8</th>\n",
       "      <td>[Closing Engine] Prov NTT 2024 - SMA All Jalur...</td>\n",
       "      <td>closing engine sma all jalur tahap 1</td>\n",
       "      <td>8</td>\n",
       "    </tr>\n",
       "    <tr>\n",
       "      <th>4</th>\n",
       "      <td>[DEV] Pengecekan dan Penyesuaian hasil seleksi...</td>\n",
       "      <td>dev pengecekan dan penyesuaian hasil seleksi j...</td>\n",
       "      <td>4</td>\n",
       "    </tr>\n",
       "    <tr>\n",
       "      <th>6</th>\n",
       "      <td>Pengecekan File Ajuan Pendaftaran di Operator ...</td>\n",
       "      <td>pengecekan file ajuan pendaftaran di operator ...</td>\n",
       "      <td>6</td>\n",
       "    </tr>\n",
       "    <tr>\n",
       "      <th>...</th>\n",
       "      <td>...</td>\n",
       "      <td>...</td>\n",
       "      <td>...</td>\n",
       "    </tr>\n",
       "    <tr>\n",
       "      <th>11</th>\n",
       "      <td>Reset daftar Ajuan Pendaftaran Gabungan zona Demo</td>\n",
       "      <td>reset daftar ajuan pendaftaran gabungan zona demo</td>\n",
       "      <td>11</td>\n",
       "    </tr>\n",
       "    <tr>\n",
       "      <th>8</th>\n",
       "      <td>Override Engine Seleksi Kota Batu</td>\n",
       "      <td>override engine seleksi</td>\n",
       "      <td>8</td>\n",
       "    </tr>\n",
       "    <tr>\n",
       "      <th>5</th>\n",
       "      <td>Dokumen SPH PPDB Online Kota Palangkaraya 2023</td>\n",
       "      <td>dokumen sph online</td>\n",
       "      <td>5</td>\n",
       "    </tr>\n",
       "    <tr>\n",
       "      <th>17</th>\n",
       "      <td>Override Info Dari Formatter Kapasitas Jika Ya...</td>\n",
       "      <td>override info dari formatter kapasitas jika ya...</td>\n",
       "      <td>17</td>\n",
       "    </tr>\n",
       "    <tr>\n",
       "      <th>6</th>\n",
       "      <td>Konfirmasi daerah 3 Kota/Kab di TR I</td>\n",
       "      <td>konfirmasi daerah 3 di tr i</td>\n",
       "      <td>6</td>\n",
       "    </tr>\n",
       "  </tbody>\n",
       "</table>\n",
       "<p>2036 rows × 3 columns</p>\n",
       "</div>"
      ],
      "text/plain": [
       "                                              subject  \\\n",
       "8   [Closing Engine] Kota Denpasar 2024 - Jalur Zo...   \n",
       "6   [Kendala] Siswa Masih Bisa Langsung Pengajuan ...   \n",
       "8   [Closing Engine] Prov NTT 2024 - SMA All Jalur...   \n",
       "4   [DEV] Pengecekan dan Penyesuaian hasil seleksi...   \n",
       "6   Pengecekan File Ajuan Pendaftaran di Operator ...   \n",
       "..                                                ...   \n",
       "11  Reset daftar Ajuan Pendaftaran Gabungan zona Demo   \n",
       "8                   Override Engine Seleksi Kota Batu   \n",
       "5      Dokumen SPH PPDB Online Kota Palangkaraya 2023   \n",
       "17  Override Info Dari Formatter Kapasitas Jika Ya...   \n",
       "6                Konfirmasi daerah 3 Kota/Kab di TR I   \n",
       "\n",
       "                                            subject_p  cluster  \n",
       "8   closing engine jalur zonasi kategori umum tahap 1        8  \n",
       "6   kendala siswa masih bisa langsung pengajuan pe...        6  \n",
       "8                closing engine sma all jalur tahap 1        8  \n",
       "4   dev pengecekan dan penyesuaian hasil seleksi j...        4  \n",
       "6   pengecekan file ajuan pendaftaran di operator ...        6  \n",
       "..                                                ...      ...  \n",
       "11  reset daftar ajuan pendaftaran gabungan zona demo       11  \n",
       "8                            override engine seleksi         8  \n",
       "5                                 dokumen sph online         5  \n",
       "17  override info dari formatter kapasitas jika ya...       17  \n",
       "6                         konfirmasi daerah 3 di tr i        6  \n",
       "\n",
       "[2036 rows x 3 columns]"
      ]
     },
     "execution_count": 50,
     "metadata": {},
     "output_type": "execute_result"
    }
   ],
   "source": [
    "output = { 'subject': list(data_subj.values),'subject_p': list(data.values), 'cluster': clusters }\n",
    "\n",
    "data_hsl = pd.DataFrame(output, index = [clusters] , columns = ['subject','subject_p','cluster'])\n",
    "data_hsl"
   ]
  },
  {
   "cell_type": "code",
   "execution_count": 51,
   "id": "95c94f15-d9b8-49ca-a121-eb1e199c66cf",
   "metadata": {},
   "outputs": [
    {
     "data": {
      "text/plain": [
       "cluster\n",
       "17    477\n",
       "0     163\n",
       "6     158\n",
       "12    134\n",
       "1     128\n",
       "10    125\n",
       "5     116\n",
       "16    109\n",
       "7      81\n",
       "4      73\n",
       "15     69\n",
       "9      61\n",
       "14     54\n",
       "11     50\n",
       "2      50\n",
       "3      47\n",
       "19     40\n",
       "8      39\n",
       "18     31\n",
       "13     31\n",
       "Name: count, dtype: int64"
      ]
     },
     "execution_count": 51,
     "metadata": {},
     "output_type": "execute_result"
    }
   ],
   "source": [
    "data_hsl['cluster'].value_counts() #number of article per cluster (clusters from 0 to 4)"
   ]
  },
  {
   "cell_type": "markdown",
   "id": "08d5ad0f-271b-4877-8f09-01c0ea944a2d",
   "metadata": {},
   "source": [
    "ALTERNATIF LAIN UNTUK MENAMPILKAN TOPIC DAN SUBJECT TIAP CLUSTER\n",
    "\n",
    "from __future__ import print_function\n",
    "\n",
    "print(\"Top terms per cluster:\")\n",
    "print()\n",
    "#sort cluster centers by proximity to centroid\n",
    "order_centroids = km.cluster_centers_.argsort()[:, ::-1] \n",
    "\n",
    "for i in range(num_clusters):\n",
    "    print(\"Cluster %d topics:\" % i, end='')\n",
    "    \n",
    "    for ind in order_centroids[i, :4]: #replace 6 with n words per cluster\n",
    "        print(' %s' % vocab_frame.loc[terms[ind].split(' ')].values.tolist()[0][0].encode('utf-8', 'ignore'), end=',')\n",
    "    print() #add whitespace\n",
    "    print() #add whitespace\n",
    "    \n",
    "    print(\"Cluster %d subject:\" % i, end='')\n",
    "    for title in data_hsl.loc[i]['subject_p'].values.tolist():\n",
    "        print(' %s,' % title, end='')\n",
    "    print() #add whitespace\n",
    "    print() #add whitespace\n",
    "    \n",
    "print()\n",
    "print()"
   ]
  },
  {
   "cell_type": "code",
   "execution_count": 54,
   "id": "50a5aba0-41f5-4102-8531-4cfdb4c03500",
   "metadata": {},
   "outputs": [
    {
     "name": "stdout",
     "output_type": "stream",
     "text": [
      "Top terms per cluster:\n",
      "\n",
      "Cluster 0 subject: deploy real insi ,  deploy real , proses deploy data, deploy riil , infra deploy riil , infra deploy riil , deploy data riil , deploy data riil , deploy riil , deploy riil , infra deploy riil , deploy riil data migrasi , deploy riil , deploy real , deploy real insi dki , st deploy real , st deploy real , st deploy real , st deploy real , st deploy real , infra deploy riil , infra deploy riil , infra deploy riil , infra deploy riil suumi , infra deploy real , infra deploy real , infra deploy real , st deploy real ,  di deploy real , database deploy riil ,  proses deploy data real , deploy real deploy data suumi , deploy real proses deploy data ,  proses deploy data real ,  proses deploy data real , deploy real proses deploy data , deploy riil , deploy riil , deploy riil , deploy riil suumi ,  proses deploy data real , deploy riil , deploy riil , deploy riil , deploy real data , deploy real , deploy real data ,  data deploy real , deploy riil , deploy riil , deploy riil , deploy riil , deploy riil ,  deploy real , deploy real , deploy riil , deploy real insi , infrastruktur deploy real , database deploy real , infrastruktur deploy real , deploy real banjarmasin , deploy real , deploy real , deploy real madrasah dki ,  deploy real ,  deploy real ,  deploy real , deploy real jateng ,  deploy real , setup aplikasi pasca deploy riil,  deploy real , st deploy real , infra deploy riil , infra deploy riil , database deploy riil ,  deploy real ,  deploy real , deploy riil , deploy riil , deploy riil , deploy real , st deploy real insi , deploy server , proses deploy riil data , proses deploy riil data , deploy riil , deploy riil , database deploy riil , database deploy riil , deploy real , infra deploy riil , infra deploy riil , infra deploy riil , deploy riil , deploy riil , deploy riil , infra deploy riil di , infra deploy real padang sidimpuan ,  di proses deploy data real , dla deploy data , deploy riil di , deploy real padang sidimpuan ,  deploy real smp , deploy riil , deploy real jateng , deploy real , database deploy riil , deploy real , st deploy real , infra deploy riil , deploy riil , deploy riil , infra deploy riil cabdin , infra deploy riil , infra deploy riil , st cabdin deploy real cabdin kutim , infra deploy riil , deploy real cabdin kutim , deploy riil cabdin , deploy riil ,  proses deploy data real smp ,  deploy real cabdin , deploy riil , deploy riil cabdin , deploy real proses deploy data , deploy riil , deploy riil , st deploy real banjarmasin , deploy real proses deploy data banjarmasin , deploy riil banjarmasin , st deploy real , deploy riil ,  proses deploy data real ,  cabdin proses deploy data real cabdin , infra deploy riil , st deploy real , st deploy real , st cabdin deploy real cabdin , deploy riil , deploy riil , deploy riil cabdin , deploy data proses , deploy riil , infra deploy real , deploy data riil , deploy riil , infra deploy real insi dki , deploy riil dki , database proses deploy real , st infrastruktur deploy real , infra deploy real , proses deploy real , aplikasi deploy real , deploy riil , deploy riil , deploy real madrasah dki ,  deploy real , deploy data riil madrasah dki , deploy riil madrasah dki , infra deploy real , dla deploy data , deploy riil , aplikasi deploy real ,\n",
      "\n",
      "Cluster 1 subject: up situs publik , infra up situs publik , up situs publik , up situs publik , infra up situs publik , infra up situs publik , up situs publik , up situs publik , st up situs publik riil , st up situs publik , st up situs publik riil , st up situs publik riil , st up situs publik riil , st up situs publik , st up situs publik , up situs publik suumi , up situs publik , up situs publik , up situs publik upaten , up situs publik , up situs publik, up situs publik, up situs publik , up situs publik insi , banner situs publik online , infrastruktur up situs publik , aplikasi up situs publik , infrastruktur up situs publik , up situs publik , up situs publik , up situs publik banjarmasin , up situs publik , up situs publik madrasah dki , up situs publik dinas dki , situs publik ubah foto pada header situs publik,  up situs publik riil ,  up situs publik riil ,  up situs publik riil , up situs publik riil jateng ,  up situs publik riil ,  cek up situs publik riil , up situs publik , up situs publik , up situs publik , up situs publik , up situs publik , st up situs publik , st kapapan up situs publik riil , st up situs publik riil , infra up situs publik , up situs publik , up situs publik kapapan , up situs publik , up situs publik , infra up situs publik , infra up situs publik , infra up situs publik insi , up situs publik , up situs publik insi , infra up situs publik , up situs publik , up situs publik , infra up situs publik , infra up situs publik suumi , up situs publik , up situs publik upaten , up situs publik suumi , up situs publik di , infra up situs publik , infra up situs publik upaten , st up situs publik riil , up situs publik sma smk , infra up situs publik cabdin kutim , infra up situs publik , up situs publik , up situs publik cabdin kutim , up situs publik cabdin , up situs publik , up situs publik , st up situs publik , infra up situs publik , infra up situs publik , infra up situs publik upaten , infra up situs publik , infra up situs publik di , up situs publik , up situs publik , up situs publik , up situs publik , up situs publik , up situs publik di , up situs publik , st up situs publik , up situs publik ,  tampilan situs publik , infra up situs publik jateng ,  tampilan situs publik , up situs publik upaten ,  tampilan situs publik , st up situs publik , st up situs publik upaten , up situs publik jateng , up situs publik , dev tampilan situs publik , up situs publik , infra up situs publik , infra up situs publik banjarmasin , up situs publik banjarmasin , up situs publik , infra up situs publik , dev up situs publik , infra up situs publik riil , up situs publik , st up situs publik , dev up situs publik , infra up situs publik dki , infrastruktur up situs publik , dev up situs publik , infra up situs publik riil , dev up situs publik riil , dev up situs publik dki , up situs publik madrasah dki , st up situs publik riil , up situs publik madrasah dk , up situs publik , pic up situs publik riil , dev up situs publik , aplikasi up situs publik ,\n",
      "\n",
      "Cluster 2 subject: dev buka blokir nik siswa yang sudah diterima sekolah ke 6, proses blokir dan buka blokir nik bina lingkungan ke 6, buka blokir nik siswa yang sudah diterima sekolah ke 5, update sekolah peserta zona riil, migrasi data sekolah peserta dari demo ke real, batal blokir nik siswa bl ke 2, buka blokir nik siswa yang sudah diterima sekolah, merubah nik data sidanira ke 2, blokir nik siswa yang sudah diterima sekolah, merubah nik data sidanira, menghapus nik peserta, merubah nik peserta, update lokasi sekolah peserta smp, buka blokir nik, merubah nik data sidanira ke 3, override penyesuaia pencarian nik , override penyesuaian lokasi menu cek nik, override fitur pencarian nik , proses update sekolah peserta zona riil, dev buka blokir nik siswa yang sudah diterima sekolah ke 4, dev buka blokir nik siswa yang sudah diterima sekolah ke 3, proses sinkronisasi sekolah peserta jenjang sd update alamat sekolah, proses sinkron sekolah peserta,  penyesuaian redaksi jika data nik tidak ditemukan, dev penyesuaian redaksi jika data nik tidak ditemukan, dev buka blokir nik siswa yang sudah diterima sekolah ke 2, dev buka blokir nik siswa yang sudah diterima sekolah, proses blokir dan buka blokir nik bina lingkungan ke 5, proses blokir dan buka blokir nik bina lingkungan ke 4, proses sinkron sekolah peserta demo ke real, proses blokir dan buka blokir nik bina lingkungan ke 3, dev update data nik melalui api push sidanira, proses merubah nik data sidanira ke 4, proses batal blokir nik siswa bl ke 2, proses merubah nik data sidanira, nik yang sudah mengajukan akun, blokir siswa yang sudah diterima sekolah, proses migrasi data blokir nik bina lingkungan ke 2, proses batal blokir nik siswa bl, proses merubah nik data sidanira, proses blokir nik bina lingkungan , dev penyesuaia pencarian nik , merubah nik peserta, dev pindah lokasi menu cek nik, proses menghapus nik peserta, dev penyesuaian pengecekan nik untuk siswa prapendaftaran, deploy sekolah peserta dari demo ke riil, proses sinkron lokasi sekolah peserta smp, frontend fitur pencarian nik , bakckend pencarian fitur pencarian nik ,\n",
      "\n",
      "Cluster 3 subject: proses data migrasi susulan 4, migrasi data susulan 1, migrasi peserta cat susulan ke 2, proses migrasi data susulan 3, migrasi data dnt susulan 2, proses migrasi peserta cat susulan ke 2, proses migrasi data susulan, proses migrasi data susulan 2, migrasi peserta cat susulan, proses migrasi peserta cat susulan, proses migrasi data susulan 2, migrasi data dnt susulan ke 1, proses migrasi data dnt susulan 1, proses migrasi data susulan, migrasi data dnt susulan ke 1, proses migrasi data susulan, proses migrasi tambah data baru dan update data anak gtk susulan 3, migrasi data susulan nilai prestasi, data susulan siswa ke 4, migrasi master data siswa susulan 3, migrasi master data siswa susulan 4, migrasi master data siswa susulan 1, migrasi master data siswa susulan 2, data susulan siswa ke 1, data susulan siswa ke 2, migrasi data siswa miskin dtks susulan 2, migrasi status data siswa anak panti asuhan susulan 2, migrasi data siswa miskin dtks susulan 1, migrasi tambah data dan hapus data anak gtk susulan 1, migrasi dan hapus status data siswa anak panti asuhan susulan 1, migrasi tambah data baru dan update data anak gtk susulan 2, proses migrasi data susulan siswa ke 4, proses migrasi status data siswa anak panti asuhan susulan 2, migrasi data siswa miskin dtks susulan 2, proses migrasi data susulan siswa ke 3, proses migrasi data susulan siswa ke 2, proses migrasi data susulan siswa ke 1, migrasi master data siswa susulan 7, migrasi master data siswa susulan 6, migrasi master data siswa susulan 5, migrasi master data siswa susulan 3, migrasi master data siswa susulan 4, migrasi master data siswa susulan 2, migrasi master data siswa susulan 1, migrasi data siswa miskin dtks susulan 1, migrasi tambah data dan hapus data anak gtk susulan 1, migrasi dan hapus status data siswa anak panti asuhan susulan 1,\n",
      "\n",
      "Cluster 4 subject: dev pengecekan dan penyesuaian hasil seleksi jalur reguler, dev menampilkan alamat ajuan pada detail siswa pendaftaran, data siswa tidak ditemukan pada situs publik,  penyesuaian akses pada koreksi data induk, dev menampilkan alamat ajuan pada laporan pendaftaran , dev data siswa tidak ditemukan pada situs publik,  tambah overide perhitungan n gabungan pada menu koreksi pendataan, dev penyesuaian tikor pada pencarian agar sama dengan alamat siswa, dev penyesuaian link online pada situs demo , dev hilangkan icon seleksi pada pencarian siswa di situs publik, dev tambah overide perhitungan n gabungan pada menu koreksi pendataan,  req update data domisili siswa berdasarkan data dukcapil terupdate, dev req update data domisili siswa berdasarkan data dukcapil terupdate, dev tanggal lahir siswa hilang pada menu hasil seleksi, dev backend tambah atribut alamat dan tikor pada modul koreksi data induk, dev frontend tambah atribut alamat dan tikor pada modul koreksi data induk, override hide info pilihan diterima pada laman data siswa pendaftar, proses migrasi dan replace alamat siswa rusunawa ke 2, scroll bar pada hasil seleksi, dev hide info pilihan diterima pada laman data siswa pendaftar, dev normalisasi data siswa, dev penyesuaian akses pada koreksi data induk, data peserta tidak muncul pada hasil seleksi,  input data siswa pendataan tidak berhasil,  penyesuaian kolom alamat siswa pada kondisi siswa dnt,  overide kolom input alamat siswa , pilihan sekolah diurutkan dari yang jaraknya paling dekat pada form ajuan, migrasi dan replace alamat siswa rusunawa , data kejuaraan belum muncul pada dasbor siswa dan keterangan operator sekolah tidak sesuai, tambah atribut data pada fitur koreksi data induk siswa, tambahkan informasi data siswa pada dasbor siswa, hilangkan form isian tanggal lahir dan validasinya pada fitur pencarian siswa, fitur pencarian data siswa upaten , penyesuaian alur penyimpanan data alamat ke pendaftaran, dev backend data kejuaraan belum muncul pada dasbor siswa dan keterangan operator sekolah tidak sesuai, dev backend data kejuaraan belum muncul pada dasbor siswa dan keterangan operator sekolah tidak sesuai,  hasil koreksi data induk siswa tidak terupdate, dev hasil koreksi data induk siswa tidak terupdate, dev scroll bar pada hasil seleksi,  req fitur ubah data pada koreksi data induk, dev frontend tambah atribut data pada fitur koreksi data induk siswa, dev backend tambah atribut data pada fitur koreksi data induk siswa,  input data siswa pendataan tidak berhasil, dev frontend tambahkan informasi data siswa pada dasbor siswa, dev backend tambahkan informasi data siswa pada dasbor siswa, dev frontend penyesuaian isian alamat pada form ajuan, dev frontend penambahan input alamat siswa pada modul koreksi data induk, dev backend penyesuaian isian alamat pada form ajuan, dev backend penambahan input alamat siswa pada modul koreksi data induk, dev backend overide kolom input alamat siswa , dev merubah label alamat pada jalur pto,  penyesuaian kolom info alamat pada form ajuan akun siswa, dev backend hilangkan form isian tanggal lahir dan validasinya pada fitur pencarian siswa, dev frontend overide kolom input alamat siswa , dev frontend hilangkan form isian tanggal lahir dan validasinya pada fitur pencarian siswa, dev sequence nomor pengganti tidak sinkron dengan data pada siswa, dev backend penyesuaian kolom info alamat pada form ajuan akun siswa, dev frontend penyesuaian kolom info alamat pada form ajuan akun siswa, dev pilihan sekolah diurutkan dari yang jaraknya paling dekat pada form ajuan, dev frontend form setting mfa, penyesuaian alur evaluasi data alamat dari pendaftaran, frontendpenyesuaian alur penyimpanan data alamat ke pendaftaran, backendpenyesuaian alur penyimpanan data alamat ke pendaftaran, dev backend tambah form opsi untuk mengaktifkan mfa di daerah pelaksana, dev backend form setting mfa, dev frontend tambah form opsi untuk mengaktifkan mfa di daerah pelaksana, proses migrasi dan replace alamat siswa rusunawa , dev data peserta tidak muncul pada hasil seleksi, dev frontend fitur pencarian data siswa, dev backend fitur pencarian data siswa, frontend penyesuaian input npsn terhadap pilihan status siswa , sinkronisasi struktur database penambahan alamat daftar, sinkronisasi struktur database penambahan alamat daftar,\n",
      "\n",
      "Cluster 5 subject: pengiriman sph awal online tambahan tahun , review dokumen sph awal online , pengiriman sph nego online tahun , pengiriman sph nego online smp tahun , pengiriman sph nego online sd tahun , pengiriman sph nego online tahun , review dokumen sph awal online smp , emailing sph awal online insi , pengiriman sph nego online upaten jenjang sd tahun , pengiriman sph nego online tahun jenjang tk, pengiriman sph nego online tahun jenjang sd, pengiriman sph nego online tahun jenjang smp, pengiriman sph nego online upaten tahun , pengiriman sph nego online tahun , pengiriman sph nego online tahun , pengiriman sph awal online upaten jenjang smp tahun , pengiriman sph awal online upaten jenjang sd tahun , pengiriman sph nego online upaten tahun , pengiriman soft dokumen sph nego online tahun , pengiriman sph awal online insi smk swasta tahun , emailing sph awal online insi , pengiriman soft dokumen sph nego online tahun , pengiriman sph awal online tahun , pengiriman soft dokumen sph awal online , pengiriman sph awal online insi tahun , pengiriman sph nego online tahun , pengiriman sph nego online tahun , nomor surat sph nego online , dokumen sph online cabang dinas 9 tahun , pembuatan sph awal online , pengiriman sph nego online tahun , pengiriman soft dokumen sph awal online , pengiriman sph nego online palangka raya tahun , pengiriman soft dokumen sph nego online tahun , pengiriman sph nego online tahun , pengiriman soft dokumen sph nego online tahun , nomor surat sph nego online upaten , pembuatan sph awal online insi , emailing sph awal online insi tahun , emailing sph awal online insi , pengiriman sph awal online sd tahun , pengiriman sph awal online smp tahun , pengiriman sph awal online tahun , review sph awal online upaten , pengiriman sph awal online cabdin insi kalimantan timur tahun , pengiriman sph awal online insi tahun , pengiriman sph awal online upaten tahun , pengiriman scan dokumen sph awal online , pengiriman scan dokumen sph awal online , pengiriman soft dokumen sph awal online , pengiriman soft dokumen sph awal online , pengiriman soft dokumen sph awal online , pengiriman sph awal online upaten tahun , review sph awal online upaten , nomor surat sph awal online upaten kulonprogo , pengiriman sph awal online tahun , pengiriman sph awal online palangka raya tahun , pengiriman scan dokumen sph awal online , pengiriman sph awal online tahun , pengiriman sph awal online upaten tahun , pembuatan sph awal online insi , review sph awal online upaten , pengiriman scan dokumen sph awal online , nomor sph awal online , review dokumen sph awal online , nomor sph awal online , pengiriman sph awal online tahun , nomor surat sph awal online madrasah dki jenjang mtsn, nomor surat sph awal online madrasah dki jenjang man, pengiriman sph awal online tahun , sign dokumen sph awal online tahun , pengiriman sph awal online banjarmasin tahun , permintaan pembuatan nomor sph awal online insi , nomor sph awal online banjarmasin , nomor sph awal online jenjang tk, nomor sph awal online jenjang sd, nomor sph awal online jenjang smp, pengiriman scan dokumen sph awal online tahun , pengiriman scan dokumen sph awal online tahun , pengiriman sph awal online insi tahun , pengiriman scan dokumen sph awal online tahun , nomor sph awal menindaklanjuti email permintaan sph tanggal 6 mei dari business solution support pt metranet untuk untuk pekerjaan sewa aplikasi online tahun pelajaran 2025 kantor wilayah kemenag insi dki jenjang mtsn, tandatangan sph awal online madrasah dki jenjang min, nomor surat sph awal online madrasah dki jenjang min, review sph awal online madrasah dki jenjang min, pengiriman sph awal online tahun , pengiriman revisi sph awal online tahun , revisi sph awal online jenjang tk, revisi sph awal online jenjang smp, revisi sph awal online jenjang sd, nomor sph awal id paket lplp24049041985 melalui mekanisme pengadaan epurchasing untuk pekerjaan sewa layanan online ta , pengiriman sph awal online tahun jenjang tk, pengiriman sph awal online tahun jenjang sd, pengiriman sph awal online tahun jenjang smp, nomor sph nego id paket lplp24049104536 melalui mekanisme pengadaan epurchasing untuk pekerjaan pengadaan layanan online ta , nomor sph nego surat pesanan nomor 02701ppksp422101 tanggal 1 april melalui mekanisme penunjukan langsung untuk pekerjaan pengadaan layanan online ta , nomor sph nego id lplp24049156389 melalui mekanisme pengadaan epurchasing untuk pekerjaan pengadaan layanan online ta , nomor sph nego id paket lplp24049064350 melalui mekanisme pengadaan e purchasing untuk pekerjaan pengadaan layanan online ta , nomor sph awal id paket lplp24049095279 melalui mekanisme pengadaan e purchasing untuk pekerjaan pengadaan layanan online jenjang sd ta , nomor sph awal id paket lplp24059192062 melalui mekanisme pengadaan e purchasing untuk pekerjaan pengadaan layanan online jenjang tk ta , nomor sph awal id paket lplp24049156180 melalui mekanisme pengadaan e purchasing untuk pekerjaan pengadaan layanan online jenjang smp ta , nomor sph awal spk dengan nomor b4166kw092ks01204 melalui mekanisme pengadaan langsung untuk pekerjaan sewa aplikasi online pengadaan online tingkat madrasah ibtidaiyah negeri tahun pelajaran 2025 kantor wilayah kemenag i, nomor sph nego id paket lplp24049102457 melalui mekanisme pengadaan epurchasing untuk pekerjaan pengadaan layanan online ta , permintaan pembuatan nomor sph awal online , pengiriman sph awal online tahun , nomor surat sph awal online upaten , pengiriman sph awal online tahun , nomor surat sph awal online , nomor sph awal id lplp24049156389 melalui mekanisme pengadaan epurchasing untuk pekerjaan pengadaan layanan online ta , permintaan pembuatan nomor sph awal online , nomor sph awal surat pesanan nomor 02701ppksp422101 tanggal 1 april melalui mekanisme penunjukan langsung untuk pekerjaan pengadaan layanan online ta , nomor surat sph awal online upaten , nomor sph awal id paket lplp24049102457 melalui mekanisme pengadaan epurchasing untuk pekerjaan pengadaan layanan online ta , nomor sph awal id paket lplp24049104536 melalui mekanisme pengadaan epurchasing untuk pekerjaan pengadaan layanan online ta , nomor sph awal id paket lplp24049064350 melalui mekanisme pengadaan e purchasing untuk pekerjaan pengadaan layanan online ta , dokumen sph online ,\n",
      "\n",
      "Cluster 6 subject: kendala siswa masih bisa langsung pengajuan pendaftaran di 2 jenjang sekaligus, pengecekan file ajuan pendaftaran di operator tidak terbuka, dev siswa masih bisa langsung pengajuan pendaftaran di 2 jenjang sekaligus, dev perubahan label informasi pada peringatan tidak bisa lanjut diterima sementara pengajuan di situs publik,  siswa tidak bisa lanjut pendaftaran karena peta error, dev hide informasi tanggal kedatangan siswa dan ortu di dasbor siswa, kendala informasi alamat tidak sama antara detail siswa dengan bukti cetak pengajuan, check kondisi maps menempel pada jalur bukan pada siswa di jalur zonasi dan jalur perpindahan, test case data siswa pendaftaran di zonasi dan perpindahan, dev data siswa beda alamat di jalur zonasi dan perpindahan, dev ada pilihan sekolah tidak muncul pada pendaftaran sma prestasi siswa sipenda, dev informasi alamat tidak sama antara detail siswa dengan bukti cetak pengajuan, dev menampilkan data siswa di pendaftaran kedua dari data di pendaftaran pertama, dev permintaan data siswa sudah batal verifikasi pendaftaran gabungan sma zonasi dan smk reguler yang dapat tambahan 100 di pendaftaran kedua, kendala koreksi pendaftaran pada jalur zonasi untuk koreksi koordinat tidak jalan di production, dev koreksi pendaftaran pada jalur zonasi untuk koreksi koordinat tidak jalan di production, pengecekan peserta pada daftar ajuan pendaftaran tidak ada, dev pengecekan peserta pada daftar ajuan pendaftaran tidak ada, dev redaksi jadwal pendaftaran di situs publik, siswa bisa mendaftar walaupun sudah di terima, dev siswa bisa mendaftar walaupun sudah di terima, menghapus waktu pendaftaran pada detil siswa, dev menghapus waktu pendaftaran pada detil siswa, dev set kp ke pendaftaran pertama dan abaikan jika tidak valid, dev koreksi pendaftaran gagal cetak bukti koreksi pendaftarannya, menghapus riwayat pendaftaran seblumnya, dev frontend kelompok pilihan jalur 0 pada bukti cetak dan pencarian siswa, dev backend kelompok pilihan jalur 0 pada bukti cetak dan pencarian siswa, pilihan afirmasi tidak muncul di tanda bukti pengajuan pendaftaran, filter menurut jam ajuan pendaftaran pada laporan ajuan pendaftaran, dev filter menurut jam ajuan pendaftaran pada laporan ajuan pendaftaran, dev menghapus riwayat pendaftaran seblumnya, dev koreksi pendaftaran gabungan nilai yang dikoreksi tidak bisa terupdate, dev siswa lulusan luar tetapi domisili dalam tidak bisa mengajukan pendaftaran , dev tanggal kedatangan siswa di set tidak ada kedatangan tetapi tidak terset default 22 juni 2022, proses perbaikan siswa hasil migrasi tidak muncul di pencarian sistem, pengembangan bi pengajuan akun dan pendaftaran jateng, dev backend tampilan info cat di mts dan ma reguler, dev frontend tampilan info cat di mts dan ma reguler,  ngabungan sma afirmasi tidak susuai antara cetak dan seleksi, dev backend pilihan afirmasi tidak muncul di tanda bukti pengajuan pendaftaran, nisn 0094103525 dan 0092591939 tidak dapat tambahan 100 di pendaftaran pertama, override terkait akreditas sekolah asal saat pengajuan pendaftaran smk semua jalur, dev sembunyikan jalur smk prestasi di situs publik, dev terkait akreditas sekolah asal saat pengajuan pendaftaran smk semua jalur, konfirmasi daerah 2 di tr ii, override penyesuaian label pilihan jenis lulusan di form pendaftaran,  step cek data pendaftaran siswa tidak muncul, dev step cek data pendaftaran siswa tidak muncul di , devtampilan maps pada halaman konfirmasi pengajuan pendaftaran masih menampilkan peta osm,  penyesuaian redaksional pada cetak bukti ajuan pendaftaran di semua jalur, pengecekan info pengajuan pendaftaran berbeda dgn ajuan pendaftarannya, pengecekan perbedaan alamat siswa di web dengan di tanda bukti cetak pendaftaran, siswa sudah melakukan pendaftaran namun datanya tidak ditemukan, dev tambah atribut pada cetak bukti pemberian nilai tambahan di afirmasi sma dan smk, penyesuaian aturan pendaftaran siswa jalur tahfidz dengan zonasi, gagal melanjutkan proses pendaftaran utk 1 pilihan sekolah di jalur prestasi akademik non akademik, override pembatasan pengajuan pendaftaran di jalur prestasi,  siswa luar daerah tidak bisa ajukan pendaftaran, munculkan semua jalur pendaftaran pada situs publik arsip ppbd , gagal ijin koreksi pendaftaran jalur zonasi, mematikan ovveride auto ape siswa pra pendaftaran, peta dan tikor tidak tampil di menu koreksi sekolah,  siswa dnt tanpa migrasi nilai tidak bisa diverifikasi saat ajuan pendaftaran jalur prestasi, siswa pendataan jalur prestasi dengan jenis asal sekolah lulusan tidak bisa lanjut ke step berikutnya, kendala siswa pengajuan lebih dari 1 jalur sudah berhasil tapi tidak ada datanya pada saat akan diverifkasi, override menghilangkan informasi waktu pengajuan dan waktu pendaftaran di detail siswa, asal sekolah tidak muncul di situs publik, pengecekan pengisian alamat siswa saat pendaftaran jalur pto, hide alamat di detail siswa di jalur bibit unggul, override penyesuaian cetak pendaftaran dan verifikasi, penyesuaan cetak pendataan prestasi siswa, cetak prestasi tidak muncul, menyembunyikan informasi disabilitas di detail siswa, override menyembunyikan nilai di cetak pendaftaran, tampilan peta pada tahap konfirmasi dan dokumen cetak siswa masih menggunakan osm, hide informasi status verifikasi dukcapil di dasbor siswa, nama siswa saat pendaftaran jadi auto translate, ubah label tanggal cetak kk menjadi tanggal kedatangan siswa, operator yang sudah berhasil ditambahkan menjadi operator online tidak muncul saat di cari di toolssiapid, tambah informasi konfirmasi status siswa di dokumen kk dan potensi minat bakat, disable pilihan insi kecamatan dan kelurahan pada ajuan pendaftaran siswa, disable ubah tanggal cetak kartu kk di modul koreksi verifikasi akun siswa, pengajuan pendaftaran siswa gagal dan muncul notif parameter tanggal prestasi tidak valid, memunculkan mapel rapor pjok dan seni budaya pada cetak pengajuan akun , siswa mendaftar di jalur prestasi luar tidak bisa di verifikasi di jalur zonasi, dev penyesuaian redaksional pada cetak bukti ajuan pendaftaran di semua jalur, dev nisn 0094103525 dan 0092591939 tidak dapat tambahan 100 di pendaftaran pertama, dev frontend detail nilai rapor di konfirmasi data pendaftaran tidak muncul, proses perbaikan perbedaan alamat siswa di web dengan di tanda bukti cetak pendaftaran, hapus ajuan pendaftaran siawa , dev pengecekan perbedaan alamat siswa di web dengan di tanda bukti cetak pendaftaran, dev siswa luar daerah tidak bisa ajukan pendaftaran, dev tampilan peta pada tahap konfirmasi dan dokumen cetak siswa masih menggunakan osm, dev frontend halaman data zonasi sekolah di situs publik, dev penyesuaian aturan pendaftaran jalur tahfiz dan zonasi, dev gagal melanjutkan proses pendaftaran utk 1 pilihan sekolah di jalur prestasi akademik non akademik, dev hapus ajuan pendaftaran siawa , dev backend validasi saat pengajuan pendaftaran jalur prestasi bagi siswa pendataan, dev batasan pengajuan pendaftaran di jalur prestasi, devfrontend bukti cetak pengajuan pendaftaran yang pakai maps tidak muncul, dev hide alamat di detail siswa di jalur bibit unggul, dev hide informasi status verifikasi dukcapil di dasbor siswa, dev mekanisme jalur zonasi untuk kategori siswa calon pendaftar zonasi saat pengajuan di situs publik, dev ubah atribut kemunculan dokumen yang diunggah saat pengajuan pendaftaran sesuai dengan kategori siswa calon pendaftar zonasi, dev backend menyembunyikan informasi nama ibu di situs publik , dev nama siswa saat pendaftaran jadi auto translate, dev frontend ubah label tanggal cetak kk menjadi tanggal kedatangan siswa, dev label pilihan sekolah 1 dan 2 pada peta tidak sesuai, dev backend tambah variabel jenis peta pada cetak pendaftaran gabungan, dev frontend titik koordinat peta pilihan sekolah tidak muncul pada bukti cetak, peta tidak muncul pada verfikasi sd zonasi, dev penyesuaian cetak pendaftaran dan verifikasi, dev ubah tampilkan info status verifikasi di detil siswa, dev penyesuaian modul batal pendaftaran di situs operator, dev pengecekan siswa mendaftar pto tidak muncul pada ajuan pendaftaran, dev penyesuaan cetak pendataan prestasi siswa, dev tidak bisa melakukan pendataan siswa, dev sekolah pilihan 2 tidak bisa verval pendaftaran karena ada pendaftar di sekolah pilihan 1 belum di verval, prosespengecekan data ajuan di sma dan smk jalur prestasi , dev batal pendaftaran siswa salah pilih zonasi sd, dev frontend tambah informasi konfirmasi status siswa di dokumen kk dan potensi minat bakat, dev backend tambah informasi konfirmasi status siswa di dokumen kk dan potensi minat bakat, dev disable pilihan insi kecamatan dan kelurahan pada ajuan pendaftaran siswa, dev backend cetak prestasi tidak muncul, dev disable pilihan insi kecamatan dan kelurahan pada ajuan pendaftaran siswa, dev fix tanggal cetak kk disabled ketika ajuan, dev frontend disable ubah tanggal cetak kartu kk di modul koreksi verifikasi akun siswa, devpengecekan syarat pendaftaran sma dan smk , dev disable ubah tanggal cetak kartu kk di modul koreksi verifikasi akun siswa, database proses nisn baru dari hasil pembetulan tidak bisa digunakan untuk pengajuan pendaftaran, override hapus informasi waktu pendaftaran pada butki cetak, dev kemunculan dokumen yang diunggah saat pengajuan pendaftaran sesuai dengan kategori siswa calon pendaftar zonasi, menghilangkan informasi sms di portal dan cetak berkas, dev gagal ijin koreksi pendaftaran jalur zonasi, dev kemunculan dokumen yang diunggah saat pengajuan pendaftaran sesuai dengan kategori prestasi yang dipilih, munculkan semua jalur pendaftaran pada situs publik ppbd , dev nonaktifkan override auto ape siswa pra pendaftaran, dev kendala koreksi sekolah peserta di operator demo, dev siswa bisa mengajukan pendaftaran di jalur zonasi jika tidak lapor diri, dev memunculkan mapel rapor pjok dan seni budaya pada cetak pengajuan akun , dev penyesuaian bukti cetak pengajuan pendaftaran dan bukti verifikasi jalur prestasi, dev menyembunyikan informasi disabilitas di detail siswa, database migrasi data siswa lulusan dan generate token guna ajuan di jalur zonasi, dev informasi kelompok pilihan jalur di bukti cetak pengajuan pendaftaran, backend informasi kelompok pilihan jalur di bukti cetak pengajuan pendaftaran, dev cetak pengajuan pendaftaran tidak muncul peta, dev bukti cetak jalur perpindahan tugas orang tua, frontend menyembunyikan informasi disabilitas di detail siswa, backend override menyembunyikan nilai di cetak pendaftaran, frontend hilangkan informasi na pada bukti cetak pendaftaran, dev ubah informasi dugaan data ganda di situs operator, dev error ketika koreksi pendaftaran gabungan, dev override label waktu pemberian titik maps di situs publik jalur zonasi, konfirmasi daerah 1 dan 1 di tr vi, konfirmasi daerah 1 dan 2 di tr v, backendbukti cetak penyesuaian bukti cetak set nilai tambah di jalur afirmasi, konfirmasi daerah 3 di tr i,\n",
      "\n",
      "Cluster 7 subject: override perubahan redaksi pendaftaran siswa database, database proses migrasi database tambahan batch 2, dev perubahan redaksi pendaftaran siswa database, menambah storage pada vm database slave, st menambah storage pada vm database slave, dev perubahan redaksi pendaftaran siswa database, penambahan space database 0619, database proses migrasi data siswa batch 3, database update master dukuh ke production, database proses migrasi tambahan batch 2, upgrade kapasitas database zona nusantara, database proses tambahan migrasi, tambah kapasitas hdd pada server database 0620, st tambah kapasitas hdd pada server database 0620, override perubahan redaksi pendaftaran siswa database, database migrasi database siswa lulusan sdmi batch 3, database perbaikan nisn batch 2, database migrasi database siswa calon pendaftaran batch 4, database proses migrasi database siswa lulusan sdmi sederajat , deploy server database, database proses perbaikan data nilai calon pendaftar , tambah kapasitas hdd pada server database 10212119, st tambah kapasitas hdd pada server database 10212119, database migrasi database calon siswa pendaftar, database proses migrasi batch 5, upgrade kapasitas database , database proses migrasi jenis asal sekolah lulusan pendaftar, st upgrade kapasitas database , database proses migrasi database siswa calon pendaftar jalur prestasi, database proses migrasi akreditasi asal sekolah sdmi , perbaikan nama siswa dalam database, scale up vm database master dki, database migrasi database batch 5, setup bi wilayah banjarmasin, database migrasi database batch 4, database proses migrasi batch 3 dan batch 4, database proses ketidaksesuaian migrasi database di bagian sekolah asal pendaftar, setup bi wilayah , setup bi wilayah , database update database, database proses pembetulan nisn sebab terk, dla setup bi , setup bi wilayah , setup bi wilayah , setup bi wilayah cabdin , penyesuaian database demo dan riil, proses penyesuaian database demo dan riil, database proses migrasi data pendaftar karena awalnya dianggap tanggal lahir tidak valid, database proses migrasi database calon pendaftar , database migrasi data siswa calon pendaftar batch 4, penyediaan user database readonly demo dan real, database migrasi data calon pendaftar batch 2, penyediaan user database readonly demo dan real, database migrasi data siswa calon pendaftar batch 3, setup bi , database migrasi data calon pendaftar batch 2, setup vm database zona , database migrasi data siswa calon pendaftar , database migrasi database siswa lulusan sdmi sederajat batch 2, setup bi dki , setup bi , database migrasi lulusan batch 2, database migrasi database siswa lulusan sdmi sederajat , up scale database zona 1 dan dki 11 mei , up scale database zona 1 dan dki 11 mei , dla setup bi , setup bi , database migrasi database siswa lulusan sdmi , setup database master nusantara, setup database slave nusantara, setup database master dki, setup database slave dki, setup monitoring database, setup bi tahun , setup koneksi database dbbackupsiapid, setup database slave all di aws, setup database slave all di oci, setup cdc database production dan demo, penyediaan vm oci untuk database slave all wilayah, restorasi database psbdbpublik dengan backup 9 mei , st penyediaan vm oci untuk database slave all wilayah,\n",
      "\n",
      "Cluster 8 subject: closing engine jalur zonasi kategori umum tahap 1, closing engine sma all jalur tahap 1, closing engine jalur zonasi khusus afirmasi zonasi reguler prestasi dan pto tahap 1, closing engine insi jalur zonasi afirmasi dan pto sma, closing engine di jalur zonasi radius afirmasi zonasi reguler prestasi dan pto tahap 1, closing engine jalur afirmasi tahap 1, closing engine upaten jalur zonasi dan pto tahap 1, closing engine jalur afirmasi dan prestasi tahap 1, closing engine dki gelombang 3, closing engine jalur afirmasi dan perpindahan tahap 1, dev reset engine jalur afirmasi, closing engine sd smp semua jalur, closing engine jalur zonasi tahap 1, closing engine banajrmasin jalur zonasi tahap 1, closing engine upaten jalur afirmasi tahap 1, closing engine dki gelombang 2, closing engine jalur prestasi tahap 1, gagal reset engine jalur prestasi hafiz quran, closing engine upaten all jalur tahap 1, closing engine jalur zonasi dan jalur perpindahan tahap 1, closing engine jalur zonasi tahap 1, closing engine jalur afirmasi dan jalur prestasi tahap 1, closing engine jalur all non zonasi tahap 1, closing engine jalur perpindahan jalur prestasi lomba jalur prestasi rapor tahap 1, closing engine jalur zonasi tahap 1, closing engine jalur afirmasi tahap 1, closing engine jalur afirmasi jalur prestasi jalur perpindahan tahap 1, closing engine jalur zonasi tahap 1, closing engine banajrmasin jalur afirmasi prestasi akademik dan prestasi non akademik tahap 1, closing engine jalur zonasi r1 afirmasi r2 perpindahan tugas r3 tahap 1, closing engine jalur prestasi r4,  close engine ,  close engine , closing engine sma smk semua jalur, closing engine cabdin sma smk jalur zonasireguler, closing engine cabdin sma smk jalur regulerzonasi tahap 2, closing engine smp jalur prestasi nus prestasi non akademik pto tahap 1, closing engine sd jalur z2 pto smp jalur z1 afirmasi gakin afirmasi ptk tahap 1, override engine seleksi ,\n",
      "\n",
      "Cluster 9 subject:  migrasi data lulusan asal sekolah sd , proses migrasi data siswa lulusan sd dan mi , proses migrasi data siswa lulusan suumi 2, migrasi data siswa lulusan insi 4,  migrasi data siswa lulusan insi 5, database proses pengecekan lulusan sd, proses migrasi biodata lulusan untuk kalteng , proses migrasi data siswa lulusan insi 5, proses migrasi data siswa lulusan insi 4, migrasi data siswa lulusan insi 3, migrasi data dnt lulusan ,  migrasi data siswa lulusan mi, migrasi data siswa lulusan insi 2, migrasi data siswa lulusan insi , migrasi data dnt lulusan sdmi , perbaikan data ke2 dnt lulusan sdmi , migrasi data dnt lulusan sdmi , perbaikan data dnt lulusan sdmi , migrasi data lulusan asal sekolah misd banjarmasin , migrasi data asal sekolah lulusan sd mi , migrasi data siswa lulusan sd , migrasi data siswa lulusan sd , cek migrasi data siswa lulusan sd , migrasi data lulusan sd data , proses migrasi data siswa domisil dalam lulusan sekolah luar , proses migrasi data siswa lulusan insi 3, proses migrasi 19 juni update nilai lulusan sdmi tahun , proses perbaikan data ke2 dnt lulusan sdmi , migrasi data dnt lulusan sdmi , proses migrasi data siswa lulusan insi 2, migrasi update data lulusan smp mts 13 juni , migrasi data lulusan smp mts invalid 9 juni , migrasi data tambahan lulusan mts , migrasi 12 juni tambahan data siswa dan nilai lulusan sdmi tahun , migrasi data dnt lulusan , proses migrasi data siswa lulusan suumi , proses perbaikan data dnt lulusan sdmi , migrasi perbaikan data lulusan 4 smpmts , migrasi tambahan data siswa dan nilai lulusan sdmi tahun , migrasi perbaikan data lulusan smp mts , proses perbaikan nisn siswa lulusan smp , migrasi data nilai lulusan sdmi tahun , migrasi data lulusan smp mts , deploy production data lulusan jateng , migrasi data siswa lulusan sdmi tahun , migrasi data lulusan smp mts , proses migrasi data dnt lulusan sdmi , proses perbaikan nisn siswa lulusan smp, migrasi data siswa lulusan sd , proses migrasi data siswa lulusan insi , proses migrasi data lulusan asal sekolah misd banjarmasin ,  proses migrasi data lulusan asal sekolah sd ,  proses migrasi data siswa lulusan mi, proses migrasi database siswa lulusan sdmi batch 3, proses deploy data lulusan, proses migrasi data siswa lulusan sd , proses migrasi data lulusan dki , migrasi data asal sekolah lulusan sd mi , deploy production data lulusan , proses migrasi data siswa lulusan sd , deploy data lulusan ,\n",
      "\n",
      "Cluster 10 subject: dev tanggal kartu keluarga berubah menjadi 6 september setelah dilakukan koreksi ajuan akun siswa, devkoreksi verifikasi akun untuk siswa status ptow saat disimpan muncul notif 50a20 parameter tanggal perpindahan tugas ortuwali tidak valid,  siswa tidak bisa disetujui ajuan akunnya,  req penyesuaian fitur verifikasi akun siswa , dev siswa tidak bisa disetujui ajuan akunnya , pemutakhiran data siswa sesuai atribut mengacu pada ajuan akun yang terakhir,  penyesuaian fitur verifikasi akun siswa ambil data api tapemdukcapil, dev nilai rata rata rapor saat pendaftaran berbeda dengan saat verifikasi ajuan akun, dev isi atribut nlain12 dari api tapem dukcapil di modul verifikasi akun siswa,  siswa pendataan tidak bisa ajuan akun,  nilai gabungan pada ajuan akun dan cetak ajuan akun tidak sesuai, gagal apal ajuan akun di smp zonasi, dev nilai rata rata rapo berbeda antara di verifikasi ajuan akun dengan di dasbor siswa, override update siswa yang dikunci titik koordinatnya saat ajuan pendaftaran gabungan, dev update siswa yang dikunci titik koordinatnya saat ajuan pendaftaran gabungan, override siswa dengan atribut siswanilainlain161 tidak bisa ubah titik koordinat saat ajuan pendaftaran gabungan,  req override ubah tikor siswa saat verval ajuan pendaftaran, dev siswa perpindahan masih nyantol data perpindahannya saat ajuan akun ulang dengan menggunakan domisili sesuai kk,  tidak bisa ajuan akun di jenjang smk,  tidak bisa ajuan akun,  penyiapan akun demo ajuan akun siswa, publik sudah diabtasi waktu ajuan akun dan pendaftarannya tapi tetap kelolosan, pengecekan siswa tidak bisa mengajukan akun ke 2, menghapus ajuan akun siswa prapendaftaran, mematikan validasi nik saat mengajukan akun, menambahkan nik pada validasi sidanira saat pengajuan akun, mematikan override penguncian pilihan insi saat ajuan akun min, menampilkan kem validasi data sidanira saat pengajuan akun, tahun lulus siswa namun saat ajuan akun munculnya ,  atribut tidak muncul saat ajuan akun,  hilangkan isian nik saat ajuan akun pada jenjang smk demo, normalisasi data ajuan siswa , pengecekan siswa tidak bisa mengajukan akun, ajuan akun siswa yang kedua masih nyantol data kejuaraan dari yang ajuan pertama, rata rata aktivitas apal ajuan akun persekolah, zonasi siswa saat ajuan pendaftaran terbaca dari zona 4, ajuan akun siswa ulang setelah di tolak tetap menampilkan unggahan dokumen kejuaraan, operator sekolah gagal verifikasi ajuan akun karena stuk di tombol verifikasi, sembunyikan informasi akreditasi sekolah asal pada halaman ajuan akun, siswa asal sekolah luar dan jenis lulusan lain lain setelah di tolak pengajuan akun tidak bisa ajuan akun kem, fitur koreksi verifikasi akun saat di simpan jumlah mapel rapor tersimpan nya menjadi 7 mapel dari 9 mapel, siswa non database setelah di tolak pengajuan akun tidak bisa ajuan akun kem , siswa belum ajuan akun tetapi muncul notif nisn sudah digunakan ajuan akun, status kepesertaan pip terbaca tidak pip saat siswa ajuan akun, take down notifikasi konfirmasi verifikasi ajuan akun siswa yang kurang dari 1 tahun, tambah atribut status dokumen kk saat verifikasi ajuan akun siswa, tambah atribut status dokumen kk pada filter kartu keluarga di modul daftar ajuan akun siswa, status siswa anak guru dijenjang smasmk tidak muncul saat ajuan akun siswa, tanggal cetak kk tidak bisa diklik saat ajuan akun , menampilkan atribut tanggal tanggal perpindahan tugas ortu untuk siswa ptow pada saat ajuan akun, menampilkan data verval dukcapil di modul detil siswa ajuan akun siswa, gagal ajuan akun dan muncul notifikasi perhatian 6505b parameter tanggal kedatangan ortu tidak valid, tambahkan atribut shdk kesesuaian nama ortu dan potensi minatbakat pada modul koreksi verifikasi akun siswa, loading tampilan halaman ajuan akun lama bisa sampai 10 detik , ajuan akun siswa stuck di tahap ke 2, jadikan mandatori isian saat verifikasi ajuan akun di operator, menampilkan maps pada cetak bukti ajuan akun, munculkan tombol verifikasi tolak batal verifikasi dan batal tolak di menu daftar ajuan akun, isian nilai saat verifikasi akun belum muncul di halaman operator saat melakukan verifikasi ajuan akun siswa, siswa non database luilusan saat ajuan akun gagal simpan ,  siswa pendataan tidak bisa ajuan akun,  fitur pick up ajuan akun siswa,  tambah mekanisme batal pickup ajuan akun siswa, dev backend ajuan akun siswa yang kedua masih nyantol data kejuaraan dari yang ajuan pertama, laporan rata rata aktivitas apal ajuan akun persekolah, dev hanya validasi ketika akan tolak verifikasi pada daftar ajuan akun, dev tampilkan info pada halaman verifikasi dan tolak ajuan akun, dev siswa pendataan tidak bisa ajuan akun, dev backend ajuan akun siswa ulang setelah di tolak tetap menampilkan unggahan dokumen kejuaraan, dev frontend fitur pick up ajuan akun siswa , dev backend fitur pick up ajuan akun siswa , dev sembunyikan informasi akreditasi sekolah asal pada halaman ajuan akun,  nilai gabungan pada ajuan akun dan cetak ajuan akun tidak sesuai, dev nilai gabungan pada ajuan akun dan cetak ajuan akun tidak sesuai,  status hub keluarga tidak muncul saat ajuan akun, dev fitur koreksi verifikasi akun saat di simpan jumlah mapel rapor tersimpan nya menjadi 7 mapel dari 9 mapel, perbaiki dashboard ajuan akun di bi, dev siswa non database setelah di tolak pengajuan akun tidak bisa ajuan akun kem ,  req override menampilkan atribut saat ajuan akun,  req tambah filter di halaman daftar ajuan akun siswa , dev siswa belum ajuan akun tetapi muncul notif nisn sudah digunakan ajuan akun,  req override menampilkan atribut saat ajuan akun,  req tambah filter di halaman daftar ajuan akun siswa ,  atribut saat pengajuan akun jalur afirmasi masih bisa diedit,  atribut saat pengajuan akun jalur zonasi masih bisa diedit, dev take down notifikasi konfirmasi verifikasi ajuan akun siswa yang kurang dari 1 tahun, dev backend tambah atribut status dokumen kk pada filter kartu keluarga di modul daftar ajuan akun siswa, dev frontend tambah atribut status dokumen kk pada filter kartu keluarga di modul daftar ajuan akun siswa, devbackend tambah atribut status dokumen kk saat verifikasi ajuan akun siswa, dev menampilkan data verval dukcapil di modul detil siswa ajuan akun siswa, dev menampilkan data verval dukcapil di modul detil siswa ajuan akun siswa, url ajuan masih belum sesuai, dev url ajuan masih belum sesuai, dev pengecekan siswa tidak bisa mengajukan akun ke 2, dev backend validasi nilai atribut tanggal perpindahan tugas ortu untuk siswa ptow pada ajuan akun, dev frontend menampilkan atribut tanggal tanggal perpindahan tugas ortu untuk siswa ptow pada saat ajuan akun, dev tambahkan atribut shdk kesesuaian nama ortu dan potensi minatbakat pada modul koreksi verifikasi akun siswa,  pilihan default ajuan akun, dev tambah filter daftar ajuan akun, dev req override menampilkan atribut saat ajuan akun, dev frontend req tambah filter di halaman daftar ajuan akun siswa , dev backend req tambah filter di halaman daftar ajuan akun siswa , dev loading tampilan halaman ajuan akun lama bisa sampai 10 detik ,  atribut tidak muncul saat ajuan akun,  muncul isian nik saat ajuan akun pada jenjang smk,  tidak bisa ajuan akun, dev jadikan mandatori isian saat verifikasi ajuan akun di operator, devtidak bisa ajuan akun di jenjang smk, dev ajuan akun siswa stuck di tahap ke 2, dev reset aktivasi akun siswa 0121789997, menghapus ajuan akun siswa prapendaftaran,  aktifkan kem fitur menu aktivasi akun siswa,  ganti redaksional pada notifikasi pengajuan akun siswa sekolah asal luar , dev aktifkan kem fitur menu aktivasi akun siswa , dev nonaktifkan validasi nik saat pengajuan akun, dev menampilkan maps pada cetak bukti ajuan akun, dev isian nilai saat verifikasi akun belum muncul di halaman operator saat melakukan verifikasi ajuan akun siswa, dev ajuan akun tidak menampilkan isian sidanira, dev penyesuaian info pada saat ajuan akun, devmunculkan tombol verifikasi tolak batal verifikasi dan batal tolak di menu daftar ajuan akun, backend validasi sidanira saat pengajuan akun, frontend menambahkan nik pada validasi sidanira saat pengajuan akun, dev ganti redaksional notifikasi pengajuan akun siswa sekolah asal luar , dev gagal ajuan akun, dev hapus override disable pilihan insi pada ajuan akun jenjang min,\n",
      "\n",
      "Cluster 11 subject: migrasi data kelurahan dari demo ke real, password situs demo , reset pendaftaran siswa, proses sinkron master kelurahan dari demo ke riil, reset daftar ajuan pendaftaran gabungan zona demo, reset daftar ajuan pendaftaran gabungan zona demo, hapus data ajuan pendaftaran di demo, kendala reset data ajuan supaya menjadi ajuan lagi di smpn 9 , hapus semua pendaftaran siswa semua jenjang di zona demo,  data dnt demo, hapus semua pendaftaran siswa semua jenjang di zona demo, reset pendaftaran dan hasil seleksi siswa dummy tahun sebelumnya, password situs demo ,  reset data siswa demo , migrasi beberapa peserta prapendaftaran ke zona demo, migrasi data sidanira ke zona demo, sinkron master dukuh di zona demo dan riil , reset password masal via toolssiapid , reset pendaftaran siswa dummy , reset ajuan akun hasil seleksi zona demo tahun , reset data dymmy zona demo pendaftaran tahun ,  reset data dummy siswa , reset status verifikasi akun siswa dummy , reset data pendaftaran siswa dummy , reset pendaftaran dan hasil seleksi siswa dummy tahun sebelumnya, proses sinkron data kelurahan dari demo ke real, dev reset data ajuan supaya menjadi ajuan lagi di smpn 9 , proses sinkron sekolah peserta dari zona demo ke zona real, st password situs demo , proses sinkron master dukuh di zona demo dan riil, proses reset data pengajuan pendaftaran dan data verifikasi, perbaikan fitur reset password masal di toolssiapid, proses reset semua pendaftaran siswa semua jenjang di zona demo,  req resetclear data pendaftaran demo , proses reset data pendaftaran demo,  reset data dummy ,  data dnt demo, reset data dymmy zona demo pendaftaran tahun , reset ajuan akun hasil seleksi zona demo tahun ,  reset database siswa demo, proses hapus data ajuan pendaftaran di demo, hapus semua pendaftaran siswa semua jenjang di zona demo, proses reset data dummy siswa , database reset data pengajuan pendaftaran di situs demo, reset data pendaftaran siswa dummy , proses reset database siswa demo, reset pendaftaran dan hasil seleksi siswa dummy tahun sebelumnya, reset pendaftaran dan hasil seleksi siswa dummy tahun sebelumnya, reset daftar ajuan pendaftaran gabungan zona demo, reset daftar ajuan pendaftaran gabungan zona demo,\n",
      "\n",
      "Cluster 12 subject:  data siswa ,  data siswa perbaikan 1, migrasi data master siswa, proses migrasi data master siswa, normalisasi data ajuan siswa dnt, proses normalisasi data ajuan siswa dnt, migrasi data sidanira update 1, proses migrasi master data siswa 8,  migrasi data siswa tambahan, proses migrasi data master siswa, proses migrasi data master siswa, proses migrasi master data siswa 7,  proses migrasi data dnt , migrasi data cat, proses migrasi data cat, migrasi data siswa blokir, migrasi master data siswa 6, migrasi master data siswa 5, proses migrasi master data siswa 6, migrasi master data siswa 5, migrasi master data siswa 4, migrasi master data siswa 3, migrasi master data siswa 2, migrasi master data siswa, migrasi master data siswa, migrasi data siswa, migrasi data siswa,  migrasi data siswa, migrasi data siswa,  migrasi data siswa , migrasi data sidanira , migrasi data sidanira , migrasi data akreditasi sekolah asal ,  migrasi data dukcapil dan data calon siswa smp,  migrasi siswa dalam , migrasi tambahan data siswa calon peserta smp 12 juni , migrasi tambahan data siswa calon peserta smp,  migrasi data calon siswa smp luar ,  migrasi data dukcapil calon siswa sd,  migrasi data peserta bibit unggul,  migrasi data kms afirmasi , migrasi data siswa rev 2, migrasi data dnt revisi 2,  data siswa , migrasi data dnt ,  migrasi ulang data siswa , migrasi data dnt revisi, migrasi data dnt , migrasi ulang data dapodik siswa , migrasi data siswa miskin dtks , migrasi data siswa anak pondok pesantren , migrasi data dapodik siswa jateng , migrasi data anak gtkptk , migrasi data siswa anak panti asuhan ,  migrasi data siswa , migrasi data dnt , proses migrasi master data siswa, proses migrasi master data siswa 4, proses migrasi ulang data siswa, proses migrasi data siswa rev 2, proses backup data siswa, proses migrasi master data siswa 3, proses migrasi data siswa sipenda disdik kalteng,  data siswa tambahan, proses migrasi master data siswa 2,  migrasi dnt , proses migrasi data dnt revisi 2, proses migrasi data siswa tambahan,  data siswa , proses migrasi data siswa blokir, prosedur migrasi data siswa blokir, migrasi data afirmasi sd , proses migrasi master data siswa, proses migrasi data afirmasi sd ,  data siswa , proses migrasi data dnt ,  proses migrasi dnt ,  proses migrasi ulang data siswa ,  cek dan migrasi ulang data dnt belum termigrasi,  proses cek dan migrasi ulang data dnt belum termigrasi,  data siswa , proses migrasi tambahan data siswa calon peserta smp 12 juni , proses migrasi siswa perbaikan nisn, proses migrasi data dnt revisi, dev hapus data ajuan siswa data,  proses migrasi data siswa , proses migrasi data dnt , database proses migrasi data siswa pendaftar , migrasi lookup , proses migrasi lookup ,  proses migrasi data dnt calon peserta didik,  migrasi data siswa ,  update dan migrasi data dnt nilai siswa tambahan, migrasi master data siswa,  proses migrasi data calon siswa smp luar , proses migrasi tambahan data siswa calon peserta smp,  migrasi data nilai siswa , migrasi ulang data dapodik siswa ,  proses update dan migrasi data dnt nilai siswa tambahan, proses ulang migrasi batch 4,  migrasi data dnt , migrasi data lookup siswa anak pondok pesantren , migrasi data ke tabel lookup, proses migrasi data ke tabel lookup, migrasi data siswa, proses migrasi data nilai aspd , migrasi data lookup siswa afirmasi, proses migrasi data lookup siswa afirmasi, proses migrasi data siswa,  migrasi data siswa , migrasi data siswa anak pondok pesantren , migrasi data anak gtkptk ,  proses migrasi data dnt , migrasi data siswa anak panti asuhan , proses migrasi data dapodik siswa jateng , migrasi data siswa miskin dtks , cabdin proses migrasi data siswa, migrasi data dnt ,  proses migrasi data dukcapil dan data calon siswa smp,  proses migrasi data dukcapil calon siswa sd,  proses migrasi siswa berkebutuhan khusus abk,  proses migrasi data siswa ,  proses migrasi data siswa,  proses migrasi siswa dalam ,  proses migrasi data kms afirmasi ,  proses migrasi data peserta bibit unggul, migrasi ulang data pokok siswa riil , migrasi data sidanira update 1, migrasi data akreditasi sekolah asal , migrasi data sidanira ,  migrasi data siswa ,  migrasi data nilai siswa , database migrasi data siswa proses migrasi, proses migrasi,\n",
      "\n",
      "Cluster 13 subject: bak dki kelompok 17 , bap dki kelompok 17 , bap dki kelompok 2 , bap dki kelompok 5 , bap dki kelompok 4 , bap dki kelompok 18 , bap dki kelompok 19 , bap dki kelompok 13 , bap dki kelompok 12 , bak dki kelompok 12 , bap dki kelompok 11 , bak dki kelompok 11 , bap dki kelompok 6 , bak dki kelompok 6 , bap dki kelompok 14 , bak dki kelompok 14 , bap dki kelompok 15 , bak dki kelompok 15 , bak dki kelompok 10 , bap dki kelompok 16 , bak dki kelompok 16 , bap dki kelompok 8 , bak dki kelompok 8 , bap dki kelompok 1 , bak dki kelompok 1 , bap dki kelompok 3 , bak dki kelompok 3 , bap dki kelompok 7 , bak dki kelompok 7 , kontrak layanan dki kelompok 11, bap dki kelompok 9 ,\n",
      "\n",
      "Cluster 14 subject:  req menambahkan kolom info nik pada unduhan laporan hasil seleksi akhir, dev req menambahkan kolom info nik pada unduhan laporan hasil seleksi akhir, dev hilangkan informasi status diterima sementara pada situs operator,  kolom n gabungan tidak terupdate,  req tambah kolom status hubungan keluarga pada daftar ajuan akun,  req disable kolom status hubungan keluarga pada koreksi data induk, dev munculkan kem kolom hubungan keluarga pada jalur prestasi dan set enable editing, devbackend simpan alamat yang sebelumnya dikunci pada jalur prestasi, devfrontend buka kuncian pilihan alamat pada jalur prestasi,  hilangkan kolom status afirmasi status disabilitas dan skor prestasi pada jalur pto,  hilangkan kolom hubungan keluarga pada jalur prestasi,  tambah blok kolom disklaimer pada dokumen cetak , dev akun operator sekolah masih bisa edit nilai disabilitas dan hubungan keluarga,  kolom info hubungan keluarga pada cetak ajuan akun siswa kosong,  req menampilkan status buta warna pada dasbor siswa,  tambah kolom info keterangan daya tampung digunakan pada laman seleksi,  penyesuaian kolom input data prestasi di ajuan pendaftaran siswa jalur prestasi,  req penyesuaian kolom info data dari dukcapil, override tahun lalu belum jalan untuk mekanisme siswa pendataan pada jalur prestasi,  req tambah kolom info agama pada dokumen laporan ,  tidak bisa input surat keterangan bebas buta warna dan hubungan keluarga saat koreksi data induk , perubahan nama jalur pto pada jenjang smk, kolom kapasitas cad keluarga ekonomi tidak mampu dijalur sma afirmasi tidak muncul, validasi kolom no telepon berawalan 08 dan max 14 gigit, tambah keterangan sudah diverifikasi untuk filter status dokumen kk, dev frontend hilangkan kolom hubungan keluarga pada jalur prestasi, dev frontend hilangkan kolom status afirmasi status disabilitas dan skor prestasi pada jalur pto, dev frontend menyesuaikan label pada menu daftar pada jalur yang belum mulai, dev kolom kapasitas cad keluarga ekonomi tidak mampu dijalur sma afirmasi tidak muncul, dev validasi kolom no telepon berawalan 08 dan max 14 gigit, dev frontend tambah kolom info keterangan daya tampung digunakan pada laman seleksi , menambahkan status lapor diri pada bi , dev override tahun lalu belum jalan untuk mekanisme siswa pendataan pada jalur prestasi, dev frontend tambah keterangan sudah diverifikasi untuk filter status dokumen kk, dev backend tambah keterangan sudah diverifikasi untuk filter status dokumen kk,  tambah kolom status hubungan keluarga pada daftar ajuan akun,  menampilkan status buta warna pada dasbor siswa,  disable kolom status hubungan keluarga pada koreksi data induk, dev backend req menampilkan status buta warna pada dasbor siswa, dev frontend req menampilkan status buta warna pada dasbor siswa, dev req tambah kolom status hubungan keluarga pada daftar ajuan akun, dev req disable kolom status hubungan keluarga pada koreksi data induk, dev req tambah kolom status hubungan keluarga pada daftar ajuan akun,  hilangkan kolom alamat rt dan rw , dev req penyesuaian kolom info data dari dukcapil, dev disable to edit untuk asal sekolah lulusan pada jalur prestasi bagi siswa dalam database, dev kemunculan dokumen mengikuti atribut yang dipilih pada jalur sertifikat prestasi jenjang sma dan smk, dev frontend tambah blok kolom disklaimer pada dokumen cetak ,  aspd tidak muncul pada jalur prestasi,  aspd tidak muncul pada jalur prestasi, dev label pada situs publik untuk jalur zonasi pada sma dan smk, perbaiki struktur tabel menghapus comment pada kolom demo , dev hilangkan informasi status verifikasi, dev hapus informasi nilai akhir pada jalur prestasi dan jalur perpindahan,\n",
      "\n",
      "Cluster 15 subject: override batasan ajuan pendaftaran jalur zonasi pto dan prestasi, mematikan override batasan pendaftaran kedua satu jenjang dengan pendaftaran pertama, dev override penyesuaian batasan pilih sekolah yang sudah dipilih di pendaftaran sebelumnya, mematikan ovveride jadwal unggah berkas jalur penyandang disabilitas, lanjutan batasan koreksi berkas , override menampilkan penanda berkas sipenda pada laman verifikasi pendaftaran gabungan, override pembukan batasan jika siswa ditolak ditolak di sma bisa daftar ke smk,  override , dev penanda berkas sipenda pada laman verifikasi pendaftaran gabungan, dev update batasan tanggal pendataan prestasi, migrasi tautan berkas dari sipenda ke konfigurasi , override menampilkan sebagian berkas pada tiap jalur sma smk, dev buka batasan nomor daftar 15 digit, siswa gagal koreksi berkas, dev skip unggah berkas yang telah ada di lookup, batasan untuk koreksi berkas ajuan yang ditolak, me nonaktifkan override batasan pilihan sekolah jalur pto, override batasan pilihan sekolah, override batasan pilihan sekolah utk jalur prestasi, batasan pilihan sekolah jenjang sma,  gagal save setting berkas unggahan, melepas batasan periode batal verval, override pengecualian batasan pilihan sekolah, mekanisme unggah berkas yang ajuannya di tolak , override perubahan redaksi informasi pilihan sekolah jenjang sma, disable untuk pilihan insi dan , verifikasi berkas memakai google maps citra satelit, siswa prapendaftaran mengisikan lokasi verifikasi dan unggah berkas, menyalakan kem override batasan unggah berkas, merubah urutan tampilan daftar verifikasi berkas, ajuan berkas peserta tidak ditemukan, override jadwal unggah berkas, mematikan override verifikasi dokumen prestasi oleh sekolah pilihan pertama, menghapus ovveride pilihan madrasah pada verifikasi berkas, persetujuan override set unggahan berkas piagam, override pilihan sekolah kedua dan seterusnya tidak boleh lintas zona sesuai zona sekolah pilihan pertama,  req menampilkan unggah berkas saat pendaftaran, dev override batasan ajuan pendaftaran jalur zonasi pto dan prestasi, dev mematikan override batasan pendaftaran kedua satu jenjang dengan pendaftaran pertama, dev menampilkan berkas menjadi 2 url jika url mengandung koma, dev tolak 3 ajuan sma afirmasi yang terlanjur batal verifikasi, dev isi url berkas dengan yang ditemukan di lookup, dev batasan untuk koreksi berkas ajuan yang ditolak, dev menonaktifkan override batasan pilihan sekolah jalur pto, dev perubahan mekanisme koreksi berkas, dev tolak 1 ajuan sma afirmasi yang terlanjur batal verifikasi, dev backend batasan opsi pilihan sesuai dengan pilihan atribut lain, devfrontend disable untuk pilihan insi dan , dev frontend opsi pilihan sesuai dengan pilihan atribut lain, backend menyalakan kem override batasan unggah berkas, devfrontend perubahan redaksi informasi pilihan sekolah jenjang sma, dev override jumlah pilihan sekolah , dev merubah urutan tampilan daftar verifikasi berkas, dev batasan pilihan sekolah, dev buka batasan pilihan sekolah jika sudah tidak diterima, dev menolak ajuan berkas peserta, dev cek ajuan berkas peserta tidak ditemukan, dev verifikasi berkas belum google maps, dev backend mekanisme unggah berkas yang ajuannya di tolak , dev penyesuaian jadwal unggah berkas, dev frontend mekanisme unggah berkas yang ajuannya di tolak , dev keluarkan isian lokasi verisikasi dan unggah berkas untuk siswa pra pendaftaran, frontend batasan pilihan sekolah jenjang sma, backend batasan pilihan sekolah jenjang sma, dev disable validasi jadwal unggah berkas jalur penyandang disabilitas, dev gagal save setting berkas unggahan, hapus batasan batal verval, dev batasan pilihan sekolah siswa sesuai batas maksimal sekolah, dev hapus override pilihan madrasah pada verifikasi berkas,\n",
      "\n",
      "Cluster 16 subject: menambah informasi nilai prestasi,  data nilai prestasi , dev nilai siswa berbeda antara daftar ajuan riwayat dan seleksi, dev nilai rata2 semester siswa pendataan di smk reguler berubah menjadi 0, perbaikan nilai akhir siswa yang terdampak tiket 21368, dev perbaikan nilai akhir siswa yang terdampak tiket 21368, dev normalisasi nilai rapor, override penambahan nilai 100 juga muncul pada pendaftaran kedua seharusnya tidak, dev penambahan nilai 100 juga muncul pada pendaftaran kedua seharusnya tidak, override penambahan info pada inputan nilai rapor jenjang smk, dev penambahan info pada inputan nilai rapor jenjang smk, override nilai atribut nlain181 seharusnya bisa ajuan pendaftaran online di smk jarak terdekat, kendala koreksi akreditasi berdampak pada nilai rapor menjadi 0, dev isian nilai pendataan siswa luar database terkunci sehingga tidak bisa diisi, dev editable nilai jika nilainya kosong, override isian nilai mapel siswa lulusan mtspesantren, override isian nilai mapel siswa lulusan mtspesantren, override isian nilai mapel siswa lulusan mtspesantren, override tambahan nilai 100 pada pilihan pertama tidak berlaku saat pindah jenjang, override override nilai rapor untuk sma dan smk tahun , override menghilangkan isian nilai pendataan selain pelajaran ujian akhir pada 3 jalur sma, override nilai akhir siswa jalur bibit unggul menggunakan nujumlah, perubahan redaksional jumlah nilai rerata, data iputan nilai rapor tidak muncul di cek ulang pendaftaran, override override versi 2 nilai rapor untuk sma dan smk tahun , update nilai aspd siswa yogya karta, migrasi data nilai aspd , saat ajuan ulang nilai rapor terkunci, ganti label tanggal kedatangan siswa dimodul set nilai siswa, set nilai default untuk nlain20 26 juni 2022, tambah atribut keterangan dukcapil pada modul set nilai siswa, set nilai siswa muncul notif af1c1 parameter nilai jenis kepindahan domisili siswa tidak valid, hide tampilan biodata info dan nilai pada modul set nilai siswa, update rumus perhitungan ratarata nilai rapor, hide nilai aspd, nilai rapor mapel pjok dan seni budaya berisi 0 di halaman verifikasi akun siswa, mapel pjok dan seni budaya belum muncul di isian nilai rapor, update narasi petunjuk pengisian nilai rapor, hilangkan informasi data nilai akreditasi asal sekolah, dev nilai atribut nlain181 seharusnya bisa ajuan pendaftaran online di smk jarak terdekat, dev disable isian nilai aspd di form ajuan pendaftaran, proses update biodata dan nilai lulusan sd 007 selatan tahun ,  data nilai siswa perbaikan1, dev backend inisialisasi atribut yang dikosongkan dengan nilai tidak , dev frontend inisialisasi atribut yang dikosongkan dengan nilai tidak , dev set nilai zonasi sesuai tabel rayon, update nilai mts negeri , update nilai smpn 6 , dev saat ajuan ulang nilai rapor terkunci, prosescabdin penyediaan laporan set nilai siswa,  data nilai siswa ,  data nilai siswa , dev frontend menambahkan ketentuan override nilai rapor yang muncul sesuai asal sekolah lulusan yang dipilih di jalur prestasi, dev backend menambahkan ketentuan override nilai rapor yang muncul sesuai asal sekolah lulusan yang dipilih di jalur prestasi, dev ganti label tanggal kedatangan siswa dimodul set nilai siswa, dnt update nilai siswa karena kolomnya ke geser, dev membatalkan override menghilangkan isian nilai pendataan selain pelajaran ujian akhir di jalur sman 10, database proses migrasi nilai hasil pendataan prestasi dinas pendidikan , dnt proses update nilai siswa karena kolomnya ke geser, dev modul set nilai nilainya terdisabled, dev set nilai default untuk nlain20 26 juni 2022, proses update perhitungan nilai peserta , tambah atribut keterangan dukcapil pada modul set nilai siswa, dev tambah atribut keterangan dukcapil pada modul set nilai siswa, dev backend pengecekan nilai rerata rapor peserta cabdin , migrasi nilai raport cabdin , dev backend cek set nilai siswa muncul notif af1c1 parameter nilai jenis kepindahan domisili siswa tidak valid, dev menghilangkan isian nilai pendataan selain pelajaran ujian akhir pada 3 jalur sma, dev backend override akumulasi nilai rerata rapor 10 mapel selama 5 semester untuk sma dan smk tahun , dev tambahan nilai 100 pada pilihan pertama pada sma prestasi sma zonasi tahap 2 dan smk reguler,  penyesuaian kolom inputan nilai siswa, dev backend penyesuaian kolom inputan nilai siswa, proses update nilai aspd siswa yogya karta, dev override nilai rapor untuk sma dan smk tahun ,  req tombol ubah nilai atribut surat keterangan buta warna, dev tambahan nilai 100 pada pilihan pertama tidak berlaku saat pindah jenjang, dev menghapus override nilai rapor untuk sma dan smk tahun ,  req tombol ubah nilai atribut surat keterangan buta warna, dev frontend req tombol ubah nilai atribut surat keterangan buta warna, dev backend req tombol ubah nilai atribut surat keterangan buta warna, proses update nilai rapor siswa smp , dev hilangkan tab biodata info dan nilai pada modul set nilai siswa, dev override redaksi keterangan set nilai siswa cabdin ,  nilai literasi membaca tidak valid jalur pto, dev frontend update rumus perhitungan ratarata nilai rapor, dev backend update rumus perhitungan ratarata nilai rapor,  nilai rerata rapor dan semester tidak muncul pada cetak ajuan dan verifikasi, dev buka akses koreksi nilai rapor untuk siswa pendataan, dev ubah redaksional jumlah nilai rerata, frontend hide nilai aspd jalur non prestasi, frontend hide nilai aspd, backend hilangkan validasi nilai aspd jalur non prestasi, backend hilangkan validasi nilai aspd, dev tambah parameter untuk menampilkan nilai dan handle nilai yang dikirim,  parameter nilai lingkungan tidak valid, dev nilai rapor mapel pjok dan seni budaya berisi 0 di halaman verifikasi akun siswa, dev mapel pjok dan seni budaya belum muncul di isian nilai rapor, dev update narasi petunjuk pengisian nilai rapor, dev hilangkan informasi data nilai akreditasi asal sekolah, dev penyesuaian validasi berkas unggahan berdasarkan isian nilai, dev penyesuaian tampilan berkas unggahan berdasarkan isian nilai, frontend isian nilai mapel siswa lulusan mtspesantren, backend isian nilai mapel siswa lulusan mtspesantren, frontend override isian nilai mapel siswa lulusan mtspesantren, backend override isian nilai mapel siswa lulusan mtspesantren, cek komplain nilai radius tidak muncul pada hasil seleksi, dev frontend isian nilai mapel mengikuti jenis lulusan, dev backend isian nilai mapel mengikuti jenis lulusan, tampilkan nilai tkdn,\n",
      "\n",
      "Cluster 17 subject: dev override hide unggahan suket domisili untuk siswa anak guru, dev penyesuaian dokumen laporan rekap seleksi,  visite insi ,  visite insi demo aplikasi tahap 2,  visite insi demo aplikasi, dev membatalkan lapor diri peserta, tidak bisa mendaftar karena titik koordinat hilang , menyalakan kem engine seleksi, dev tidak bisa mendaftar karena titik koordinat hilang , st koreksi alur, dev hide kolom pencarian dan tombol live detection, pilihan ke3 diluar rjs sekolah berhasil mendaftar ,  pembatasan pilihan sekolah hanya pada npsn ortu bertugas,  bantuan unggah master dukuh, dev pilihan ke3 diluar rjs sekolah berhasil mendaftar , override hide unggahan sertifikatpiagam untuk yang tidak memiliki prestasi, dev pengecekan peserta gagal login, dev kirim tanda ke frontend agar tidak menampilkan icon, normalisasi normalisasi data ajuan pendaftaran,  penambahan gambar banner, paspor siap online kendala akun siap password kereset, penambahan aksses password untuk situs demo, mengganti gambar banner, st req pembuatan posterbanner pena berkah kalteng,  req penyesuaian aturan pendaftaran siswa dan non aktifkan overide 16485 , dev jumlah diterima melebihi kapasitas total daya tampung, st alur , st pengecekan ssl custom domain , dev anak guru bisa mendaftar di sekolah bukan tempat ortu bekerja, dev perubahan label sambutan, proses pembuatan laporan daftar peserta diterima jalur tahap kedua, fix fitur batal verifikasi ajuan pendaftaran muncul notif d6fe8 terjadi kesalahan aplikasi, dip req penyesuaian aturan pendaftaran siswa dan non aktifkan overide 16485 , terdapat perbedaan jarak antara di situs publik dan web operator, dev restore siswa dengan tanggal lahir null, st merekayasa banner , pengecekan jumlah rombel pada situs operator berbeda dengan admin tools, membuatkan akun bi untuk dinas dki , upgrade spek 10232245,  req pembatasan batal verifikasi, st custom domain goid dari , st cek kesesuaian ssl untuk domain , st upgrade spek 10232245,  situs freeze setelah user siswa login,  req admin dinas bisa batal verval atau batal tolak tanpa batal pickup,  pic terima data dari dinas pelanggan,  verifikasi data pendukung ,  sinkron master kelurahan kecamatan dan data rayon ke riil, proses normalisasi data siswa luar yang dimigrasi, dev override penguncian titik koordinat siswa sipenda dicabut, dev pastikan value telah dipilih, menampilkan pengumuman cat pada dashboard siswa, dev pengecekan gagal verifikasi 8201002052, st banner situs publik online kalteng , proses siswa luar termigrasi sebagai siswa dalam upaten , proses migrasi sekolah asal untuk jenjang smp, validasi data pelanggan kalteng , override menyembunyikan smk prestasi dari beranda situs publik,  aktifkan kem serta penyesuaian aturan pemilihan sekolah,  req penambahan kondisi aturan pemilihan sekolah, dev req penambahan kondisi aturan pemilihan sekolah, pengecekan nisn bisa mendaftar lebih dari 1 kali padahal tidak ditolak, perubahan angka rjs sdn 23 barat,  upsitus publik, mangganti background banner, ubah besar cache sequence menjadi 10 tanpa mengubah lastval,  proses sinkron master kelurahan kecamatan dan data rayon ke riil, proses ubah besar cache sequence menjadi 10 tanpa mengubah lastval,  situs tidak bisa diakses, dev penelusuran koordinat siswa berbeda antara ajuan dan daftar, dev backend pembatasan pilihan sekolah hanya pada npsn ortu bertugas,  req set batas umur piagam prestasi menggunakan rentang tanggal, dev pembatasan batal verifikasi pendaftaran tiap tahap pelaksanaan jalur maksimal 1 kali, migrasi penanda jalur dari pra pendaftaran sipenda disdik kalteng, st ganti foto banner , pengecekan siswa terdampak karena perubahan zonasi bersama, ubah besar cache sequence menjadi 10 tanpa mengubah lastval, penerimaan data dari disdik kalteng, verifikasi data dari disdik kalteng, proses ubah besar cache sequence menjadi 10 tanpa mengubah lastval, dev tambahkan override konfigurasi, dev ubah label jenis lulusan reguler, dev tambah redasiinformasi dibawah input jenis lulusan, dev perubahan angka rjs sdn 23 barat, dev muncul notifikasi proses gagal dijalankan silakan cek koneksi anda dan coba beberapa saat lagi saat pendafataran, bug nopes dan token berbeda dihalaman verifikasi pendaftaran, kendala siswa yang tertolak ajuannya titik koordinat masih sama, penambahan popup notifikasi jika memilih sekolah kurang dari 3 pilihan, dev ubah mekanime lookup untuk pencarian, pasang gambar alur, update banner 2, gagal daftar karena pembatasan verval harian, pengecekan kompetensi dan daya tampung sekolah tidak update, pilihan keikutsertaan program keluarga tidak mampu dan abk otamatis terisi padahal tidak dipilih, pengecekan ssl custom domain , banner baru online ,  titik koordinat siswa tidak valid,  label pilihan sekolah 1 dan 2 pada tampilan situs publik error,  update data siswa dg informasi lokasi ortu bertugas,  penyesuaian override mekanisme penyaluran siswa,  acuan zonasi siswa hasil penyaluran salah,  req ip whitelisting untuk keperluan integrasi api dukcapil , data pendaftar data pendaftar siswa jalur prestasi yang diverifikasi lebih dari 1 kali, kendala siswa bisa diverifikasi 2 kali,  cek data sekolah dan jadwal , override relabeling informasi situs publik tutup, penyesuaian label informasi situs ditutup,  cek hasil konfig ,  cek data sekolah jadwal , header update header situs publik, mengaktifkan kem bot jadwal di telegram group jagr siap online, situs operator gagal diakses, kebutuhan teknis yang belum bisa diakomodir secara default, uat limpahan pagu 2 tingkat di smk, penambahan label rjs saat memilih sekolah pada jalur zonasi, titik koordinat sekolah tidak update, pemasangan url pada tombol berkas alur gambar, nomor kartu keluarga 16 digit dan awalan angka 6271xxxxxxxxxxxx, perubahan gambar alur pelaksanaan sd dan smp di situs publik, google maps di situs publik ,  penambahan gambar alur model b, kendala koreksi sekolah peserta di operator demo, ovveride menghilangkan tombol cari pada situs publik, setup interkoneksi ke api dukcapil, implementasi api dukcapil , mengganti user vpn pusdatikomdik, merubah status peserta dari diskualifikasi pendaftaran menjadi diskualifikasi hasil, create akun dan generate token, pengecekan lokasi daftar sma dan smk pada admin tools, cpdb tidak bisa aktivasi, pengecekan data pada bi belum sesuai dengan situs operator, data operator madrasah dki tahun , gagal memilih koordinat saat daftar, pembatasan periode verifikasi oleh operator, hapus override tahun lalu, gagal login operator sekolah,  admin dinas tidak bisa batal verval atau batal tolak , tidak mendapatkan email dari paspor untuk aktivasi dan buat password, konfirmasi bisnis pelaksanaan , banner implementasi banner , banner menambahkan logo hut pada banner situs publik, override pembatasan pada jalur zonasi untuk nisn sama, banner menambahkan logo majapahit dan bertumbuh berkembang berdampak, presensi pelatihan dokumentasi presensi, undangan sosialisasi , dokumentasi undangan pelatihan pelatihan , foto dokumentasi pelatihan operator , situs arsip tidak tersedia untuk yang sma dan smk, delivery screenshoot bukti delivery layanan , eos usulan tambah eos khusus editor, foto dan presensi sosialisasi atau pelatihan operator , foto sosialisasi atau pelatihan operator , penambahan aksses password untuk situs demo, penambahan aksses password untuk situs demo, penambahan aksses password untuk situs demo, hilangkan pilihan paket abslblain lain pada jenis lulusan, memunculkan kem tombol cari pada situs publik, interkoneksi adminduk via pusdatikomdik , penyediaan data siswa diterima, pengecekan waktu idle pada situs operator, penyesuaian tampilan jumlah data pada rekap per jenjang di bi, pengecekan hasil seleksi pada situs publik belum berjalan, merubah gambar pada menu alur, munculkan label prioritas zonasi pada listing sekolah pilihan, merubah gambar alur update 1,  migrasi siswa berkebutuhan khusus abk, perbaikan gambar alur jalur bibit unggul , perbaikan nisn siswa,  melengkapi isian data dukcapil , override penyesuaian redaksi data dukcapil tidak ditemukan, penyesuaian gambar alur pendaftaran online yogya smp jalur perpindahan tugas, pengerjaan evidence kalsel smk swasta , mengaktifkan siswa lulusan tahun dan 2022, data zonasi hasil unggah ada selisih saat diunduh kem, rekap verifikasi operator dukcapil , gagal unggah daya tampung afirmasi sma pada admin tool, hide notifikasi peringatan anak guru, usia piagam belum terbaca sesuai dengan tanggal yg diinputkan, npsn sekolah mtss ahmad dahlan di sistem tidak sesuai, ubah narasi status anak guru, set fitur ubah password paksa mulai tgl 24 juni jam 0000wib, buat estetik tampilan unduhan dokumen online di situs jatengdemosiapcom, set status anak guru di jenjang smasmk, set syarat daftar dengan atribut tanggal kedatangan ortu gagal disimpan dan muncul error, tarik data daftar operator online zona riil tahun , update label dan acuan tanggal kk kurang dari 3 tahun untuk filter usia kk terbaru, fitur verval usia domisili kk dukcapil, gagal unggah master dukuh , munculkan kem isian dan validasi kepesertaan pip nlain13, opsi unduhan data uploadan dapodik versi csv, penelusuran penyebab siswa tidak diterima, penyesuaian label tahun pelajaran menjadi tahun ajaran, pencairan honor eos konfigurasi witel rizky feroarneo , hilangkan isian dan validasi anak yatim nlain13, unduh format uploader dapodik tidak ada action, update perhitungan umur piagam , update acuan tanggal kk kurang dari 1 tahun untuk filter usia kk, update acuan tanggal usia kk pada pop up notifikasi informasi kk kurang dari 1 tahun, gagal unggah master dukuh, agregator situs menunggu slot eksekusi, tampilan situs publik demo belum berubah sesuai konfigurasi admin tool, override aturan pemilihan sekolah , override aturan pemilihan sekolah, setting siswa anak guru atau tenaga kependidikan hanya muncul pilihan sekolah sesuai npsn yg diinputkan, urutan seleksi siswa belum muncul dihasil seleksi,  online surat keterangan pengalaman kerja eos an anis suryansyah, rentang tanggal kk belum muncul sesuai konfigurasi, dev batalkan override lulusan tahun lalu dimigrasi, dev upsitus publik , infra upsitus publik , dev pastikan rapor tidak tereset ketika koreksi, dev mengaktifkan siswa lulusan tahun dan 2022, proses set tahun lulus sesuai kondisi kelulusan untuk siswa dnt, proses sinkron master kelurahan cabdin , dev cleanup data yang pilihannya masih belum mendapatkan tambahan 100, dev penambahan untuk sma zonasi tahap 2 tidak berjalan, dev data pendaftar siswa jalur prestasi yang diverifikasi lebih dari 1 kali, dev siswa bisa diverifikasi 2 kali, perbaiki format tgl lahir , proses perbaikan nisn siswa yogya yang tertukar, dev ulangi param siswa pada action search dengan radius sesuai nlain16, dev pengecekan siswa terdampak karena perubahan zonasi bersama, dev penambahan popup notifikasi jika memilih sekolah kurang dari 3 pilihan, dev penutupan halaman detil siswa 48310323220746 pada situs arsip 2017, dev backend req admin dinas bisa batal verval atau batal tolak tanpa batal pickup,  siswa yang sudah ditolak tidak bisa diedit , dev merubah status peserta dari diskualifikasi pendaftaran menjadi diskualifikasi hasil,  data zonasi tidak terbaca, dev buka engine sma prestasi untuk dilakukan seleksi kem, dev menampilkan halaman konfirmasicek ulang pada situs publik sesuai asal sekolah lulusan, dev tidak bisa diverifikasi, dev backend aggregator konten halaman data zonasi sekolah di situs publik, bast bard online ta , dev pengecekan kompetensi dan daya tampung sekolah tidak update, dev penyesuaian label informasi situs ditutup, dev baca data siswa dengan mendisable cache psbobject, st infrastruktur subdomain untuk production , dev relabeling informasi situs publik tutup, dev pembatalan oleh user level admin, dev hapus blokir nomor ujian 0117806547 dan siswa lain jika ada ,  titik koordinat siswa tidak valid,  penyesuaian override mekanisme penyaluran siswa dg penambahan acuan zonasi, dev titik koordinat sekolah tidak update, deploy server aplikasi, dev skip validasi syarat daftar untuk siswa pendataan, dev frontend hide notifikasi peringatan anak guru,  penyesuain labelredaksi pada tahap pilih sekolah, st mengganti user vpn pusdatikomdik, dev cek limpahan pagu 2 tingkat di smk,  laporan pelaksanaan pencairan termin 2 eos,  jatenglaporan pelaksanaan pencairan termin 2 eos,  karanganyarlaporan pelaksanaan pencairan termin 2 eos,  tegallaporan pelaksanaan pencairan termin 2 eos, sertifikat eos pendamping daerah, dev penyesuain labelredaksi pada tahap pilih sekolah, dev melepas validasi hapus domisili di pengaturan data siswa admintools, buka project upaten , dev penambahan info label rjs saat memilih sekolah pada jalur zonasi, proses migrasi siswa tidak valid dimigrasi sebelumnya ,  rreq data traceroute server , dev muncul notifikasi halaman ini belum dapat diaksesjalur bibit unggul,  rreq data traceroute server ,  dokumen laporan , proses migrasi sekolah asal seinsi kalimantan timur utk , dev footer situs publik daerah online,  pengisian atribut via api tapem, st perbaikan gambar alur jalur bibit unggul , dev backend batasi insi dan , dev frontend nomor kartu keluarga 16 digit dan awalan angka 6271xxxxxxxxxxxx, dev nlain12 tidak tersimpan,  proses update data siswa dg informasi lokasi ortu bertugas, topologi infrastruktur yang digunakan di online ,  integrasi api dukcapil , st update banner , dev usia piagam belum terbaca sesuai dengan tanggal yg diinputkan, st mangganti background banner , nomor sph awal berdasarkan email yang disampaikan dari business solution support pt metranet perihal permohonan surat penawaran harga online suumi, bast baut bard cabang dinas 9 tahun , dokumen skm online cabang dinas 9 tahun , pengajuan kontrak ar untuk witel banyumas witel magelang dan witel pekalongan tahun 2022, obl dokumen sph dan skm obl , st alur , npsn sekolah mtss ahmad dahlan di sistem tidak sesuai, upaten timor tengah utara diskusi online upaten timor tengah utara ,  konfigurasi juknis online , insi rapat kastemisasi sistem online ,  undangan dprd persiapan , upaten mengaktifkan daerah baru, sample data pengecekan api response dukcapil , st banner revisi typo, st alur , dev buat daftar tabel dan field yang harus ditambah dan diset, dev frontend pemasangan url pada tombol berkas alur gambar,  non aktifkan override info pendaftaran, catatan penyediaan data siswa salah pilih zonasi sd, penyediaan data siswa salah pilih zonasi sd, dev set fitur ubah password paksa mulai tgl 24 juni jam 0000wib, dev ubah narasi status anak guru, dev ubah pesan error nomor peserta sudah digunakan siswa dalam, penyediaan bi data siswa salah pilih zonasi sd untuk pemantauan pendaftaran kem, duplikasi request upstream dari lb dinamis, perubahan url situs online cabdin kutim, perubahan url situs online sma smk , st duplikasi request upstream dari lb dinamis, dev buat estetik tampilan unduhan dokumen online di situs jatengdemosiapcom,  dokumentasi api tapem, st pemasangan banner , set status anak guru di jenjang smasmk, st revisi banner pak gub, proses pengecekan lokasi daftar sma dan smk pada admin tools, gambar alur di situs publik,  update biodata siswa tambahan, proses perbaikan nisn siswa,  proses update biodata siswa tambahan, st pengecekan ssl custom domain , dev batasi sekolah pilihan by system hanya radius 5km kebawah, dev ubah entry tanggal dengan component yang bisa copas, st banner , dev frontend isian kepindahan domisili ortu dan tanggal kedatangan ortu, st uix alur b, dev backend tambah kepindahan domisili ortu dan tanggal kedatangan ortu, dev mode ubah lokasi ketika verifikasi tidak berjalan, mengganti photo pejabat pada banner situs publik,  visit koordinasi ,  non aktifkan override info pendaftaran, dev backend custom rule untuk nlain19 nteks07 dan nteks08 , dev frontend cegah masuk jika mfa belum aktif, dev cpdb tidak bisa aktivasi, dev aktifkan kem serta penyesuaian aturan pemilihan sekolah, dev req set batas umur piagam prestasi menggunakan rentang tanggal,  non aktifkan override info pendaftaran, dev frontend menampilkan nteks07 jika nlain19 1, database proses pembetulan nisn sebab terk siswa yang sudah terlanjur ajuan dan sudah dibatalkan ajuannya, transfer honor eos konfigurasi witel rizky feroarneo , proses tarik data daftar operator online zona riil tahun ,  proses melengkapi isian data dukcapil , dev integrasi api dukcapil , dev frontend menampilkan halaman memasukkan token ketika login, deploy aplikasi di server neometaldki, dev backend override pilihan jenis perpindahan tugas orang tua, dev kode google analytics untuk upaten , dev deploy aplikasi di server neometaldki,  laporan pelaksanaan pencairan termin 2 eos,  penyesuaian tombol zonasi, dev frontend override pilihan jenis perpindahan tugas orang tua, google maps di situs publik , dev frontend penyesuaian tombol zonasi, dev generate kode google api untuk upaten , dev create project,  update master dukuh, dev backend validasi token mfa ketika login, dev menambahkan validasi saat tidak terdapat sekolah pilihan dari siswa, devmematikan pengecekan nokk siswa prapendaftaran, dev mereset rombel daya tampung sekolah, error 404 situs , dev error 404 situs , st penambahan gambar banner, gagal unggah master dukuh , dev munculkan kem isian dan validasi kepesertaan pip nlain13, dev merubah tampilan status peserta didik saat verifikasi ke tab pengajuan, st up situs kalimantan timur cabdin , visite , visite insi ,  pembahasan juknis , visite , dev generate konfigurasi status dan jenis mfa yang digunakan, dev up situs kalimantan timur cabdin , dev label pada situs publik jalur perpindahan tugas orang tua sma dan smk, header di situs operator yang untuk tombol logout tiba2 hilang , uixpenyesuaian gambar alur pendaftaran online yogya smp jalur perpindahan tugas, st penambahan gambar alur model b, dev tambah tabel untuk menyimpan informasi mfa siswa, dev tidak ditemukan jalur didatabase, dev header di situs operator yang untuk tombol logout tiba2 hilang , dev penelusuran penyebab siswa tidak diterima, st custom domain , dev tampilan daya tampung di hasil seleksi belum sesuai, mengarahkan dns record , unduh format uploader dapodik tidak ada action, dev penyesuaian label tahun pelajaran menjadi tahun ajaran, dev ubah pesan error data dukcapil tidak ditemukan, dev hilangkan isian dan validasi anak yatim nlain13, proses pengecekan data pada bi belum sesuai dengan situs operator, dev update perhitungan umur piagam , bi tambahkan filter tahun dan wilayah berdasarkan scope, dev menghilangkan informasi rangking dari jumlah pendafttar pada detail siswa, dev sekolah yang sudah dipilih tidak boleh dipilih kem untuk jalur prestasi, undangan pembahasan pelaksanaan online , devupdate acuan tanggal usia kk pada pop up notifikasi informasi kk kurang dari 1 tahun, pasang banner tkdn online di portal, dev sudah ditutup operator demonya tapi masih terbuka, dev mengaktifkan upaten , sample data pengecekan api response dukcapil dki , dev ubah theme warna situs publik sma dan smk, dev implementasi api dukcapil , st setup interkoneksi ke api dukcapil, mengaktifkan kem bot jadwal di telegram group jagr siap online, dev menghilangkan tombol cari pada situs publik, penyesuaian konten situs publik yang ditutup, dev penyesuaian konten situs publik yang ditutup, dev pembatasan verval diberlakukan per sekolah per jalur, refresh portal halaman tidak ditemukan, upaten timor tengah utara mengaktifkan daerah baru, dev menambahkan key pilihan pada response validate, dev pasang banner tkdn online di portal, st pemasangan banner nilai tkdn portal produk , upscale vm tool migrasi 10212153, penambahan storage 10212108, mengarahkan semua daerah ke non pelanggan, penambahan storage 10212226, st penambahan storage 10212226, st mengarahkan semua daerah ke non pelanggan, pencarian detil arsip error, refresh portal halaman tidak ditemukan, st upscale vm tool migrasi 10212153, st penambahan storage 10212108, nomor sph awal berdasarkan email yang disampaikan dari business solution support pt metranet perihal permohonan surat penawaran harga online kulonprogo, perubahan cdn pada situs publik, wfm close insi tahap ii ,  tidak bisa koreksi tanggal lahir, dev hapus override dari tiket 12454, dev tambah daerah baru upaten timor tengah utara,  siddenreng rappang konfirmasi keikutsertaan online ,  ternate update penawaran konfirmasi online, dokumen kontrak layanan kl online tahun , bast baut bard kaltim cabang dinas , wfm close cabdin kutim , bast kaltim cabang dinas , baut bard kaltim cabang dinas , baut dan bard , bast tahun , wfm close do , baut smp , bast smp , bard smp , bast cabdin , pengiriman lengkap berkas document dinas hard document, wfm close cabdin , baut bard cabdin , nomor sph awal berdasarkan email yang disampaikan dari business solution support pt metranet perihal permohonan surat penawaran harga online ta , permohonan pembuatan skm utara smp, nomor sp awal menindaklanjuti email permintaan sph tanggal 6 mei dari business solution support pt metranet untuk pekerjaan sewa aplikasi online tahun pelajaran 2025 kantor wilayah kemenag insi dki jenjang man, obl jenjang smp 9 sekolah, nomor sph awal berdasarkan email yang disampaikan dari business solution support pt metranet perihal permohonan surat penawaran harga online banjarmasin, data operator madrasah dki tahun , dev ubah default tahun lulus, nomor id paket sfdp24059182697 melalui mekanisme pengadaan epurchasing untuk pekerjaan sewa layanan online ta , deploy api notification, bast ta , lamp bard baut dki kel 8, bast online bandar smk ta , baut tahun , bard online bandar smk ta , baut online bandar smk ta , lamp bard baut dki kel 9, kontrak layanan dki kl14, lamp bard baut dki kel 10, nomor sph awal berdasarkan email yang disampaikan dari business solution support pt metranet pada tanggal 5 mei perihal permohonan surat penawaran harga online ta , dev urutkan sekolah pada daftar sekolah pilihan dari jarak terdekat ke terjauh, implementasi aturan pemilihan sekolah , setup koneksi tools , ubah arsip yogya agar jalur keluar semua, st ssl domain siapcom, database migrasi data siswa yang awalnya tidak dimigrasi pasca diperbaiki, evidence kaltim cabang dinas , obl insi tahap 1 40 sekolah,  koordinasi persiapan online dinas pendidikan ,  pembahasan juknis online ,  juknis , ganti dokumen unduh brosur pada situs daerah non pelanggan, batasi pilihan sekolah anak gtk, dev ganti dokumen unduh brosur pada situs daerah non pelanggan, bado printsign, cleanup data pelaksanaan online , penambahan opsi rw siswa pada pengaturan kapasitas, pencairan hr termin 2 eos , override info dari formatter kapasitas jika yang diakses adalah ,\n",
      "\n",
      "Cluster 18 subject: dev penyesuaian redaksi waktu akses pendaftaran, dev tambahkan akses ke admin tool untuk akun rizkyferoarneugmailcom,  req akses untuk melihat data ajuan siswa yg sudah dipickup oleh user lain, dev tambahkan akses ke admin tool untuk akun mrifaisiaponlinecom, dev daftar admin sistem yang dapat akses ke admin tool , validasi data terunggah pada kelola data admin tools, pengolahan data ke kelola data admin tools, inisialisasi juknis online jateng , password untuk akses situs publik demo, eos tambah akses ke admin tools sebagai eos konfigurator batch 2, eos tambah akses ke admin tools sebagai eos konfigurator dan blokir akses eos , admin tools tidak bisa akses jadwal situs di zona demo, tidak bisa menyimpan konfigurasi admin tools, operator sudah ditambahkan namun saat login tidak memiliki akses, situs publik kendala akses situs demo, sinkron master dukuh di upaten purworejo jateng dari demo ke riil, set default filter untuk role akses operator khusus, tambahkan akses ke bisiapcom jateng, st password untuk akses situs publik demo,  req akses untuk melihat data ajuan siswa, deploy server cluster jateng aplikasi, dev set default filter untuk role akses operator khusus, proses tambahkan akses ke bisiapcom jateng, penyesuaian url untuk jateng , dev penyesuaian url untuk jateng , dev proses deploy server cluster jateng, fix gagal akses situs operator, transfer ca rab rapat pelatihan eos area tr iv jateng ahmad nashruddin, dev tambah akses ke admin tools, tambah akses ke admin tools sebagai eos konfigurator , rab rapat pelatihan eos area tr iv jateng ahmad nashruddin,\n",
      "\n",
      "Cluster 19 subject: dev backend tolak pilihan insi dan selain dan jalur zonasi dan pto, dev frontend disable pilihan insi dan jalur zonasi dan pto, dev siswa pto saat akan mendaftar jalur pto kena syarat daftar jalur pto, dev hasil unduhan laporan sementara dan laporan hasil akhir jalur prestasi jalur pto dan jalur afirmasi, devsyarat daftar jenjang smk jalur afirmasi tidak berjalan, dev syarat blokir jenjang smk all jalur tidak berjalan,  penyesuaian fitur cek status afirmasi, dev frontend penyesuaian fitur cek status afirmasi, dev backend penyesuaian fitur cek status afirmasi, override ungahan berkas siswa tidak memiliki prestasi dan afirmasi atau abk, override siswa afirmasi dapat mendaftar meski tidak memiliki kartu, override pilihan status afirmasi atau abk syarat daftar jalur afirmasi, override ungahan berkas siswa afirmasi atau abk jalur afirmasi, override memunculkan radio button pilihan luar insi jalur afirmasi, unggahan piagam prestasi tidak muncul saat memilih bukan siswa afirmasi dan abk,  validasi data pendaftaran siswa jalur afirmasi,  req override edit status dtks dan anak panti pada jalur afirmasi, penolakan untuk ajuan sma smk jalur afirmasi yang belum diverifikasi, override ubah ketentuan override di jalur afirmasi terkaid diterima semua, situs operator ubah urutan keikutsertaan program kurang mampu jalur afirmasi, override pilihan domisili luardalam tidak ditampilkan di laman pendaftaran jalur afirmasi penyandang disabilitas, syarat daftar jalur zonasi tidak berjalan, set default pilihan jalur zonasi dan jalur prestasi ya, dev backend ungahan berkas siswa tidak memiliki prestasi dan afirmasi atau abk, dev penyesuaian override pilihan status afirmasi atau abk syarat daftar jalur afirmasi, dev data afirmasi sd , dev penolakan untuk ajuan sma smk jalur afirmasi yang belum diverifikasi, dev status verifikasi di jalur zonasi dan jalur perpindahan, dev backend penyesuaian override jalur afirmasi dengan melepas validasi nik pkh, dev backend ungahan berkas siswa afirmasi atau abk jalur afirmasi, dev frontend ungahan berkas siswa afirmasi atau abk jalur afirmasi, dev frontend pilihan status afirmasi atau abk syarat daftar jalur afirmasi, dev backend pilihan status afirmasi atau abk syarat daftar jalur afirmasi, dev backend syarat daftar jalur zonasi tidak berjalan, dev set default pilihan jalur zonasi dan jalur prestasi ya, dev backend validasi data pendaftaran siswa jalur afirmasi, dev status verifikasi di jalur prestasi dan jalur afirmasi, backendunggahan piagam prestasi tidak muncul saat memilih bukan siswa afirmasi dan abk, dev kemkan pilihan pilihan luar insi untuk jalur afirmasi, dev pilihan domisili luardalam tidak ditampilkan di laman pendaftaran jalur afirmasi penyandang disabilitas,\n",
      "\n",
      "\n",
      "\n"
     ]
    }
   ],
   "source": [
    "from __future__ import print_function\n",
    "\n",
    "print(\"Top terms per cluster:\")\n",
    "print()\n",
    "#sort cluster centers by proximity to centroid\n",
    "order_centroids = km.cluster_centers_.argsort()[:, ::-1] \n",
    "\n",
    "for i in range(num_clusters):\n",
    "    #UNTUK MENAMPILKAN TOPIC (MASIH ERROR)\n",
    "    #print(f\"Cluster {i} topic:\", end='') \n",
    "    #for ind in order_centroids[i, :4]:  # Replace 6 with n_words_per_cluster\n",
    "        #word = terms[ind].split(' ')\n",
    "        #if word[0] in vocab_frame.index:\n",
    "            #print(f\" {vocab_frame.loc[word[0]].values.tolist()[0][0].encode('utf-8', 'ignore').decode('utf-8')},\", end='')\n",
    "    #print()  # Add whitespace\n",
    "    #print()  # Add whitespace\n",
    "\n",
    "    print(f\"Cluster {i} subject:\", end='')\n",
    "    if i in data_hsl.index:\n",
    "        for title in data_hsl.loc[i]['subject_p'].values.tolist():\n",
    "            print(f\" {title},\", end='')\n",
    "    print()  # Add whitespace\n",
    "    print()  # Add whitespace\n",
    "    \n",
    "print()\n",
    "print()"
   ]
  },
  {
   "cell_type": "markdown",
   "id": "1628b910-54cf-4485-8fd4-0fcd7b3ae8ea",
   "metadata": {},
   "source": [
    "### Menamakan Cluster"
   ]
  },
  {
   "cell_type": "code",
   "execution_count": null,
   "id": "f84b035c-f574-4ea2-87bf-7c0515b4a161",
   "metadata": {},
   "outputs": [],
   "source": [
    "cluster_names = {0: 'Manajemen dan Pemeliharaan Infrastruktur IT', \n",
    "                 1: 'Proses Migrasi dan Manajemen Data Siswa', \n",
    "                 2: 'Manajemen dan Implementasi Sistem', \n",
    "                 3: 'Up Situs Publik', \n",
    "                 4: 'Killed'}"
   ]
  }
 ],
 "metadata": {
  "kernelspec": {
   "display_name": "Python 3 (ipykernel)",
   "language": "python",
   "name": "python3"
  },
  "language_info": {
   "codemirror_mode": {
    "name": "ipython",
    "version": 3
   },
   "file_extension": ".py",
   "mimetype": "text/x-python",
   "name": "python",
   "nbconvert_exporter": "python",
   "pygments_lexer": "ipython3",
   "version": "3.12.4"
  }
 },
 "nbformat": 4,
 "nbformat_minor": 5
}
