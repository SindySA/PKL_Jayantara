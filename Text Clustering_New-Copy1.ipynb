{
 "cells": [
  {
   "cell_type": "markdown",
   "id": "70b0be47-34fd-43d1-8be2-ebb4b47eb7be",
   "metadata": {},
   "source": [
    "Sumber text clustering using NLTK library: https://github.com/lucas-de-sa/national-anthems-clustering/blob/master/Cluster_Anthems.ipynb\n",
    "\n",
    "Sumber text clustering using Spacy library: https://github.com/kirralabs/text-clustering/blob/master/script/core/Clustering.ipynb"
   ]
  },
  {
   "cell_type": "markdown",
   "id": "9eaaf42c-07e2-4bb3-995e-718721b14792",
   "metadata": {},
   "source": [
    "# A. Import Library"
   ]
  },
  {
   "cell_type": "code",
   "execution_count": 1,
   "id": "c8c36752-bf67-4740-9895-659c27981013",
   "metadata": {},
   "outputs": [],
   "source": [
    "import os, mpld3, nltk\n",
    "import numpy as np\n",
    "import pandas as pd\n",
    "import re"
   ]
  },
  {
   "cell_type": "code",
   "execution_count": 2,
   "id": "4db7c77f-be18-485e-bd9d-95ec13bf25dd",
   "metadata": {},
   "outputs": [],
   "source": [
    "from spacy.lang.id import Indonesian\n",
    "import fnmatch\n",
    "def getAllFileinFolder(folderpath):\n",
    "    filelist = []\n",
    "    for dirpath, dirs, files in os.walk(folderpath):\n",
    "        for filename in fnmatch.filter(files, '*.txt'):\n",
    "            filelist.append(dirpath + \"/\" + filename)\n",
    "    return filelist\n",
    "\n",
    "def writedataa(list, thname):\n",
    "    file = open(\"sentence_rep_{}.txt\".format(thname), \"w\");\n",
    "    for x in sorted(set(list)):\n",
    "        # for x in list:\n",
    "        # hasil = x.replace('\"','').replace(\"#\",\"\").replace(\"&nbsp;\",\"\" )\n",
    "        file.write(x + \"\\n\")\n",
    "    file.close()\n",
    "\n",
    "nlp = Indonesian()\n",
    "def tokenize_and_stem(text):\n",
    "    text = u'{}'.format(text)\n",
    "    doc = nlp(text)\n",
    "    stems = [t.lemma_ for t in doc]\n",
    "    stems = [t.lower() for t in stems]\n",
    "    return stems\n",
    "\n",
    "\n",
    "def tokenize_only(text):\n",
    "    text = u'{}'.format(text)\n",
    "    doc = nlp(text)\n",
    "    stems = [t.text for t in doc]\n",
    "    stems = [t.lower() for t in stems]\n",
    "    return stems"
   ]
  },
  {
   "cell_type": "markdown",
   "id": "4464e468-4fb2-4585-afb8-ba835b8b9541",
   "metadata": {},
   "source": [
    "# B. Import Dataset"
   ]
  },
  {
   "cell_type": "code",
   "execution_count": 3,
   "id": "51c00119-0d6a-4832-9d5e-1c88cfa78356",
   "metadata": {},
   "outputs": [
    {
     "data": {
      "text/html": [
       "<div>\n",
       "<style scoped>\n",
       "    .dataframe tbody tr th:only-of-type {\n",
       "        vertical-align: middle;\n",
       "    }\n",
       "\n",
       "    .dataframe tbody tr th {\n",
       "        vertical-align: top;\n",
       "    }\n",
       "\n",
       "    .dataframe thead th {\n",
       "        text-align: right;\n",
       "    }\n",
       "</style>\n",
       "<table border=\"1\" class=\"dataframe\">\n",
       "  <thead>\n",
       "    <tr style=\"text-align: right;\">\n",
       "      <th></th>\n",
       "      <th>sumber</th>\n",
       "      <th>tahun bulan</th>\n",
       "      <th>issue id</th>\n",
       "      <th>tracker</th>\n",
       "      <th>created on</th>\n",
       "      <th>closed on</th>\n",
       "      <th>start date</th>\n",
       "      <th>due date</th>\n",
       "      <th>project</th>\n",
       "      <th>subject</th>\n",
       "      <th>state</th>\n",
       "      <th>poin</th>\n",
       "      <th>id resolver</th>\n",
       "      <th>nama resolver</th>\n",
       "      <th>grup resolver</th>\n",
       "      <th>id creator</th>\n",
       "      <th>nama creator</th>\n",
       "      <th>ts menit</th>\n",
       "      <th>wkt resolved</th>\n",
       "      <th>st lembur</th>\n",
       "    </tr>\n",
       "  </thead>\n",
       "  <tbody>\n",
       "    <tr>\n",
       "      <th>0</th>\n",
       "      <td>Lapor PPDB</td>\n",
       "      <td>2024-06</td>\n",
       "      <td>21639</td>\n",
       "      <td>Support</td>\n",
       "      <td>2024-06-29 09:09:00</td>\n",
       "      <td>2024-07-01 05:11:11</td>\n",
       "      <td>2024-06-29</td>\n",
       "      <td>2024-06-29</td>\n",
       "      <td>Kota Denpasar</td>\n",
       "      <td>[Closing Engine] Kota Denpasar 2024 - Jalur Zo...</td>\n",
       "      <td>Closed</td>\n",
       "      <td>NaN</td>\n",
       "      <td>69.0</td>\n",
       "      <td>Febrian Hilmi Firdaus</td>\n",
       "      <td>DSO</td>\n",
       "      <td>69</td>\n",
       "      <td>Febrian Hilmi Firdaus</td>\n",
       "      <td>NaN</td>\n",
       "      <td>2024-06-29 14:30:41</td>\n",
       "      <td>Lembur</td>\n",
       "    </tr>\n",
       "    <tr>\n",
       "      <th>1</th>\n",
       "      <td>Lapor PPDB</td>\n",
       "      <td>2024-06</td>\n",
       "      <td>21662</td>\n",
       "      <td>Support</td>\n",
       "      <td>2024-06-29 12:51:50</td>\n",
       "      <td>2024-07-01 05:10:57</td>\n",
       "      <td>2024-06-29</td>\n",
       "      <td>2024-06-29</td>\n",
       "      <td>Prov. Bali</td>\n",
       "      <td>[Kendala] Siswa Masih Bisa Langsung Pengajuan ...</td>\n",
       "      <td>Closed</td>\n",
       "      <td>NaN</td>\n",
       "      <td>69.0</td>\n",
       "      <td>Febrian Hilmi Firdaus</td>\n",
       "      <td>DSO</td>\n",
       "      <td>69</td>\n",
       "      <td>Febrian Hilmi Firdaus</td>\n",
       "      <td>NaN</td>\n",
       "      <td>2024-07-01 05:10:57</td>\n",
       "      <td>Normal</td>\n",
       "    </tr>\n",
       "    <tr>\n",
       "      <th>2</th>\n",
       "      <td>Lapor PPDB</td>\n",
       "      <td>2024-06</td>\n",
       "      <td>21088</td>\n",
       "      <td>Support</td>\n",
       "      <td>2024-06-22 05:30:34</td>\n",
       "      <td>2024-06-22 10:18:51</td>\n",
       "      <td>2024-06-22</td>\n",
       "      <td>2024-06-29</td>\n",
       "      <td>Prov. Nusa Tenggara Timur</td>\n",
       "      <td>[Closing Engine] Prov NTT 2024 - SMA All Jalur...</td>\n",
       "      <td>Closed</td>\n",
       "      <td>NaN</td>\n",
       "      <td>69.0</td>\n",
       "      <td>Febrian Hilmi Firdaus</td>\n",
       "      <td>DSO</td>\n",
       "      <td>69</td>\n",
       "      <td>Febrian Hilmi Firdaus</td>\n",
       "      <td>NaN</td>\n",
       "      <td>2024-06-22 08:54:49</td>\n",
       "      <td>Normal</td>\n",
       "    </tr>\n",
       "    <tr>\n",
       "      <th>3</th>\n",
       "      <td>Lapor PPDB</td>\n",
       "      <td>2024-06</td>\n",
       "      <td>21689</td>\n",
       "      <td>Support</td>\n",
       "      <td>2024-07-01 02:28:58</td>\n",
       "      <td>2024-07-01 02:46:11</td>\n",
       "      <td>2024-06-30</td>\n",
       "      <td>2024-07-01</td>\n",
       "      <td>Kanwil Prov. DKI Jakarta</td>\n",
       "      <td>[DEV] Pengecekan dan Penyesuaian hasil seleksi...</td>\n",
       "      <td>Closed</td>\n",
       "      <td>5.0</td>\n",
       "      <td>4.0</td>\n",
       "      <td>Azhar Mashuri</td>\n",
       "      <td>DIP</td>\n",
       "      <td>4</td>\n",
       "      <td>Azhar Mashuri</td>\n",
       "      <td>NaN</td>\n",
       "      <td>2024-07-01 02:46:06</td>\n",
       "      <td>Lembur</td>\n",
       "    </tr>\n",
       "    <tr>\n",
       "      <th>4</th>\n",
       "      <td>Lapor PPDB</td>\n",
       "      <td>2024-06</td>\n",
       "      <td>21479</td>\n",
       "      <td>Support</td>\n",
       "      <td>2024-06-26 14:13:47</td>\n",
       "      <td>2024-07-01 01:27:33</td>\n",
       "      <td>2024-06-26</td>\n",
       "      <td>2024-06-26</td>\n",
       "      <td>Kota Sukabumi</td>\n",
       "      <td>Pengecekan File Ajuan Pendaftaran di Operator ...</td>\n",
       "      <td>Closed</td>\n",
       "      <td>NaN</td>\n",
       "      <td>74.0</td>\n",
       "      <td>Hayan .</td>\n",
       "      <td>DSO</td>\n",
       "      <td>74</td>\n",
       "      <td>Hayan .</td>\n",
       "      <td>NaN</td>\n",
       "      <td>2024-06-26 14:24:31</td>\n",
       "      <td>Normal</td>\n",
       "    </tr>\n",
       "    <tr>\n",
       "      <th>5</th>\n",
       "      <td>Lapor PPDB</td>\n",
       "      <td>2024-06</td>\n",
       "      <td>21680</td>\n",
       "      <td>Support</td>\n",
       "      <td>2024-06-30 19:56:25</td>\n",
       "      <td>2024-06-30 22:43:27</td>\n",
       "      <td>2024-06-30</td>\n",
       "      <td>2024-06-30</td>\n",
       "      <td>Kota Serang</td>\n",
       "      <td>[DEV] Backend - Tolak Pilihan Provinsi Dan Kot...</td>\n",
       "      <td>Closed</td>\n",
       "      <td>1.0</td>\n",
       "      <td>62.0</td>\n",
       "      <td>Villa Nanda</td>\n",
       "      <td>DIP</td>\n",
       "      <td>4</td>\n",
       "      <td>Azhar Mashuri</td>\n",
       "      <td>NaN</td>\n",
       "      <td>2024-06-30 21:41:11</td>\n",
       "      <td>Lembur</td>\n",
       "    </tr>\n",
       "  </tbody>\n",
       "</table>\n",
       "</div>"
      ],
      "text/plain": [
       "       sumber tahun bulan  issue id  tracker           created on  \\\n",
       "0  Lapor PPDB     2024-06     21639  Support  2024-06-29 09:09:00   \n",
       "1  Lapor PPDB     2024-06     21662  Support  2024-06-29 12:51:50   \n",
       "2  Lapor PPDB     2024-06     21088  Support  2024-06-22 05:30:34   \n",
       "3  Lapor PPDB     2024-06     21689  Support  2024-07-01 02:28:58   \n",
       "4  Lapor PPDB     2024-06     21479  Support  2024-06-26 14:13:47   \n",
       "5  Lapor PPDB     2024-06     21680  Support  2024-06-30 19:56:25   \n",
       "\n",
       "             closed on  start date    due date                    project  \\\n",
       "0  2024-07-01 05:11:11  2024-06-29  2024-06-29              Kota Denpasar   \n",
       "1  2024-07-01 05:10:57  2024-06-29  2024-06-29                 Prov. Bali   \n",
       "2  2024-06-22 10:18:51  2024-06-22  2024-06-29  Prov. Nusa Tenggara Timur   \n",
       "3  2024-07-01 02:46:11  2024-06-30  2024-07-01   Kanwil Prov. DKI Jakarta   \n",
       "4  2024-07-01 01:27:33  2024-06-26  2024-06-26              Kota Sukabumi   \n",
       "5  2024-06-30 22:43:27  2024-06-30  2024-06-30                Kota Serang   \n",
       "\n",
       "                                             subject   state  poin  \\\n",
       "0  [Closing Engine] Kota Denpasar 2024 - Jalur Zo...  Closed   NaN   \n",
       "1  [Kendala] Siswa Masih Bisa Langsung Pengajuan ...  Closed   NaN   \n",
       "2  [Closing Engine] Prov NTT 2024 - SMA All Jalur...  Closed   NaN   \n",
       "3  [DEV] Pengecekan dan Penyesuaian hasil seleksi...  Closed   5.0   \n",
       "4  Pengecekan File Ajuan Pendaftaran di Operator ...  Closed   NaN   \n",
       "5  [DEV] Backend - Tolak Pilihan Provinsi Dan Kot...  Closed   1.0   \n",
       "\n",
       "   id resolver          nama resolver grup resolver  id creator  \\\n",
       "0         69.0  Febrian Hilmi Firdaus           DSO          69   \n",
       "1         69.0  Febrian Hilmi Firdaus           DSO          69   \n",
       "2         69.0  Febrian Hilmi Firdaus           DSO          69   \n",
       "3          4.0          Azhar Mashuri           DIP           4   \n",
       "4         74.0                Hayan .           DSO          74   \n",
       "5         62.0            Villa Nanda           DIP           4   \n",
       "\n",
       "            nama creator  ts menit         wkt resolved st lembur  \n",
       "0  Febrian Hilmi Firdaus       NaN  2024-06-29 14:30:41    Lembur  \n",
       "1  Febrian Hilmi Firdaus       NaN  2024-07-01 05:10:57    Normal  \n",
       "2  Febrian Hilmi Firdaus       NaN  2024-06-22 08:54:49    Normal  \n",
       "3          Azhar Mashuri       NaN  2024-07-01 02:46:06    Lembur  \n",
       "4                Hayan .       NaN  2024-06-26 14:24:31    Normal  \n",
       "5          Azhar Mashuri       NaN  2024-06-30 21:41:11    Lembur  "
      ]
     },
     "execution_count": 3,
     "metadata": {},
     "output_type": "execute_result"
    }
   ],
   "source": [
    "data_raw = pd.read_csv('~/Downloads/data-ticket-karyawan.csv', encoding='utf-8')\n",
    "data_raw.columns = map(str.lower, data_raw.columns) #membuat huruf awal nama kolom menjadi tidak kapital\n",
    "\n",
    "sumber = ['Lapor PPDB']\n",
    "data_raw = data_raw.loc[data_raw['sumber'].isin(sumber)]\n",
    "data_raw.head(6)"
   ]
  },
  {
   "cell_type": "code",
   "execution_count": 4,
   "id": "e337b4de-fd75-40b2-a51e-62de6a28c20b",
   "metadata": {},
   "outputs": [
    {
     "name": "stdout",
     "output_type": "stream",
     "text": [
      "<class 'pandas.core.frame.DataFrame'>\n",
      "Index: 2036 entries, 0 to 2035\n",
      "Data columns (total 20 columns):\n",
      " #   Column         Non-Null Count  Dtype  \n",
      "---  ------         --------------  -----  \n",
      " 0   sumber         2036 non-null   object \n",
      " 1   tahun bulan    2036 non-null   object \n",
      " 2   issue id       2036 non-null   int64  \n",
      " 3   tracker        2036 non-null   object \n",
      " 4   created on     2036 non-null   object \n",
      " 5   closed on      2036 non-null   object \n",
      " 6   start date     1630 non-null   object \n",
      " 7   due date       2036 non-null   object \n",
      " 8   project        2036 non-null   object \n",
      " 9   subject        2036 non-null   object \n",
      " 10  state          2036 non-null   object \n",
      " 11  poin           1712 non-null   float64\n",
      " 12  id resolver    2036 non-null   float64\n",
      " 13  nama resolver  2036 non-null   object \n",
      " 14  grup resolver  1952 non-null   object \n",
      " 15  id creator     2036 non-null   int64  \n",
      " 16  nama creator   2036 non-null   object \n",
      " 17  ts menit       371 non-null    float64\n",
      " 18  wkt resolved   2036 non-null   object \n",
      " 19  st lembur      2036 non-null   object \n",
      "dtypes: float64(3), int64(2), object(15)\n",
      "memory usage: 334.0+ KB\n"
     ]
    }
   ],
   "source": [
    "data_raw.info()"
   ]
  },
  {
   "cell_type": "markdown",
   "id": "de8e733f-3020-42eb-b376-2f3205e14f46",
   "metadata": {},
   "source": [
    "# Pilih Kolom"
   ]
  },
  {
   "cell_type": "code",
   "execution_count": 47,
   "id": "84ef6089-2632-4fa2-9259-d00fb8bf74fe",
   "metadata": {},
   "outputs": [
    {
     "data": {
      "text/plain": [
       "0       [Closing Engine] Kota Denpasar 2024 - Jalur Zo...\n",
       "1       [Kendala] Siswa Masih Bisa Langsung Pengajuan ...\n",
       "2       [Closing Engine] Prov NTT 2024 - SMA All Jalur...\n",
       "3       [DEV] Pengecekan dan Penyesuaian hasil seleksi...\n",
       "4       Pengecekan File Ajuan Pendaftaran di Operator ...\n",
       "                              ...                        \n",
       "2031    Reset daftar Ajuan Pendaftaran Gabungan zona Demo\n",
       "2032                    Override Engine Seleksi Kota Batu\n",
       "2033       Dokumen SPH PPDB Online Kota Palangkaraya 2023\n",
       "2034    Override Info Dari Formatter Kapasitas Jika Ya...\n",
       "2035                 Konfirmasi daerah 3 Kota/Kab di TR I\n",
       "Name: subject, Length: 2036, dtype: object"
      ]
     },
     "execution_count": 47,
     "metadata": {},
     "output_type": "execute_result"
    }
   ],
   "source": [
    "data_subj = data_raw['subject']\n",
    "\n",
    "data =  data_raw['subject']\n",
    "data"
   ]
  },
  {
   "cell_type": "code",
   "execution_count": 48,
   "id": "3f54285e-d120-41b7-9953-c57be592ec83",
   "metadata": {},
   "outputs": [
    {
     "data": {
      "text/plain": [
       "array(['[Closing Engine] Kota Denpasar 2024 - Jalur Zonasi Kategori Umum - Tahap 1',\n",
       "       '[Kendala] Siswa Masih Bisa Langsung Pengajuan Pendaftaran di 2 Jenjang Sekaligus',\n",
       "       '[Closing Engine] Prov NTT 2024 - SMA All Jalur - Tahap 1', ...,\n",
       "       'Dokumen SPH PPDB Online Kota Palangkaraya 2023',\n",
       "       'Override Info Dari Formatter Kapasitas Jika Yang Diakses Adalah Kota Batu',\n",
       "       'Konfirmasi daerah 3 Kota/Kab di TR I'], dtype=object)"
      ]
     },
     "execution_count": 48,
     "metadata": {},
     "output_type": "execute_result"
    }
   ],
   "source": [
    "data.values #Menjadikan array"
   ]
  },
  {
   "cell_type": "markdown",
   "id": "fcfeb2a0-959f-4d5e-ab59-0bbb61f359b6",
   "metadata": {},
   "source": [
    "# Cleaning data"
   ]
  },
  {
   "cell_type": "code",
   "execution_count": 49,
   "id": "c46c05b3-85fe-4aae-829c-2511855608ef",
   "metadata": {},
   "outputs": [
    {
     "data": {
      "text/plain": [
       "0       [closing engine] kota denpasar 2024 - jalur zo...\n",
       "1       [kendala] siswa masih bisa langsung pengajuan ...\n",
       "2       [closing engine] prov ntt 2024 - sma all jalur...\n",
       "3       [dev] pengecekan dan penyesuaian hasil seleksi...\n",
       "4       pengecekan file ajuan pendaftaran di operator ...\n",
       "                              ...                        \n",
       "2031    reset daftar ajuan pendaftaran gabungan zona demo\n",
       "2032                    override engine seleksi kota batu\n",
       "2033       dokumen sph ppdb online kota palangkaraya 2023\n",
       "2034    override info dari formatter kapasitas jika ya...\n",
       "2035                 konfirmasi daerah 3 kota/kab di tr i\n",
       "Name: subject, Length: 2036, dtype: object"
      ]
     },
     "execution_count": 49,
     "metadata": {},
     "output_type": "execute_result"
    }
   ],
   "source": [
    "#Mengubah huruf kapital menjadi lower case\n",
    "data = data.str.lower()\n",
    "data"
   ]
  },
  {
   "cell_type": "code",
   "execution_count": 50,
   "id": "adb10fff-406b-4f89-9b54-80e22bb03bc9",
   "metadata": {},
   "outputs": [
    {
     "data": {
      "text/plain": [
       "0       closing engine     jalur zonasi kategori umum ...\n",
       "1       kendala siswa masih bisa langsung pengajuan pe...\n",
       "2               closing engine     sma all jalur  tahap 1\n",
       "3       dev pengecekan dan penyesuaian hasil seleksi j...\n",
       "4       pengecekan file ajuan pendaftaran di operator ...\n",
       "                              ...                        \n",
       "2031    reset daftar ajuan pendaftaran gabungan zona demo\n",
       "2032                            override engine seleksi  \n",
       "2033                               dokumen sph  online   \n",
       "2034    override info dari formatter kapasitas jika ya...\n",
       "2035                               konfirmasi  3  di tr i\n",
       "Name: subject, Length: 2036, dtype: object"
      ]
     },
     "execution_count": 50,
     "metadata": {},
     "output_type": "execute_result"
    }
   ],
   "source": [
    "def clean_text(text):\n",
    "    text = re.sub(r\"(@\\[A-Za-z0-9]+)|([^0-9A-Za-z \\t])|(\\w+:\\/\\/\\S+)|^rt|http.+?\", \"\", text)\n",
    "    text = re.sub(r\"2024|2023|ppdb\", \"\", text)\n",
    "    text = re.sub(r\"kota|kab|prov|kotakab|diy|daerah\", \"\", text)\n",
    "    text = re.sub(r\"balikpapan|bontang|samarinda|bangka|bantul|barito selatan|batang|berau|bungo|demak|gresik|grobogan|jepara|karimun|klaten|kudus|kulon progo| kutai timur|malang|pati|purbalingga|sleman|jakarta|banjarbaru|batu|bengkulu|bontang|denpasar|jambi|mataram|mojokerto|padang sidempuan|palangkaraya|pasuruan|pontianak|serang|sukabumi|yogyakarta|bali|banten|yogyakarta|jambi|jawa tengah|kalimantan tengah|kalimantan selatan|lampung|ntt|nusa tenggara timur\", \"\", text)\n",
    "    return text\n",
    "    \n",
    "\n",
    "# Apply the function to each element in the 'text' column\n",
    "data = data.apply(clean_text)\n",
    "\n",
    "data"
   ]
  },
  {
   "cell_type": "code",
   "execution_count": 51,
   "id": "9e6f3aa0-d1a8-4c5c-8d39-b01d50c8d872",
   "metadata": {},
   "outputs": [
    {
     "data": {
      "text/plain": [
       "0       closing engine jalur zonasi kategori umum tahap 1\n",
       "1       kendala siswa masih bisa langsung pengajuan pe...\n",
       "2                    closing engine sma all jalur tahap 1\n",
       "3       dev pengecekan dan penyesuaian hasil seleksi j...\n",
       "4       pengecekan file ajuan pendaftaran di operator ...\n",
       "                              ...                        \n",
       "2031    reset daftar ajuan pendaftaran gabungan zona demo\n",
       "2032                             override engine seleksi \n",
       "2033                                  dokumen sph online \n",
       "2034    override info dari formatter kapasitas jika ya...\n",
       "2035                                 konfirmasi 3 di tr i\n",
       "Name: subject, Length: 2036, dtype: object"
      ]
     },
     "execution_count": 51,
     "metadata": {},
     "output_type": "execute_result"
    }
   ],
   "source": [
    "data = data.str.replace(r'\\s+', ' ', regex=True)\n",
    "data"
   ]
  },
  {
   "cell_type": "code",
   "execution_count": 52,
   "id": "69c483c2-8a4e-4b6a-9a61-e186d59c638c",
   "metadata": {},
   "outputs": [
    {
     "data": {
      "text/plain": [
       "array(['closing engine jalur zonasi kategori umum tahap 1',\n",
       "       'kendala siswa masih bisa langsung pengajuan pendaftaran di 2 jenjang sekaligus',\n",
       "       'closing engine sma all jalur tahap 1', ..., 'dokumen sph online ',\n",
       "       'override info dari formatter kapasitas jika yang diakses adalah ',\n",
       "       'konfirmasi 3 di tr i'], dtype=object)"
      ]
     },
     "execution_count": 52,
     "metadata": {},
     "output_type": "execute_result"
    }
   ],
   "source": [
    "data.values"
   ]
  },
  {
   "cell_type": "code",
   "execution_count": 53,
   "id": "f1397ecf-6c33-487a-b5e3-0ddddbfb86d7",
   "metadata": {},
   "outputs": [
    {
     "name": "stdout",
     "output_type": "stream",
     "text": [
      "<class 'pandas.core.series.Series'>\n",
      "Index: 2036 entries, 0 to 2035\n",
      "Series name: subject\n",
      "Non-Null Count  Dtype \n",
      "--------------  ----- \n",
      "2036 non-null   object\n",
      "dtypes: object(1)\n",
      "memory usage: 31.8+ KB\n"
     ]
    }
   ],
   "source": [
    "data.info()"
   ]
  },
  {
   "cell_type": "markdown",
   "id": "796b3c1e-6310-402b-9ee0-ff99047e3a22",
   "metadata": {},
   "source": [
    "# Stopwords Indonesia"
   ]
  },
  {
   "cell_type": "markdown",
   "id": "fc4d1f7f-dabb-4ae2-b9e7-8ffccc58d471",
   "metadata": {},
   "source": [
    "STOPWORDS UNTUK BAHASA INDONESIA: https://github.com/stopwords-iso/stopwords-id/blob/132f51cb383abf95a98beb33c4e1afb6933ff884/raw/indonesian-stopwords-complete.txt"
   ]
  },
  {
   "cell_type": "code",
   "execution_count": 54,
   "id": "8ea9852f-6d8b-4010-a639-a2b01cd33011",
   "metadata": {},
   "outputs": [],
   "source": [
    "stopword_ind = open('indonesian-stopwords-complete.txt')\n",
    "stopword_ind = list(stopword_ind)\n",
    "stopword_ind = [word.strip() for word in stopword_ind]\n",
    "#cleaned_words = [word.replace('\\n', '') for word in words]\n",
    "#stopword_ind"
   ]
  },
  {
   "cell_type": "markdown",
   "id": "603bfbff-a653-4dda-b192-43bd239778aa",
   "metadata": {},
   "source": [
    "# Tokenization"
   ]
  },
  {
   "cell_type": "code",
   "execution_count": 55,
   "id": "5fe0c8d3-bfe3-4bde-814d-47e111fd0c67",
   "metadata": {},
   "outputs": [
    {
     "name": "stdout",
     "output_type": "stream",
     "text": [
      "Article process: 2036 from 2036\n",
      "\n",
      "total vacab stem:  14252\n",
      "total vacab tokenize:  14252\n"
     ]
    }
   ],
   "source": [
    "#not super pythonic, no, not at all.\n",
    "#use extend so it's a big flat list of vocab\n",
    "from __future__ import print_function\n",
    "totalvocab_stemmed = []\n",
    "totalvocab_tokenized = []\n",
    "dataarticle = list(data.values)\n",
    "count = 0\n",
    "for i in dataarticle:\n",
    "    print(\"\\rArticle process: {} from {}\".format(count+1, len(dataarticle)), end=\"\")\n",
    "    count += 1\n",
    "    allwords_stemmed = tokenize_and_stem(i) #for each item in 'synopses', tokenize/stem\n",
    "    totalvocab_stemmed.extend(allwords_stemmed) #extend the 'totalvocab_stemmed' list\n",
    "    \n",
    "    allwords_tokenized = tokenize_only(i)\n",
    "    totalvocab_tokenized.extend(allwords_tokenized)\n",
    "print (\"\")\n",
    "print (\"\")\n",
    "\n",
    "print (\"total vacab stem: \", len(totalvocab_stemmed))\n",
    "print (\"total vacab tokenize: \",len(totalvocab_tokenized))"
   ]
  },
  {
   "cell_type": "code",
   "execution_count": 56,
   "id": "07b133d3-1889-4ce6-b407-1b08edd703ce",
   "metadata": {},
   "outputs": [
    {
     "name": "stdout",
     "output_type": "stream",
     "text": [
      "there are 14252 items in vocab_frame\n"
     ]
    }
   ],
   "source": [
    "vocab_frame = pd.DataFrame({'words': totalvocab_tokenized}, index = totalvocab_stemmed)\n",
    "print ('there are ' + str(vocab_frame.shape[0]) + ' items in vocab_frame')\n",
    "# vocab_frame[:10] #print 10 word"
   ]
  },
  {
   "cell_type": "markdown",
   "id": "88257a67-ca52-425f-9d31-949f5afe32b7",
   "metadata": {},
   "source": [
    "Ada 2 versi dalam Vectorization:\n",
    "\n",
    "\n",
    "1. vectorizer_model = CountVectorizer(ngram_range=(2, 2),\n",
    "                                   stop_words=stopword_ind)\n",
    "\n",
    "   - code ini akan digunakan pada bagian BERT penetuan topic di akhir\n",
    "\n",
    "   \n",
    "3. tfidf_vectorizer = TfidfVectorizer()\n",
    "   \n",
    "   - ini berasal dari\n",
    "   - tfidf_vectorizer = TfidfVectorizer(max_df=0.8, max_features=200000,\n",
    "                                 #min_df=2, stop_words=stopword_ind,\n",
    "                                 #use_idf=True, tokenizer=tokenize_and_stem, ngram_range=(1,3))\n",
    "   - Namun code ini error pada min dan max nya\n",
    "   - Akan digunakan pada bagian ini"
   ]
  },
  {
   "cell_type": "code",
   "execution_count": 57,
   "id": "c784cd26-e001-401d-90aa-b8de1412f904",
   "metadata": {},
   "outputs": [
    {
     "name": "stdout",
     "output_type": "stream",
     "text": [
      "TF-idf matrix:  (2036, 1090)\n"
     ]
    },
    {
     "name": "stderr",
     "output_type": "stream",
     "text": [
      "/Users/mac/Downloads/jupyter_env/lib/python3.12/site-packages/sklearn/feature_extraction/text.py:406: UserWarning: Your stop_words may be inconsistent with your preprocessing. Tokenizing the stop words generated tokens ['baiknya', 'berkali', 'kali', 'kurangnya', 'mata', 'olah', 'sekurang', 'setidak', 'tama', 'tidaknya'] not in stop_words.\n",
      "  warnings.warn(\n"
     ]
    }
   ],
   "source": [
    "from spacy.lang.id import stop_words\n",
    "from string import punctuation, digits\n",
    "from sklearn.feature_extraction.text import TfidfVectorizer\n",
    "\n",
    "# ERROR PADA MIN DF DAN MAX DF NYA\n",
    "tfidf_vectorizer = TfidfVectorizer(stop_words=stopword_ind)\n",
    "\n",
    "#tfidf_vectorizer = TfidfVectorizer()\n",
    "\n",
    "tfidf_matrix = tfidf_vectorizer.fit_transform(list(data.values)) #fit the vectorizer to synopses\n",
    "\n",
    "print(\"TF-idf matrix: \",tfidf_matrix.shape)\n",
    "\n",
    "terms = tfidf_vectorizer.get_feature_names_out()"
   ]
  },
  {
   "cell_type": "markdown",
   "id": "1a902564-d372-448b-924e-a239ff69ce7d",
   "metadata": {},
   "source": [
    "/Users/mac/Downloads/jupyter_env/lib/python3.12/site-packages/sklearn/feature_extraction/text.py:406: UserWarning: Your stop_words may be inconsistent with your preprocessing. Tokenizing the stop words generated tokens ['baiknya', 'berkali', 'kali', 'kurangnya', 'mata', 'olah', 'sekurang', 'setidak', 'tama', 'tidaknya'] not in stop_words.\n",
    "  warnings.warn("
   ]
  },
  {
   "cell_type": "code",
   "execution_count": 58,
   "id": "b0cdc326-f678-48a2-baab-3c10fee5e513",
   "metadata": {},
   "outputs": [
    {
     "data": {
      "text/plain": [
       "array([[-2.22044605e-16,  1.00000000e+00,  4.31624787e-01, ...,\n",
       "         1.00000000e+00,  1.00000000e+00,  1.00000000e+00],\n",
       "       [ 1.00000000e+00,  3.33066907e-16,  1.00000000e+00, ...,\n",
       "         1.00000000e+00,  1.00000000e+00,  1.00000000e+00],\n",
       "       [ 4.31624787e-01,  1.00000000e+00, -2.22044605e-16, ...,\n",
       "         1.00000000e+00,  1.00000000e+00,  1.00000000e+00],\n",
       "       ...,\n",
       "       [ 1.00000000e+00,  1.00000000e+00,  1.00000000e+00, ...,\n",
       "        -2.22044605e-16,  1.00000000e+00,  1.00000000e+00],\n",
       "       [ 1.00000000e+00,  1.00000000e+00,  1.00000000e+00, ...,\n",
       "         1.00000000e+00,  0.00000000e+00,  1.00000000e+00],\n",
       "       [ 1.00000000e+00,  1.00000000e+00,  1.00000000e+00, ...,\n",
       "         1.00000000e+00,  1.00000000e+00, -2.22044605e-16]])"
      ]
     },
     "execution_count": 58,
     "metadata": {},
     "output_type": "execute_result"
    }
   ],
   "source": [
    "from sklearn.metrics.pairwise import cosine_similarity\n",
    "dist = 1 - cosine_similarity(tfidf_matrix)\n",
    "print\n",
    "dist"
   ]
  },
  {
   "cell_type": "markdown",
   "id": "70898e40-4b20-496b-9277-8517ba7d21d0",
   "metadata": {},
   "source": [
    "# Elbow methods"
   ]
  },
  {
   "cell_type": "markdown",
   "id": "a4b17eaa-deb3-47cc-a886-e09acb2ef3ac",
   "metadata": {},
   "source": [
    "Sumber: https://medium.com/@rohithramesh1991/unsupervised-text-clustering-using-natural-language-processing-nlp-1a8bc18b048d"
   ]
  },
  {
   "cell_type": "code",
   "execution_count": 59,
   "id": "28e1187f-a5ac-4abc-ae96-6b1f403fbf83",
   "metadata": {},
   "outputs": [],
   "source": [
    "from tqdm import tqdm\n",
    "from sklearn.cluster import KMeans\n",
    "\n",
    "import matplotlib.pyplot as plt"
   ]
  },
  {
   "cell_type": "code",
   "execution_count": 61,
   "id": "134846b4-0210-4dca-ae36-08ef35f2be6f",
   "metadata": {},
   "outputs": [
    {
     "data": {
      "image/png": "[encoded data removed]",
      "text/plain": [
       "<Figure size 640x480 with 1 Axes>"
      ]
     },
     "metadata": {},
     "output_type": "display_data"
    }
   ],
   "source": [
    "#checking for optimal number of clusters\n",
    "SSD = []\n",
    "K = range(1,150)\n",
    "for k in K:\n",
    "    kmm = KMeans (n_clusters=k, random_state=100)\n",
    "    kmm = kmm.fit (tfidf_matrix)\n",
    "    SSD.append(kmm.inertia_)\n",
    "\n",
    "plt.plot(K, SSD, 'bx-')\n",
    "plt.xlabel('k')\n",
    "plt.ylabel('SSD')\n",
    "plt.title('Elbow Method For Optimal k')\n",
    "plt.show()"
   ]
  },
  {
   "cell_type": "markdown",
   "id": "1057bdfc-2e09-47b1-ad9c-f2ddc65f39a0",
   "metadata": {},
   "source": [
    "Berdasarkan grafik dapat dilihat bahwa maksimum k nya adalah antara 0 sampai 20"
   ]
  },
  {
   "cell_type": "code",
   "execution_count": 63,
   "id": "3d08975a-04f4-4381-9788-2fd4c64aac54",
   "metadata": {},
   "outputs": [
    {
     "data": {
      "image/png": "[encoded data removed]",
      "text/plain": [
       "<Figure size 640x480 with 1 Axes>"
      ]
     },
     "metadata": {},
     "output_type": "display_data"
    }
   ],
   "source": [
    "SSD = []\n",
    "K = range(1,50)\n",
    "for k in K:\n",
    "    kmm = KMeans (n_clusters=k, random_state=100)\n",
    "    kmm = kmm.fit (tfidf_matrix)\n",
    "    SSD.append(kmm.inertia_)\n",
    "\n",
    "plt.plot(K, SSD, 'bx-')\n",
    "plt.xlabel('k')\n",
    "plt.ylabel('SSD')\n",
    "plt.title('Elbow Method For Optimal k')\n",
    "plt.show()"
   ]
  },
  {
   "cell_type": "markdown",
   "id": "d37c6ee2-753b-4ca7-a43b-654df66faebc",
   "metadata": {},
   "source": [
    "Berdasarkan grafik, elbow berada pada 10 sampai 15"
   ]
  },
  {
   "cell_type": "code",
   "execution_count": 65,
   "id": "0665b345-7f53-4f21-b770-33a0f061949a",
   "metadata": {},
   "outputs": [
    {
     "data": {
      "image/png": "[encoded data removed]",
      "text/plain": [
       "<Figure size 640x480 with 1 Axes>"
      ]
     },
     "metadata": {},
     "output_type": "display_data"
    }
   ],
   "source": [
    "SSD = []\n",
    "K = range(10,15)\n",
    "for k in K:\n",
    "    kmm = KMeans (n_clusters=k, random_state=100)\n",
    "    kmm = kmm.fit (tfidf_matrix)\n",
    "    SSD.append(kmm.inertia_)\n",
    "\n",
    "plt.plot(K, SSD, 'bx-')\n",
    "plt.xlabel('k')\n",
    "plt.ylabel('SSD')\n",
    "plt.title('Elbow Method For Optimal k')\n",
    "plt.show()"
   ]
  },
  {
   "cell_type": "markdown",
   "id": "8f5fdd16-5d51-442f-b9d2-1d2d43f0293d",
   "metadata": {},
   "source": [
    "Cluster maks berdasarkan elbow = 12"
   ]
  },
  {
   "cell_type": "markdown",
   "id": "76790733-3899-4a59-a5a8-200b2dabf33f",
   "metadata": {},
   "source": [
    "# KMeans"
   ]
  },
  {
   "cell_type": "code",
   "execution_count": 78,
   "id": "8417d6d4-4175-422a-a354-686ae0021bf1",
   "metadata": {},
   "outputs": [],
   "source": [
    "from sklearn.cluster import KMeans\n",
    "\n",
    "num_clusters = 12\n",
    "\n",
    "km = KMeans(n_clusters=num_clusters, random_state=30)\n",
    "#random_state=...) agar tidak berubah-ubah\n",
    "\n",
    "km.fit(tfidf_matrix)\n",
    "\n",
    "clusters = km.labels_.tolist()"
   ]
  },
  {
   "cell_type": "code",
   "execution_count": 79,
   "id": "6c9fe952-cad6-4781-b6db-a72b0d3316a5",
   "metadata": {},
   "outputs": [
    {
     "data": {
      "text/html": [
       "<div>\n",
       "<style scoped>\n",
       "    .dataframe tbody tr th:only-of-type {\n",
       "        vertical-align: middle;\n",
       "    }\n",
       "\n",
       "    .dataframe tbody tr th {\n",
       "        vertical-align: top;\n",
       "    }\n",
       "\n",
       "    .dataframe thead th {\n",
       "        text-align: right;\n",
       "    }\n",
       "</style>\n",
       "<table border=\"1\" class=\"dataframe\">\n",
       "  <thead>\n",
       "    <tr style=\"text-align: right;\">\n",
       "      <th></th>\n",
       "      <th>subject</th>\n",
       "      <th>subject_p</th>\n",
       "      <th>cluster</th>\n",
       "    </tr>\n",
       "  </thead>\n",
       "  <tbody>\n",
       "    <tr>\n",
       "      <th>11</th>\n",
       "      <td>[Closing Engine] Kota Denpasar 2024 - Jalur Zo...</td>\n",
       "      <td>closing engine jalur zonasi kategori umum tahap 1</td>\n",
       "      <td>11</td>\n",
       "    </tr>\n",
       "    <tr>\n",
       "      <th>9</th>\n",
       "      <td>[Kendala] Siswa Masih Bisa Langsung Pengajuan ...</td>\n",
       "      <td>kendala siswa masih bisa langsung pengajuan pe...</td>\n",
       "      <td>9</td>\n",
       "    </tr>\n",
       "    <tr>\n",
       "      <th>11</th>\n",
       "      <td>[Closing Engine] Prov NTT 2024 - SMA All Jalur...</td>\n",
       "      <td>closing engine sma all jalur tahap 1</td>\n",
       "      <td>11</td>\n",
       "    </tr>\n",
       "    <tr>\n",
       "      <th>11</th>\n",
       "      <td>[DEV] Pengecekan dan Penyesuaian hasil seleksi...</td>\n",
       "      <td>dev pengecekan dan penyesuaian hasil seleksi j...</td>\n",
       "      <td>11</td>\n",
       "    </tr>\n",
       "    <tr>\n",
       "      <th>9</th>\n",
       "      <td>Pengecekan File Ajuan Pendaftaran di Operator ...</td>\n",
       "      <td>pengecekan file ajuan pendaftaran di operator ...</td>\n",
       "      <td>9</td>\n",
       "    </tr>\n",
       "    <tr>\n",
       "      <th>...</th>\n",
       "      <td>...</td>\n",
       "      <td>...</td>\n",
       "      <td>...</td>\n",
       "    </tr>\n",
       "    <tr>\n",
       "      <th>9</th>\n",
       "      <td>Reset daftar Ajuan Pendaftaran Gabungan zona Demo</td>\n",
       "      <td>reset daftar ajuan pendaftaran gabungan zona demo</td>\n",
       "      <td>9</td>\n",
       "    </tr>\n",
       "    <tr>\n",
       "      <th>11</th>\n",
       "      <td>Override Engine Seleksi Kota Batu</td>\n",
       "      <td>override engine seleksi</td>\n",
       "      <td>11</td>\n",
       "    </tr>\n",
       "    <tr>\n",
       "      <th>2</th>\n",
       "      <td>Dokumen SPH PPDB Online Kota Palangkaraya 2023</td>\n",
       "      <td>dokumen sph online</td>\n",
       "      <td>2</td>\n",
       "    </tr>\n",
       "    <tr>\n",
       "      <th>0</th>\n",
       "      <td>Override Info Dari Formatter Kapasitas Jika Ya...</td>\n",
       "      <td>override info dari formatter kapasitas jika ya...</td>\n",
       "      <td>0</td>\n",
       "    </tr>\n",
       "    <tr>\n",
       "      <th>0</th>\n",
       "      <td>Konfirmasi daerah 3 Kota/Kab di TR I</td>\n",
       "      <td>konfirmasi 3 di tr i</td>\n",
       "      <td>0</td>\n",
       "    </tr>\n",
       "  </tbody>\n",
       "</table>\n",
       "<p>2036 rows × 3 columns</p>\n",
       "</div>"
      ],
      "text/plain": [
       "                                              subject  \\\n",
       "11  [Closing Engine] Kota Denpasar 2024 - Jalur Zo...   \n",
       "9   [Kendala] Siswa Masih Bisa Langsung Pengajuan ...   \n",
       "11  [Closing Engine] Prov NTT 2024 - SMA All Jalur...   \n",
       "11  [DEV] Pengecekan dan Penyesuaian hasil seleksi...   \n",
       "9   Pengecekan File Ajuan Pendaftaran di Operator ...   \n",
       "..                                                ...   \n",
       "9   Reset daftar Ajuan Pendaftaran Gabungan zona Demo   \n",
       "11                  Override Engine Seleksi Kota Batu   \n",
       "2      Dokumen SPH PPDB Online Kota Palangkaraya 2023   \n",
       "0   Override Info Dari Formatter Kapasitas Jika Ya...   \n",
       "0                Konfirmasi daerah 3 Kota/Kab di TR I   \n",
       "\n",
       "                                            subject_p  cluster  \n",
       "11  closing engine jalur zonasi kategori umum tahap 1       11  \n",
       "9   kendala siswa masih bisa langsung pengajuan pe...        9  \n",
       "11               closing engine sma all jalur tahap 1       11  \n",
       "11  dev pengecekan dan penyesuaian hasil seleksi j...       11  \n",
       "9   pengecekan file ajuan pendaftaran di operator ...        9  \n",
       "..                                                ...      ...  \n",
       "9   reset daftar ajuan pendaftaran gabungan zona demo        9  \n",
       "11                           override engine seleksi        11  \n",
       "2                                 dokumen sph online         2  \n",
       "0   override info dari formatter kapasitas jika ya...        0  \n",
       "0                                konfirmasi 3 di tr i        0  \n",
       "\n",
       "[2036 rows x 3 columns]"
      ]
     },
     "execution_count": 79,
     "metadata": {},
     "output_type": "execute_result"
    }
   ],
   "source": [
    "output = { 'subject': list(data_subj.values),'subject_p': list(data.values), 'cluster': clusters }\n",
    "\n",
    "data_hsl = pd.DataFrame(output, index = [clusters] , columns = ['subject','subject_p','cluster'])\n",
    "data_hsl"
   ]
  },
  {
   "cell_type": "code",
   "execution_count": 80,
   "id": "95c94f15-d9b8-49ca-a121-eb1e199c66cf",
   "metadata": {},
   "outputs": [
    {
     "data": {
      "text/plain": [
       "cluster\n",
       "0     473\n",
       "6     387\n",
       "5     153\n",
       "11    148\n",
       "9     142\n",
       "4     136\n",
       "3     130\n",
       "7     130\n",
       "2     114\n",
       "1      79\n",
       "8      79\n",
       "10     65\n",
       "Name: count, dtype: int64"
      ]
     },
     "execution_count": 80,
     "metadata": {},
     "output_type": "execute_result"
    }
   ],
   "source": [
    "data_hsl['cluster'].value_counts() #number of article per cluster (clusters from 0 to 4)"
   ]
  },
  {
   "cell_type": "markdown",
   "id": "08d5ad0f-271b-4877-8f09-01c0ea944a2d",
   "metadata": {},
   "source": [
    "ALTERNATIF LAIN UNTUK MENAMPILKAN TOPIC DAN SUBJECT TIAP CLUSTER\n",
    "\n",
    "from __future__ import print_function\n",
    "\n",
    "print(\"Top terms per cluster:\")\n",
    "print()\n",
    "#sort cluster centers by proximity to centroid\n",
    "order_centroids = km.cluster_centers_.argsort()[:, ::-1] \n",
    "\n",
    "for i in range(num_clusters):\n",
    "    print(\"Cluster %d topics:\" % i, end='')\n",
    "    \n",
    "    for ind in order_centroids[i, :4]: #replace 6 with n words per cluster\n",
    "        print(' %s' % vocab_frame.loc[terms[ind].split(' ')].values.tolist()[0][0].encode('utf-8', 'ignore'), end=',')\n",
    "    print() #add whitespace\n",
    "    print() #add whitespace\n",
    "    \n",
    "    print(\"Cluster %d subject:\" % i, end='')\n",
    "    for title in data_hsl.loc[i]['subject_p'].values.tolist():\n",
    "        print(' %s,' % title, end='')\n",
    "    print() #add whitespace\n",
    "    print() #add whitespace\n",
    "    \n",
    "print()\n",
    "print()"
   ]
  },
  {
   "cell_type": "code",
   "execution_count": 81,
   "id": "50a5aba0-41f5-4102-8531-4cfdb4c03500",
   "metadata": {
    "scrolled": true
   },
   "outputs": [
    {
     "name": "stdout",
     "output_type": "stream",
     "text": [
      "Anggota per cluster:\n",
      "\n",
      "Cluster 0 subject:  req menambahkan kolom info nik pada unduhan laporan hasil seleksi akhir,  visite insi ,  visite insi demo aplikasi tahap 2,  visite insi demo aplikasi, tidak bisa mendaftar karena titik koordinat hilang , menyalakan kem engine seleksi,  kolom n gabungan tidak terupdate, pilihan ke3 diluar rjs sekolah berhasil mendaftar ,  pembatasan pilihan sekolah hanya pada npsn ortu bertugas,  bantuan unggah master dukuh, dev pilihan ke3 diluar rjs sekolah berhasil mendaftar , override hide unggahan sertifikatpiagam untuk yang tidak memiliki prestasi, paspor siap online kendala akun siap password kereset, penambahan aksses password untuk situs demo, menambah storage pada vm database slave, siswa bisa mendaftar walaupun sudah di terima, closing engine dki gelombang 3, proses blokir dan buka blokir nik bina lingkungan ke 6, terdapat perbedaan jarak antara di situs publik dan web operator, password situs demo , pengecekan jumlah rombel pada situs operator berbeda dengan admin tools, membuatkan akun bi untuk dinas dki , mematikan ovveride jadwal unggah berkas jalur penyandang disabilitas, buka blokir nik siswa yang sudah diterima sekolah ke 5, upgrade spek 10232245,  req pembatasan batal verifikasi, penambahan space database 0619,  situs freeze setelah user siswa login,  req admin dinas bisa batal verval atau batal tolak tanpa batal pickup,  req akses untuk melihat data ajuan siswa yg sudah dipickup oleh user lain,  pic terima data dari dinas pelanggan,  verifikasi data pendukung ,  sinkron master kelurahan kecamatan dan data rayon ke riil, lanjutan batasan koreksi berkas , database update master dukuh ke production, menampilkan pengumuman cat pada dashboard siswa,  ngabungan sma afirmasi tidak susuai antara cetak dan seleksi, scroll bar pada hasil seleksi, proses sinkron master kelurahan dari demo ke riil, validasi data pelanggan kalteng , override menyembunyikan smk prestasi dari beranda situs publik,  aktifkan kem serta penyesuaian aturan pemilihan sekolah,  req penambahan kondisi aturan pemilihan sekolah, pengecekan nisn bisa mendaftar lebih dari 1 kali padahal tidak ditolak, override pembukan batasan jika siswa ditolak ditolak di sma bisa daftar ke smk, konfirmasi 2 di tr ii, dev daftar admin sistem yang dapat akses ke admin tool , perubahan angka rjs sdn 23 barat,  upsitus publik, ubah besar cache sequence menjadi 10 tanpa mengubah lastval,  proses sinkron master kelurahan kecamatan dan data rayon ke riil, proses ubah besar cache sequence menjadi 10 tanpa mengubah lastval, upgrade kapasitas database zona nusantara,  situs tidak bisa diakses, migrasi tautan berkas dari sipenda ke konfigurasi ,  tambah blok kolom disklaimer pada dokumen cetak , update sekolah peserta zona riil, pengecekan siswa terdampak karena perubahan zonasi bersama, closing engine dki gelombang 2, validasi data terunggah pada kelola data admin tools, ubah besar cache sequence menjadi 10 tanpa mengubah lastval, penerimaan data dari disdik kalteng, verifikasi data dari disdik kalteng, pengolahan data ke kelola data admin tools, proses ubah besar cache sequence menjadi 10 tanpa mengubah lastval, dev muncul notifikasi proses gagal dijalankan silakan cek koneksi anda dan coba beberapa saat lagi saat pendafataran, tambah kapasitas hdd pada server database 0620, inisialisasi juknis online jateng , kendala siswa yang tertolak ajuannya titik koordinat masih sama, penambahan popup notifikasi jika memilih sekolah kurang dari 3 pilihan, batasan untuk koreksi berkas ajuan yang ditolak, override batasan pilihan sekolah, batasan pilihan sekolah jenjang sma,  gagal save setting berkas unggahan, gagal daftar karena pembatasan verval harian, melepas batasan periode batal verval, override pengecualian batasan pilihan sekolah, mekanisme unggah berkas yang ajuannya di tolak , pengecekan kompetensi dan daya tampung sekolah tidak update, pilihan keikutsertaan program keluarga tidak mampu dan abk otamatis terisi padahal tidak dipilih, data peserta tidak muncul pada hasil seleksi,  label pilihan sekolah 1 dan 2 pada tampilan situs publik error,  tambah kolom info keterangan daya tampung digunakan pada laman seleksi,  acuan zonasi siswa hasil penyaluran salah,  req ip whitelisting untuk keperluan integrasi api dukcapil , password untuk akses situs publik demo,  cek data sekolah dan jadwal ,  cek hasil konfig ,  cek data sekolah jadwal , header update header situs publik, mengaktifkan kem bot jadwal di telegram group jagr siap online, eos tambah akses ke admin tools sebagai eos konfigurator batch 2, situs operator gagal diakses, eos tambah akses ke admin tools sebagai eos konfigurator dan blokir akses eos , kebutuhan teknis yang belum bisa diakomodir secara default, uat limpahan pagu 2 tingkat di smk, titik koordinat sekolah tidak update, disable untuk pilihan insi dan , nomor kartu keluarga 16 digit dan awalan angka 6271xxxxxxxxxxxx, pilihan sekolah diurutkan dari yang jaraknya paling dekat pada form ajuan, google maps di situs publik , verifikasi berkas memakai google maps citra satelit, kendala koreksi sekolah peserta di operator demo, ovveride menghilangkan tombol cari pada situs publik, admin tools tidak bisa akses jadwal situs di zona demo, setup interkoneksi ke api dukcapil, siswa prapendaftaran mengisikan lokasi verifikasi dan unggah berkas, implementasi api dukcapil , menyalakan kem override batasan unggah berkas, mengganti user vpn pusdatikomdik, batal blokir nik siswa bl ke 2, buka blokir nik siswa yang sudah diterima sekolah, pengecekan lokasi daftar sma dan smk pada admin tools, cpdb tidak bisa aktivasi, merubah nik data sidanira ke 2, blokir nik siswa yang sudah diterima sekolah, merubah urutan tampilan daftar verifikasi berkas, merubah nik data sidanira, migrasi dan replace alamat siswa rusunawa , ajuan berkas peserta tidak ditemukan, override jadwal unggah berkas, menghapus nik peserta, merubah nik peserta, pengecekan data pada bi belum sesuai dengan situs operator, update lokasi sekolah peserta smp, data operator madrasah dki tahun , mematikan override verifikasi dokumen prestasi oleh sekolah pilihan pertama, menghapus ovveride pilihan madrasah pada verifikasi berkas, gagal memilih koordinat saat daftar, pembatasan periode verifikasi oleh operator, peta dan tikor tidak tampil di menu koreksi sekolah, tidak bisa menyimpan konfigurasi admin tools, gagal login operator sekolah, operator sudah ditambahkan namun saat login tidak memiliki akses,  req tambah kolom info agama pada dokumen laporan , password situs demo ,  admin dinas tidak bisa batal verval atau batal tolak , tidak mendapatkan email dari paspor untuk aktivasi dan buat password, database perbaikan nisn batch 2, konfirmasi bisnis pelaksanaan , banner menambahkan logo majapahit dan bertumbuh berkembang berdampak, presensi pelatihan dokumentasi presensi, undangan sosialisasi , dokumentasi undangan pelatihan pelatihan , foto dokumentasi pelatihan operator , situs arsip tidak tersedia untuk yang sma dan smk, delivery screenshoot bukti delivery layanan , eos usulan tambah eos khusus editor, foto dan presensi sosialisasi atau pelatihan operator , foto sosialisasi atau pelatihan operator , override pilihan sekolah kedua dan seterusnya tidak boleh lintas zona sesuai zona sekolah pilihan pertama, penambahan aksses password untuk situs demo, penambahan aksses password untuk situs demo, penambahan aksses password untuk situs demo, hilangkan pilihan paket abslblain lain pada jenis lulusan, memunculkan kem tombol cari pada situs publik, interkoneksi adminduk via pusdatikomdik , migrasi beberapa peserta prapendaftaran ke zona demo, buka blokir nik, pengecekan waktu idle pada situs operator, penyesuaian tampilan jumlah data pada rekap per jenjang di bi, pengecekan hasil seleksi pada situs publik belum berjalan, merubah nik data sidanira ke 3, munculkan label prioritas zonasi pada listing sekolah pilihan,  migrasi siswa berkebutuhan khusus abk, perbaikan nisn siswa, pengerjaan evidence kalsel smk swasta , kolom kapasitas cad keluarga ekonomi tidak mampu dijalur sma afirmasi tidak muncul, sinkron master dukuh di upaten purworejo jateng dari demo ke riil, data zonasi hasil unggah ada selisih saat diunduh kem, tampilan peta pada tahap konfirmasi dan dokumen cetak siswa masih menggunakan osm, sinkron master dukuh di zona demo dan riil , validasi kolom no telepon berawalan 08 dan max 14 gigit, rekap verifikasi operator dukcapil , gagal unggah daya tampung afirmasi sma pada admin tool, hide notifikasi peringatan anak guru, tambah keterangan sudah diverifikasi untuk filter status dokumen kk, set default filter untuk role akses operator khusus, usia piagam belum terbaca sesuai dengan tanggal yg diinputkan, npsn sekolah mtss ahmad dahlan di sistem tidak sesuai, tambahkan akses ke bisiapcom jateng, ubah narasi status anak guru, operator yang sudah berhasil ditambahkan menjadi operator online tidak muncul saat di cari di toolssiapid, set fitur ubah password paksa mulai tgl 24 juni jam 0000wib, reset password masal via toolssiapid , buat estetik tampilan unduhan dokumen online di situs jatengdemosiapcom, set status anak guru di jenjang smasmk, tarik data daftar operator online zona riil tahun , update label dan acuan tanggal kk kurang dari 3 tahun untuk filter usia kk terbaru, fitur verval usia domisili kk dukcapil, gagal unggah master dukuh , munculkan kem isian dan validasi kepesertaan pip nlain13,  close engine ,  close engine , opsi unduhan data uploadan dapodik versi csv, pencairan honor eos konfigurasi witel rizky feroarneo , hilangkan isian dan validasi anak yatim nlain13, unduh format uploader dapodik tidak ada action, update perhitungan umur piagam , update acuan tanggal kk kurang dari 1 tahun untuk filter usia kk, update acuan tanggal usia kk pada pop up notifikasi informasi kk kurang dari 1 tahun, gagal unggah master dukuh, setup aplikasi pasca deploy riil, agregator situs menunggu slot eksekusi, tampilan situs publik demo belum berubah sesuai konfigurasi admin tool, override aturan pemilihan sekolah , override aturan pemilihan sekolah, setting siswa anak guru atau tenaga kependidikan hanya muncul pilihan sekolah sesuai npsn yg diinputkan, urutan seleksi siswa belum muncul dihasil seleksi,  online surat keterangan pengalaman kerja eos an anis suryansyah, rentang tanggal kk belum muncul sesuai konfigurasi, infra upsitus publik , proses sinkron data kelurahan dari demo ke real, proses set tahun lulus sesuai kondisi kelulusan untuk siswa dnt, proses sinkron master kelurahan cabdin , proses update sekolah peserta zona riil, proses sinkron sekolah peserta dari zona demo ke zona real, perbaiki format tgl lahir , proses perbaikan nisn siswa yogya yang tertukar, dev penambahan popup notifikasi jika memilih sekolah kurang dari 3 pilihan, dev backend req admin dinas bisa batal verval atau batal tolak tanpa batal pickup,  siswa yang sudah ditolak tidak bisa diedit ,  data zonasi tidak terbaca, dev validasi kolom no telepon berawalan 08 dan max 14 gigit, bast bard online ta , proses sinkronisasi sekolah peserta jenjang sd update alamat sekolah, proses sinkron sekolah peserta, proses sinkron master dukuh di zona demo dan riil, deploy server , deploy server aplikasi, deploy server database, deploy server cluster jateng aplikasi, menambahkan status lapor diri pada bi ,  penyesuain labelredaksi pada tahap pilih sekolah,  laporan pelaksanaan pencairan termin 2 eos,  jatenglaporan pelaksanaan pencairan termin 2 eos,  karanganyarlaporan pelaksanaan pencairan termin 2 eos,  tegallaporan pelaksanaan pencairan termin 2 eos, sertifikat eos pendamping , dev penyesuain labelredaksi pada tahap pilih sekolah, buka project upaten , tambah kapasitas hdd pada server database 10212119,  rreq data traceroute server ,  rreq data traceroute server ,  dokumen laporan , proses migrasi sekolah asal seinsi kalimantan timur utk ,  hilangkan kolom alamat rt dan rw ,  pengisian atribut via api tapem, dla deploy data , devfrontend disable untuk pilihan insi dan , peta tidak muncul pada verfikasi sd zonasi, topologi infrastruktur yang digunakan di online ,  integrasi api dukcapil , backend menyalakan kem override batasan unggah berkas, nomor sph awal berdasarkan email yang disampaikan dari business solution support pt metranet perihal permohonan surat penawaran harga online suumi, bast baut bard cabang dinas 9 tahun , dokumen skm online cabang dinas 9 tahun , pengajuan kontrak ar untuk witel banyumas witel magelang dan witel pekalongan tahun 2022, obl dokumen sph dan skm obl , upgrade kapasitas database , proses tambahkan akses ke bisiapcom jateng, npsn sekolah mtss ahmad dahlan di sistem tidak sesuai, upaten timor tengah utara diskusi online upaten timor tengah utara ,  konfigurasi juknis online , insi rapat kastemisasi sistem online ,  undangan dprd persiapan , upaten mengaktifkan baru, sample data pengecekan api response dukcapil , perbaikan fitur reset password masal di toolssiapid, dev sekolah pilihan 2 tidak bisa verval pendaftaran karena ada pendaftar di sekolah pilihan 1 belum di verval, catatan penyediaan data siswa salah pilih zonasi sd, penyediaan data siswa salah pilih zonasi sd, proses blokir dan buka blokir nik bina lingkungan ke 5, duplikasi request upstream dari lb dinamis, perubahan url situs online cabdin kutim, perubahan url situs online sma smk , dev buat estetik tampilan unduhan dokumen online di situs jatengdemosiapcom,  dokumentasi api tapem, perbaikan nama siswa dalam database, set status anak guru di jenjang smasmk, proses blokir dan buka blokir nik bina lingkungan ke 4, proses sinkron sekolah peserta demo ke real, proses pengecekan lokasi daftar sma dan smk pada admin tools, scale up vm database master dki, devfrontend perubahan redaksi informasi pilihan sekolah jenjang sma, deploy production data lulusan jateng , proses perbaikan nisn siswa, dev batasi sekolah pilihan by system hanya radius 5km kebawah, proses blokir dan buka blokir nik bina lingkungan ke 3, proses merubah nik data sidanira ke 4,  visit koordinasi , proses batal blokir nik siswa bl ke 2, setup bi wilayah banjarmasin, proses merubah nik data sidanira, penyesuaian url untuk jateng , blokir siswa yang sudah diterima sekolah, setup bi wilayah , setup bi wilayah , database proses pembetulan nisn sebab terk siswa yang sudah terlanjur ajuan dan sudah dibatalkan ajuannya, database update database, transfer honor eos konfigurasi witel rizky feroarneo , proses tarik data daftar operator online zona riil tahun ,  proses melengkapi isian data dukcapil , database proses pembetulan nisn sebab terk, dla setup bi , deploy aplikasi di server neometaldki, dev deploy aplikasi di server neometaldki, menghilangkan informasi sms di portal dan cetak berkas,  laporan pelaksanaan pencairan termin 2 eos, proses batal blokir nik siswa bl, proses merubah nik data sidanira, google maps di situs publik ,  update master dukuh, devmematikan pengecekan nokk siswa prapendaftaran, error 404 situs , setup bi wilayah , setup bi wilayah , setup bi wilayah cabdin , gagal unggah master dukuh , penyesuaian database demo dan riil, visite , visite insi ,  pembahasan juknis , visite , proses blokir nik bina lingkungan , proses penyesuaian database demo dan riil, header di situs operator yang untuk tombol logout tiba2 hilang , merubah nik peserta, perbaiki struktur tabel menghapus comment pada kolom demo , dev header di situs operator yang untuk tombol logout tiba2 hilang , proses menghapus nik peserta, dev proses deploy server cluster jateng, mengarahkan dns record , unduh format uploader dapodik tidak ada action, penyediaan user database readonly demo dan real, penyediaan user database readonly demo dan real, setup bi , proses pengecekan data pada bi belum sesuai dengan situs operator, setup vm database zona , proses sinkron lokasi sekolah peserta smp, bi tambahkan filter tahun dan wilayah berdasarkan scope, undangan pembahasan pelaksanaan online , devupdate acuan tanggal usia kk pada pop up notifikasi informasi kk kurang dari 1 tahun, frontend batasan pilihan sekolah jenjang sma, backend batasan pilihan sekolah jenjang sma, setup bi dki , sample data pengecekan api response dukcapil dki , setup bi , mengaktifkan kem bot jadwal di telegram group jagr siap online, penyesuaian konten situs publik yang ditutup, hapus batasan batal verval, fix gagal akses situs operator, refresh portal halaman tidak ditemukan, upaten timor tengah utara mengaktifkan baru, up scale database zona 1 dan dki 11 mei , upscale vm tool migrasi 10212153, penambahan storage 10212108, mengarahkan semua ke non pelanggan, penambahan storage 10212226, pencarian detil arsip error, refresh portal halaman tidak ditemukan, up scale database zona 1 dan dki 11 mei , nomor sph awal berdasarkan email yang disampaikan dari business solution support pt metranet perihal permohonan surat penawaran harga online kulonprogo, perubahan cdn pada situs publik, wfm close insi tahap ii , dla setup bi , dla deploy data , konfirmasi 1 dan 1 di tr vi, konfirmasi 1 dan 2 di tr v,  siddenreng rappang konfirmasi keikutsertaan online ,  ternate update penawaran konfirmasi online, dokumen kontrak layanan kl online tahun , bast baut bard kaltim cabang dinas , wfm close cabdin kutim , bast kaltim cabang dinas , baut bard kaltim cabang dinas , baut dan bard , bast tahun , wfm close do , baut smp , bast smp , bard smp , bast cabdin , pengiriman lengkap berkas document dinas hard document, wfm close cabdin , baut bard cabdin , bak dki kelompok 17 , bap dki kelompok 17 , bap dki kelompok 2 , bap dki kelompok 5 , bap dki kelompok 4 , bap dki kelompok 18 , bap dki kelompok 19 , bap dki kelompok 13 , bap dki kelompok 12 , bak dki kelompok 12 , bap dki kelompok 11 , bak dki kelompok 11 , bap dki kelompok 6 , bak dki kelompok 6 , bap dki kelompok 14 , bak dki kelompok 14 , bap dki kelompok 15 , bak dki kelompok 15 , bak dki kelompok 10 , bap dki kelompok 16 , bak dki kelompok 16 , bap dki kelompok 8 , bak dki kelompok 8 , bap dki kelompok 1 , bak dki kelompok 1 , bap dki kelompok 3 , bak dki kelompok 3 , bap dki kelompok 7 , bak dki kelompok 7 , nomor sph awal berdasarkan email yang disampaikan dari business solution support pt metranet perihal permohonan surat penawaran harga online ta , permohonan pembuatan skm utara smp, setup bi , nomor sp awal menindaklanjuti email permintaan sph tanggal 6 mei dari business solution support pt metranet untuk pekerjaan sewa aplikasi online tahun pelajaran 2025 kantor wilayah kemenag insi dki jenjang man, nomor sph awal menindaklanjuti email permintaan sph tanggal 6 mei dari business solution support pt metranet untuk untuk pekerjaan sewa aplikasi online tahun pelajaran 2025 kantor wilayah kemenag insi dki jenjang mtsn, obl jenjang smp 9 sekolah, nomor sph awal berdasarkan email yang disampaikan dari business solution support pt metranet perihal permohonan surat penawaran harga online banjarmasin, data operator madrasah dki tahun , transfer ca rab rapat pelatihan eos area tr iv jateng ahmad nashruddin, nomor id paket sfdp24059182697 melalui mekanisme pengadaan epurchasing untuk pekerjaan sewa layanan online ta , deploy api notification, bast ta , lamp bard baut dki kel 8, bast online bandar smk ta , baut tahun , kontrak layanan dki kelompok 11, bard online bandar smk ta , baut online bandar smk ta , nomor sph awal spk dengan nomor b4166kw092ks01204 melalui mekanisme pengadaan langsung untuk pekerjaan sewa aplikasi online pengadaan online tingkat madrasah ibtidaiyah negeri tahun pelajaran 2025 kantor wilayah kemenag i, lamp bard baut dki kel 9, bap dki kelompok 9 , kontrak layanan dki kl14, lamp bard baut dki kel 10, nomor sph awal berdasarkan email yang disampaikan dari business solution support pt metranet pada tanggal 5 mei perihal permohonan surat penawaran harga online ta , dev urutkan sekolah pada daftar sekolah pilihan dari jarak terdekat ke terjauh, implementasi aturan pemilihan sekolah , bakckend pencarian fitur pencarian nik , setup database master nusantara, setup database slave nusantara, setup database master dki, setup database slave dki, setup koneksi tools , setup monitoring database, setup bi tahun , setup koneksi database dbbackupsiapid, setup database slave all di aws, setup database slave all di oci, setup cdc database production dan demo, evidence kaltim cabang dinas , obl insi tahap 1 40 sekolah,  koordinasi persiapan online dinas pendidikan ,  pembahasan juknis online ,  juknis , ganti dokumen unduh brosur pada situs non pelanggan, batasi pilihan sekolah anak gtk, dev ganti dokumen unduh brosur pada situs non pelanggan, penyediaan vm oci untuk database slave all wilayah, sinkronisasi struktur database penambahan alamat daftar, sinkronisasi struktur database penambahan alamat daftar, restorasi database psbdbpublik dengan backup 9 mei , tambah akses ke admin tools sebagai eos konfigurator , bado printsign, cleanup data pelaksanaan online , rab rapat pelatihan eos area tr iv jateng ahmad nashruddin, penambahan opsi rw siswa pada pengaturan kapasitas, pencairan hr termin 2 eos , override info dari formatter kapasitas jika yang diakses adalah , konfirmasi 3 di tr i,\n",
      "\n",
      "Cluster 1 subject: deploy real insi ,  deploy real , deploy real , deploy real insi dki , st deploy real , st deploy real , st deploy real , st deploy real , st deploy real , infra deploy real , infra deploy real , infra deploy real , st deploy real ,  di deploy real ,  proses deploy data real , deploy real deploy data suumi , deploy real proses deploy data ,  proses deploy data real ,  proses deploy data real , deploy real proses deploy data ,  proses deploy data real , deploy real data , deploy real , deploy real data ,  data deploy real ,  deploy real , deploy real , deploy real insi , infrastruktur deploy real , database deploy real , infrastruktur deploy real , deploy real banjarmasin , deploy real , deploy real , deploy real madrasah dki ,  deploy real ,  deploy real ,  deploy real , deploy real jateng ,  deploy real ,  deploy real , st deploy real ,  deploy real ,  deploy real , deploy real , st deploy real insi , deploy real , infra deploy real padang sidimpuan ,  di proses deploy data real , deploy real padang sidimpuan ,  deploy real smp , deploy real jateng , deploy real , deploy real , st deploy real , st cabdin deploy real cabdin kutim , deploy real cabdin kutim ,  proses deploy data real smp ,  deploy real cabdin , deploy real proses deploy data , st deploy real banjarmasin , deploy real proses deploy data banjarmasin , st deploy real ,  proses deploy data real ,  cabdin proses deploy data real cabdin , st deploy real , st deploy real , st cabdin deploy real cabdin , infra deploy real , infra deploy real insi dki , database proses deploy real , st infrastruktur deploy real , infra deploy real , proses deploy real , aplikasi deploy real , deploy real madrasah dki ,  deploy real , infra deploy real , aplikasi deploy real ,\n",
      "\n",
      "Cluster 2 subject: pengiriman sph awal online tambahan tahun , review dokumen sph awal online , pengiriman sph nego online tahun , pengiriman sph nego online smp tahun , pengiriman sph nego online sd tahun , pengiriman sph nego online tahun , review dokumen sph awal online smp , emailing sph awal online insi , pengiriman sph nego online upaten jenjang sd tahun , pengiriman sph nego online tahun jenjang tk, pengiriman sph nego online tahun jenjang sd, pengiriman sph nego online tahun jenjang smp, pengiriman sph nego online upaten tahun , pengiriman sph nego online tahun , pengiriman sph nego online tahun , pengiriman sph awal online upaten jenjang smp tahun , pengiriman sph awal online upaten jenjang sd tahun , pengiriman sph nego online upaten tahun , pengiriman soft dokumen sph nego online tahun , pengiriman sph awal online insi smk swasta tahun , emailing sph awal online insi , pengiriman soft dokumen sph nego online tahun , pengiriman sph awal online tahun , pengiriman soft dokumen sph awal online , pengiriman sph awal online insi tahun , pengiriman sph nego online tahun , pengiriman sph nego online tahun , nomor surat sph nego online , dokumen sph online cabang dinas 9 tahun , pembuatan sph awal online , pengiriman sph nego online tahun , pengiriman soft dokumen sph awal online , pengiriman sph nego online palangka raya tahun , pengiriman soft dokumen sph nego online tahun , pengiriman sph nego online tahun , pengiriman soft dokumen sph nego online tahun , nomor surat sph nego online upaten , pembuatan sph awal online insi , emailing sph awal online insi tahun , emailing sph awal online insi , pengiriman sph awal online sd tahun , pengiriman sph awal online smp tahun , pengiriman sph awal online tahun , review sph awal online upaten , pengiriman sph awal online cabdin insi kalimantan timur tahun , pengiriman sph awal online insi tahun , pengiriman sph awal online upaten tahun , pengiriman scan dokumen sph awal online , pengiriman scan dokumen sph awal online , pengiriman soft dokumen sph awal online , pengiriman soft dokumen sph awal online , pengiriman soft dokumen sph awal online , pengiriman sph awal online upaten tahun , review sph awal online upaten , nomor surat sph awal online upaten kulonprogo , pengiriman sph awal online tahun , pengiriman sph awal online palangka raya tahun , pengiriman scan dokumen sph awal online , pengiriman sph awal online tahun , pengiriman sph awal online upaten tahun , pembuatan sph awal online insi , review sph awal online upaten , pengiriman scan dokumen sph awal online , nomor sph awal online , review dokumen sph awal online , nomor sph awal online , pengiriman sph awal online tahun , nomor surat sph awal online madrasah dki jenjang mtsn, nomor surat sph awal online madrasah dki jenjang man, pengiriman sph awal online tahun , sign dokumen sph awal online tahun , pengiriman sph awal online banjarmasin tahun , permintaan pembuatan nomor sph awal online insi , nomor sph awal online banjarmasin , nomor sph awal online jenjang tk, nomor sph awal online jenjang sd, nomor sph awal online jenjang smp, pengiriman scan dokumen sph awal online tahun , pengiriman scan dokumen sph awal online tahun , pengiriman sph awal online insi tahun , pengiriman scan dokumen sph awal online tahun , tandatangan sph awal online madrasah dki jenjang min, nomor surat sph awal online madrasah dki jenjang min, review sph awal online madrasah dki jenjang min, pengiriman sph awal online tahun , pengiriman revisi sph awal online tahun , revisi sph awal online jenjang tk, revisi sph awal online jenjang smp, revisi sph awal online jenjang sd, nomor sph awal id paket lplp24049041985 melalui mekanisme pengadaan epurchasing untuk pekerjaan sewa layanan online ta , pengiriman sph awal online tahun jenjang tk, pengiriman sph awal online tahun jenjang sd, pengiriman sph awal online tahun jenjang smp, nomor sph nego id paket lplp24049104536 melalui mekanisme pengadaan epurchasing untuk pekerjaan pengadaan layanan online ta , nomor sph nego surat pesanan nomor 02701ppksp422101 tanggal 1 april melalui mekanisme penunjukan langsung untuk pekerjaan pengadaan layanan online ta , nomor sph nego id lplp24049156389 melalui mekanisme pengadaan epurchasing untuk pekerjaan pengadaan layanan online ta , nomor sph nego id paket lplp24049064350 melalui mekanisme pengadaan e purchasing untuk pekerjaan pengadaan layanan online ta , nomor sph awal id paket lplp24049095279 melalui mekanisme pengadaan e purchasing untuk pekerjaan pengadaan layanan online jenjang sd ta , nomor sph awal id paket lplp24059192062 melalui mekanisme pengadaan e purchasing untuk pekerjaan pengadaan layanan online jenjang tk ta , nomor sph awal id paket lplp24049156180 melalui mekanisme pengadaan e purchasing untuk pekerjaan pengadaan layanan online jenjang smp ta , nomor sph nego id paket lplp24049102457 melalui mekanisme pengadaan epurchasing untuk pekerjaan pengadaan layanan online ta , permintaan pembuatan nomor sph awal online , pengiriman sph awal online tahun , nomor surat sph awal online upaten , pengiriman sph awal online tahun , nomor surat sph awal online , nomor sph awal id lplp24049156389 melalui mekanisme pengadaan epurchasing untuk pekerjaan pengadaan layanan online ta , permintaan pembuatan nomor sph awal online , nomor sph awal surat pesanan nomor 02701ppksp422101 tanggal 1 april melalui mekanisme penunjukan langsung untuk pekerjaan pengadaan layanan online ta , nomor surat sph awal online upaten , nomor sph awal id paket lplp24049102457 melalui mekanisme pengadaan epurchasing untuk pekerjaan pengadaan layanan online ta , nomor sph awal id paket lplp24049104536 melalui mekanisme pengadaan epurchasing untuk pekerjaan pengadaan layanan online ta , nomor sph awal id paket lplp24049064350 melalui mekanisme pengadaan e purchasing untuk pekerjaan pengadaan layanan online ta , dokumen sph online ,\n",
      "\n",
      "Cluster 3 subject: data siswa tidak ditemukan pada situs publik, up situs publik , infra up situs publik , up situs publik , up situs publik , infra up situs publik , infra up situs publik , up situs publik , up situs publik , st up situs publik riil , st up situs publik , st up situs publik riil , st up situs publik riil , st up situs publik riil , st up situs publik , st up situs publik , up situs publik suumi , up situs publik , up situs publik , up situs publik upaten , up situs publik , up situs publik, up situs publik, up situs publik , up situs publik insi , infrastruktur up situs publik , aplikasi up situs publik , infrastruktur up situs publik , up situs publik , up situs publik , up situs publik banjarmasin , up situs publik , up situs publik madrasah dki , up situs publik dinas dki , situs publik ubah foto pada header situs publik, situs publik kendala akses situs demo, asal sekolah tidak muncul di situs publik,  up situs publik riil ,  up situs publik riil ,  up situs publik riil , up situs publik riil jateng ,  up situs publik riil ,  cek up situs publik riil , up situs publik , up situs publik , up situs publik , up situs publik , up situs publik , st up situs publik , st kapapan up situs publik riil , st up situs publik riil , infra up situs publik , up situs publik , up situs publik kapapan , up situs publik , up situs publik , infra up situs publik , infra up situs publik , infra up situs publik insi , up situs publik , up situs publik insi , infra up situs publik , up situs publik , up situs publik , infra up situs publik , infra up situs publik suumi , up situs publik , up situs publik upaten , up situs publik suumi , up situs publik di , infra up situs publik , infra up situs publik upaten , st up situs publik riil , up situs publik sma smk , infra up situs publik cabdin kutim , infra up situs publik , up situs publik , up situs publik cabdin kutim , up situs publik cabdin , up situs publik , up situs publik , st up situs publik , infra up situs publik , infra up situs publik , infra up situs publik upaten , infra up situs publik , infra up situs publik di , up situs publik , up situs publik , up situs publik , up situs publik , up situs publik , up situs publik di , up situs publik , st up situs publik , up situs publik ,  tampilan situs publik , infra up situs publik jateng ,  tampilan situs publik , up situs publik upaten ,  tampilan situs publik , st up situs publik , st up situs publik upaten , up situs publik jateng , up situs publik , dev tampilan situs publik , up situs publik , infra up situs publik , infra up situs publik banjarmasin , up situs publik banjarmasin , up situs publik , infra up situs publik , dev up situs publik , infra up situs publik riil , up situs publik , st up situs publik , dev up situs publik , infra up situs publik dki , infrastruktur up situs publik , dev up situs publik , infra up situs publik riil , dev up situs publik riil , dev up situs publik dki , up situs publik madrasah dki , st up situs publik riil , up situs publik madrasah dk , up situs publik , pic up situs publik riil , dev up situs publik , aplikasi up situs publik ,\n",
      "\n",
      "Cluster 4 subject: migrasi data kelurahan dari demo ke real, proses deploy data,  migrasi data lulusan asal sekolah sd , database proses migrasi database tambahan batch 2, migrasi peserta cat susulan ke 2, migrasi data dnt susulan 2, proses migrasi peserta cat susulan ke 2, normalisasi data ajuan siswa dnt, proses normalisasi data ajuan siswa dnt, migrasi peserta cat susulan, proses migrasi peserta cat susulan, migrasi data dnt susulan ke 1, proses migrasi data dnt susulan 1, proses perbaikan siswa hasil migrasi tidak muncul di pencarian sistem, migrasi data dnt susulan ke 1, database proses migrasi data siswa batch 3, proses migrasi dan replace alamat siswa rusunawa ke 2, proses normalisasi data siswa luar yang dimigrasi, database proses pengecekan lulusan sd, database proses migrasi tambahan batch 2,  proses migrasi data dnt , migrasi data cat, proses migrasi data cat, proses migrasi biodata lulusan untuk kalteng , proses migrasi sekolah asal untuk jenjang smp, database proses tambahan migrasi, migrasi data dnt lulusan , migrasi data sekolah peserta dari demo ke real, database migrasi database siswa lulusan sdmi batch 3, migrasi data dnt lulusan sdmi , perbaikan data ke2 dnt lulusan sdmi , migrasi data dnt lulusan sdmi , perbaikan data dnt lulusan sdmi , migrasi data lulusan asal sekolah misd banjarmasin ,  data dnt demo, migrasi data asal sekolah lulusan sd mi , migrasi data akreditasi sekolah asal , database migrasi database siswa calon pendaftaran batch 4, migrasi data sidanira ke zona demo, migrasi tambahan data siswa calon peserta smp 12 juni , migrasi tambahan data siswa calon peserta smp, migrasi data nilai aspd ,  migrasi data peserta bibit unggul,  migrasi data kms afirmasi , migrasi data dnt revisi 2, migrasi data dnt , migrasi data dnt revisi, migrasi data dnt , migrasi data dnt , database proses migrasi database siswa lulusan sdmi sederajat , proses migrasi data siswa domisil dalam lulusan sekolah luar , proses migrasi 19 juni update nilai lulusan sdmi tahun , proses perbaikan data ke2 dnt lulusan sdmi ,  migrasi dnt , proses migrasi data dnt revisi 2, migrasi data dnt lulusan sdmi , proses migrasi data dnt ,  proses migrasi dnt , migrasi update data lulusan smp mts 13 juni , database proses perbaikan data nilai calon pendaftar , proses migrasi siswa tidak valid dimigrasi sebelumnya ,  cek dan migrasi ulang data dnt belum termigrasi, database migrasi database calon siswa pendaftar,  proses cek dan migrasi ulang data dnt belum termigrasi, migrasi data lulusan smp mts invalid 9 juni , migrasi data tambahan lulusan mts , migrasi 12 juni tambahan data siswa dan nilai lulusan sdmi tahun , migrasi data dnt lulusan , proses migrasi tambahan data siswa calon peserta smp 12 juni , database proses migrasi batch 5, proses migrasi siswa perbaikan nisn, proses migrasi data dnt revisi, proses perbaikan data dnt lulusan sdmi , migrasi perbaikan data lulusan 4 smpmts , migrasi tambahan data siswa dan nilai lulusan sdmi tahun , database proses migrasi jenis asal sekolah lulusan pendaftar, migrasi perbaikan data lulusan smp mts , proses migrasi data dnt , database proses migrasi database siswa calon pendaftar jalur prestasi, database proses migrasi akreditasi asal sekolah sdmi , database proses migrasi nilai hasil pendataan prestasi dinas pendidikan , database proses migrasi data siswa pendaftar , migrasi lookup , proses migrasi lookup ,  proses migrasi data dnt calon peserta didik, proses perbaikan nisn siswa lulusan smp , migrasi data nilai lulusan sdmi tahun ,  update dan migrasi data dnt nilai siswa tambahan, migrasi data lulusan smp mts , migrasi data siswa lulusan sdmi tahun , migrasi data lulusan smp mts , proses migrasi tambahan data siswa calon peserta smp,  proses update dan migrasi data dnt nilai siswa tambahan, proses migrasi data dnt lulusan sdmi , database migrasi database batch 5, proses ulang migrasi batch 4,  migrasi data dnt , database migrasi database batch 4, database proses migrasi batch 3 dan batch 4, database proses ketidaksesuaian migrasi database di bagian sekolah asal pendaftar, proses perbaikan nisn siswa lulusan smp, migrasi data ke tabel lookup, proses migrasi data ke tabel lookup, proses migrasi data nilai aspd , proses migrasi data blokir nik bina lingkungan ke 2,  proses migrasi data dnt , proses migrasi data lulusan asal sekolah misd banjarmasin ,  proses migrasi data lulusan asal sekolah sd , migrasi data dnt ,  proses migrasi siswa berkebutuhan khusus abk, proses migrasi dan replace alamat siswa rusunawa ,  data dnt demo, deploy data proses , database proses migrasi data pendaftar karena awalnya dianggap tanggal lahir tidak valid, database proses migrasi database calon pendaftar , database migrasi data siswa calon pendaftar batch 4, database migrasi data calon pendaftar batch 2,  proses migrasi data kms afirmasi , database migrasi data siswa calon pendaftar batch 3,  proses migrasi data peserta bibit unggul, database migrasi data calon pendaftar batch 2, database migrasi data siswa lulusan dan generate token guna ajuan di jalur zonasi, database migrasi data siswa calon pendaftar , database migrasi database siswa lulusan sdmi sederajat batch 2, proses migrasi database siswa lulusan sdmi batch 3, proses deploy data lulusan, database migrasi lulusan batch 2, database migrasi database siswa lulusan sdmi sederajat , proses migrasi data lulusan dki , migrasi data akreditasi sekolah asal , migrasi data asal sekolah lulusan sd mi , deploy production data lulusan , database migrasi database siswa lulusan sdmi , deploy data lulusan , database migrasi data siswa yang awalnya tidak dimigrasi pasca diperbaiki, proses migrasi,\n",
      "\n",
      "Cluster 5 subject:  data siswa , proses data migrasi susulan 4, migrasi data susulan 1,  data siswa perbaikan 1, migrasi data master siswa, proses migrasi data master siswa, proses migrasi data susulan 3, proses migrasi data siswa lulusan sd dan mi , proses migrasi data susulan, proses migrasi data susulan 2, proses migrasi data susulan 2, proses migrasi data siswa lulusan suumi 2, migrasi data siswa lulusan insi 4,  migrasi data siswa lulusan insi 5, migrasi data sidanira update 1, proses migrasi data susulan, proses migrasi master data siswa 8,  migrasi data siswa tambahan, proses migrasi data susulan, proses migrasi data master siswa, proses migrasi data master siswa, proses migrasi master data siswa 7, proses migrasi tambah data baru dan update data anak gtk susulan 3, migrasi data siswa blokir, migrasi master data siswa 6, migrasi master data siswa 5, proses migrasi master data siswa 6, proses migrasi data siswa lulusan insi 5, migrasi data susulan nilai prestasi, proses migrasi data siswa lulusan insi 4, migrasi data siswa lulusan insi 3, migrasi master data siswa 5, migrasi master data siswa 4, migrasi master data siswa 3, migrasi master data siswa 2, migrasi master data siswa, data susulan siswa ke 4, migrasi master data siswa susulan 3, migrasi master data siswa susulan 4, migrasi master data siswa susulan 1, migrasi master data siswa susulan 2, migrasi master data siswa, migrasi data siswa, migrasi data siswa,  migrasi data siswa lulusan mi,  migrasi data siswa, migrasi data siswa, migrasi data siswa lulusan insi 2, migrasi data siswa lulusan insi ,  migrasi data siswa , data susulan siswa ke 1, data susulan siswa ke 2, migrasi data sidanira , migrasi data sidanira ,  migrasi data dukcapil dan data calon siswa smp,  migrasi siswa dalam ,  migrasi data calon siswa smp luar ,  migrasi data dukcapil calon siswa sd, migrasi data siswa rev 2, migrasi data siswa miskin dtks susulan 2, migrasi status data siswa anak panti asuhan susulan 2,  data siswa ,  migrasi ulang data siswa , migrasi data siswa miskin dtks susulan 1, migrasi tambah data dan hapus data anak gtk susulan 1, migrasi dan hapus status data siswa anak panti asuhan susulan 1, migrasi ulang data dapodik siswa , migrasi data siswa lulusan sd , migrasi data siswa miskin dtks , migrasi data siswa anak pondok pesantren , migrasi data dapodik siswa jateng , migrasi data anak gtkptk , migrasi data siswa anak panti asuhan ,  migrasi data siswa , migrasi data siswa lulusan sd , cek migrasi data siswa lulusan sd , migrasi data lulusan sd data , proses migrasi master data siswa, proses migrasi master data siswa 4, migrasi tambah data baru dan update data anak gtk susulan 2, proses migrasi ulang data siswa, proses migrasi data susulan siswa ke 4, proses migrasi data siswa lulusan insi 3, proses migrasi data siswa rev 2, proses backup data siswa, proses migrasi status data siswa anak panti asuhan susulan 2, migrasi data siswa miskin dtks susulan 2, proses migrasi master data siswa 3, proses migrasi data susulan siswa ke 3, proses migrasi data siswa sipenda disdik kalteng, proses migrasi data susulan siswa ke 2, proses migrasi data susulan siswa ke 1,  data siswa tambahan, proses migrasi master data siswa 2, proses migrasi data siswa tambahan, migrasi master data siswa susulan 7,  data siswa , proses migrasi data siswa blokir, prosedur migrasi data siswa blokir, migrasi data afirmasi sd , proses migrasi master data siswa, proses migrasi data afirmasi sd , proses migrasi data siswa lulusan insi 2, migrasi master data siswa susulan 6,  data siswa ,  proses migrasi ulang data siswa , migrasi master data siswa susulan 5, migrasi master data siswa susulan 3, migrasi master data siswa susulan 4,  data nilai siswa ,  data nilai siswa ,  data siswa , proses migrasi data siswa lulusan suumi , dev hapus data ajuan siswa data, migrasi master data siswa susulan 2,  proses migrasi data siswa , migrasi master data siswa susulan 1, migrasi data siswa miskin dtks susulan 1, migrasi tambah data dan hapus data anak gtk susulan 1, migrasi dan hapus status data siswa anak panti asuhan susulan 1,  migrasi data siswa , migrasi master data siswa,  proses migrasi data calon siswa smp luar ,  migrasi data nilai siswa , migrasi ulang data dapodik siswa , migrasi data lookup siswa anak pondok pesantren , migrasi data siswa, migrasi data siswa lulusan sd , migrasi data lookup siswa afirmasi, proses migrasi data lookup siswa afirmasi, proses migrasi data siswa,  migrasi data siswa , migrasi data siswa anak pondok pesantren , migrasi data anak gtkptk , migrasi data siswa anak panti asuhan , proses migrasi data dapodik siswa jateng , migrasi data siswa miskin dtks , proses migrasi data siswa lulusan insi , cabdin proses migrasi data siswa,  proses migrasi data dukcapil dan data calon siswa smp,  proses migrasi data dukcapil calon siswa sd,  proses migrasi data siswa ,  proses migrasi data siswa,  proses migrasi data siswa lulusan mi,  proses migrasi siswa dalam , migrasi ulang data pokok siswa riil , migrasi data sidanira update 1, proses migrasi data siswa lulusan sd , migrasi data sidanira ,  migrasi data siswa ,  migrasi data nilai siswa , proses migrasi data siswa lulusan sd , database migrasi data siswa proses migrasi,\n",
      "\n",
      "Cluster 6 subject: dev override hide unggahan suket domisili untuk siswa anak guru, dev penyesuaian dokumen laporan rekap seleksi, dev membatalkan lapor diri peserta,  penyesuaian akses pada koreksi data induk, dev req menambahkan kolom info nik pada unduhan laporan hasil seleksi akhir, dev tidak bisa mendaftar karena titik koordinat hilang , dev perubahan label informasi pada peringatan tidak bisa lanjut diterima sementara pengajuan di situs publik, dev hilangkan informasi status diterima sementara pada situs operator, dev data siswa tidak ditemukan pada situs publik,  tambah overide perhitungan n gabungan pada menu koreksi pendataan, menambah informasi nilai prestasi, dev hide kolom pencarian dan tombol live detection, dev penyesuaian tikor pada pencarian agar sama dengan alamat siswa, dev hide informasi tanggal kedatangan siswa dan ortu di dasbor siswa, dev penyesuaian link online pada situs demo , kendala informasi alamat tidak sama antara detail siswa dengan bukti cetak pengajuan, dev pengecekan peserta gagal login, dev hilangkan icon seleksi pada pencarian siswa di situs publik,  data nilai prestasi , dev kirim tanda ke frontend agar tidak menampilkan icon, dev informasi alamat tidak sama antara detail siswa dengan bukti cetak pengajuan, dev nilai siswa berbeda antara daftar ajuan riwayat dan seleksi, devkoreksi verifikasi akun untuk siswa status ptow saat disimpan muncul notif 50a20 parameter tanggal perpindahan tugas ortuwali tidak valid, dev nilai rata2 semester siswa pendataan di smk reguler berubah menjadi 0, perbaikan nilai akhir siswa yang terdampak tiket 21368, dev tambah overide perhitungan n gabungan pada menu koreksi pendataan, dev buka blokir nik siswa yang sudah diterima sekolah ke 6,  req update data domisili siswa berdasarkan data dukcapil terupdate, dev jumlah diterima melebihi kapasitas total daya tampung, dev siswa bisa mendaftar walaupun sudah di terima, dev anak guru bisa mendaftar di sekolah bukan tempat ortu bekerja, dev req update data domisili siswa berdasarkan data dukcapil terupdate, dev perubahan label sambutan, dev siswa tidak bisa disetujui ajuan akunnya , dev perbaikan nilai akhir siswa yang terdampak tiket 21368, dev tambahkan akses ke admin tool untuk akun rizkyferoarneugmailcom, dev frontend kelompok pilihan jalur 0 pada bukti cetak dan pencarian siswa, dev backend kelompok pilihan jalur 0 pada bukti cetak dan pencarian siswa, dev restore siswa dengan tanggal lahir null, dev tanggal lahir siswa hilang pada menu hasil seleksi, dev backend tambah atribut alamat dan tikor pada modul koreksi data induk, dev normalisasi nilai rapor, dev frontend tambah atribut alamat dan tikor pada modul koreksi data induk, dev tanggal kedatangan siswa di set tidak ada kedatangan tetapi tidak terset default 22 juni 2022, override penambahan info pada inputan nilai rapor jenjang smk, override hide info pilihan diterima pada laman data siswa pendaftar, dev isi atribut nlain12 dari api tapem dukcapil di modul verifikasi akun siswa,  req disable kolom status hubungan keluarga pada koreksi data induk, dev override penguncian titik koordinat siswa sipenda dicabut, dev pastikan value telah dipilih, dev backend tampilan info cat di mts dan ma reguler, dev frontend tampilan info cat di mts dan ma reguler, dev pengecekan gagal verifikasi 8201002052, proses siswa luar termigrasi sebagai siswa dalam upaten , dev hide info pilihan diterima pada laman data siswa pendaftar, dev req penambahan kondisi aturan pemilihan sekolah,  override , dev tambahkan akses ke admin tool untuk akun mrifaisiaponlinecom, dev penambahan info pada inputan nilai rapor jenjang smk, dev update batasan tanggal pendataan prestasi, dev penelusuran koordinat siswa berbeda antara ajuan dan daftar, dev backend pembatasan pilihan sekolah hanya pada npsn ortu bertugas,  req set batas umur piagam prestasi menggunakan rentang tanggal,  penyesuaian fitur cek status afirmasi, dev normalisasi data siswa, dev tambahkan override konfigurasi, kendala koreksi akreditasi berdampak pada nilai rapor menjadi 0, dev ubah label jenis lulusan reguler, dev tambah redasiinformasi dibawah input jenis lulusan, dev perubahan angka rjs sdn 23 barat, dev akun operator sekolah masih bisa edit nilai disabilitas dan hubungan keluarga, dev buka batasan nomor daftar 15 digit, siswa gagal koreksi berkas, dev frontend penyesuaian fitur cek status afirmasi, dev isian nilai pendataan siswa luar database terkunci sehingga tidak bisa diisi, dev penyesuaian akses pada koreksi data induk, dev skip unggah berkas yang telah ada di lookup, dev backend penyesuaian fitur cek status afirmasi, dev editable nilai jika nilainya kosong, dev ubah mekanime lookup untuk pencarian, dev tambah atribut pada cetak bukti pemberian nilai tambahan di afirmasi sma dan smk, override isian nilai mapel siswa lulusan mtspesantren, override isian nilai mapel siswa lulusan mtspesantren, override isian nilai mapel siswa lulusan mtspesantren, override siswa afirmasi dapat mendaftar meski tidak memiliki kartu, override perubahan redaksi informasi pilihan sekolah jenjang sma,  titik koordinat siswa tidak valid,  req menampilkan status buta warna pada dasbor siswa,  input data siswa pendataan tidak berhasil,  penyesuaian kolom alamat siswa pada kondisi siswa dnt,  overide kolom input alamat siswa ,  update data siswa dg informasi lokasi ortu bertugas,  req penyesuaian kolom info data dari dukcapil,  penyesuaian override mekanisme penyaluran siswa, kendala siswa bisa diverifikasi 2 kali, override relabeling informasi situs publik tutup, penyesuaian label informasi situs ditutup, override tambahan nilai 100 pada pilihan pertama tidak berlaku saat pindah jenjang, override override nilai rapor untuk sma dan smk tahun , override menghilangkan isian nilai pendataan selain pelajaran ujian akhir pada 3 jalur sma, override nilai akhir siswa jalur bibit unggul menggunakan nujumlah, perubahan redaksional jumlah nilai rerata, persetujuan override set unggahan berkas piagam, hapus override tahun lalu,  tidak bisa input surat keterangan bebas buta warna dan hubungan keluarga saat koreksi data induk , override override versi 2 nilai rapor untuk sma dan smk tahun , penyediaan data siswa diterima, hide alamat di detail siswa di jalur bibit unggul, penyesuaan cetak pendataan prestasi siswa, update nilai aspd siswa yogya karta, override penyesuaia pencarian nik ,  melengkapi isian data dukcapil , override penyesuaian lokasi menu cek nik, override penyesuaian redaksi data dukcapil tidak ditemukan, menyembunyikan informasi disabilitas di detail siswa, override fitur pencarian nik , mengaktifkan siswa lulusan tahun dan 2022, data kejuaraan belum muncul pada dasbor siswa dan keterangan operator sekolah tidak sesuai, tambah atribut data pada fitur koreksi data induk siswa, hide informasi status verifikasi dukcapil di dasbor siswa, tambahkan informasi data siswa pada dasbor siswa, saat ajuan ulang nilai rapor terkunci, ubah label tanggal cetak kk menjadi tanggal kedatangan siswa, hilangkan form isian tanggal lahir dan validasinya pada fitur pencarian siswa, fitur koreksi verifikasi akun saat di simpan jumlah mapel rapor tersimpan nya menjadi 7 mapel dari 9 mapel, ganti label tanggal kedatangan siswa dimodul set nilai siswa, tambah informasi konfirmasi status siswa di dokumen kk dan potensi minat bakat, set nilai default untuk nlain20 26 juni 2022, tambah atribut keterangan dukcapil pada modul set nilai siswa, set nilai siswa muncul notif af1c1 parameter nilai jenis kepindahan domisili siswa tidak valid, set syarat daftar dengan atribut tanggal kedatangan ortu gagal disimpan dan muncul error, tambahkan atribut shdk kesesuaian nama ortu dan potensi minatbakat pada modul koreksi verifikasi akun siswa, hide tampilan biodata info dan nilai pada modul set nilai siswa, update rumus perhitungan ratarata nilai rapor, hide nilai aspd, penelusuran penyebab siswa tidak diterima, penyesuaian label tahun pelajaran menjadi tahun ajaran, memunculkan mapel rapor pjok dan seni budaya pada cetak pengajuan akun , nilai rapor mapel pjok dan seni budaya berisi 0 di halaman verifikasi akun siswa, mapel pjok dan seni budaya belum muncul di isian nilai rapor, update narasi petunjuk pengisian nilai rapor, hilangkan informasi data nilai akreditasi asal sekolah, fitur pencarian data siswa upaten , dev batalkan override lulusan tahun lalu dimigrasi, dev upsitus publik , dev pastikan rapor tidak tereset ketika koreksi, dev mengaktifkan siswa lulusan tahun dan 2022, dev backend data kejuaraan belum muncul pada dasbor siswa dan keterangan operator sekolah tidak sesuai, dev backend data kejuaraan belum muncul pada dasbor siswa dan keterangan operator sekolah tidak sesuai, dev cleanup data yang pilihannya masih belum mendapatkan tambahan 100,  hasil koreksi data induk siswa tidak terupdate, dev menampilkan berkas menjadi 2 url jika url mengandung koma, proses update biodata dan nilai lulusan sd 007 selatan tahun , dev siswa bisa diverifikasi 2 kali, dev ulangi param siswa pada action search dengan radius sesuai nlain16, dev pengecekan siswa terdampak karena perubahan zonasi bersama, dev frontend detail nilai rapor di konfirmasi data pendaftaran tidak muncul, dev isi url berkas dengan yang ditemukan di lookup, dev penutupan halaman detil siswa 48310323220746 pada situs arsip 2017, dev buka blokir nik siswa yang sudah diterima sekolah ke 4, dev batasan untuk koreksi berkas ajuan yang ditolak, dev hasil koreksi data induk siswa tidak terupdate, dev buka blokir nik siswa yang sudah diterima sekolah ke 3, dev scroll bar pada hasil seleksi,  req fitur ubah data pada koreksi data induk,  data nilai siswa perbaikan1, dev kolom kapasitas cad keluarga ekonomi tidak mampu dijalur sma afirmasi tidak muncul, dev menampilkan halaman konfirmasicek ulang pada situs publik sesuai asal sekolah lulusan, dev tidak bisa diverifikasi, dev backend aggregator konten halaman data zonasi sekolah di situs publik, dev backend inisialisasi atribut yang dikosongkan dengan nilai tidak , dev frontend inisialisasi atribut yang dikosongkan dengan nilai tidak , dev tampilan peta pada tahap konfirmasi dan dokumen cetak siswa masih menggunakan osm, dev frontend halaman data zonasi sekolah di situs publik, dev pengecekan kompetensi dan daya tampung sekolah tidak update, dev penyesuaian label informasi situs ditutup, dev baca data siswa dengan mendisable cache psbobject, dev relabeling informasi situs publik tutup, dev frontend tambah atribut data pada fitur koreksi data induk siswa, dev backend tambah atribut data pada fitur koreksi data induk siswa, dev pembatalan oleh user level admin, dev hapus blokir nomor ujian 0117806547 dan siswa lain jika ada ,  titik koordinat siswa tidak valid,  penyesuaian override mekanisme penyaluran siswa dg penambahan acuan zonasi, dev titik koordinat sekolah tidak update,  input data siswa pendataan tidak berhasil, dev skip validasi syarat daftar untuk siswa pendataan, dev set nilai zonasi sesuai tabel rayon, dev frontend tambahkan informasi data siswa pada dasbor siswa, dev backend tambahkan informasi data siswa pada dasbor siswa, dev frontend penyesuaian isian alamat pada form ajuan, dev frontend tambah kolom info keterangan daya tampung digunakan pada laman seleksi , dev frontend penambahan input alamat siswa pada modul koreksi data induk, dev backend penyesuaian isian alamat pada form ajuan, dev backend penambahan input alamat siswa pada modul koreksi data induk, dev data afirmasi sd , update nilai mts negeri , update nilai smpn 6 , dev frontend hide notifikasi peringatan anak guru, dev cek limpahan pagu 2 tingkat di smk, dev hide alamat di detail siswa di jalur bibit unggul, dev hide informasi status verifikasi dukcapil di dasbor siswa, dev frontend tambah keterangan sudah diverifikasi untuk filter status dokumen kk, dev backend tambah keterangan sudah diverifikasi untuk filter status dokumen kk,  menampilkan status buta warna pada dasbor siswa,  disable kolom status hubungan keluarga pada koreksi data induk, dev perubahan mekanisme koreksi berkas, dev melepas validasi hapus domisili di pengaturan data siswa admintools, dev backend req menampilkan status buta warna pada dasbor siswa, dev frontend req menampilkan status buta warna pada dasbor siswa,  penyesuaian redaksi jika data nik tidak ditemukan, dev muncul notifikasi halaman ini belum dapat diaksesjalur bibit unggul, dev set default filter untuk role akses operator khusus, dev saat ajuan ulang nilai rapor terkunci, prosescabdin penyediaan laporan set nilai siswa, dev backend menyembunyikan informasi nama ibu di situs publik , dev req disable kolom status hubungan keluarga pada koreksi data induk, dev backend overide kolom input alamat siswa , dev footer situs publik online, dev backend batasan opsi pilihan sesuai dengan pilihan atribut lain, dev frontend ubah label tanggal cetak kk menjadi tanggal kedatangan siswa, dev label pilihan sekolah 1 dan 2 pada peta tidak sesuai, dev backend batasi insi dan , dev frontend titik koordinat peta pilihan sekolah tidak muncul pada bukti cetak, dev frontend nomor kartu keluarga 16 digit dan awalan angka 6271xxxxxxxxxxxx, dev nlain12 tidak tersimpan, dev penyesuaian redaksi jika data nik tidak ditemukan, dev frontend opsi pilihan sesuai dengan pilihan atribut lain,  proses update data siswa dg informasi lokasi ortu bertugas, dev buka blokir nik siswa yang sudah diterima sekolah ke 2, dev req penyesuaian kolom info data dari dukcapil, dev backend hilangkan form isian tanggal lahir dan validasinya pada fitur pencarian siswa, dev ubah tampilkan info status verifikasi di detil siswa, dev frontend overide kolom input alamat siswa , dev fitur koreksi verifikasi akun saat di simpan jumlah mapel rapor tersimpan nya menjadi 7 mapel dari 9 mapel, dev frontend hilangkan form isian tanggal lahir dan validasinya pada fitur pencarian siswa, dev penyesuaan cetak pendataan prestasi siswa, dev usia piagam belum terbaca sesuai dengan tanggal yg diinputkan, dev buka blokir nik siswa yang sudah diterima sekolah, dev sequence nomor pengganti tidak sinkron dengan data pada siswa, dev tidak bisa melakukan pendataan siswa, dev buat daftar tabel dan field yang harus ditambah dan diset, dev ganti label tanggal kedatangan siswa dimodul set nilai siswa, dnt update nilai siswa karena kolomnya ke geser, dev membatalkan override menghilangkan isian nilai pendataan selain pelajaran ujian akhir di jalur sman 10, dev set fitur ubah password paksa mulai tgl 24 juni jam 0000wib, dev ubah narasi status anak guru, dev ubah pesan error nomor peserta sudah digunakan siswa dalam, dnt proses update nilai siswa karena kolomnya ke geser, dev modul set nilai nilainya terdisabled, dev frontend tambah informasi konfirmasi status siswa di dokumen kk dan potensi minat bakat, dev backend tambah informasi konfirmasi status siswa di dokumen kk dan potensi minat bakat, dev set nilai default untuk nlain20 26 juni 2022, dev backend cetak prestasi tidak muncul, proses update perhitungan nilai peserta , tambah atribut keterangan dukcapil pada modul set nilai siswa, dev tambah atribut keterangan dukcapil pada modul set nilai siswa, dev backend pengecekan nilai rerata rapor peserta cabdin , migrasi nilai raport cabdin , dev backend cek set nilai siswa muncul notif af1c1 parameter nilai jenis kepindahan domisili siswa tidak valid, dev menghilangkan isian nilai pendataan selain pelajaran ujian akhir pada 3 jalur sma, dev backend override akumulasi nilai rerata rapor 10 mapel selama 5 semester untuk sma dan smk tahun ,  update biodata siswa tambahan,  penyesuaian kolom inputan nilai siswa, dev fix tanggal cetak kk disabled ketika ajuan, dev backend penyesuaian kolom inputan nilai siswa, proses update nilai aspd siswa yogya karta,  proses update biodata siswa tambahan, dev frontend disable ubah tanggal cetak kartu kk di modul koreksi verifikasi akun siswa, dev pilihan sekolah diurutkan dari yang jaraknya paling dekat pada form ajuan, dev override nilai rapor untuk sma dan smk tahun ,  req tombol ubah nilai atribut surat keterangan buta warna, dev disable ubah tanggal cetak kartu kk di modul koreksi verifikasi akun siswa, dev tambahkan atribut shdk kesesuaian nama ortu dan potensi minatbakat pada modul koreksi verifikasi akun siswa, dev tambahan nilai 100 pada pilihan pertama tidak berlaku saat pindah jenjang, dev ubah entry tanggal dengan component yang bisa copas, dev menghapus override nilai rapor untuk sma dan smk tahun , dev frontend isian kepindahan domisili ortu dan tanggal kedatangan ortu, dev update data nik melalui api push sidanira, dev backend tambah kepindahan domisili ortu dan tanggal kedatangan ortu, dev mode ubah lokasi ketika verifikasi tidak berjalan, dev frontend tambah blok kolom disklaimer pada dokumen cetak ,  req tombol ubah nilai atribut surat keterangan buta warna, dev backend custom rule untuk nlain19 nteks07 dan nteks08 , dev frontend req tombol ubah nilai atribut surat keterangan buta warna, dev backend req tombol ubah nilai atribut surat keterangan buta warna, proses update nilai rapor siswa smp , dev frontend cegah masuk jika mfa belum aktif, dev cpdb tidak bisa aktivasi, dev aktifkan kem serta penyesuaian aturan pemilihan sekolah, dev req set batas umur piagam prestasi menggunakan rentang tanggal, dev hilangkan tab biodata info dan nilai pada modul set nilai siswa, dev frontend menampilkan nteks07 jika nlain19 1, dev integrasi api dukcapil , dev override jumlah pilihan sekolah , dev frontend form setting mfa, dev frontend menampilkan halaman memasukkan token ketika login, dev backend override pilihan jenis perpindahan tugas orang tua, dev kode google analytics untuk upaten , dev override redaksi keterangan set nilai siswa cabdin ,  penyesuaian tombol zonasi, dev frontend override pilihan jenis perpindahan tugas orang tua, dev merubah urutan tampilan daftar verifikasi berkas, dev frontend update rumus perhitungan ratarata nilai rapor, dev backend update rumus perhitungan ratarata nilai rapor, dev penyesuaian url untuk jateng , dev backend tambah form opsi untuk mengaktifkan mfa di pelaksana, dev backend form setting mfa, dev frontend penyesuaian tombol zonasi, dev generate kode google api untuk upaten , dev create project, dev backend validasi token mfa ketika login, dev menambahkan validasi saat tidak terdapat sekolah pilihan dari siswa, dev mereset rombel daya tampung sekolah, dev error 404 situs , dev batasan pilihan sekolah, dev munculkan kem isian dan validasi kepesertaan pip nlain13, dev merubah tampilan status peserta didik saat verifikasi ke tab pengajuan,  nilai rerata rapor dan semester tidak muncul pada cetak ajuan dan verifikasi, dev frontend tambah form opsi untuk mengaktifkan mfa di pelaksana, dev penyesuaia pencarian nik , dev buka akses koreksi nilai rapor untuk siswa pendataan, dev generate konfigurasi status dan jenis mfa yang digunakan, dev buka batasan pilihan sekolah jika sudah tidak diterima, dev up situs kalimantan timur cabdin , dev menolak ajuan berkas peserta, dev cek ajuan berkas peserta tidak ditemukan, dev verifikasi berkas belum google maps, dev tambah tabel untuk menyimpan informasi mfa siswa, dev ubah redaksional jumlah nilai rerata, frontend hide nilai aspd, backend hilangkan validasi nilai aspd, dev pindah lokasi menu cek nik, dev backend mekanisme unggah berkas yang ajuannya di tolak , dev penyesuaian jadwal unggah berkas, dev frontend mekanisme unggah berkas yang ajuannya di tolak , dev keluarkan isian lokasi verisikasi dan unggah berkas untuk siswa pra pendaftaran, dev penelusuran penyebab siswa tidak diterima, dev tampilan daya tampung di hasil seleksi belum sesuai, dev hilangkan informasi status verifikasi, dev penyesuaian label tahun pelajaran menjadi tahun ajaran, dev ubah pesan error data dukcapil tidak ditemukan, dev penyesuaian pengecekan nik untuk siswa prapendaftaran, dev kendala koreksi sekolah peserta di operator demo, dev tambah parameter untuk menampilkan nilai dan handle nilai yang dikirim,  parameter nilai lingkungan tidak valid, dev memunculkan mapel rapor pjok dan seni budaya pada cetak pengajuan akun , dev nilai rapor mapel pjok dan seni budaya berisi 0 di halaman verifikasi akun siswa, dev hilangkan isian dan validasi anak yatim nlain13, dev menyembunyikan informasi disabilitas di detail siswa, dev update perhitungan umur piagam , dev mapel pjok dan seni budaya belum muncul di isian nilai rapor, dev menghilangkan informasi rangking dari jumlah pendafttar pada detail siswa, dev update narasi petunjuk pengisian nilai rapor, dev hilangkan informasi data nilai akreditasi asal sekolah, dev sudah ditutup operator demonya tapi masih terbuka, dev mengaktifkan upaten , dev data peserta tidak muncul pada hasil seleksi, frontend menyembunyikan informasi disabilitas di detail siswa, dev frontend fitur pencarian data siswa, dev backend fitur pencarian data siswa, dev penyesuaian validasi berkas unggahan berdasarkan isian nilai, dev ubah theme warna situs publik sma dan smk, dev implementasi api dukcapil , dev penyesuaian tampilan berkas unggahan berdasarkan isian nilai, dev menghilangkan tombol cari pada situs publik, dev gagal save setting berkas unggahan, dev penyesuaian konten situs publik yang ditutup, frontend isian nilai mapel siswa lulusan mtspesantren, dev ubah informasi dugaan data ganda di situs operator, backend isian nilai mapel siswa lulusan mtspesantren, frontend override isian nilai mapel siswa lulusan mtspesantren, backend override isian nilai mapel siswa lulusan mtspesantren, cek komplain nilai radius tidak muncul pada hasil seleksi, dev frontend isian nilai mapel mengikuti jenis lulusan, dev backend isian nilai mapel mengikuti jenis lulusan, dev menambahkan key pilihan pada response validate, dev batasan pilihan sekolah siswa sesuai batas maksimal sekolah,  tidak bisa koreksi tanggal lahir, dev hapus override dari tiket 12454, dev tambah baru upaten timor tengah utara, tampilkan nilai tkdn, frontend fitur pencarian nik , dev ubah default tahun lulus, dev hapus override pilihan madrasah pada verifikasi berkas, dev tambah akses ke admin tools, frontend penyesuaian input npsn terhadap pilihan status siswa ,\n",
      "\n",
      "Cluster 7 subject: dev tanggal kartu keluarga berubah menjadi 6 september setelah dilakukan koreksi ajuan akun siswa,  siswa tidak bisa disetujui ajuan akunnya,  req penyesuaian fitur verifikasi akun siswa , pemutakhiran data siswa sesuai atribut mengacu pada ajuan akun yang terakhir,  penyesuaian fitur verifikasi akun siswa ambil data api tapemdukcapil, dev nilai rata rata rapor saat pendaftaran berbeda dengan saat verifikasi ajuan akun,  siswa pendataan tidak bisa ajuan akun,  req tambah kolom status hubungan keluarga pada daftar ajuan akun,  nilai gabungan pada ajuan akun dan cetak ajuan akun tidak sesuai, gagal apal ajuan akun di smp zonasi, dev nilai rata rata rapo berbeda antara di verifikasi ajuan akun dengan di dasbor siswa, dev siswa perpindahan masih nyantol data perpindahannya saat ajuan akun ulang dengan menggunakan domisili sesuai kk,  tidak bisa ajuan akun di jenjang smk,  kolom info hubungan keluarga pada cetak ajuan akun siswa kosong,  tidak bisa ajuan akun,  penyiapan akun demo ajuan akun siswa, kendala reset data ajuan supaya menjadi ajuan lagi di smpn 9 , publik sudah diabtasi waktu ajuan akun dan pendaftarannya tapi tetap kelolosan, pengecekan siswa tidak bisa mengajukan akun ke 2, create akun dan generate token, menghapus ajuan akun siswa prapendaftaran, mematikan validasi nik saat mengajukan akun, menambahkan nik pada validasi sidanira saat pengajuan akun, mematikan override penguncian pilihan insi saat ajuan akun min, menampilkan kem validasi data sidanira saat pengajuan akun, tahun lulus siswa namun saat ajuan akun munculnya ,  atribut tidak muncul saat ajuan akun,  hilangkan isian nik saat ajuan akun pada jenjang smk demo, normalisasi data ajuan siswa , pengecekan siswa tidak bisa mengajukan akun, ajuan akun siswa yang kedua masih nyantol data kejuaraan dari yang ajuan pertama, rata rata aktivitas apal ajuan akun persekolah, ajuan akun siswa ulang setelah di tolak tetap menampilkan unggahan dokumen kejuaraan, operator sekolah gagal verifikasi ajuan akun karena stuk di tombol verifikasi, sembunyikan informasi akreditasi sekolah asal pada halaman ajuan akun, siswa asal sekolah luar dan jenis lulusan lain lain setelah di tolak pengajuan akun tidak bisa ajuan akun kem, siswa non database setelah di tolak pengajuan akun tidak bisa ajuan akun kem , siswa belum ajuan akun tetapi muncul notif nisn sudah digunakan ajuan akun, status kepesertaan pip terbaca tidak pip saat siswa ajuan akun, take down notifikasi konfirmasi verifikasi ajuan akun siswa yang kurang dari 1 tahun, tambah atribut status dokumen kk saat verifikasi ajuan akun siswa, tambah atribut status dokumen kk pada filter kartu keluarga di modul daftar ajuan akun siswa, status siswa anak guru dijenjang smasmk tidak muncul saat ajuan akun siswa, tanggal cetak kk tidak bisa diklik saat ajuan akun , menampilkan atribut tanggal tanggal perpindahan tugas ortu untuk siswa ptow pada saat ajuan akun, disable ubah tanggal cetak kartu kk di modul koreksi verifikasi akun siswa, menampilkan data verval dukcapil di modul detil siswa ajuan akun siswa, gagal ajuan akun dan muncul notifikasi perhatian 6505b parameter tanggal kedatangan ortu tidak valid, loading tampilan halaman ajuan akun lama bisa sampai 10 detik , ajuan akun siswa stuck di tahap ke 2, reset ajuan akun hasil seleksi zona demo tahun , jadikan mandatori isian saat verifikasi ajuan akun di operator, menampilkan maps pada cetak bukti ajuan akun, munculkan tombol verifikasi tolak batal verifikasi dan batal tolak di menu daftar ajuan akun, isian nilai saat verifikasi akun belum muncul di halaman operator saat melakukan verifikasi ajuan akun siswa, reset status verifikasi akun siswa dummy , dev reset data ajuan supaya menjadi ajuan lagi di smpn 9 , siswa non database luilusan saat ajuan akun gagal simpan ,  siswa pendataan tidak bisa ajuan akun, dev tolak 3 ajuan sma afirmasi yang terlanjur batal verifikasi,  fitur pick up ajuan akun siswa,  tambah mekanisme batal pickup ajuan akun siswa, dev backend ajuan akun siswa yang kedua masih nyantol data kejuaraan dari yang ajuan pertama, laporan rata rata aktivitas apal ajuan akun persekolah,  req akses untuk melihat data ajuan siswa, dev hanya validasi ketika akan tolak verifikasi pada daftar ajuan akun, dev tampilkan info pada halaman verifikasi dan tolak ajuan akun, dev siswa pendataan tidak bisa ajuan akun, dev backend ajuan akun siswa ulang setelah di tolak tetap menampilkan unggahan dokumen kejuaraan,  tambah kolom status hubungan keluarga pada daftar ajuan akun, dev tolak 1 ajuan sma afirmasi yang terlanjur batal verifikasi, dev frontend fitur pick up ajuan akun siswa , dev backend fitur pick up ajuan akun siswa , dev req tambah kolom status hubungan keluarga pada daftar ajuan akun, dev req tambah kolom status hubungan keluarga pada daftar ajuan akun, dev sembunyikan informasi akreditasi sekolah asal pada halaman ajuan akun,  nilai gabungan pada ajuan akun dan cetak ajuan akun tidak sesuai, dev nilai gabungan pada ajuan akun dan cetak ajuan akun tidak sesuai,  status hub keluarga tidak muncul saat ajuan akun,  penyesuaian kolom info alamat pada form ajuan akun siswa, perbaiki dashboard ajuan akun di bi, dev siswa non database setelah di tolak pengajuan akun tidak bisa ajuan akun kem ,  req override menampilkan atribut saat ajuan akun,  req tambah filter di halaman daftar ajuan akun siswa , dev siswa belum ajuan akun tetapi muncul notif nisn sudah digunakan ajuan akun,  req override menampilkan atribut saat ajuan akun,  req tambah filter di halaman daftar ajuan akun siswa , dev take down notifikasi konfirmasi verifikasi ajuan akun siswa yang kurang dari 1 tahun, dev backend tambah atribut status dokumen kk pada filter kartu keluarga di modul daftar ajuan akun siswa, dev backend penyesuaian kolom info alamat pada form ajuan akun siswa, dev frontend tambah atribut status dokumen kk pada filter kartu keluarga di modul daftar ajuan akun siswa, dev frontend penyesuaian kolom info alamat pada form ajuan akun siswa, devbackend tambah atribut status dokumen kk saat verifikasi ajuan akun siswa, dev menampilkan data verval dukcapil di modul detil siswa ajuan akun siswa, dev menampilkan data verval dukcapil di modul detil siswa ajuan akun siswa, url ajuan masih belum sesuai, dev url ajuan masih belum sesuai, dev pengecekan siswa tidak bisa mengajukan akun ke 2, dev backend validasi nilai atribut tanggal perpindahan tugas ortu untuk siswa ptow pada ajuan akun, dev frontend menampilkan atribut tanggal tanggal perpindahan tugas ortu untuk siswa ptow pada saat ajuan akun,  pilihan default ajuan akun, dev tambah filter daftar ajuan akun, dev req override menampilkan atribut saat ajuan akun, dev frontend req tambah filter di halaman daftar ajuan akun siswa , dev backend req tambah filter di halaman daftar ajuan akun siswa , nik yang sudah mengajukan akun, dev loading tampilan halaman ajuan akun lama bisa sampai 10 detik ,  atribut tidak muncul saat ajuan akun,  muncul isian nik saat ajuan akun pada jenjang smk,  tidak bisa ajuan akun, dev jadikan mandatori isian saat verifikasi ajuan akun di operator, devtidak bisa ajuan akun di jenjang smk, dev ajuan akun siswa stuck di tahap ke 2, dev reset aktivasi akun siswa 0121789997, menghapus ajuan akun siswa prapendaftaran, reset ajuan akun hasil seleksi zona demo tahun ,  aktifkan kem fitur menu aktivasi akun siswa,  ganti redaksional pada notifikasi pengajuan akun siswa sekolah asal luar , dev aktifkan kem fitur menu aktivasi akun siswa , dev nonaktifkan validasi nik saat pengajuan akun, dev menampilkan maps pada cetak bukti ajuan akun, dev isian nilai saat verifikasi akun belum muncul di halaman operator saat melakukan verifikasi ajuan akun siswa, dev ajuan akun tidak menampilkan isian sidanira, dev penyesuaian info pada saat ajuan akun, devmunculkan tombol verifikasi tolak batal verifikasi dan batal tolak di menu daftar ajuan akun, backend validasi sidanira saat pengajuan akun, frontend menambahkan nik pada validasi sidanira saat pengajuan akun, dev ganti redaksional notifikasi pengajuan akun siswa sekolah asal luar , dev gagal ajuan akun, dev hapus override disable pilihan insi pada ajuan akun jenjang min,\n",
      "\n",
      "Cluster 8 subject: deploy riil , infra deploy riil , infra deploy riil , deploy data riil , deploy data riil , deploy riil , deploy riil , infra deploy riil , deploy riil data migrasi , deploy riil , infra deploy riil , infra deploy riil , infra deploy riil , infra deploy riil suumi , database deploy riil , deploy riil , deploy riil , deploy riil , deploy riil suumi , deploy riil , deploy riil , deploy riil , deploy riil , deploy riil , deploy riil , deploy riil , deploy riil , deploy riil , infra deploy riil , infra deploy riil , database deploy riil , deploy riil , deploy riil , deploy riil , proses deploy riil data , proses deploy riil data , deploy riil , deploy riil , database deploy riil , database deploy riil , infra deploy riil , infra deploy riil , infra deploy riil , deploy riil , deploy riil , deploy riil , infra deploy riil di , deploy riil di , deploy riil , database deploy riil , infra deploy riil , deploy riil , deploy riil , infra deploy riil cabdin , infra deploy riil , infra deploy riil , infra deploy riil , deploy riil cabdin , deploy riil , deploy riil , deploy riil cabdin , deploy riil , deploy riil , deploy riil banjarmasin , deploy riil , infra deploy riil , deploy riil , deploy riil , deploy riil cabdin , deploy riil , deploy sekolah peserta dari demo ke riil, deploy data riil , deploy riil , deploy riil dki , deploy riil , deploy riil , deploy data riil madrasah dki , deploy riil madrasah dki , deploy riil ,\n",
      "\n",
      "Cluster 9 subject: kendala siswa masih bisa langsung pengajuan pendaftaran di 2 jenjang sekaligus, pengecekan file ajuan pendaftaran di operator tidak terbuka, dev penyesuaian redaksi waktu akses pendaftaran, dev menampilkan alamat ajuan pada detail siswa pendaftaran, dev siswa masih bisa langsung pengajuan pendaftaran di 2 jenjang sekaligus, dev menampilkan alamat ajuan pada laporan pendaftaran ,  siswa tidak bisa lanjut pendaftaran karena peta error, override perubahan redaksi pendaftaran siswa database, test case data siswa pendaftaran di zonasi dan perpindahan, normalisasi normalisasi data ajuan pendaftaran, dev ada pilihan sekolah tidak muncul pada pendaftaran sma prestasi siswa sipenda, dev menampilkan data siswa di pendaftaran kedua dari data di pendaftaran pertama, dev permintaan data siswa sudah batal verifikasi pendaftaran gabungan sma zonasi dan smk reguler yang dapat tambahan 100 di pendaftaran kedua, dev perubahan redaksi pendaftaran siswa database, pengecekan peserta pada daftar ajuan pendaftaran tidak ada, dev pengecekan peserta pada daftar ajuan pendaftaran tidak ada, dev redaksi jadwal pendaftaran di situs publik,  req penyesuaian aturan pendaftaran siswa dan non aktifkan overide 16485 , menghapus waktu pendaftaran pada detil siswa, dev menghapus waktu pendaftaran pada detil siswa, dev set kp ke pendaftaran pertama dan abaikan jika tidak valid, dev koreksi pendaftaran gagal cetak bukti koreksi pendaftarannya, menghapus riwayat pendaftaran seblumnya, fix fitur batal verifikasi ajuan pendaftaran muncul notif d6fe8 terjadi kesalahan aplikasi, dip req penyesuaian aturan pendaftaran siswa dan non aktifkan overide 16485 , pilihan afirmasi tidak muncul di tanda bukti pengajuan pendaftaran, filter menurut jam ajuan pendaftaran pada laporan ajuan pendaftaran, dev filter menurut jam ajuan pendaftaran pada laporan ajuan pendaftaran, dev menghapus riwayat pendaftaran seblumnya, dev koreksi pendaftaran gabungan nilai yang dikoreksi tidak bisa terupdate, override penambahan nilai 100 juga muncul pada pendaftaran kedua seharusnya tidak, reset pendaftaran siswa, dev siswa lulusan luar tetapi domisili dalam tidak bisa mengajukan pendaftaran , dev penambahan nilai 100 juga muncul pada pendaftaran kedua seharusnya tidak, dev perubahan redaksi pendaftaran siswa database, mematikan override batasan pendaftaran kedua satu jenjang dengan pendaftaran pertama, dev override penyesuaian batasan pilih sekolah yang sudah dipilih di pendaftaran sebelumnya, pengembangan bi pengajuan akun dan pendaftaran jateng, dev backend pilihan afirmasi tidak muncul di tanda bukti pengajuan pendaftaran, nisn 0094103525 dan 0092591939 tidak dapat tambahan 100 di pendaftaran pertama, override update siswa yang dikunci titik koordinatnya saat ajuan pendaftaran gabungan, override menampilkan penanda berkas sipenda pada laman verifikasi pendaftaran gabungan, dev update siswa yang dikunci titik koordinatnya saat ajuan pendaftaran gabungan, dev penanda berkas sipenda pada laman verifikasi pendaftaran gabungan, override penyesuaian label pilihan jenis lulusan di form pendaftaran, override siswa dengan atribut siswanilainlain161 tidak bisa ubah titik koordinat saat ajuan pendaftaran gabungan,  step cek data pendaftaran siswa tidak muncul, dev step cek data pendaftaran siswa tidak muncul di ,  req override ubah tikor siswa saat verval ajuan pendaftaran, devtampilan maps pada halaman konfirmasi pengajuan pendaftaran masih menampilkan peta osm, override nilai atribut nlain181 seharusnya bisa ajuan pendaftaran online di smk jarak terdekat, migrasi penanda jalur dari pra pendaftaran sipenda disdik kalteng,  penyesuaian redaksional pada cetak bukti ajuan pendaftaran di semua jalur, pengecekan info pengajuan pendaftaran berbeda dgn ajuan pendaftarannya, pengecekan perbedaan alamat siswa di web dengan di tanda bukti cetak pendaftaran, siswa sudah melakukan pendaftaran namun datanya tidak ditemukan, bug nopes dan token berbeda dihalaman verifikasi pendaftaran, reset daftar ajuan pendaftaran gabungan zona demo, reset daftar ajuan pendaftaran gabungan zona demo, override perubahan redaksi pendaftaran siswa database, hapus data ajuan pendaftaran di demo,  siswa luar tidak bisa ajukan pendaftaran, hapus semua pendaftaran siswa semua jenjang di zona demo, hapus semua pendaftaran siswa semua jenjang di zona demo, merubah status peserta dari diskualifikasi pendaftaran menjadi diskualifikasi hasil, mematikan ovveride auto ape siswa pra pendaftaran, reset pendaftaran dan hasil seleksi siswa dummy tahun sebelumnya, data iputan nilai rapor tidak muncul di cek ulang pendaftaran,  reset data siswa demo , override menghilangkan informasi waktu pengajuan dan waktu pendaftaran di detail siswa, pengecekan pengisian alamat siswa saat pendaftaran jalur pto, override penyesuaian cetak pendaftaran dan verifikasi, override menyembunyikan nilai di cetak pendaftaran, zonasi siswa saat ajuan pendaftaran terbaca dari zona 4, nama siswa saat pendaftaran jadi auto translate, disable pilihan insi kecamatan dan kelurahan pada ajuan pendaftaran siswa, reset pendaftaran siswa dummy , reset data dymmy zona demo pendaftaran tahun , pengajuan pendaftaran siswa gagal dan muncul notif parameter tanggal prestasi tidak valid,  reset data dummy siswa , reset data pendaftaran siswa dummy , reset pendaftaran dan hasil seleksi siswa dummy tahun sebelumnya, dev penyesuaian redaksional pada cetak bukti ajuan pendaftaran di semua jalur, dev nilai atribut nlain181 seharusnya bisa ajuan pendaftaran online di smk jarak terdekat, dev nisn 0094103525 dan 0092591939 tidak dapat tambahan 100 di pendaftaran pertama,  req menampilkan unggah berkas saat pendaftaran, penyesuaian alur penyimpanan data alamat ke pendaftaran, dev disable isian nilai aspd di form ajuan pendaftaran, dev mematikan override batasan pendaftaran kedua satu jenjang dengan pendaftaran pertama, proses perbaikan perbedaan alamat siswa di web dengan di tanda bukti cetak pendaftaran, dev merubah status peserta dari diskualifikasi pendaftaran menjadi diskualifikasi hasil, hapus ajuan pendaftaran siawa , dev pengecekan perbedaan alamat siswa di web dengan di tanda bukti cetak pendaftaran, dev siswa luar tidak bisa ajukan pendaftaran, dev hapus ajuan pendaftaran siawa , devfrontend bukti cetak pengajuan pendaftaran yang pakai maps tidak muncul, dev ubah atribut kemunculan dokumen yang diunggah saat pengajuan pendaftaran sesuai dengan kategori siswa calon pendaftar zonasi, dev nama siswa saat pendaftaran jadi auto translate, dev backend tambah variabel jenis peta pada cetak pendaftaran gabungan, dev penyesuaian cetak pendaftaran dan verifikasi, proses reset data pengajuan pendaftaran dan data verifikasi, dev penyesuaian modul batal pendaftaran di situs operator, dev pengecekan siswa mendaftar pto tidak muncul pada ajuan pendaftaran,  non aktifkan override info pendaftaran, dev batal pendaftaran siswa salah pilih zonasi sd, penyediaan bi data siswa salah pilih zonasi sd untuk pemantauan pendaftaran kem, dev disable pilihan insi kecamatan dan kelurahan pada ajuan pendaftaran siswa, dev disable pilihan insi kecamatan dan kelurahan pada ajuan pendaftaran siswa, proses reset semua pendaftaran siswa semua jenjang di zona demo, devpengecekan syarat pendaftaran sma dan smk ,  non aktifkan override info pendaftaran,  req resetclear data pendaftaran demo , database proses nisn baru dari hasil pembetulan tidak bisa digunakan untuk pengajuan pendaftaran,  non aktifkan override info pendaftaran, override hapus informasi waktu pendaftaran pada butki cetak, dev kemunculan dokumen yang diunggah saat pengajuan pendaftaran sesuai dengan kategori siswa calon pendaftar zonasi, penyesuaian alur evaluasi data alamat dari pendaftaran, frontendpenyesuaian alur penyimpanan data alamat ke pendaftaran, backendpenyesuaian alur penyimpanan data alamat ke pendaftaran, proses reset data pendaftaran demo,  reset data dummy , dev kemunculan dokumen yang diunggah saat pengajuan pendaftaran sesuai dengan kategori prestasi yang dipilih, reset data dymmy zona demo pendaftaran tahun ,  reset database siswa demo, proses hapus data ajuan pendaftaran di demo, dev nonaktifkan override auto ape siswa pra pendaftaran, dev penyesuaian bukti cetak pengajuan pendaftaran dan bukti verifikasi jalur prestasi, hapus semua pendaftaran siswa semua jenjang di zona demo, dev informasi kelompok pilihan jalur di bukti cetak pengajuan pendaftaran, proses reset data dummy siswa , backend informasi kelompok pilihan jalur di bukti cetak pengajuan pendaftaran, dev cetak pengajuan pendaftaran tidak muncul peta, backend override menyembunyikan nilai di cetak pendaftaran, frontend hilangkan informasi na pada bukti cetak pendaftaran, database reset data pengajuan pendaftaran di situs demo, reset data pendaftaran siswa dummy , proses reset database siswa demo, dev error ketika koreksi pendaftaran gabungan, reset pendaftaran dan hasil seleksi siswa dummy tahun sebelumnya, reset pendaftaran dan hasil seleksi siswa dummy tahun sebelumnya, reset daftar ajuan pendaftaran gabungan zona demo, reset daftar ajuan pendaftaran gabungan zona demo,\n",
      "\n",
      "Cluster 10 subject: st koreksi alur,  penambahan gambar banner, mengganti gambar banner, st req pembuatan posterbanner pena berkah kalteng, st alur , st pengecekan ssl custom domain , st menambah storage pada vm database slave, st merekayasa banner , st custom domain goid dari , st cek kesesuaian ssl untuk domain , st upgrade spek 10232245, st banner situs publik online kalteng , mangganti background banner, st ganti foto banner , st tambah kapasitas hdd pada server database 0620, pasang gambar alur, update banner 2, pengecekan ssl custom domain , banner situs publik online , banner baru online , pemasangan url pada tombol berkas alur gambar, perubahan gambar alur pelaksanaan sd dan smp di situs publik,  penambahan gambar alur model b, banner implementasi banner , banner menambahkan logo hut pada banner situs publik, merubah gambar pada menu alur, merubah gambar alur update 1, perbaikan gambar alur jalur bibit unggul , penyesuaian gambar alur pendaftaran online yogya smp jalur perpindahan tugas, st password situs demo , st password untuk akses situs publik demo, st infrastruktur subdomain untuk production , st mengganti user vpn pusdatikomdik, st tambah kapasitas hdd pada server database 10212119, st perbaikan gambar alur jalur bibit unggul , st update banner , st mangganti background banner , st alur , st banner revisi typo, st upgrade kapasitas database , st alur , dev frontend pemasangan url pada tombol berkas alur gambar, st duplikasi request upstream dari lb dinamis, st pemasangan banner , st revisi banner pak gub, gambar alur di situs publik, st pengecekan ssl custom domain , st banner , st uix alur b, mengganti photo pejabat pada banner situs publik, st penambahan gambar banner, st up situs kalimantan timur cabdin , uixpenyesuaian gambar alur pendaftaran online yogya smp jalur perpindahan tugas, st penambahan gambar alur model b, st custom domain , pasang banner tkdn online di portal, st setup interkoneksi ke api dukcapil, dev pasang banner tkdn online di portal, st pemasangan banner nilai tkdn portal produk , st penambahan storage 10212226, st mengarahkan semua ke non pelanggan, st upscale vm tool migrasi 10212153, st penambahan storage 10212108, st ssl domain siapcom, st penyediaan vm oci untuk database slave all wilayah,\n",
      "\n",
      "Cluster 11 subject: closing engine jalur zonasi kategori umum tahap 1, closing engine sma all jalur tahap 1, dev pengecekan dan penyesuaian hasil seleksi jalur reguler, dev backend tolak pilihan insi dan selain dan jalur zonasi dan pto, closing engine jalur zonasi khusus afirmasi zonasi reguler prestasi dan pto tahap 1, dev frontend disable pilihan insi dan jalur zonasi dan pto, override batasan ajuan pendaftaran jalur zonasi pto dan prestasi, closing engine insi jalur zonasi afirmasi dan pto sma, closing engine di jalur zonasi radius afirmasi zonasi reguler prestasi dan pto tahap 1, check kondisi maps menempel pada jalur bukan pada siswa di jalur zonasi dan jalur perpindahan, dev data siswa beda alamat di jalur zonasi dan perpindahan, closing engine jalur afirmasi tahap 1, kendala koreksi pendaftaran pada jalur zonasi untuk koreksi koordinat tidak jalan di production, dev koreksi pendaftaran pada jalur zonasi untuk koreksi koordinat tidak jalan di production, closing engine upaten jalur zonasi dan pto tahap 1, closing engine jalur afirmasi dan prestasi tahap 1, proses pembuatan laporan daftar peserta diterima jalur tahap kedua, closing engine jalur afirmasi dan perpindahan tahap 1, dev reset engine jalur afirmasi, dev siswa pto saat akan mendaftar jalur pto kena syarat daftar jalur pto, dev hasil unduhan laporan sementara dan laporan hasil akhir jalur prestasi jalur pto dan jalur afirmasi, dev munculkan kem kolom hubungan keluarga pada jalur prestasi dan set enable editing, devsyarat daftar jenjang smk jalur afirmasi tidak berjalan, closing engine sd smp semua jalur, override terkait akreditas sekolah asal saat pengajuan pendaftaran smk semua jalur, dev sembunyikan jalur smk prestasi di situs publik, dev terkait akreditas sekolah asal saat pengajuan pendaftaran smk semua jalur, dev syarat blokir jenjang smk all jalur tidak berjalan, devbackend simpan alamat yang sebelumnya dikunci pada jalur prestasi, closing engine jalur zonasi tahap 1, closing engine banajrmasin jalur zonasi tahap 1, devfrontend buka kuncian pilihan alamat pada jalur prestasi,  hilangkan kolom status afirmasi status disabilitas dan skor prestasi pada jalur pto, dev pembatasan batal verifikasi pendaftaran tiap tahap pelaksanaan jalur maksimal 1 kali, override menampilkan sebagian berkas pada tiap jalur sma smk,  hilangkan kolom hubungan keluarga pada jalur prestasi, closing engine upaten jalur afirmasi tahap 1, closing engine jalur prestasi tahap 1, penyesuaian aturan pendaftaran siswa jalur tahfidz dengan zonasi, gagal melanjutkan proses pendaftaran utk 1 pilihan sekolah di jalur prestasi akademik non akademik, me nonaktifkan override batasan pilihan sekolah jalur pto, override pembatasan pengajuan pendaftaran di jalur prestasi, gagal reset engine jalur prestasi hafiz quran, override batasan pilihan sekolah utk jalur prestasi, override ungahan berkas siswa tidak memiliki prestasi dan afirmasi atau abk, override pilihan status afirmasi atau abk syarat daftar jalur afirmasi, override ungahan berkas siswa afirmasi atau abk jalur afirmasi, override memunculkan radio button pilihan luar insi jalur afirmasi, unggahan piagam prestasi tidak muncul saat memilih bukan siswa afirmasi dan abk,  penyesuaian kolom input data prestasi di ajuan pendaftaran siswa jalur prestasi,  validasi data pendaftaran siswa jalur afirmasi,  req override edit status dtks dan anak panti pada jalur afirmasi, munculkan semua jalur pendaftaran pada situs publik arsip ppbd , data pendaftar data pendaftar siswa jalur prestasi yang diverifikasi lebih dari 1 kali, override tahun lalu belum jalan untuk mekanisme siswa pendataan pada jalur prestasi, gagal ijin koreksi pendaftaran jalur zonasi, penolakan untuk ajuan sma smk jalur afirmasi yang belum diverifikasi, penambahan label rjs saat memilih sekolah pada jalur zonasi, closing engine upaten all jalur tahap 1,  siswa dnt tanpa migrasi nilai tidak bisa diverifikasi saat ajuan pendaftaran jalur prestasi, closing engine jalur zonasi dan jalur perpindahan tahap 1, closing engine jalur zonasi tahap 1, siswa pendataan jalur prestasi dengan jenis asal sekolah lulusan tidak bisa lanjut ke step berikutnya, kendala siswa pengajuan lebih dari 1 jalur sudah berhasil tapi tidak ada datanya pada saat akan diverifkasi, closing engine jalur afirmasi dan jalur prestasi tahap 1, closing engine jalur all non zonasi tahap 1, closing engine jalur perpindahan jalur prestasi lomba jalur prestasi rapor tahap 1, closing engine jalur zonasi tahap 1, override pembatasan pada jalur zonasi untuk nisn sama, override ubah ketentuan override di jalur afirmasi terkaid diterima semua, closing engine jalur afirmasi tahap 1, closing engine jalur afirmasi jalur prestasi jalur perpindahan tahap 1, situs operator ubah urutan keikutsertaan program kurang mampu jalur afirmasi, perubahan nama jalur pto pada jenjang smk, closing engine jalur zonasi tahap 1, closing engine banajrmasin jalur afirmasi prestasi akademik dan prestasi non akademik tahap 1, closing engine jalur zonasi r1 afirmasi r2 perpindahan tugas r3 tahap 1, closing engine jalur prestasi r4, cetak prestasi tidak muncul, override pilihan domisili luardalam tidak ditampilkan di laman pendaftaran jalur afirmasi penyandang disabilitas, syarat daftar jalur zonasi tidak berjalan, set default pilihan jalur zonasi dan jalur prestasi ya, siswa mendaftar di jalur prestasi luar tidak bisa di verifikasi di jalur zonasi, dev frontend hilangkan kolom hubungan keluarga pada jalur prestasi, dev frontend hilangkan kolom status afirmasi status disabilitas dan skor prestasi pada jalur pto, dev override batasan ajuan pendaftaran jalur zonasi pto dan prestasi, dev penambahan untuk sma zonasi tahap 2 tidak berjalan, dev data pendaftar siswa jalur prestasi yang diverifikasi lebih dari 1 kali, dev frontend menyesuaikan label pada menu daftar pada jalur yang belum mulai, dev buka engine sma prestasi untuk dilakukan seleksi kem, dev penyesuaian aturan pendaftaran jalur tahfiz dan zonasi, dev gagal melanjutkan proses pendaftaran utk 1 pilihan sekolah di jalur prestasi akademik non akademik, dev backend ungahan berkas siswa tidak memiliki prestasi dan afirmasi atau abk, dev backend validasi saat pengajuan pendaftaran jalur prestasi bagi siswa pendataan, dev menonaktifkan override batasan pilihan sekolah jalur pto, dev batasan pengajuan pendaftaran di jalur prestasi, closing engine sma smk semua jalur, dev penyesuaian override pilihan status afirmasi atau abk syarat daftar jalur afirmasi, dev override tahun lalu belum jalan untuk mekanisme siswa pendataan pada jalur prestasi, dev mekanisme jalur zonasi untuk kategori siswa calon pendaftar zonasi saat pengajuan di situs publik, dev penambahan info label rjs saat memilih sekolah pada jalur zonasi, dev penolakan untuk ajuan sma smk jalur afirmasi yang belum diverifikasi, dev merubah label alamat pada jalur pto, dev status verifikasi di jalur zonasi dan jalur perpindahan, dev disable to edit untuk asal sekolah lulusan pada jalur prestasi bagi siswa dalam database, dev frontend menambahkan ketentuan override nilai rapor yang muncul sesuai asal sekolah lulusan yang dipilih di jalur prestasi, dev backend menambahkan ketentuan override nilai rapor yang muncul sesuai asal sekolah lulusan yang dipilih di jalur prestasi, prosespengecekan data ajuan di sma dan smk jalur prestasi , dev backend penyesuaian override jalur afirmasi dengan melepas validasi nik pkh, dev backend ungahan berkas siswa afirmasi atau abk jalur afirmasi, dev frontend ungahan berkas siswa afirmasi atau abk jalur afirmasi,  atribut saat pengajuan akun jalur afirmasi masih bisa diedit,  atribut saat pengajuan akun jalur zonasi masih bisa diedit, dev frontend pilihan status afirmasi atau abk syarat daftar jalur afirmasi, dev backend pilihan status afirmasi atau abk syarat daftar jalur afirmasi, dev backend syarat daftar jalur zonasi tidak berjalan, dev kemunculan dokumen mengikuti atribut yang dipilih pada jalur sertifikat prestasi jenjang sma dan smk, dev tambahan nilai 100 pada pilihan pertama pada sma prestasi sma zonasi tahap 2 dan smk reguler, closing engine cabdin sma smk jalur zonasireguler, dev set default pilihan jalur zonasi dan jalur prestasi ya, closing engine cabdin sma smk jalur regulerzonasi tahap 2,  nilai literasi membaca tidak valid jalur pto, dev backend validasi data pendaftaran siswa jalur afirmasi, dev status verifikasi di jalur prestasi dan jalur afirmasi,  aspd tidak muncul pada jalur prestasi,  aspd tidak muncul pada jalur prestasi, dev gagal ijin koreksi pendaftaran jalur zonasi, dev label pada situs publik untuk jalur zonasi pada sma dan smk, dev label pada situs publik jalur perpindahan tugas orang tua sma dan smk, frontend hide nilai aspd jalur non prestasi, backend hilangkan validasi nilai aspd jalur non prestasi, munculkan semua jalur pendaftaran pada situs publik ppbd , dev tidak ditemukan jalur didatabase, backendunggahan piagam prestasi tidak muncul saat memilih bukan siswa afirmasi dan abk, dev kemkan pilihan pilihan luar insi untuk jalur afirmasi, dev siswa bisa mengajukan pendaftaran di jalur zonasi jika tidak lapor diri, dev sekolah yang sudah dipilih tidak boleh dipilih kem untuk jalur prestasi, dev hapus informasi nilai akhir pada jalur prestasi dan jalur perpindahan, dev bukti cetak jalur perpindahan tugas orang tua, closing engine smp jalur prestasi nus prestasi non akademik pto tahap 1, closing engine sd jalur z2 pto smp jalur z1 afirmasi gakin afirmasi ptk tahap 1, dev disable validasi jadwal unggah berkas jalur penyandang disabilitas, dev pembatasan verval diberlakukan per sekolah per jalur, dev override label waktu pemberian titik maps di situs publik jalur zonasi, dev pilihan domisili luardalam tidak ditampilkan di laman pendaftaran jalur afirmasi penyandang disabilitas, ubah arsip yogya agar jalur keluar semua, backendbukti cetak penyesuaian bukti cetak set nilai tambah di jalur afirmasi, override engine seleksi ,\n",
      "\n",
      "\n",
      "\n"
     ]
    }
   ],
   "source": [
    "from __future__ import print_function\n",
    "\n",
    "print(\"Anggota per cluster:\")\n",
    "print()\n",
    "#sort cluster centers by proximity to centroid\n",
    "order_centroids = km.cluster_centers_.argsort()[:, ::-1] \n",
    "\n",
    "for i in range(num_clusters):\n",
    "    #UNTUK MENAMPILKAN TOPIC (MASIH ERROR)\n",
    "    #print(f\"Cluster {i} topic:\", end='') \n",
    "    #for ind in order_centroids[i, :4]:  # Replace 6 with n_words_per_cluster\n",
    "        #word = terms[ind].split(' ')\n",
    "        #if word[0] in vocab_frame.index:\n",
    "            #print(f\" {vocab_frame.loc[word[0]].values.tolist()[0][0].encode('utf-8', 'ignore').decode('utf-8')},\", end='')\n",
    "    #print()  # Add whitespace\n",
    "    #print()  # Add whitespace\n",
    "\n",
    "    print(f\"Cluster {i} subject:\", end='')\n",
    "    if i in data_hsl.index:\n",
    "        for title in data_hsl.loc[i]['subject_p'].values.tolist():\n",
    "            print(f\" {title},\", end='')\n",
    "    print()  # Add whitespace\n",
    "    print()  # Add whitespace\n",
    "    \n",
    "print()\n",
    "print()"
   ]
  },
  {
   "cell_type": "markdown",
   "id": "7ed855b8-87b1-4ef7-97ee-1cce1c9e9c42",
   "metadata": {},
   "source": [
    "# Data tiap Cluster"
   ]
  },
  {
   "cell_type": "code",
   "execution_count": 82,
   "id": "595b48c7-25cf-4df8-8b6d-a5b979c6a917",
   "metadata": {},
   "outputs": [],
   "source": [
    "data_cluster = []\n",
    "\n",
    "for i in range(12):\n",
    "    data_cluster.append(data_hsl[data_hsl['cluster'] == i]['subject_p'])\n",
    "    "
   ]
  },
  {
   "cell_type": "code",
   "execution_count": 83,
   "id": "08dc0181-0eae-420f-a6d1-40cd0085eb46",
   "metadata": {},
   "outputs": [
    {
     "data": {
      "text/plain": [
       "10                                      st koreksi alur\n",
       "10                             penambahan gambar banner\n",
       "10                              mengganti gambar banner\n",
       "10    st req pembuatan posterbanner pena berkah kalteng\n",
       "10                                             st alur \n",
       "                            ...                        \n",
       "10                st mengarahkan semua ke non pelanggan\n",
       "10                  st upscale vm tool migrasi 10212153\n",
       "10                       st penambahan storage 10212108\n",
       "10                                st ssl domain siapcom\n",
       "10    st penyediaan vm oci untuk database slave all ...\n",
       "Name: subject_p, Length: 65, dtype: object"
      ]
     },
     "execution_count": 83,
     "metadata": {},
     "output_type": "execute_result"
    }
   ],
   "source": [
    "data_cluster[10]"
   ]
  },
  {
   "cell_type": "markdown",
   "id": "6cf860c1-b31a-491d-8d3f-27cf9d470609",
   "metadata": {},
   "source": [
    "# IndoBERT"
   ]
  },
  {
   "cell_type": "markdown",
   "id": "903038d0-75f7-4549-96c4-5b1afb3867c8",
   "metadata": {},
   "source": [
    "## Topic generation (Contoh)"
   ]
  },
  {
   "cell_type": "code",
   "execution_count": 86,
   "id": "23cfefe7-0114-41b2-bec2-7e82759b480d",
   "metadata": {},
   "outputs": [],
   "source": [
    "from bertopic import BERTopic\n",
    "from umap import UMAP\n",
    "from sklearn.feature_extraction.text import CountVectorizer\n",
    "\n",
    "\n",
    "import seaborn as sns\n",
    "import matplotlib.pyplot as plt"
   ]
  },
  {
   "cell_type": "markdown",
   "id": "1856f3c6-ecc0-4fcc-988c-fbc12494cc83",
   "metadata": {},
   "source": [
    "1. CountVectorizer:\n",
    "Ini adalah kelas dari scikit-learn yang digunakan untuk mengubah teks menjadi representasi angka (vector). CountVectorizer menghitung frekuensi kata atau n-gram dalam dokumen teks.\n",
    "\n",
    "2. ngram_range=(2, 2):\n",
    "Parameter ngram_range menentukan rentang n-gram yang akan diekstraksi dari teks. Dalam kasus ini, (2, 2) berarti model hanya akan mengekstrak bigram (sepasang kata berturut-turut) dari teks. Sebagai contoh, dari teks \"saya suka membaca buku\", bigram yang dihasilkan adalah \"saya suka\", \"suka membaca\", dan \"membaca buku\".\n",
    "\n",
    "3. stop_words=stopword_ind:\n",
    "Parameter stop_words digunakan untuk menentukan daftar kata-kata yang akan diabaikan (dihapus) dari teks sebelum proses n-gram dilakukan. stopword_ind di sini adalah variabel yang menyimpan daftar kata-kata umum dalam bahasa Indonesia (seperti \"dan\", \"di\", \"yang\", dll.) yang tidak dianggap penting untuk analisis."
   ]
  },
  {
   "cell_type": "markdown",
   "id": "6b247c26-cbb5-4a69-8288-89fa2d5e8be0",
   "metadata": {},
   "source": [
    "1. BERTopic:\n",
    "\n",
    "BERTopic adalah library yang digunakan untuk pemodelan topik berbasis embedding teks. Model ini menggabungkan transformer berbasis BERT dengan algoritma clustering untuk menemukan dan memvisualisasikan topik dalam teks.\n",
    "\n",
    "2. top_n_words=10:\n",
    "\n",
    "Parameter ini menentukan jumlah kata teratas yang akan diambil untuk setiap topik. Dalam hal ini, 10 kata teratas akan diambil untuk menggambarkan setiap topik.\n",
    "\n",
    "3. n_gram_range=(2, 2):\n",
    "\n",
    "Parameter ini menentukan rentang n-gram yang akan digunakan dalam pemrosesan teks. (2, 2) berarti model akan menggunakan bigram (sepasang kata berturut-turut).\n",
    "\n",
    "4. nr_topics=7:\n",
    "\n",
    "Parameter ini menentukan jumlah topik yang akan diekstraksi dari teks. Dalam kasus ini, model akan mencoba menemukan 7 topik.\n",
    "\n",
    "5. vectorizer_model=vectorizer_model:\n",
    "\n",
    "Parameter ini memungkinkan kita untuk menentukan model vectorizer yang telah kita buat sebelumnya. Dalam hal ini, vectorizer_model adalah objek CountVectorizer yang dikonfigurasi untuk menghasilkan bigram dan mengabaikan stop words dalam bahasa Indonesia.\n",
    "\n",
    "6. umap_model=UMAP(random_state=1):\n",
    "\n",
    "UMAP (Uniform Manifold Approximation and Projection) adalah algoritma untuk reduksi dimensi yang sering digunakan untuk visualisasi data tinggi dimensi. random_state=1 memastikan bahwa hasil reduksi dimensi bisa direproduksi (konsisten setiap kali dijalankan)."
   ]
  },
  {
   "cell_type": "code",
   "execution_count": 72,
   "id": "73baa0fa-e263-4134-84b6-d756b37238f7",
   "metadata": {},
   "outputs": [
    {
     "name": "stderr",
     "output_type": "stream",
     "text": [
      "OMP: Info #276: omp_set_nested routine deprecated, please use omp_set_max_active_levels instead.\n"
     ]
    }
   ],
   "source": [
    "# create a list of speeches\n",
    "docs = data_cluster[0].tolist()\n",
    "\n",
    "vectorizer_model = CountVectorizer(ngram_range=(3, 3),\n",
    "                                   stop_words=stopword_ind)\n",
    "\n",
    "# generate a bigram topic model with 10 top terms and 8 topics\n",
    "bertopic_model = BERTopic(top_n_words=5,\n",
    "                          n_gram_range=(3,3),\n",
    "                          nr_topics=2,\n",
    "                          vectorizer_model=vectorizer_model,\n",
    "                          umap_model = UMAP(random_state=1))  # setting seed topics reproduce\n",
    "\n",
    "# fit the model to data\n",
    "topics, probabilities = bertopic_model.fit_transform(docs)"
   ]
  },
  {
   "cell_type": "code",
   "execution_count": 73,
   "id": "a4e03975-de3b-41ab-86e1-c16f6de756fd",
   "metadata": {},
   "outputs": [
    {
     "data": {
      "text/html": [
       "<div>\n",
       "<style scoped>\n",
       "    .dataframe tbody tr th:only-of-type {\n",
       "        vertical-align: middle;\n",
       "    }\n",
       "\n",
       "    .dataframe tbody tr th {\n",
       "        vertical-align: top;\n",
       "    }\n",
       "\n",
       "    .dataframe thead th {\n",
       "        text-align: right;\n",
       "    }\n",
       "</style>\n",
       "<table border=\"1\" class=\"dataframe\">\n",
       "  <thead>\n",
       "    <tr style=\"text-align: right;\">\n",
       "      <th></th>\n",
       "      <th>Topic</th>\n",
       "      <th>Prob</th>\n",
       "    </tr>\n",
       "  </thead>\n",
       "  <tbody>\n",
       "    <tr>\n",
       "      <th>0</th>\n",
       "      <td>batasan pilihan sekolah</td>\n",
       "      <td>0.077322</td>\n",
       "    </tr>\n",
       "    <tr>\n",
       "      <th>1</th>\n",
       "      <td>aturan pemilihan sekolah</td>\n",
       "      <td>0.047638</td>\n",
       "    </tr>\n",
       "    <tr>\n",
       "      <th>2</th>\n",
       "      <td>sekolah jenjang sma</td>\n",
       "      <td>0.043117</td>\n",
       "    </tr>\n",
       "    <tr>\n",
       "      <th>3</th>\n",
       "      <td>pilihan sekolah jenjang</td>\n",
       "      <td>0.043117</td>\n",
       "    </tr>\n",
       "    <tr>\n",
       "      <th>4</th>\n",
       "      <td>pilihan sekolah jalur</td>\n",
       "      <td>0.036316</td>\n",
       "    </tr>\n",
       "  </tbody>\n",
       "</table>\n",
       "</div>"
      ],
      "text/plain": [
       "                      Topic      Prob\n",
       "0   batasan pilihan sekolah  0.077322\n",
       "1  aturan pemilihan sekolah  0.047638\n",
       "2       sekolah jenjang sma  0.043117\n",
       "3   pilihan sekolah jenjang  0.043117\n",
       "4     pilihan sekolah jalur  0.036316"
      ]
     },
     "execution_count": 73,
     "metadata": {},
     "output_type": "execute_result"
    }
   ],
   "source": [
    "# topic visualization\n",
    "topic = pd.DataFrame(bertopic_model.get_topic(0), columns=[\"Topic\", \"Prob\"])\n",
    "topics_df = pd.concat([topic], axis=1)\n",
    "topics_df"
   ]
  },
  {
   "cell_type": "code",
   "execution_count": 74,
   "id": "1f07b196-8f08-4e78-8698-96e972340b92",
   "metadata": {},
   "outputs": [
    {
     "name": "stdout",
     "output_type": "stream",
     "text": [
      "[0, -1, 0, 0, 0, 0, 0, -1, 0, 0, -1, 0, -1, 0, -1, 0, 0, 0, 0, 0, 0, 0, 0, 0, 0, 0, 0, 0, 0, 0, -1, 0, -1, 0, 0, 0, 0, -1, 0, 0, -1, 0, -1, 0, 0, 0, 0, 0, 0, 0, 0, 0, -1, 0, 0, 0, 0, 0, -1, 0, -1, 0, 0, -1, -1, 0, 0, 0, 0, 0, 0, 0, -1, -1, 0, 0, 0, 0, 0, 0, 0, 0, 0, -1, 0, -1, 0, 0, -1, 0, -1]\n"
     ]
    }
   ],
   "source": [
    "print(topics)"
   ]
  },
  {
   "cell_type": "code",
   "execution_count": 75,
   "id": "f6fb74eb-612a-408b-a781-01047d9c08f9",
   "metadata": {},
   "outputs": [
    {
     "name": "stdout",
     "output_type": "stream",
     "text": [
      "[0.70151879 0.         0.97947648 0.87247959 0.75342076 0.93065948\n",
      " 0.8880997  0.         1.         0.84410422 0.         1.\n",
      " 0.         0.70776351 0.         1.         0.80496458 1.\n",
      " 1.         1.         1.         1.         0.75417659 1.\n",
      " 0.97991432 0.96232674 0.69579477 0.89809309 0.77900042 1.\n",
      " 0.         0.71831597 0.         1.         0.73450918 1.\n",
      " 0.69579477 0.         1.         1.         0.         1.\n",
      " 0.         0.948729   1.         0.97250842 0.95949665 0.85928553\n",
      " 0.75295156 0.93020045 1.         0.75991628 0.         0.69429976\n",
      " 0.68473375 0.78028193 0.81349352 0.74220107 0.         0.72619871\n",
      " 0.         0.9282814  0.95962081 0.         0.         0.75735653\n",
      " 0.84330318 1.         0.86909529 0.7679271  1.         1.\n",
      " 0.         0.         1.         0.84410422 0.96483661 0.68473375\n",
      " 0.73668481 0.7679271  0.67853926 0.91402937 0.79323067 0.\n",
      " 0.71515381 0.         1.         0.6726054  0.         0.77255061\n",
      " 0.        ]\n"
     ]
    }
   ],
   "source": [
    "print(probabilities)"
   ]
  },
  {
   "cell_type": "code",
   "execution_count": 76,
   "id": "2c757042-f8a0-4ecf-93ab-e51a5435f271",
   "metadata": {},
   "outputs": [
    {
     "data": {
      "image/png": "[encoded data removed]",
      "text/plain": [
       "<Figure size 1400x1300 with 2 Axes>"
      ]
     },
     "metadata": {},
     "output_type": "display_data"
    }
   ],
   "source": [
    "## topic visualization - heatmap\n",
    "\n",
    "# Initialize DataFrame to store reshaped data\n",
    "reshaped_data = pd.DataFrame(columns=['Bigram', 'Topic', 'Prob'])\n",
    "\n",
    "# Reshape data from original DataFrame\n",
    "for i in range(1, 2):\n",
    "    topic_word_col = f'Topic'\n",
    "    topic_prob_col = f'Prob'\n",
    "    temp_df = pd.DataFrame({\n",
    "        'Bigram': topics_df[topic_word_col],\n",
    "        'Topic': f'Topic',\n",
    "        'Prob': topics_df[topic_prob_col]\n",
    "    })\n",
    "    reshaped_data = pd.concat([reshaped_data, temp_df])\n",
    "\n",
    "# Set 'Bigram' as index\n",
    "reshaped_data.set_index('Bigram', inplace=True)\n",
    "\n",
    "# Create pivot table for heatmap\n",
    "pivot_table = reshaped_data.pivot(columns='Topic', values='Prob').fillna(0)\n",
    "\n",
    "# Plot heatmap\n",
    "plt.figure(figsize=(14, 13))\n",
    "cmap = sns.color_palette(\"crest\", as_cmap=True)\n",
    "cmap.set_under(color='white')\n",
    "\n",
    "# Generate heatmap\n",
    "sns.heatmap(pivot_table, cmap=cmap, linewidths=0.5, annot=False,\n",
    "            cbar=True, mask=(pivot_table == 0), vmin=0.0001)\n",
    "\n",
    "# Add bigrams with non-zero probability on top of the heatmap\n",
    "for i, bigram in enumerate(pivot_table.index):\n",
    "    for j, topic in enumerate(pivot_table.columns):\n",
    "        if pivot_table.loc[bigram, topic] > 0:\n",
    "            plt.text(j + 0.5, i + 0.5, bigram, ha='center', va='center',\n",
    "                     color='black' if pivot_table.loc[bigram, topic] > 0 else 'white', fontsize=9)\n",
    "\n",
    "# Customize plot\n",
    "plt.title('Topic for Cluster')\n",
    "plt.xlabel('Topic')\n",
    "plt.ylabel('Bigram')\n",
    "plt.tight_layout()\n",
    "plt.savefig(\"BERTopic_Russia.png\")\n",
    "plt.show()"
   ]
  },
  {
   "cell_type": "markdown",
   "id": "36a61cc9-bb9d-45b3-8823-921ab4ac14dc",
   "metadata": {},
   "source": [
    "## Cluster Contoh jika error"
   ]
  },
  {
   "cell_type": "code",
   "execution_count": 77,
   "id": "2820e44c-ea8d-4696-80f6-12f88ef50567",
   "metadata": {},
   "outputs": [],
   "source": [
    "# create a list of speeches\n",
    "docs = data_cluster[0].tolist()\n",
    "\n",
    "vectorizer_model = CountVectorizer(ngram_range=(1, 1),\n",
    "                                   stop_words=stopword_ind)\n",
    "\n",
    "#vectorizer_model = TfidfVectorizer(ngram_range=(3, 3), stop_words=stopword_ind)\n",
    "\n",
    "\n",
    "# generate a bigram topic model with 10 top terms and 8 topics\n",
    "bertopic_model = BERTopic(top_n_words=1,\n",
    "                          n_gram_range=(1,2),\n",
    "                          nr_topics='auto',\n",
    "                          min_topic_size=2,\n",
    "                          calculate_probabilities=True,\n",
    "                          vectorizer_model=vectorizer_model,\n",
    "                          umap_model = UMAP(random_state=1))  # setting seed topics reproduce\n",
    "#bertopic_model = BERTopic()\n",
    "# fit the model to data\n",
    "topics, probabilities = bertopic_model.fit_transform(docs)"
   ]
  },
  {
   "cell_type": "code",
   "execution_count": 78,
   "id": "48ef9d2f-f042-4169-9291-f334f28db3ea",
   "metadata": {},
   "outputs": [
    {
     "data": {
      "text/html": [
       "<div>\n",
       "<style scoped>\n",
       "    .dataframe tbody tr th:only-of-type {\n",
       "        vertical-align: middle;\n",
       "    }\n",
       "\n",
       "    .dataframe tbody tr th {\n",
       "        vertical-align: top;\n",
       "    }\n",
       "\n",
       "    .dataframe thead th {\n",
       "        text-align: right;\n",
       "    }\n",
       "</style>\n",
       "<table border=\"1\" class=\"dataframe\">\n",
       "  <thead>\n",
       "    <tr style=\"text-align: right;\">\n",
       "      <th></th>\n",
       "      <th>Topic</th>\n",
       "      <th>Prob</th>\n",
       "    </tr>\n",
       "  </thead>\n",
       "  <tbody>\n",
       "    <tr>\n",
       "      <th>0</th>\n",
       "      <td>sekolah</td>\n",
       "      <td>0.085831</td>\n",
       "    </tr>\n",
       "  </tbody>\n",
       "</table>\n",
       "</div>"
      ],
      "text/plain": [
       "     Topic      Prob\n",
       "0  sekolah  0.085831"
      ]
     },
     "execution_count": 78,
     "metadata": {},
     "output_type": "execute_result"
    }
   ],
   "source": [
    "# topic visualization\n",
    "topic = pd.DataFrame(bertopic_model.get_topic(0), columns=[\"Topic\", \"Prob\"])\n",
    "topics_df = pd.concat([topic], axis=1)\n",
    "topics_df"
   ]
  },
  {
   "cell_type": "code",
   "execution_count": 79,
   "id": "8feb9683-0cec-4ef3-83d9-20decbd0d03f",
   "metadata": {},
   "outputs": [
    {
     "data": {
      "text/plain": [
       "[('sekolah', 0.0858309494981079)]"
      ]
     },
     "execution_count": 79,
     "metadata": {},
     "output_type": "execute_result"
    }
   ],
   "source": [
    "bertopic_model.get_topic(0)"
   ]
  },
  {
   "cell_type": "markdown",
   "id": "23b5278e-0ecb-4b9c-8b02-08668e706fbd",
   "metadata": {},
   "source": [
    "## Cluster 0 "
   ]
  },
  {
   "cell_type": "code",
   "execution_count": 87,
   "id": "5fd703d2-4912-45f9-9a55-7407f63c05ea",
   "metadata": {},
   "outputs": [
    {
     "name": "stderr",
     "output_type": "stream",
     "text": [
      "OMP: Info #276: omp_set_nested routine deprecated, please use omp_set_max_active_levels instead.\n"
     ]
    }
   ],
   "source": [
    "# create a list of speeches\n",
    "docs = data_cluster[0].tolist()\n",
    "\n",
    "#vectorizer_model = CountVectorizer(ngram_range=(3, 3),\n",
    "                                   #stop_words=stopword_ind)\n",
    "\n",
    "vectorizer_model = TfidfVectorizer(ngram_range=(3, 3), stop_words=stopword_ind)\n",
    "\n",
    "# generate a bigram topic model with 10 top terms and 8 topics\n",
    "bertopic_model = BERTopic(top_n_words=5,\n",
    "                          n_gram_range=(3,3),\n",
    "                          nr_topics=2,\n",
    "                          vectorizer_model=vectorizer_model,\n",
    "                          umap_model = UMAP(random_state=1))  # setting seed topics reproduce\n",
    "\n",
    "# fit the model to data\n",
    "topics, probabilities = bertopic_model.fit_transform(docs)"
   ]
  },
  {
   "cell_type": "code",
   "execution_count": 88,
   "id": "6f61adb7-5700-414d-b9bc-0357a1160328",
   "metadata": {},
   "outputs": [
    {
     "data": {
      "text/html": [
       "<div>\n",
       "<style scoped>\n",
       "    .dataframe tbody tr th:only-of-type {\n",
       "        vertical-align: middle;\n",
       "    }\n",
       "\n",
       "    .dataframe tbody tr th {\n",
       "        vertical-align: top;\n",
       "    }\n",
       "\n",
       "    .dataframe thead th {\n",
       "        text-align: right;\n",
       "    }\n",
       "</style>\n",
       "<table border=\"1\" class=\"dataframe\">\n",
       "  <thead>\n",
       "    <tr style=\"text-align: right;\">\n",
       "      <th></th>\n",
       "      <th>Topic</th>\n",
       "      <th>Prob</th>\n",
       "    </tr>\n",
       "  </thead>\n",
       "  <tbody>\n",
       "    <tr>\n",
       "      <th>0</th>\n",
       "      <td>bap dki kelompok</td>\n",
       "      <td>0.031093</td>\n",
       "    </tr>\n",
       "    <tr>\n",
       "      <th>1</th>\n",
       "      <td>bak dki kelompok</td>\n",
       "      <td>0.022674</td>\n",
       "    </tr>\n",
       "    <tr>\n",
       "      <th>2</th>\n",
       "      <td>kelompok bap dki</td>\n",
       "      <td>0.014742</td>\n",
       "    </tr>\n",
       "    <tr>\n",
       "      <th>3</th>\n",
       "      <td>business solution support</td>\n",
       "      <td>0.014742</td>\n",
       "    </tr>\n",
       "    <tr>\n",
       "      <th>4</th>\n",
       "      <td>dki kelompok bap</td>\n",
       "      <td>0.014742</td>\n",
       "    </tr>\n",
       "  </tbody>\n",
       "</table>\n",
       "</div>"
      ],
      "text/plain": [
       "                       Topic      Prob\n",
       "0           bap dki kelompok  0.031093\n",
       "1           bak dki kelompok  0.022674\n",
       "2           kelompok bap dki  0.014742\n",
       "3  business solution support  0.014742\n",
       "4           dki kelompok bap  0.014742"
      ]
     },
     "execution_count": 88,
     "metadata": {},
     "output_type": "execute_result"
    }
   ],
   "source": [
    "# topic visualization\n",
    "topic = pd.DataFrame(bertopic_model.get_topic(0), columns=[\"Topic\", \"Prob\"])\n",
    "topics_df = pd.concat([topic], axis=1)\n",
    "topics_df"
   ]
  },
  {
   "cell_type": "markdown",
   "id": "a44f4f06-fc11-4f9c-8b2d-25ec2b83f529",
   "metadata": {},
   "source": [
    "## Cluster 1 "
   ]
  },
  {
   "cell_type": "code",
   "execution_count": 89,
   "id": "536f88ca-3c6b-4654-bf4f-e89777bb1c41",
   "metadata": {},
   "outputs": [],
   "source": [
    "# create a list of speeches\n",
    "docs = data_cluster[1].tolist()\n",
    "\n",
    "#vectorizer_model = CountVectorizer(ngram_range=(3, 3),\n",
    "                                   #stop_words=stopword_ind)\n",
    "\n",
    "vectorizer_model = TfidfVectorizer(ngram_range=(3, 3), stop_words=stopword_ind)\n",
    "\n",
    "# generate a bigram topic model with 10 top terms and 8 topics\n",
    "bertopic_model = BERTopic(top_n_words=5,\n",
    "                          n_gram_range=(3,3),\n",
    "                          nr_topics=2,\n",
    "                          vectorizer_model=vectorizer_model,\n",
    "                          umap_model = UMAP(random_state=1))  # setting seed topics reproduce\n",
    "\n",
    "# fit the model to data\n",
    "topics, probabilities = bertopic_model.fit_transform(docs)"
   ]
  },
  {
   "cell_type": "code",
   "execution_count": 90,
   "id": "3ebe010b-72e1-471d-992d-369aaf40e7a1",
   "metadata": {},
   "outputs": [
    {
     "data": {
      "text/html": [
       "<div>\n",
       "<style scoped>\n",
       "    .dataframe tbody tr th:only-of-type {\n",
       "        vertical-align: middle;\n",
       "    }\n",
       "\n",
       "    .dataframe tbody tr th {\n",
       "        vertical-align: top;\n",
       "    }\n",
       "\n",
       "    .dataframe thead th {\n",
       "        text-align: right;\n",
       "    }\n",
       "</style>\n",
       "<table border=\"1\" class=\"dataframe\">\n",
       "  <thead>\n",
       "    <tr style=\"text-align: right;\">\n",
       "      <th></th>\n",
       "      <th>Topic</th>\n",
       "      <th>Prob</th>\n",
       "    </tr>\n",
       "  </thead>\n",
       "  <tbody>\n",
       "    <tr>\n",
       "      <th>0</th>\n",
       "      <td>real proses deploy</td>\n",
       "      <td>0.268408</td>\n",
       "    </tr>\n",
       "    <tr>\n",
       "      <th>1</th>\n",
       "      <td>proses deploy data</td>\n",
       "      <td>0.260389</td>\n",
       "    </tr>\n",
       "    <tr>\n",
       "      <th>2</th>\n",
       "      <td>deploy real proses</td>\n",
       "      <td>0.225196</td>\n",
       "    </tr>\n",
       "    <tr>\n",
       "      <th>3</th>\n",
       "      <td>deploy data real</td>\n",
       "      <td>0.195370</td>\n",
       "    </tr>\n",
       "    <tr>\n",
       "      <th>4</th>\n",
       "      <td>data real deploy</td>\n",
       "      <td>0.142503</td>\n",
       "    </tr>\n",
       "  </tbody>\n",
       "</table>\n",
       "</div>"
      ],
      "text/plain": [
       "                Topic      Prob\n",
       "0  real proses deploy  0.268408\n",
       "1  proses deploy data  0.260389\n",
       "2  deploy real proses  0.225196\n",
       "3    deploy data real  0.195370\n",
       "4    data real deploy  0.142503"
      ]
     },
     "execution_count": 90,
     "metadata": {},
     "output_type": "execute_result"
    }
   ],
   "source": [
    "# topic visualization\n",
    "topic = pd.DataFrame(bertopic_model.get_topic(0), columns=[\"Topic\", \"Prob\"])\n",
    "topics_df = pd.concat([topic], axis=1)\n",
    "topics_df"
   ]
  },
  {
   "cell_type": "markdown",
   "id": "9c97bc3b-31c5-496f-9334-44dff3ede61e",
   "metadata": {},
   "source": [
    "## Cluster 2 "
   ]
  },
  {
   "cell_type": "code",
   "execution_count": 91,
   "id": "1c884a13-379d-4fb3-8a25-ea0ac9ea2f5d",
   "metadata": {},
   "outputs": [],
   "source": [
    "# create a list of speeches\n",
    "docs = data_cluster[2].tolist()\n",
    "\n",
    "vectorizer_model = TfidfVectorizer(ngram_range=(3, 3), stop_words=stopword_ind)\n",
    "\n",
    "# generate a bigram topic model with 10 top terms and 8 topics\n",
    "bertopic_model = BERTopic(top_n_words=5,\n",
    "                          n_gram_range=(3,3),\n",
    "                          nr_topics=2,\n",
    "                          vectorizer_model=vectorizer_model,\n",
    "                          umap_model = UMAP(random_state=1))  # setting seed topics reproduce\n",
    "\n",
    "# fit the model to data\n",
    "topics, probabilities = bertopic_model.fit_transform(docs)"
   ]
  },
  {
   "cell_type": "code",
   "execution_count": 92,
   "id": "487cf003-2352-41cc-9cad-adea8f0dce2a",
   "metadata": {},
   "outputs": [
    {
     "data": {
      "text/html": [
       "<div>\n",
       "<style scoped>\n",
       "    .dataframe tbody tr th:only-of-type {\n",
       "        vertical-align: middle;\n",
       "    }\n",
       "\n",
       "    .dataframe tbody tr th {\n",
       "        vertical-align: top;\n",
       "    }\n",
       "\n",
       "    .dataframe thead th {\n",
       "        text-align: right;\n",
       "    }\n",
       "</style>\n",
       "<table border=\"1\" class=\"dataframe\">\n",
       "  <thead>\n",
       "    <tr style=\"text-align: right;\">\n",
       "      <th></th>\n",
       "      <th>Topic</th>\n",
       "      <th>Prob</th>\n",
       "    </tr>\n",
       "  </thead>\n",
       "  <tbody>\n",
       "    <tr>\n",
       "      <th>0</th>\n",
       "      <td>pengiriman sph online</td>\n",
       "      <td>0.128177</td>\n",
       "    </tr>\n",
       "    <tr>\n",
       "      <th>1</th>\n",
       "      <td>sph nego online</td>\n",
       "      <td>0.115183</td>\n",
       "    </tr>\n",
       "    <tr>\n",
       "      <th>2</th>\n",
       "      <td>online pengiriman sph</td>\n",
       "      <td>0.097395</td>\n",
       "    </tr>\n",
       "    <tr>\n",
       "      <th>3</th>\n",
       "      <td>pengiriman sph nego</td>\n",
       "      <td>0.093593</td>\n",
       "    </tr>\n",
       "    <tr>\n",
       "      <th>4</th>\n",
       "      <td>pekerjaan pengadaan layanan</td>\n",
       "      <td>0.077380</td>\n",
       "    </tr>\n",
       "  </tbody>\n",
       "</table>\n",
       "</div>"
      ],
      "text/plain": [
       "                         Topic      Prob\n",
       "0        pengiriman sph online  0.128177\n",
       "1              sph nego online  0.115183\n",
       "2        online pengiriman sph  0.097395\n",
       "3          pengiriman sph nego  0.093593\n",
       "4  pekerjaan pengadaan layanan  0.077380"
      ]
     },
     "execution_count": 92,
     "metadata": {},
     "output_type": "execute_result"
    }
   ],
   "source": [
    "# topic visualization\n",
    "topic = pd.DataFrame(bertopic_model.get_topic(0), columns=[\"Topic\", \"Prob\"])\n",
    "topics_df = pd.concat([topic], axis=1)\n",
    "topics_df"
   ]
  },
  {
   "cell_type": "markdown",
   "id": "fd3025e4-88a2-45ec-9567-25ce86dce0bd",
   "metadata": {},
   "source": [
    "## Cluster 3"
   ]
  },
  {
   "cell_type": "code",
   "execution_count": 93,
   "id": "94f1a38f-396f-4f1d-a4d0-c115cfb33261",
   "metadata": {},
   "outputs": [],
   "source": [
    "# create a list of speeches\n",
    "docs = data_cluster[3].tolist()\n",
    "\n",
    "vectorizer_model = TfidfVectorizer(ngram_range=(3, 3), stop_words=stopword_ind)\n",
    "\n",
    "# generate a bigram topic model with 10 top terms and 8 topics\n",
    "bertopic_model = BERTopic(top_n_words=5,\n",
    "                          n_gram_range=(3,3),\n",
    "                          nr_topics=2,\n",
    "                          vectorizer_model=vectorizer_model,\n",
    "                          umap_model = UMAP(random_state=1))  # setting seed topics reproduce\n",
    "\n",
    "# fit the model to data\n",
    "topics, probabilities = bertopic_model.fit_transform(docs)"
   ]
  },
  {
   "cell_type": "code",
   "execution_count": 94,
   "id": "e4932213-3982-415f-a76f-4d553c0e2513",
   "metadata": {},
   "outputs": [
    {
     "data": {
      "text/html": [
       "<div>\n",
       "<style scoped>\n",
       "    .dataframe tbody tr th:only-of-type {\n",
       "        vertical-align: middle;\n",
       "    }\n",
       "\n",
       "    .dataframe tbody tr th {\n",
       "        vertical-align: top;\n",
       "    }\n",
       "\n",
       "    .dataframe thead th {\n",
       "        text-align: right;\n",
       "    }\n",
       "</style>\n",
       "<table border=\"1\" class=\"dataframe\">\n",
       "  <thead>\n",
       "    <tr style=\"text-align: right;\">\n",
       "      <th></th>\n",
       "      <th>Topic</th>\n",
       "      <th>Prob</th>\n",
       "    </tr>\n",
       "  </thead>\n",
       "  <tbody>\n",
       "    <tr>\n",
       "      <th>0</th>\n",
       "      <td>up situs publik</td>\n",
       "      <td>0.256619</td>\n",
       "    </tr>\n",
       "    <tr>\n",
       "      <th>1</th>\n",
       "      <td>publik up situs</td>\n",
       "      <td>0.230986</td>\n",
       "    </tr>\n",
       "    <tr>\n",
       "      <th>2</th>\n",
       "      <td>situs publik up</td>\n",
       "      <td>0.230986</td>\n",
       "    </tr>\n",
       "    <tr>\n",
       "      <th>3</th>\n",
       "      <td>st up situs</td>\n",
       "      <td>0.183463</td>\n",
       "    </tr>\n",
       "    <tr>\n",
       "      <th>4</th>\n",
       "      <td>situs publik st</td>\n",
       "      <td>0.133742</td>\n",
       "    </tr>\n",
       "  </tbody>\n",
       "</table>\n",
       "</div>"
      ],
      "text/plain": [
       "             Topic      Prob\n",
       "0  up situs publik  0.256619\n",
       "1  publik up situs  0.230986\n",
       "2  situs publik up  0.230986\n",
       "3      st up situs  0.183463\n",
       "4  situs publik st  0.133742"
      ]
     },
     "execution_count": 94,
     "metadata": {},
     "output_type": "execute_result"
    }
   ],
   "source": [
    "# topic visualization\n",
    "topic = pd.DataFrame(bertopic_model.get_topic(0), columns=[\"Topic\", \"Prob\"])\n",
    "topics_df = pd.concat([topic], axis=1)\n",
    "topics_df"
   ]
  },
  {
   "cell_type": "markdown",
   "id": "34f5e353-f26c-4c3e-bebe-a480b531a5a5",
   "metadata": {},
   "source": [
    "## Cluster 4 "
   ]
  },
  {
   "cell_type": "code",
   "execution_count": 95,
   "id": "a1bdb808-ff4d-40d9-9e01-ba3078c4564a",
   "metadata": {},
   "outputs": [],
   "source": [
    "# create a list of speeches\n",
    "docs = data_cluster[4].tolist()\n",
    "\n",
    "vectorizer_model = TfidfVectorizer(ngram_range=(3, 3), stop_words=stopword_ind)\n",
    "\n",
    "# generate a bigram topic model with 10 top terms and 8 topics\n",
    "bertopic_model = BERTopic(top_n_words=5,\n",
    "                          n_gram_range=(3,3),\n",
    "                          nr_topics=2,\n",
    "                          vectorizer_model=vectorizer_model,\n",
    "                          umap_model = UMAP(random_state=1))  # setting seed topics reproduce\n",
    "\n",
    "# fit the model to data\n",
    "topics, probabilities = bertopic_model.fit_transform(docs)"
   ]
  },
  {
   "cell_type": "code",
   "execution_count": 96,
   "id": "6987df13-8251-45ce-85d4-cc6d886aa9f6",
   "metadata": {},
   "outputs": [
    {
     "data": {
      "text/html": [
       "<div>\n",
       "<style scoped>\n",
       "    .dataframe tbody tr th:only-of-type {\n",
       "        vertical-align: middle;\n",
       "    }\n",
       "\n",
       "    .dataframe tbody tr th {\n",
       "        vertical-align: top;\n",
       "    }\n",
       "\n",
       "    .dataframe thead th {\n",
       "        text-align: right;\n",
       "    }\n",
       "</style>\n",
       "<table border=\"1\" class=\"dataframe\">\n",
       "  <thead>\n",
       "    <tr style=\"text-align: right;\">\n",
       "      <th></th>\n",
       "      <th>Topic</th>\n",
       "      <th>Prob</th>\n",
       "    </tr>\n",
       "  </thead>\n",
       "  <tbody>\n",
       "    <tr>\n",
       "      <th>0</th>\n",
       "      <td>migrasi data dnt</td>\n",
       "      <td>0.130033</td>\n",
       "    </tr>\n",
       "    <tr>\n",
       "      <th>1</th>\n",
       "      <td>proses migrasi data</td>\n",
       "      <td>0.083861</td>\n",
       "    </tr>\n",
       "    <tr>\n",
       "      <th>2</th>\n",
       "      <td>database proses migrasi</td>\n",
       "      <td>0.079340</td>\n",
       "    </tr>\n",
       "    <tr>\n",
       "      <th>3</th>\n",
       "      <td>migrasi data siswa</td>\n",
       "      <td>0.060267</td>\n",
       "    </tr>\n",
       "    <tr>\n",
       "      <th>4</th>\n",
       "      <td>migrasi data lulusan</td>\n",
       "      <td>0.055097</td>\n",
       "    </tr>\n",
       "  </tbody>\n",
       "</table>\n",
       "</div>"
      ],
      "text/plain": [
       "                     Topic      Prob\n",
       "0         migrasi data dnt  0.130033\n",
       "1      proses migrasi data  0.083861\n",
       "2  database proses migrasi  0.079340\n",
       "3       migrasi data siswa  0.060267\n",
       "4     migrasi data lulusan  0.055097"
      ]
     },
     "execution_count": 96,
     "metadata": {},
     "output_type": "execute_result"
    }
   ],
   "source": [
    "# topic visualization\n",
    "topic = pd.DataFrame(bertopic_model.get_topic(0), columns=[\"Topic\", \"Prob\"])\n",
    "topics_df = pd.concat([topic], axis=1)\n",
    "topics_df"
   ]
  },
  {
   "cell_type": "markdown",
   "id": "b8e7db9e-da7d-47ec-87c9-1c09426daf63",
   "metadata": {},
   "source": [
    "## Cluster 5"
   ]
  },
  {
   "cell_type": "code",
   "execution_count": 97,
   "id": "91bf0f4f-37ef-4afd-b6fb-a76f39d19dbf",
   "metadata": {},
   "outputs": [],
   "source": [
    "# create a list of speeches\n",
    "docs = data_cluster[5].tolist()\n",
    "\n",
    "vectorizer_model = TfidfVectorizer(ngram_range=(3, 3), stop_words=stopword_ind)\n",
    "\n",
    "# generate a bigram topic model with 10 top terms and 8 topics\n",
    "bertopic_model = BERTopic(top_n_words=5,\n",
    "                          n_gram_range=(3,3),\n",
    "                          nr_topics=2,\n",
    "                          vectorizer_model=vectorizer_model,\n",
    "                          umap_model = UMAP(random_state=1))  # setting seed topics reproduce\n",
    "\n",
    "# fit the model to data\n",
    "topics, probabilities = bertopic_model.fit_transform(docs)"
   ]
  },
  {
   "cell_type": "code",
   "execution_count": 98,
   "id": "a3c5da98-0e09-4e1f-bc18-24c37c7e5b23",
   "metadata": {},
   "outputs": [
    {
     "data": {
      "text/html": [
       "<div>\n",
       "<style scoped>\n",
       "    .dataframe tbody tr th:only-of-type {\n",
       "        vertical-align: middle;\n",
       "    }\n",
       "\n",
       "    .dataframe tbody tr th {\n",
       "        vertical-align: top;\n",
       "    }\n",
       "\n",
       "    .dataframe thead th {\n",
       "        text-align: right;\n",
       "    }\n",
       "</style>\n",
       "<table border=\"1\" class=\"dataframe\">\n",
       "  <thead>\n",
       "    <tr style=\"text-align: right;\">\n",
       "      <th></th>\n",
       "      <th>Topic</th>\n",
       "      <th>Prob</th>\n",
       "    </tr>\n",
       "  </thead>\n",
       "  <tbody>\n",
       "    <tr>\n",
       "      <th>0</th>\n",
       "      <td>migrasi data siswa</td>\n",
       "      <td>0.190468</td>\n",
       "    </tr>\n",
       "    <tr>\n",
       "      <th>1</th>\n",
       "      <td>data siswa lulusan</td>\n",
       "      <td>0.142141</td>\n",
       "    </tr>\n",
       "    <tr>\n",
       "      <th>2</th>\n",
       "      <td>proses migrasi data</td>\n",
       "      <td>0.104959</td>\n",
       "    </tr>\n",
       "    <tr>\n",
       "      <th>3</th>\n",
       "      <td>siswa proses migrasi</td>\n",
       "      <td>0.093603</td>\n",
       "    </tr>\n",
       "    <tr>\n",
       "      <th>4</th>\n",
       "      <td>data siswa susulan</td>\n",
       "      <td>0.089447</td>\n",
       "    </tr>\n",
       "  </tbody>\n",
       "</table>\n",
       "</div>"
      ],
      "text/plain": [
       "                  Topic      Prob\n",
       "0    migrasi data siswa  0.190468\n",
       "1    data siswa lulusan  0.142141\n",
       "2   proses migrasi data  0.104959\n",
       "3  siswa proses migrasi  0.093603\n",
       "4    data siswa susulan  0.089447"
      ]
     },
     "execution_count": 98,
     "metadata": {},
     "output_type": "execute_result"
    }
   ],
   "source": [
    "# topic visualization\n",
    "topic = pd.DataFrame(bertopic_model.get_topic(0), columns=[\"Topic\", \"Prob\"])\n",
    "topics_df = pd.concat([topic], axis=1)\n",
    "topics_df"
   ]
  },
  {
   "cell_type": "markdown",
   "id": "10d82ff3-57c6-43c2-b081-2b90a376783e",
   "metadata": {},
   "source": [
    "## Cluster 6"
   ]
  },
  {
   "cell_type": "code",
   "execution_count": 99,
   "id": "b2181943-072c-49e4-9262-5a0461dba6af",
   "metadata": {},
   "outputs": [],
   "source": [
    "# create a list of speeches\n",
    "docs = data_cluster[6].tolist()\n",
    "\n",
    "vectorizer_model = TfidfVectorizer(ngram_range=(3, 3), stop_words=stopword_ind)\n",
    "\n",
    "# generate a bigram topic model with 10 top terms and 8 topics\n",
    "bertopic_model = BERTopic(top_n_words=5,\n",
    "                          n_gram_range=(3,3),\n",
    "                          nr_topics=2,\n",
    "                          vectorizer_model=vectorizer_model,\n",
    "                          umap_model = UMAP(random_state=1))  # setting seed topics reproduce\n",
    "\n",
    "# fit the model to data\n",
    "topics, probabilities = bertopic_model.fit_transform(docs)"
   ]
  },
  {
   "cell_type": "code",
   "execution_count": 100,
   "id": "8c914368-ffcd-4675-8a38-213d22fb81c9",
   "metadata": {},
   "outputs": [
    {
     "data": {
      "text/html": [
       "<div>\n",
       "<style scoped>\n",
       "    .dataframe tbody tr th:only-of-type {\n",
       "        vertical-align: middle;\n",
       "    }\n",
       "\n",
       "    .dataframe tbody tr th {\n",
       "        vertical-align: top;\n",
       "    }\n",
       "\n",
       "    .dataframe thead th {\n",
       "        text-align: right;\n",
       "    }\n",
       "</style>\n",
       "<table border=\"1\" class=\"dataframe\">\n",
       "  <thead>\n",
       "    <tr style=\"text-align: right;\">\n",
       "      <th></th>\n",
       "      <th>Topic</th>\n",
       "      <th>Prob</th>\n",
       "    </tr>\n",
       "  </thead>\n",
       "  <tbody>\n",
       "    <tr>\n",
       "      <th>0</th>\n",
       "      <td>koreksi data induk</td>\n",
       "      <td>0.025364</td>\n",
       "    </tr>\n",
       "    <tr>\n",
       "      <th>1</th>\n",
       "      <td>data induk dev</td>\n",
       "      <td>0.022729</td>\n",
       "    </tr>\n",
       "    <tr>\n",
       "      <th>2</th>\n",
       "      <td>siswa dev backend</td>\n",
       "      <td>0.018529</td>\n",
       "    </tr>\n",
       "    <tr>\n",
       "      <th>3</th>\n",
       "      <td>tanggal kedatangan siswa</td>\n",
       "      <td>0.016330</td>\n",
       "    </tr>\n",
       "    <tr>\n",
       "      <th>4</th>\n",
       "      <td>pjok seni budaya</td>\n",
       "      <td>0.016330</td>\n",
       "    </tr>\n",
       "  </tbody>\n",
       "</table>\n",
       "</div>"
      ],
      "text/plain": [
       "                      Topic      Prob\n",
       "0        koreksi data induk  0.025364\n",
       "1            data induk dev  0.022729\n",
       "2         siswa dev backend  0.018529\n",
       "3  tanggal kedatangan siswa  0.016330\n",
       "4          pjok seni budaya  0.016330"
      ]
     },
     "execution_count": 100,
     "metadata": {},
     "output_type": "execute_result"
    }
   ],
   "source": [
    "# topic visualization\n",
    "topic = pd.DataFrame(bertopic_model.get_topic(0), columns=[\"Topic\", \"Prob\"])\n",
    "topics_df = pd.concat([topic], axis=1)\n",
    "topics_df"
   ]
  },
  {
   "cell_type": "markdown",
   "id": "c83610d0-62ca-481b-8db5-046558631130",
   "metadata": {},
   "source": [
    "## Cluster 7"
   ]
  },
  {
   "cell_type": "code",
   "execution_count": 101,
   "id": "1462126b-9ce4-44df-9f62-ea7962ba029c",
   "metadata": {},
   "outputs": [],
   "source": [
    "# create a list of speeches\n",
    "docs = data_cluster[7].tolist()\n",
    "\n",
    "vectorizer_model = TfidfVectorizer(ngram_range=(3, 3), stop_words=stopword_ind)\n",
    "\n",
    "# generate a bigram topic model with 10 top terms and 8 topics\n",
    "bertopic_model = BERTopic(top_n_words=5,\n",
    "                          n_gram_range=(3,3),\n",
    "                          nr_topics=2,\n",
    "                          vectorizer_model=vectorizer_model,\n",
    "                          umap_model = UMAP(random_state=1))  # setting seed topics reproduce\n",
    "\n",
    "# fit the model to data\n",
    "topics, probabilities = bertopic_model.fit_transform(docs)"
   ]
  },
  {
   "cell_type": "code",
   "execution_count": 102,
   "id": "85f40443-27c7-47b2-96ac-d53da6859255",
   "metadata": {},
   "outputs": [
    {
     "data": {
      "text/html": [
       "<div>\n",
       "<style scoped>\n",
       "    .dataframe tbody tr th:only-of-type {\n",
       "        vertical-align: middle;\n",
       "    }\n",
       "\n",
       "    .dataframe tbody tr th {\n",
       "        vertical-align: top;\n",
       "    }\n",
       "\n",
       "    .dataframe thead th {\n",
       "        text-align: right;\n",
       "    }\n",
       "</style>\n",
       "<table border=\"1\" class=\"dataframe\">\n",
       "  <thead>\n",
       "    <tr style=\"text-align: right;\">\n",
       "      <th></th>\n",
       "      <th>Topic</th>\n",
       "      <th>Prob</th>\n",
       "    </tr>\n",
       "  </thead>\n",
       "  <tbody>\n",
       "    <tr>\n",
       "      <th>0</th>\n",
       "      <td>ajuan akun siswa</td>\n",
       "      <td>0.086798</td>\n",
       "    </tr>\n",
       "    <tr>\n",
       "      <th>1</th>\n",
       "      <td>siswa ajuan akun</td>\n",
       "      <td>0.056228</td>\n",
       "    </tr>\n",
       "    <tr>\n",
       "      <th>2</th>\n",
       "      <td>status hubungan keluarga</td>\n",
       "      <td>0.043779</td>\n",
       "    </tr>\n",
       "    <tr>\n",
       "      <th>3</th>\n",
       "      <td>keluarga daftar ajuan</td>\n",
       "      <td>0.043779</td>\n",
       "    </tr>\n",
       "    <tr>\n",
       "      <th>4</th>\n",
       "      <td>kolom status hubungan</td>\n",
       "      <td>0.043779</td>\n",
       "    </tr>\n",
       "  </tbody>\n",
       "</table>\n",
       "</div>"
      ],
      "text/plain": [
       "                      Topic      Prob\n",
       "0          ajuan akun siswa  0.086798\n",
       "1          siswa ajuan akun  0.056228\n",
       "2  status hubungan keluarga  0.043779\n",
       "3     keluarga daftar ajuan  0.043779\n",
       "4     kolom status hubungan  0.043779"
      ]
     },
     "execution_count": 102,
     "metadata": {},
     "output_type": "execute_result"
    }
   ],
   "source": [
    "# topic visualization\n",
    "topic = pd.DataFrame(bertopic_model.get_topic(0), columns=[\"Topic\", \"Prob\"])\n",
    "topics_df = pd.concat([topic], axis=1)\n",
    "topics_df"
   ]
  },
  {
   "cell_type": "markdown",
   "id": "c6bff04d-9228-4d0b-9e80-f65d921f44b1",
   "metadata": {},
   "source": [
    "## Cluster 8"
   ]
  },
  {
   "cell_type": "code",
   "execution_count": 103,
   "id": "7cf9fce0-a2ae-4b1a-ac79-968bd32e2db6",
   "metadata": {},
   "outputs": [],
   "source": [
    "# create a list of speeches\n",
    "docs = data_cluster[8].tolist()\n",
    "\n",
    "vectorizer_model = TfidfVectorizer(ngram_range=(3, 3), stop_words=stopword_ind)\n",
    "\n",
    "# generate a bigram topic model with 10 top terms and 8 topics\n",
    "bertopic_model = BERTopic(top_n_words=5,\n",
    "                          n_gram_range=(3,3),\n",
    "                          nr_topics=2,\n",
    "                          vectorizer_model=vectorizer_model,\n",
    "                          umap_model = UMAP(random_state=1))  # setting seed topics reproduce\n",
    "\n",
    "# fit the model to data\n",
    "topics, probabilities = bertopic_model.fit_transform(docs)"
   ]
  },
  {
   "cell_type": "code",
   "execution_count": 104,
   "id": "9d976f80-41db-4153-9d50-ac411e5f5066",
   "metadata": {},
   "outputs": [
    {
     "data": {
      "text/html": [
       "<div>\n",
       "<style scoped>\n",
       "    .dataframe tbody tr th:only-of-type {\n",
       "        vertical-align: middle;\n",
       "    }\n",
       "\n",
       "    .dataframe tbody tr th {\n",
       "        vertical-align: top;\n",
       "    }\n",
       "\n",
       "    .dataframe thead th {\n",
       "        text-align: right;\n",
       "    }\n",
       "</style>\n",
       "<table border=\"1\" class=\"dataframe\">\n",
       "  <thead>\n",
       "    <tr style=\"text-align: right;\">\n",
       "      <th></th>\n",
       "      <th>Topic</th>\n",
       "      <th>Prob</th>\n",
       "    </tr>\n",
       "  </thead>\n",
       "  <tbody>\n",
       "    <tr>\n",
       "      <th>0</th>\n",
       "      <td>deploy riil deploy</td>\n",
       "      <td>0.284156</td>\n",
       "    </tr>\n",
       "    <tr>\n",
       "      <th>1</th>\n",
       "      <td>riil deploy riil</td>\n",
       "      <td>0.280565</td>\n",
       "    </tr>\n",
       "    <tr>\n",
       "      <th>2</th>\n",
       "      <td>infra deploy riil</td>\n",
       "      <td>0.197431</td>\n",
       "    </tr>\n",
       "    <tr>\n",
       "      <th>3</th>\n",
       "      <td>riil infra deploy</td>\n",
       "      <td>0.191377</td>\n",
       "    </tr>\n",
       "    <tr>\n",
       "      <th>4</th>\n",
       "      <td>deploy riil infra</td>\n",
       "      <td>0.191377</td>\n",
       "    </tr>\n",
       "  </tbody>\n",
       "</table>\n",
       "</div>"
      ],
      "text/plain": [
       "                Topic      Prob\n",
       "0  deploy riil deploy  0.284156\n",
       "1    riil deploy riil  0.280565\n",
       "2   infra deploy riil  0.197431\n",
       "3   riil infra deploy  0.191377\n",
       "4   deploy riil infra  0.191377"
      ]
     },
     "execution_count": 104,
     "metadata": {},
     "output_type": "execute_result"
    }
   ],
   "source": [
    "# topic visualization\n",
    "topic = pd.DataFrame(bertopic_model.get_topic(0), columns=[\"Topic\", \"Prob\"])\n",
    "topics_df = pd.concat([topic], axis=1)\n",
    "topics_df"
   ]
  },
  {
   "cell_type": "markdown",
   "id": "2dc9978c-2862-4639-8c4f-2d61c82c0aec",
   "metadata": {},
   "source": [
    "## Cluster 9"
   ]
  },
  {
   "cell_type": "code",
   "execution_count": 105,
   "id": "cc7e3117-65ad-484e-b55a-50b16d299004",
   "metadata": {},
   "outputs": [],
   "source": [
    "# create a list of speeches\n",
    "docs = data_cluster[9].tolist()\n",
    "\n",
    "vectorizer_model = TfidfVectorizer(ngram_range=(3, 3), stop_words=stopword_ind)\n",
    "\n",
    "# generate a bigram topic model with 10 top terms and 8 topics\n",
    "bertopic_model = BERTopic(top_n_words=5,\n",
    "                          n_gram_range=(3,3),\n",
    "                          nr_topics=2,\n",
    "                          vectorizer_model=vectorizer_model,\n",
    "                          umap_model = UMAP(random_state=1))  # setting seed topics reproduce\n",
    "\n",
    "# fit the model to data\n",
    "topics, probabilities = bertopic_model.fit_transform(docs)"
   ]
  },
  {
   "cell_type": "code",
   "execution_count": 106,
   "id": "4b3d5564-b035-43c8-9a1e-2d54fc01d4a6",
   "metadata": {},
   "outputs": [
    {
     "data": {
      "text/html": [
       "<div>\n",
       "<style scoped>\n",
       "    .dataframe tbody tr th:only-of-type {\n",
       "        vertical-align: middle;\n",
       "    }\n",
       "\n",
       "    .dataframe tbody tr th {\n",
       "        vertical-align: top;\n",
       "    }\n",
       "\n",
       "    .dataframe thead th {\n",
       "        text-align: right;\n",
       "    }\n",
       "</style>\n",
       "<table border=\"1\" class=\"dataframe\">\n",
       "  <thead>\n",
       "    <tr style=\"text-align: right;\">\n",
       "      <th></th>\n",
       "      <th>Topic</th>\n",
       "      <th>Prob</th>\n",
       "    </tr>\n",
       "  </thead>\n",
       "  <tbody>\n",
       "    <tr>\n",
       "      <th>0</th>\n",
       "      <td>ajuan pendaftaran dev</td>\n",
       "      <td>0.028573</td>\n",
       "    </tr>\n",
       "    <tr>\n",
       "      <th>1</th>\n",
       "      <td>cetak pengajuan pendaftaran</td>\n",
       "      <td>0.024770</td>\n",
       "    </tr>\n",
       "    <tr>\n",
       "      <th>2</th>\n",
       "      <td>perubahan redaksi pendaftaran</td>\n",
       "      <td>0.020758</td>\n",
       "    </tr>\n",
       "    <tr>\n",
       "      <th>3</th>\n",
       "      <td>reset pendaftaran hasil</td>\n",
       "      <td>0.020758</td>\n",
       "    </tr>\n",
       "    <tr>\n",
       "      <th>4</th>\n",
       "      <td>bukti cetak pendaftaran</td>\n",
       "      <td>0.020758</td>\n",
       "    </tr>\n",
       "  </tbody>\n",
       "</table>\n",
       "</div>"
      ],
      "text/plain": [
       "                           Topic      Prob\n",
       "0          ajuan pendaftaran dev  0.028573\n",
       "1    cetak pengajuan pendaftaran  0.024770\n",
       "2  perubahan redaksi pendaftaran  0.020758\n",
       "3        reset pendaftaran hasil  0.020758\n",
       "4        bukti cetak pendaftaran  0.020758"
      ]
     },
     "execution_count": 106,
     "metadata": {},
     "output_type": "execute_result"
    }
   ],
   "source": [
    "# topic visualization\n",
    "topic = pd.DataFrame(bertopic_model.get_topic(0), columns=[\"Topic\", \"Prob\"])\n",
    "topics_df = pd.concat([topic], axis=1)\n",
    "topics_df"
   ]
  },
  {
   "cell_type": "markdown",
   "id": "c664afee-f061-4c07-bd36-79fd9330532c",
   "metadata": {},
   "source": [
    "## Cluster 10"
   ]
  },
  {
   "cell_type": "code",
   "execution_count": 107,
   "id": "c4928a02-cc72-44d1-95c1-eef3cfd48289",
   "metadata": {},
   "outputs": [],
   "source": [
    "# create a list of speeches\n",
    "docs = data_cluster[10].tolist()\n",
    "\n",
    "vectorizer_model = TfidfVectorizer(ngram_range=(3, 3), stop_words=stopword_ind)\n",
    "\n",
    "# generate a bigram topic model with 10 top terms and 8 topics\n",
    "bertopic_model = BERTopic(top_n_words=5,\n",
    "                          n_gram_range=(3,3),\n",
    "                          nr_topics=2,\n",
    "                          vectorizer_model=vectorizer_model,\n",
    "                          umap_model = UMAP(random_state=1))  # setting seed topics reproduce\n",
    "\n",
    "# fit the model to data\n",
    "topics, probabilities = bertopic_model.fit_transform(docs)"
   ]
  },
  {
   "cell_type": "code",
   "execution_count": 108,
   "id": "f98d4e78-bf93-4a6c-a86d-2682e41169fe",
   "metadata": {},
   "outputs": [
    {
     "data": {
      "text/html": [
       "<div>\n",
       "<style scoped>\n",
       "    .dataframe tbody tr th:only-of-type {\n",
       "        vertical-align: middle;\n",
       "    }\n",
       "\n",
       "    .dataframe tbody tr th {\n",
       "        vertical-align: top;\n",
       "    }\n",
       "\n",
       "    .dataframe thead th {\n",
       "        text-align: right;\n",
       "    }\n",
       "</style>\n",
       "<table border=\"1\" class=\"dataframe\">\n",
       "  <thead>\n",
       "    <tr style=\"text-align: right;\">\n",
       "      <th></th>\n",
       "      <th>Topic</th>\n",
       "      <th>Prob</th>\n",
       "    </tr>\n",
       "  </thead>\n",
       "  <tbody>\n",
       "    <tr>\n",
       "      <th>0</th>\n",
       "      <td>banner situs publik</td>\n",
       "      <td>0.079644</td>\n",
       "    </tr>\n",
       "    <tr>\n",
       "      <th>1</th>\n",
       "      <td>perbaikan gambar alur</td>\n",
       "      <td>0.047143</td>\n",
       "    </tr>\n",
       "    <tr>\n",
       "      <th>2</th>\n",
       "      <td>pendaftaran online yogya</td>\n",
       "      <td>0.047143</td>\n",
       "    </tr>\n",
       "    <tr>\n",
       "      <th>3</th>\n",
       "      <td>pasang banner tkdn</td>\n",
       "      <td>0.047143</td>\n",
       "    </tr>\n",
       "    <tr>\n",
       "      <th>4</th>\n",
       "      <td>banner st banner</td>\n",
       "      <td>0.047143</td>\n",
       "    </tr>\n",
       "  </tbody>\n",
       "</table>\n",
       "</div>"
      ],
      "text/plain": [
       "                      Topic      Prob\n",
       "0       banner situs publik  0.079644\n",
       "1     perbaikan gambar alur  0.047143\n",
       "2  pendaftaran online yogya  0.047143\n",
       "3        pasang banner tkdn  0.047143\n",
       "4          banner st banner  0.047143"
      ]
     },
     "execution_count": 108,
     "metadata": {},
     "output_type": "execute_result"
    }
   ],
   "source": [
    "# topic visualization\n",
    "topic = pd.DataFrame(bertopic_model.get_topic(0), columns=[\"Topic\", \"Prob\"])\n",
    "topics_df = pd.concat([topic], axis=1)\n",
    "topics_df"
   ]
  },
  {
   "cell_type": "markdown",
   "id": "593e407d-f943-4f4a-bf8e-5ec0eb7dcb18",
   "metadata": {},
   "source": [
    "## Cluster 11"
   ]
  },
  {
   "cell_type": "code",
   "execution_count": 109,
   "id": "82a12344-7d97-4d54-94c2-fff7a6489439",
   "metadata": {},
   "outputs": [],
   "source": [
    "# create a list of speeches\n",
    "docs = data_cluster[11].tolist()\n",
    "\n",
    "vectorizer_model = TfidfVectorizer(ngram_range=(3, 3), stop_words=stopword_ind)\n",
    "\n",
    "# generate a bigram topic model with 10 top terms and 8 topics\n",
    "bertopic_model = BERTopic(top_n_words=5,\n",
    "                          n_gram_range=(3,3),\n",
    "                          nr_topics=2,\n",
    "                          vectorizer_model=vectorizer_model,\n",
    "                          umap_model = UMAP(random_state=1))  # setting seed topics reproduce\n",
    "\n",
    "# fit the model to data\n",
    "topics, probabilities = bertopic_model.fit_transform(docs)"
   ]
  },
  {
   "cell_type": "code",
   "execution_count": 110,
   "id": "a54d10ef-d067-4a47-b9ed-b7883c6bc105",
   "metadata": {},
   "outputs": [
    {
     "data": {
      "text/html": [
       "<div>\n",
       "<style scoped>\n",
       "    .dataframe tbody tr th:only-of-type {\n",
       "        vertical-align: middle;\n",
       "    }\n",
       "\n",
       "    .dataframe tbody tr th {\n",
       "        vertical-align: top;\n",
       "    }\n",
       "\n",
       "    .dataframe thead th {\n",
       "        text-align: right;\n",
       "    }\n",
       "</style>\n",
       "<table border=\"1\" class=\"dataframe\">\n",
       "  <thead>\n",
       "    <tr style=\"text-align: right;\">\n",
       "      <th></th>\n",
       "      <th>Topic</th>\n",
       "      <th>Prob</th>\n",
       "    </tr>\n",
       "  </thead>\n",
       "  <tbody>\n",
       "    <tr>\n",
       "      <th>0</th>\n",
       "      <td>tahap closing engine</td>\n",
       "      <td>0.309552</td>\n",
       "    </tr>\n",
       "    <tr>\n",
       "      <th>1</th>\n",
       "      <td>closing engine jalur</td>\n",
       "      <td>0.262672</td>\n",
       "    </tr>\n",
       "    <tr>\n",
       "      <th>2</th>\n",
       "      <td>engine jalur zonasi</td>\n",
       "      <td>0.151504</td>\n",
       "    </tr>\n",
       "    <tr>\n",
       "      <th>3</th>\n",
       "      <td>engine jalur afirmasi</td>\n",
       "      <td>0.124993</td>\n",
       "    </tr>\n",
       "    <tr>\n",
       "      <th>4</th>\n",
       "      <td>zonasi tahap closing</td>\n",
       "      <td>0.110910</td>\n",
       "    </tr>\n",
       "  </tbody>\n",
       "</table>\n",
       "</div>"
      ],
      "text/plain": [
       "                   Topic      Prob\n",
       "0   tahap closing engine  0.309552\n",
       "1   closing engine jalur  0.262672\n",
       "2    engine jalur zonasi  0.151504\n",
       "3  engine jalur afirmasi  0.124993\n",
       "4   zonasi tahap closing  0.110910"
      ]
     },
     "execution_count": 110,
     "metadata": {},
     "output_type": "execute_result"
    }
   ],
   "source": [
    "# topic visualization\n",
    "topic = pd.DataFrame(bertopic_model.get_topic(0), columns=[\"Topic\", \"Prob\"])\n",
    "topics_df = pd.concat([topic], axis=1)\n",
    "topics_df"
   ]
  },
  {
   "cell_type": "code",
   "execution_count": null,
   "id": "55fd6e50-46a2-4057-b943-eefaf57419a2",
   "metadata": {},
   "outputs": [],
   "source": []
  }
 ],
 "metadata": {
  "kernelspec": {
   "display_name": "Python 3 (ipykernel)",
   "language": "python",
   "name": "python3"
  },
  "language_info": {
   "codemirror_mode": {
    "name": "ipython",
    "version": 3
   },
   "file_extension": ".py",
   "mimetype": "text/x-python",
   "name": "python",
   "nbconvert_exporter": "python",
   "pygments_lexer": "ipython3",
   "version": "3.12.4"
  }
 },
 "nbformat": 4,
 "nbformat_minor": 5
}
